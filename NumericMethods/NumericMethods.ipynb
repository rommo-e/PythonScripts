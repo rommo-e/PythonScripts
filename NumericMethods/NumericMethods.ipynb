{
  "nbformat": 4,
  "nbformat_minor": 0,
  "metadata": {
    "kernelspec": {
      "display_name": "Python 3",
      "language": "python",
      "name": "python3"
    },
    "language_info": {
      "codemirror_mode": {
        "name": "ipython",
        "version": 3
      },
      "file_extension": ".py",
      "mimetype": "text/x-python",
      "name": "python",
      "nbconvert_exporter": "python",
      "pygments_lexer": "ipython3",
      "version": "3.7.6"
    },
    "colab": {
      "name": "T2AV-AN,ER.ipynb",
      "provenance": [],
      "collapsed_sections": []
    }
  },
  "cells": [
    {
      "cell_type": "markdown",
      "metadata": {
        "id": "OzuUG6QtsxIv"
      },
      "source": [
        "# TAREA AULA VIRTUAL 2"
      ]
    },
    {
      "cell_type": "markdown",
      "metadata": {
        "id": "izkKMV4IsxIw"
      },
      "source": [
        "## Nájera Quintana José Antonio \n",
        "## Rivera González Ernesto Mauricio "
      ]
    },
    {
      "cell_type": "markdown",
      "metadata": {
        "id": "bh-MlkEYsxIw"
      },
      "source": [
        "# Funciones"
      ]
    },
    {
      "cell_type": "code",
      "metadata": {
        "id": "VFemnT8osxIw"
      },
      "source": [
        "# En primera instancia importamos todos los paquetes que vamos a utilizar para definir los cinco métodos conocidos y a su vez las funciones\n",
        "# con las que vamos a trabajar\n",
        "from pylab import *\n",
        "import pandas as pd\n",
        "import numpy as np \n",
        "import matplotlib.pyplot as plt\n",
        "\n",
        "def f1(x):\n",
        "    return 2*x**2+5*x -3\n",
        "def df1(x):\n",
        "    return  lambda x: 4*x+5 #se calcula a mano la derivada\n",
        "\n",
        "def f2(x):\n",
        "    return cos(x) + (1+x**2)**(-1)\n",
        "def df2(x):\n",
        "    return -sin(x)-2*x*(1+x**2)**(-2)\n",
        "\n",
        "    \n",
        "def f3(x):\n",
        "    return (x-2)**2 - log(x)\n",
        "def df3(x):\n",
        "    return 2*(x-2)-1/x\n",
        "\n",
        "\n",
        "def f4(x):\n",
        "    return x**3-3*x + 2\n",
        "def df4(x):\n",
        "    return 3*x**2-3\n",
        "\n",
        "def f5(x):\n",
        "    return np.cbrt(x)\n",
        "\n",
        "\n",
        "\n",
        "def f6(x):\n",
        "    return x**2-14*x+50\n",
        "def df6(x):\n",
        "    return 2*x-14\n",
        "\n",
        "\n",
        "\n",
        "def f7(x):\n",
        "    return x-np.cos(x)\n",
        "def df7(x):\n",
        "    return 1+np.sin(x)\n",
        "\n",
        "    \n",
        "    \n",
        "def f8(x):\n",
        "    return np.cos(x)-x**3\n",
        "def df8(x):\n",
        "    return -sin(x)-3*x**2\n",
        "\n",
        "\n",
        "\n",
        "def f9(x):\n",
        "    return np.tan(np.pi*x) -6\n",
        "def df9(x):\n",
        "    return np.pi * 1/(np.cos(np.pi*x))**2\n",
        "\n",
        "\n",
        "\n",
        "def f10(x):\n",
        "    return ((x-0.3)**2+0.01)**(-1)-((x-0.8)**2+0.04)**(-1)\n",
        "def df10(x):\n",
        "    return (3*x**2-6.72*x**3+5.568*x**2-2.0184*x+0.26144)*((x**2-0.6*x+0.1)**2(x**2-1.6*x+0.68)**2)**(-1)\n",
        "\n",
        "\n",
        "\n",
        "def f11(x):\n",
        "     return x**4-6.4*x**3 + 6.45*x**2 + 20.538*x - 31.752\n",
        "def df11(x):\n",
        "      return 4*x**3-19.2*x^2+20.538\n",
        "    \n",
        "\n",
        "    "
      ],
      "execution_count": null,
      "outputs": []
    },
    {
      "cell_type": "code",
      "metadata": {
        "id": "jQCUgbaxsxIw"
      },
      "source": [
        ""
      ],
      "execution_count": null,
      "outputs": []
    },
    {
      "cell_type": "markdown",
      "metadata": {
        "id": "NaNKYO8ksxIw"
      },
      "source": [
        "# Tiempo de cómputo"
      ]
    },
    {
      "cell_type": "code",
      "metadata": {
        "id": "5vZ__KOSsxIw"
      },
      "source": [
        "# Ahora para poder generar una discusión del desempeño de los métodos podemos definir al tiempo de cómputo y así analizar que tan eficiente \n",
        "# es cada método a comparación de los otros \n",
        "from time import time \n",
        "# El tiempo inicial antes de que cada método numérico para calcular las raíces se desempeñe es \n",
        "ti = time()\n",
        "#ridder(f1,-1,-1,1e-5)\n",
        "tfi = time()-ti\n",
        "#print (ridder(f1,-1,-1,1e-5),tf,'seg')\n",
        "\n",
        "#para cada método y función se calculará el tiempo que tarda en calcularse la raíz y además del error porcentual se usará el tiempo para decidir el mejor y peor método. "
      ],
      "execution_count": null,
      "outputs": []
    },
    {
      "cell_type": "markdown",
      "metadata": {
        "id": "odijqBR_sxIw"
      },
      "source": [
        "<font size = 5 color = 'light blue'> Método Incremental "
      ]
    },
    {
      "cell_type": "code",
      "metadata": {
        "id": "H9suSZoosxIw"
      },
      "source": [
        "def incremental(f,a,b,dx):\n",
        "    x0=a;f0=f(x0)\n",
        "    x1=x0+dx;f1=f(x1)\n",
        "    contador=0.0\n",
        "    while f0*f1>0.0:\n",
        "        if x1>=b: return ('nada') #salgo del bucle infinito\n",
        "        x0=x1;f0=f1\n",
        "        x1=x0+dx;f1=f(x1)\n",
        "        contador=contador+1\n",
        "    return [x1,contador] "
      ],
      "execution_count": null,
      "outputs": []
    },
    {
      "cell_type": "markdown",
      "metadata": {
        "id": "BD8DybAJsxIw"
      },
      "source": [
        "<font size = 5 color = 'light blue'> Método de bisección "
      ]
    },
    {
      "cell_type": "code",
      "metadata": {
        "id": "WaTERS3nsxIw"
      },
      "source": [
        "def biseccion(f,a,b,epsilon):\n",
        "    contador=0\n",
        "    dx=abs(b-a)\n",
        "    while dx>epsilon:\n",
        "        x=(a+b)/2.0\n",
        "        if (f(a)*f(x))<0:\n",
        "            b=x #izquierda\n",
        "        else:\n",
        "            a=x #derecho\n",
        "        dx=abs(b-a) #renombrar intervalo\n",
        "        contador=contador+1\n",
        "    return [x, contador]"
      ],
      "execution_count": null,
      "outputs": []
    },
    {
      "cell_type": "markdown",
      "metadata": {
        "id": "EmR1JG2nsxIw"
      },
      "source": [
        "<font size = 5 color = 'light blue'> Método de Newton Raphson"
      ]
    },
    {
      "cell_type": "code",
      "metadata": {
        "id": "7iZCkt1ysxIw"
      },
      "source": [
        "def newton(f,df,x,epsilon=1e-6):\n",
        "    dx=2*epsilon\n",
        "    contador = 0\n",
        "    while dx> epsilon and contador<1000:\n",
        "        x1=x-(f(x))/(df(x))\n",
        "        dx=abs(x-x1)\n",
        "        x=x1\n",
        "        contador=contador+1\n",
        "    return [x,contador]\n"
      ],
      "execution_count": null,
      "outputs": []
    },
    {
      "cell_type": "markdown",
      "metadata": {
        "id": "REaf5D8PsxIw"
      },
      "source": [
        "<font size = 5 color = 'light blue'> Método de la secante "
      ]
    },
    {
      "cell_type": "code",
      "metadata": {
        "id": "KNh8oOLFsxIw"
      },
      "source": [
        "def secante(f, x0, x1, delta=1e-9):\n",
        "    f0 = f(x0)\n",
        "    f1 = f(x1)\n",
        "    res = [[x0, f(x0), np.nan], #nan es el paso inicial del Data Frame\n",
        "           [x1, f(x1), x1 - x0],]\n",
        "    while True: \n",
        "        x2 = x1 - f1 * (x1 - x0) / (f1 - f0) #secante\n",
        "        f2 = f(x2)\n",
        "        res.append([x2, f2, x2-x1])\n",
        "        if abs(f2) < delta:\n",
        "            break\n",
        "        f0 = f1\n",
        "        f1 = f2\n",
        "        x0 = x1\n",
        "        x1 = x2\n",
        "    return res"
      ],
      "execution_count": null,
      "outputs": []
    },
    {
      "cell_type": "markdown",
      "metadata": {
        "id": "GJrCx2YvsxIx"
      },
      "source": [
        "<font size = 5 color = 'light blue'> Método de Ridders"
      ]
    },
    {
      "cell_type": "code",
      "metadata": {
        "id": "0IJdtIxdsxIx"
      },
      "source": [
        "# Código de la profesora Roxana y Jordi\n",
        "from math import *\n",
        "def ridders(f,x1,x2,tol=1e-9):\n",
        "    n=0\n",
        "    f1=f(x1)\n",
        "    if f1==0: return x1\n",
        "    f2=f(x2)\n",
        "    if f2==0: return x2\n",
        "   # if f1*f2>0.0: return np.nan #intervalos correctos\n",
        "    while abs(x1-x2)> tol:\n",
        "        x3=0.5*(x1+x2);f3=f(x3)\n",
        "        raiz=sqrt(f3**2.-f1*f2)\n",
        "        if raiz==0:return None\n",
        "        fraccion=(x3-x1)*f3/raiz\n",
        "        if (f1-f2)<0.0: fraccion=-fraccion\n",
        "        x4=x3+fraccion; f4=f(x4)\n",
        "        if (f3*f4)>0.0:\n",
        "            if f1*f4>0.0:x1=x3;f1=f3\n",
        "            else: x2=x3;f2=f3\n",
        "        else:             \n",
        "            x1=x3;x2=x4;f1=f3;f2=f4\n",
        "        n+=1\n",
        "    return x4,n"
      ],
      "execution_count": null,
      "outputs": []
    },
    {
      "cell_type": "code",
      "metadata": {
        "id": "4TwKcKrBsxIy"
      },
      "source": [
        "# En todos los casos se obtendrán las raíces con Mathematica para poder comparar los resultados con el obtenido en Mathematica"
      ],
      "execution_count": null,
      "outputs": []
    },
    {
      "cell_type": "markdown",
      "metadata": {
        "id": "xivkL-ATsxIy"
      },
      "source": [
        "<font size=4 color='green'> Se comienza por la primera función, que es $2x^2+5x-3=0$. Se realiza la gráfica para poder visualizar puntos cercanos a las raíces. Para este caso además mathematica da las raíces $x=\\dfrac{1}{2}$ y $x=-3$."
      ]
    },
    {
      "cell_type": "code",
      "metadata": {
        "id": "K3cTXNIfsxIy"
      },
      "source": [
        "xx = linspace(-10,10,1000) \n",
        "rcParams[ 'figure.figsize' ]=(10,5)"
      ],
      "execution_count": 201,
      "outputs": []
    },
    {
      "cell_type": "code",
      "metadata": {
        "id": "JvSdG9MysxIz",
        "colab": {
          "base_uri": "https://localhost:8080/",
          "height": 337
        },
        "outputId": "8ab2e2b2-97d7-4bed-a11d-8ba107cb8f49"
      },
      "source": [
        "# Graficamos en primera instancia el polinomio dado como la función 1\n",
        "plot(xx, f1(xx))\n",
        "plot(xx, zeros(len(xx)), '--r')"
      ],
      "execution_count": 202,
      "outputs": [
        {
          "output_type": "execute_result",
          "data": {
            "text/plain": [
              "[<matplotlib.lines.Line2D at 0x7f718bb02860>]"
            ]
          },
          "metadata": {
            "tags": []
          },
          "execution_count": 202
        },
        {
          "output_type": "display_data",
          "data": {
            "image/png": "[encoded data removed]",
            "text/plain": [
              "<Figure size 720x360 with 1 Axes>"
            ]
          },
          "metadata": {
            "tags": [],
            "needs_background": "light"
          }
        }
      ]
    },
    {
      "cell_type": "markdown",
      "metadata": {
        "id": "DpU6qoDrsxI0"
      },
      "source": [
        "<font size=4 color='green'> Se comienza primero con el método incremental"
      ]
    },
    {
      "cell_type": "code",
      "metadata": {
        "id": "9FUoKEcbsxI0",
        "colab": {
          "base_uri": "https://localhost:8080/"
        },
        "outputId": "92c1b1c3-6138-456b-c1d5-b6b2616d1d95"
      },
      "source": [
        "print(incremental(f1,0,1,1e-7))#una raíz está entre 0 y 1, por la imagen\n",
        "print(incremental(f1,-3.5,-2.5,1e-7)) #la otra está entre -3.5 y -2.5 "
      ],
      "execution_count": null,
      "outputs": [
        {
          "output_type": "stream",
          "text": [
            "[0.5000000000133479, 4999999.0]\n",
            "[-2.9999999008182896, 5000000.0]\n"
          ],
          "name": "stdout"
        }
      ]
    },
    {
      "cell_type": "markdown",
      "metadata": {
        "id": "RoWdk_U1sxI0"
      },
      "source": [
        "<font size = 4 color='green'> Se emplean pandas para analizar el error para esta función con pasos hasta de 1e-7 y con esto ver cuál es el mejor método."
      ]
    },
    {
      "cell_type": "code",
      "metadata": {
        "id": "v-rtpuWJsxI0",
        "colab": {
          "base_uri": "https://localhost:8080/",
          "height": 266
        },
        "outputId": "88bedef2-b858-427f-affc-93b5d78bf249"
      },
      "source": [
        "import pandas as pd\n",
        "from time import time\n",
        "\n",
        "lista_incremental = []\n",
        "idx = []\n",
        "valor_real=0.5\n",
        "t = []\n",
        "for i in range(1,8):\n",
        "    tol = 10**(-i)\n",
        "    idx.append(tol)\n",
        "    ti = time()\n",
        "    raiz=incremental(f1,0,1,tol) #cada renglon de la tabla\n",
        "    tfi = time()-ti\n",
        "    t.append(tfi)\n",
        "    error=(abs(valor_real-raiz[0])/valor_real)*100\n",
        "    lista_incremental.append([raiz[0],raiz[1],error, t[i-1]])\n",
        "cols = [\"Raiz\",\"Pasos\",\"error %\",\"Tiempo\"]\n",
        "pd.DataFrame(lista_incremental, index=idx, columns=cols)"
      ],
      "execution_count": null,
      "outputs": [
        {
          "output_type": "execute_result",
          "data": {
            "text/html": [
              "<div>\n",
              "<style scoped>\n",
              "    .dataframe tbody tr th:only-of-type {\n",
              "        vertical-align: middle;\n",
              "    }\n",
              "\n",
              "    .dataframe tbody tr th {\n",
              "        vertical-align: top;\n",
              "    }\n",
              "\n",
              "    .dataframe thead th {\n",
              "        text-align: right;\n",
              "    }\n",
              "</style>\n",
              "<table border=\"1\" class=\"dataframe\">\n",
              "  <thead>\n",
              "    <tr style=\"text-align: right;\">\n",
              "      <th></th>\n",
              "      <th>Raiz</th>\n",
              "      <th>Pasos</th>\n",
              "      <th>error %</th>\n",
              "      <th>Tiempo</th>\n",
              "    </tr>\n",
              "  </thead>\n",
              "  <tbody>\n",
              "    <tr>\n",
              "      <th>1.000000e-01</th>\n",
              "      <td>0.500000</td>\n",
              "      <td>4.0</td>\n",
              "      <td>0.000000e+00</td>\n",
              "      <td>0.000011</td>\n",
              "    </tr>\n",
              "    <tr>\n",
              "      <th>1.000000e-02</th>\n",
              "      <td>0.500000</td>\n",
              "      <td>49.0</td>\n",
              "      <td>4.440892e-14</td>\n",
              "      <td>0.000019</td>\n",
              "    </tr>\n",
              "    <tr>\n",
              "      <th>1.000000e-03</th>\n",
              "      <td>0.500000</td>\n",
              "      <td>499.0</td>\n",
              "      <td>6.661338e-14</td>\n",
              "      <td>0.000168</td>\n",
              "    </tr>\n",
              "    <tr>\n",
              "      <th>1.000000e-04</th>\n",
              "      <td>0.500100</td>\n",
              "      <td>5000.0</td>\n",
              "      <td>2.000000e-02</td>\n",
              "      <td>0.001721</td>\n",
              "    </tr>\n",
              "    <tr>\n",
              "      <th>1.000000e-05</th>\n",
              "      <td>0.500000</td>\n",
              "      <td>49999.0</td>\n",
              "      <td>7.185363e-11</td>\n",
              "      <td>0.018999</td>\n",
              "    </tr>\n",
              "    <tr>\n",
              "      <th>1.000000e-06</th>\n",
              "      <td>0.500001</td>\n",
              "      <td>500000.0</td>\n",
              "      <td>1.999987e-04</td>\n",
              "      <td>0.178852</td>\n",
              "    </tr>\n",
              "    <tr>\n",
              "      <th>1.000000e-07</th>\n",
              "      <td>0.500000</td>\n",
              "      <td>4999999.0</td>\n",
              "      <td>2.669576e-09</td>\n",
              "      <td>1.720589</td>\n",
              "    </tr>\n",
              "  </tbody>\n",
              "</table>\n",
              "</div>"
            ],
            "text/plain": [
              "                  Raiz      Pasos       error %    Tiempo\n",
              "1.000000e-01  0.500000        4.0  0.000000e+00  0.000011\n",
              "1.000000e-02  0.500000       49.0  4.440892e-14  0.000019\n",
              "1.000000e-03  0.500000      499.0  6.661338e-14  0.000168\n",
              "1.000000e-04  0.500100     5000.0  2.000000e-02  0.001721\n",
              "1.000000e-05  0.500000    49999.0  7.185363e-11  0.018999\n",
              "1.000000e-06  0.500001   500000.0  1.999987e-04  0.178852\n",
              "1.000000e-07  0.500000  4999999.0  2.669576e-09  1.720589"
            ]
          },
          "metadata": {
            "tags": []
          },
          "execution_count": 16
        }
      ]
    },
    {
      "cell_type": "code",
      "metadata": {
        "id": "dQO3U1D6sxI0",
        "colab": {
          "base_uri": "https://localhost:8080/",
          "height": 266
        },
        "outputId": "eb1b7397-0ecb-4d4a-9642-f75058557c22"
      },
      "source": [
        "lista_incremental = []\n",
        "idx = []\n",
        "t = []\n",
        "valor_real=-3\n",
        "for i in range(1,8):\n",
        "    tol = 10**(-i)\n",
        "    idx.append(tol)\n",
        "    ti = time()\n",
        "    raiz=incremental(f1,-3.5,-2.5,tol) #cada renglon de la tabla\n",
        "    tfi = time()-ti\n",
        "    t.append(tfi)\n",
        "    error=abs(abs(valor_real-raiz[0])/valor_real)*100\n",
        "    lista_incremental.append([raiz[0],raiz[1],error, t[i-1]])\n",
        "cols = [\"Raiz\",\"Pasos\",\"error %\",\"Tiempo\"]\n",
        "pd.DataFrame(lista_incremental, index=idx, columns=cols)"
      ],
      "execution_count": null,
      "outputs": [
        {
          "output_type": "execute_result",
          "data": {
            "text/html": [
              "<div>\n",
              "<style scoped>\n",
              "    .dataframe tbody tr th:only-of-type {\n",
              "        vertical-align: middle;\n",
              "    }\n",
              "\n",
              "    .dataframe tbody tr th {\n",
              "        vertical-align: top;\n",
              "    }\n",
              "\n",
              "    .dataframe thead th {\n",
              "        text-align: right;\n",
              "    }\n",
              "</style>\n",
              "<table border=\"1\" class=\"dataframe\">\n",
              "  <thead>\n",
              "    <tr style=\"text-align: right;\">\n",
              "      <th></th>\n",
              "      <th>Raiz</th>\n",
              "      <th>Pasos</th>\n",
              "      <th>error %</th>\n",
              "      <th>Tiempo</th>\n",
              "    </tr>\n",
              "  </thead>\n",
              "  <tbody>\n",
              "    <tr>\n",
              "      <th>1.000000e-01</th>\n",
              "      <td>-3.000</td>\n",
              "      <td>4.0</td>\n",
              "      <td>1.480297e-14</td>\n",
              "      <td>0.000013</td>\n",
              "    </tr>\n",
              "    <tr>\n",
              "      <th>1.000000e-02</th>\n",
              "      <td>-2.990</td>\n",
              "      <td>50.0</td>\n",
              "      <td>3.333333e-01</td>\n",
              "      <td>0.000033</td>\n",
              "    </tr>\n",
              "    <tr>\n",
              "      <th>1.000000e-03</th>\n",
              "      <td>-2.999</td>\n",
              "      <td>500.0</td>\n",
              "      <td>3.333333e-02</td>\n",
              "      <td>0.000304</td>\n",
              "    </tr>\n",
              "    <tr>\n",
              "      <th>1.000000e-04</th>\n",
              "      <td>-3.000</td>\n",
              "      <td>4999.0</td>\n",
              "      <td>3.517187e-11</td>\n",
              "      <td>0.003598</td>\n",
              "    </tr>\n",
              "    <tr>\n",
              "      <th>1.000000e-05</th>\n",
              "      <td>-3.000</td>\n",
              "      <td>49999.0</td>\n",
              "      <td>1.091867e-10</td>\n",
              "      <td>0.017275</td>\n",
              "    </tr>\n",
              "    <tr>\n",
              "      <th>1.000000e-06</th>\n",
              "      <td>-3.000</td>\n",
              "      <td>499999.0</td>\n",
              "      <td>2.329633e-09</td>\n",
              "      <td>0.181993</td>\n",
              "    </tr>\n",
              "    <tr>\n",
              "      <th>1.000000e-07</th>\n",
              "      <td>-3.000</td>\n",
              "      <td>5000000.0</td>\n",
              "      <td>3.306057e-06</td>\n",
              "      <td>1.715081</td>\n",
              "    </tr>\n",
              "  </tbody>\n",
              "</table>\n",
              "</div>"
            ],
            "text/plain": [
              "               Raiz      Pasos       error %    Tiempo\n",
              "1.000000e-01 -3.000        4.0  1.480297e-14  0.000013\n",
              "1.000000e-02 -2.990       50.0  3.333333e-01  0.000033\n",
              "1.000000e-03 -2.999      500.0  3.333333e-02  0.000304\n",
              "1.000000e-04 -3.000     4999.0  3.517187e-11  0.003598\n",
              "1.000000e-05 -3.000    49999.0  1.091867e-10  0.017275\n",
              "1.000000e-06 -3.000   499999.0  2.329633e-09  0.181993\n",
              "1.000000e-07 -3.000  5000000.0  3.306057e-06  1.715081"
            ]
          },
          "metadata": {
            "tags": []
          },
          "execution_count": 22
        }
      ]
    },
    {
      "cell_type": "markdown",
      "metadata": {
        "id": "ZAAkstpvsxI0"
      },
      "source": [
        "<font size = 4 color='green'> El error porcentual en este método es 2.6695e-9 y 3.3060e-6. Se ve ahora el método de bisección."
      ]
    },
    {
      "cell_type": "code",
      "metadata": {
        "id": "IzB6Ugp0sxI0",
        "outputId": "ce5f0e27-285b-4888-8d8f-13036cb5e917"
      },
      "source": [
        "print(biseccion(f1,0,1,1e-4))\n",
        "print(biseccion(f1,-3.5,-2.5,1e-4))"
      ],
      "execution_count": null,
      "outputs": [
        {
          "output_type": "stream",
          "text": [
            "[0.99993896484375, 14]\n",
            "[-2.50006103515625, 14]\n"
          ],
          "name": "stdout"
        }
      ]
    },
    {
      "cell_type": "code",
      "metadata": {
        "id": "BBaZ2MRAsxI0",
        "colab": {
          "base_uri": "https://localhost:8080/",
          "height": 266
        },
        "outputId": "fb8ce58b-7048-4e67-d1f1-9da4df32745b"
      },
      "source": [
        "l_biseccion = []\n",
        "idx = []\n",
        "valor_real=0.5\n",
        "t = []\n",
        "for i in range(1,8):\n",
        "    tol = 10**(-i)\n",
        "    idx.append(tol)\n",
        "    ti = time()\n",
        "    raiz=biseccion(f1,0,1,tol) #cada renglon de la tabla\n",
        "    tfi = time()-ti\n",
        "    t.append(tfi)\n",
        "    error=abs(abs(valor_real-raiz[0])/valor_real)*100\n",
        "    l_biseccion.append([raiz[0],raiz[1],error,t[i-1]])\n",
        "cols = [\"Raiz\",\"Pasos\",\"error %\",\"Tiempo\"]\n",
        "pd.DataFrame(l_biseccion, index=idx, columns=cols)"
      ],
      "execution_count": null,
      "outputs": [
        {
          "output_type": "execute_result",
          "data": {
            "text/html": [
              "<div>\n",
              "<style scoped>\n",
              "    .dataframe tbody tr th:only-of-type {\n",
              "        vertical-align: middle;\n",
              "    }\n",
              "\n",
              "    .dataframe tbody tr th {\n",
              "        vertical-align: top;\n",
              "    }\n",
              "\n",
              "    .dataframe thead th {\n",
              "        text-align: right;\n",
              "    }\n",
              "</style>\n",
              "<table border=\"1\" class=\"dataframe\">\n",
              "  <thead>\n",
              "    <tr style=\"text-align: right;\">\n",
              "      <th></th>\n",
              "      <th>Raiz</th>\n",
              "      <th>Pasos</th>\n",
              "      <th>error %</th>\n",
              "      <th>Tiempo</th>\n",
              "    </tr>\n",
              "  </thead>\n",
              "  <tbody>\n",
              "    <tr>\n",
              "      <th>1.000000e-01</th>\n",
              "      <td>0.937500</td>\n",
              "      <td>4</td>\n",
              "      <td>87.500000</td>\n",
              "      <td>0.000013</td>\n",
              "    </tr>\n",
              "    <tr>\n",
              "      <th>1.000000e-02</th>\n",
              "      <td>0.992188</td>\n",
              "      <td>7</td>\n",
              "      <td>98.437500</td>\n",
              "      <td>0.000006</td>\n",
              "    </tr>\n",
              "    <tr>\n",
              "      <th>1.000000e-03</th>\n",
              "      <td>0.999023</td>\n",
              "      <td>10</td>\n",
              "      <td>99.804688</td>\n",
              "      <td>0.000007</td>\n",
              "    </tr>\n",
              "    <tr>\n",
              "      <th>1.000000e-04</th>\n",
              "      <td>0.999939</td>\n",
              "      <td>14</td>\n",
              "      <td>99.987793</td>\n",
              "      <td>0.000010</td>\n",
              "    </tr>\n",
              "    <tr>\n",
              "      <th>1.000000e-05</th>\n",
              "      <td>0.999992</td>\n",
              "      <td>17</td>\n",
              "      <td>99.998474</td>\n",
              "      <td>0.000012</td>\n",
              "    </tr>\n",
              "    <tr>\n",
              "      <th>1.000000e-06</th>\n",
              "      <td>0.999999</td>\n",
              "      <td>20</td>\n",
              "      <td>99.999809</td>\n",
              "      <td>0.000013</td>\n",
              "    </tr>\n",
              "    <tr>\n",
              "      <th>1.000000e-07</th>\n",
              "      <td>1.000000</td>\n",
              "      <td>24</td>\n",
              "      <td>99.999988</td>\n",
              "      <td>0.000015</td>\n",
              "    </tr>\n",
              "  </tbody>\n",
              "</table>\n",
              "</div>"
            ],
            "text/plain": [
              "                  Raiz  Pasos    error %    Tiempo\n",
              "1.000000e-01  0.937500      4  87.500000  0.000013\n",
              "1.000000e-02  0.992188      7  98.437500  0.000006\n",
              "1.000000e-03  0.999023     10  99.804688  0.000007\n",
              "1.000000e-04  0.999939     14  99.987793  0.000010\n",
              "1.000000e-05  0.999992     17  99.998474  0.000012\n",
              "1.000000e-06  0.999999     20  99.999809  0.000013\n",
              "1.000000e-07  1.000000     24  99.999988  0.000015"
            ]
          },
          "metadata": {
            "tags": []
          },
          "execution_count": 24
        }
      ]
    },
    {
      "cell_type": "code",
      "metadata": {
        "id": "cH9MudkOsxI0",
        "colab": {
          "base_uri": "https://localhost:8080/",
          "height": 266
        },
        "outputId": "a18d2f0c-c23e-4a85-a436-f48fb1587242"
      },
      "source": [
        "l_biseccion = []\n",
        "idx = []\n",
        "t = []\n",
        "valor_real=-3 \n",
        "for i in range(1,8):\n",
        "    tol = 10**(-i)\n",
        "    idx.append(tol)\n",
        "    ti = time()\n",
        "    raiz=biseccion(f1,-3.5,-2.5,tol) #cada renglon de la tabla\n",
        "    tfi = time()-ti\n",
        "    t.append(tfi)\n",
        "    error=abs(abs(valor_real-raiz[0])/valor_real)*100\n",
        "    l_biseccion.append([raiz[0],raiz[1],error,t[i-1]])\n",
        "cols = [\"Raiz\",\"Pasos\",\"error %\",\"Tiempo\"]\n",
        "pd.DataFrame(l_biseccion, index=idx, columns=cols)"
      ],
      "execution_count": null,
      "outputs": [
        {
          "output_type": "execute_result",
          "data": {
            "text/html": [
              "<div>\n",
              "<style scoped>\n",
              "    .dataframe tbody tr th:only-of-type {\n",
              "        vertical-align: middle;\n",
              "    }\n",
              "\n",
              "    .dataframe tbody tr th {\n",
              "        vertical-align: top;\n",
              "    }\n",
              "\n",
              "    .dataframe thead th {\n",
              "        text-align: right;\n",
              "    }\n",
              "</style>\n",
              "<table border=\"1\" class=\"dataframe\">\n",
              "  <thead>\n",
              "    <tr style=\"text-align: right;\">\n",
              "      <th></th>\n",
              "      <th>Raiz</th>\n",
              "      <th>Pasos</th>\n",
              "      <th>error %</th>\n",
              "      <th>Tiempo</th>\n",
              "    </tr>\n",
              "  </thead>\n",
              "  <tbody>\n",
              "    <tr>\n",
              "      <th>1.000000e-01</th>\n",
              "      <td>-2.562500</td>\n",
              "      <td>4</td>\n",
              "      <td>14.583333</td>\n",
              "      <td>0.000012</td>\n",
              "    </tr>\n",
              "    <tr>\n",
              "      <th>1.000000e-02</th>\n",
              "      <td>-2.507812</td>\n",
              "      <td>7</td>\n",
              "      <td>16.406250</td>\n",
              "      <td>0.000005</td>\n",
              "    </tr>\n",
              "    <tr>\n",
              "      <th>1.000000e-03</th>\n",
              "      <td>-2.500977</td>\n",
              "      <td>10</td>\n",
              "      <td>16.634115</td>\n",
              "      <td>0.000007</td>\n",
              "    </tr>\n",
              "    <tr>\n",
              "      <th>1.000000e-04</th>\n",
              "      <td>-2.500061</td>\n",
              "      <td>14</td>\n",
              "      <td>16.664632</td>\n",
              "      <td>0.000010</td>\n",
              "    </tr>\n",
              "    <tr>\n",
              "      <th>1.000000e-05</th>\n",
              "      <td>-2.500008</td>\n",
              "      <td>17</td>\n",
              "      <td>16.666412</td>\n",
              "      <td>0.000011</td>\n",
              "    </tr>\n",
              "    <tr>\n",
              "      <th>1.000000e-06</th>\n",
              "      <td>-2.500001</td>\n",
              "      <td>20</td>\n",
              "      <td>16.666635</td>\n",
              "      <td>0.000013</td>\n",
              "    </tr>\n",
              "    <tr>\n",
              "      <th>1.000000e-07</th>\n",
              "      <td>-2.500000</td>\n",
              "      <td>24</td>\n",
              "      <td>16.666665</td>\n",
              "      <td>0.000015</td>\n",
              "    </tr>\n",
              "  </tbody>\n",
              "</table>\n",
              "</div>"
            ],
            "text/plain": [
              "                  Raiz  Pasos    error %    Tiempo\n",
              "1.000000e-01 -2.562500      4  14.583333  0.000012\n",
              "1.000000e-02 -2.507812      7  16.406250  0.000005\n",
              "1.000000e-03 -2.500977     10  16.634115  0.000007\n",
              "1.000000e-04 -2.500061     14  16.664632  0.000010\n",
              "1.000000e-05 -2.500008     17  16.666412  0.000011\n",
              "1.000000e-06 -2.500001     20  16.666635  0.000013\n",
              "1.000000e-07 -2.500000     24  16.666665  0.000015"
            ]
          },
          "metadata": {
            "tags": []
          },
          "execution_count": 25
        }
      ]
    },
    {
      "cell_type": "markdown",
      "metadata": {
        "id": "jVoS7QVxsxI1"
      },
      "source": [
        "<font size = 4 color = 'green'> Se continua con el método de Newton-Raphson"
      ]
    },
    {
      "cell_type": "code",
      "metadata": {
        "id": "vPwgjHnAsxI1",
        "colab": {
          "base_uri": "https://localhost:8080/"
        },
        "outputId": "f3e0bdae-b805-4a09-e763-da274303963a"
      },
      "source": [
        "df1 = lambda x: 4*x+5 #se calcula a mano la derivada\n",
        "print(newton(f1,df1,0.6,1e-9)) #la primer raíz por la imagen está cerca de 0.6\n",
        "print(newton(f1,df1,-2.8,1e-9)) #y la segunda cerca de -2.8"
      ],
      "execution_count": 203,
      "outputs": [
        {
          "output_type": "stream",
          "text": [
            "[0.5, 4]\n",
            "[-3.0, 4]\n"
          ],
          "name": "stdout"
        }
      ]
    },
    {
      "cell_type": "code",
      "metadata": {
        "id": "F6eULiUksxI1",
        "colab": {
          "base_uri": "https://localhost:8080/",
          "height": 266
        },
        "outputId": "e0dcd3bf-d7ca-4759-f699-c91b45427b26"
      },
      "source": [
        "l_Newton = []\n",
        "idx = []\n",
        "t = []\n",
        "valor_real=0.5 \n",
        "for i in range(1,8):\n",
        "    tol = 10**(-i)\n",
        "    idx.append(tol)\n",
        "    ti = time()\n",
        "    raiz=newton(f1,df1,0.6,epsilon= tol) #cada renglon de la tabla\n",
        "    tfi = time()-ti\n",
        "    t.append(tfi)\n",
        "    error=abs(abs(valor_real-raiz[0])/valor_real)*100\n",
        "    l_Newton.append([raiz[0],raiz[1],error,t[i-1]])\n",
        "cols = [\"Raiz\",\"Pasos\",\"error %\",\"Tiempo\"]\n",
        "pd.DataFrame(l_Newton, index=idx, columns=cols)"
      ],
      "execution_count": 204,
      "outputs": [
        {
          "output_type": "execute_result",
          "data": {
            "text/html": [
              "<div>\n",
              "<style scoped>\n",
              "    .dataframe tbody tr th:only-of-type {\n",
              "        vertical-align: middle;\n",
              "    }\n",
              "\n",
              "    .dataframe tbody tr th {\n",
              "        vertical-align: top;\n",
              "    }\n",
              "\n",
              "    .dataframe thead th {\n",
              "        text-align: right;\n",
              "    }\n",
              "</style>\n",
              "<table border=\"1\" class=\"dataframe\">\n",
              "  <thead>\n",
              "    <tr style=\"text-align: right;\">\n",
              "      <th></th>\n",
              "      <th>Raiz</th>\n",
              "      <th>Pasos</th>\n",
              "      <th>error %</th>\n",
              "      <th>Tiempo</th>\n",
              "    </tr>\n",
              "  </thead>\n",
              "  <tbody>\n",
              "    <tr>\n",
              "      <th>1.000000e-01</th>\n",
              "      <td>0.502703</td>\n",
              "      <td>1</td>\n",
              "      <td>5.405405e-01</td>\n",
              "      <td>0.000022</td>\n",
              "    </tr>\n",
              "    <tr>\n",
              "      <th>1.000000e-02</th>\n",
              "      <td>0.500002</td>\n",
              "      <td>2</td>\n",
              "      <td>4.167622e-04</td>\n",
              "      <td>0.000004</td>\n",
              "    </tr>\n",
              "    <tr>\n",
              "      <th>1.000000e-03</th>\n",
              "      <td>0.500000</td>\n",
              "      <td>3</td>\n",
              "      <td>2.481348e-10</td>\n",
              "      <td>0.000004</td>\n",
              "    </tr>\n",
              "    <tr>\n",
              "      <th>1.000000e-04</th>\n",
              "      <td>0.500000</td>\n",
              "      <td>3</td>\n",
              "      <td>2.481348e-10</td>\n",
              "      <td>0.000004</td>\n",
              "    </tr>\n",
              "    <tr>\n",
              "      <th>1.000000e-05</th>\n",
              "      <td>0.500000</td>\n",
              "      <td>3</td>\n",
              "      <td>2.481348e-10</td>\n",
              "      <td>0.000004</td>\n",
              "    </tr>\n",
              "    <tr>\n",
              "      <th>1.000000e-06</th>\n",
              "      <td>0.500000</td>\n",
              "      <td>4</td>\n",
              "      <td>0.000000e+00</td>\n",
              "      <td>0.000005</td>\n",
              "    </tr>\n",
              "    <tr>\n",
              "      <th>1.000000e-07</th>\n",
              "      <td>0.500000</td>\n",
              "      <td>4</td>\n",
              "      <td>0.000000e+00</td>\n",
              "      <td>0.000005</td>\n",
              "    </tr>\n",
              "  </tbody>\n",
              "</table>\n",
              "</div>"
            ],
            "text/plain": [
              "                  Raiz  Pasos       error %    Tiempo\n",
              "1.000000e-01  0.502703      1  5.405405e-01  0.000022\n",
              "1.000000e-02  0.500002      2  4.167622e-04  0.000004\n",
              "1.000000e-03  0.500000      3  2.481348e-10  0.000004\n",
              "1.000000e-04  0.500000      3  2.481348e-10  0.000004\n",
              "1.000000e-05  0.500000      3  2.481348e-10  0.000004\n",
              "1.000000e-06  0.500000      4  0.000000e+00  0.000005\n",
              "1.000000e-07  0.500000      4  0.000000e+00  0.000005"
            ]
          },
          "metadata": {
            "tags": []
          },
          "execution_count": 204
        }
      ]
    },
    {
      "cell_type": "code",
      "metadata": {
        "id": "sSGI4fdZsxI1",
        "colab": {
          "base_uri": "https://localhost:8080/",
          "height": 266
        },
        "outputId": "683e17f2-d591-4e49-ce37-f6c69755a8be"
      },
      "source": [
        "l_Newton = []\n",
        "idx = []\n",
        "valor_real=-3 \n",
        "for i in range(1,8):\n",
        "    tol = 10**(-i)\n",
        "    idx.append(tol)\n",
        "    ti = time()\n",
        "    raiz=newton(f1,df1,-2.8,epsilon = tol) #cada renglon de la tabla\n",
        "    tfi = time()-ti\n",
        "    error=abs(abs(valor_real-raiz[0])/valor_real)*100\n",
        "    l_Newton.append([raiz[0],raiz[1],error,tfi])\n",
        "cols = [\"Raiz\",\"Pasos\",\"error %\",\"Tiempo\"]\n",
        "pd.DataFrame(l_Newton, index=idx, columns=cols)"
      ],
      "execution_count": 205,
      "outputs": [
        {
          "output_type": "execute_result",
          "data": {
            "text/html": [
              "<div>\n",
              "<style scoped>\n",
              "    .dataframe tbody tr th:only-of-type {\n",
              "        vertical-align: middle;\n",
              "    }\n",
              "\n",
              "    .dataframe tbody tr th {\n",
              "        vertical-align: top;\n",
              "    }\n",
              "\n",
              "    .dataframe thead th {\n",
              "        text-align: right;\n",
              "    }\n",
              "</style>\n",
              "<table border=\"1\" class=\"dataframe\">\n",
              "  <thead>\n",
              "    <tr style=\"text-align: right;\">\n",
              "      <th></th>\n",
              "      <th>Raiz</th>\n",
              "      <th>Pasos</th>\n",
              "      <th>error %</th>\n",
              "      <th>Tiempo</th>\n",
              "    </tr>\n",
              "  </thead>\n",
              "  <tbody>\n",
              "    <tr>\n",
              "      <th>1.000000e-01</th>\n",
              "      <td>-3.000047</td>\n",
              "      <td>2</td>\n",
              "      <td>1.574044e-03</td>\n",
              "      <td>0.000018</td>\n",
              "    </tr>\n",
              "    <tr>\n",
              "      <th>1.000000e-02</th>\n",
              "      <td>-3.000000</td>\n",
              "      <td>3</td>\n",
              "      <td>2.123611e-08</td>\n",
              "      <td>0.000003</td>\n",
              "    </tr>\n",
              "    <tr>\n",
              "      <th>1.000000e-03</th>\n",
              "      <td>-3.000000</td>\n",
              "      <td>3</td>\n",
              "      <td>2.123611e-08</td>\n",
              "      <td>0.000004</td>\n",
              "    </tr>\n",
              "    <tr>\n",
              "      <th>1.000000e-04</th>\n",
              "      <td>-3.000000</td>\n",
              "      <td>3</td>\n",
              "      <td>2.123611e-08</td>\n",
              "      <td>0.000003</td>\n",
              "    </tr>\n",
              "    <tr>\n",
              "      <th>1.000000e-05</th>\n",
              "      <td>-3.000000</td>\n",
              "      <td>4</td>\n",
              "      <td>0.000000e+00</td>\n",
              "      <td>0.000004</td>\n",
              "    </tr>\n",
              "    <tr>\n",
              "      <th>1.000000e-06</th>\n",
              "      <td>-3.000000</td>\n",
              "      <td>4</td>\n",
              "      <td>0.000000e+00</td>\n",
              "      <td>0.000004</td>\n",
              "    </tr>\n",
              "    <tr>\n",
              "      <th>1.000000e-07</th>\n",
              "      <td>-3.000000</td>\n",
              "      <td>4</td>\n",
              "      <td>0.000000e+00</td>\n",
              "      <td>0.000005</td>\n",
              "    </tr>\n",
              "  </tbody>\n",
              "</table>\n",
              "</div>"
            ],
            "text/plain": [
              "                  Raiz  Pasos       error %    Tiempo\n",
              "1.000000e-01 -3.000047      2  1.574044e-03  0.000018\n",
              "1.000000e-02 -3.000000      3  2.123611e-08  0.000003\n",
              "1.000000e-03 -3.000000      3  2.123611e-08  0.000004\n",
              "1.000000e-04 -3.000000      3  2.123611e-08  0.000003\n",
              "1.000000e-05 -3.000000      4  0.000000e+00  0.000004\n",
              "1.000000e-06 -3.000000      4  0.000000e+00  0.000004\n",
              "1.000000e-07 -3.000000      4  0.000000e+00  0.000005"
            ]
          },
          "metadata": {
            "tags": []
          },
          "execution_count": 205
        }
      ]
    },
    {
      "cell_type": "markdown",
      "metadata": {
        "id": "ZTK7lYtksxI1"
      },
      "source": [
        "<font size = 4 color='green'> En este caso el resultado es exacto. Se usa ahora el método de la secante"
      ]
    },
    {
      "cell_type": "code",
      "metadata": {
        "id": "UAtYSLCNsxI1",
        "outputId": "f6d074bd-fc83-4406-c4fc-cb73a081a7e5"
      },
      "source": [
        "print(secante(f1,0,1,delta=1e-9))\n",
        "print(secante(f1,-3.5,-2.5,delta=1e-9))"
      ],
      "execution_count": null,
      "outputs": [
        {
          "output_type": "stream",
          "text": [
            "[[0, -3, nan], [1, 4, 1], [0.4285714285714286, -0.4897959183673466, -0.5714285714285714], [0.4909090909090909, -0.06347107438016542, 0.0623376623376623], [0.5001898974553741, 0.0013293543097061544, 0.009280806546283216], [0.4999995055022761, -3.461483577993363e-06, -0.0001903919530980014], [0.49999999997317174, -1.8779777732902403e-10, 4.944708956178268e-07]]\n",
            "[[-3.5, 4.0, nan], [-2.5, -3.0, 1.0], [-2.9285714285714284, -0.48979591836734926, -0.4285714285714284], [-3.01219512195122, 0.08566329565735131, -0.08362369337979159], [-2.999746835443038, -0.0017720237141478634, 0.012448286508182083], [-2.999999120893032, -6.153747229120654e-06, -0.00025228544999400526], [-3.0000000000635927, 4.4514791852634517e-10, -8.791705607968936e-07]]\n"
          ],
          "name": "stdout"
        }
      ]
    },
    {
      "cell_type": "code",
      "metadata": {
        "id": "611EJvtusxI1",
        "colab": {
          "base_uri": "https://localhost:8080/",
          "height": 266
        },
        "outputId": "862f329a-1181-4346-c308-1a1624f0136a"
      },
      "source": [
        "l_secante = []\n",
        "idx = []\n",
        "valor_real=0.5\n",
        "for i in range(1,8):\n",
        "    tol = 10**(-i)\n",
        "    idx.append(tol)\n",
        "    ti = time()\n",
        "    raiz=secante(f1, 0, 1, delta=tol)[-1] #nos quedamos con el último valor que nos da la raíz y el error\n",
        "    tfi = time()-ti\n",
        "    l_secante.append([raiz[0],abs(abs(raiz[0]-valor_real)/valor_real)*100,tfi])\n",
        "cols = [\"Raiz\",\"error %\",\"Tiempo\"]\n",
        "pd.DataFrame(l_secante, index=idx, columns=cols)"
      ],
      "execution_count": null,
      "outputs": [
        {
          "output_type": "execute_result",
          "data": {
            "text/html": [
              "<div>\n",
              "<style scoped>\n",
              "    .dataframe tbody tr th:only-of-type {\n",
              "        vertical-align: middle;\n",
              "    }\n",
              "\n",
              "    .dataframe tbody tr th {\n",
              "        vertical-align: top;\n",
              "    }\n",
              "\n",
              "    .dataframe thead th {\n",
              "        text-align: right;\n",
              "    }\n",
              "</style>\n",
              "<table border=\"1\" class=\"dataframe\">\n",
              "  <thead>\n",
              "    <tr style=\"text-align: right;\">\n",
              "      <th></th>\n",
              "      <th>Raiz</th>\n",
              "      <th>error %</th>\n",
              "      <th>Tiempo</th>\n",
              "    </tr>\n",
              "  </thead>\n",
              "  <tbody>\n",
              "    <tr>\n",
              "      <th>1.000000e-01</th>\n",
              "      <td>0.490909</td>\n",
              "      <td>1.818182e+00</td>\n",
              "      <td>0.000014</td>\n",
              "    </tr>\n",
              "    <tr>\n",
              "      <th>1.000000e-02</th>\n",
              "      <td>0.500190</td>\n",
              "      <td>3.797949e-02</td>\n",
              "      <td>0.000005</td>\n",
              "    </tr>\n",
              "    <tr>\n",
              "      <th>1.000000e-03</th>\n",
              "      <td>0.500000</td>\n",
              "      <td>9.889954e-05</td>\n",
              "      <td>0.000005</td>\n",
              "    </tr>\n",
              "    <tr>\n",
              "      <th>1.000000e-04</th>\n",
              "      <td>0.500000</td>\n",
              "      <td>9.889954e-05</td>\n",
              "      <td>0.000004</td>\n",
              "    </tr>\n",
              "    <tr>\n",
              "      <th>1.000000e-05</th>\n",
              "      <td>0.500000</td>\n",
              "      <td>9.889954e-05</td>\n",
              "      <td>0.000004</td>\n",
              "    </tr>\n",
              "    <tr>\n",
              "      <th>1.000000e-06</th>\n",
              "      <td>0.500000</td>\n",
              "      <td>5.365652e-09</td>\n",
              "      <td>0.000005</td>\n",
              "    </tr>\n",
              "    <tr>\n",
              "      <th>1.000000e-07</th>\n",
              "      <td>0.500000</td>\n",
              "      <td>5.365652e-09</td>\n",
              "      <td>0.000005</td>\n",
              "    </tr>\n",
              "  </tbody>\n",
              "</table>\n",
              "</div>"
            ],
            "text/plain": [
              "                  Raiz       error %    Tiempo\n",
              "1.000000e-01  0.490909  1.818182e+00  0.000014\n",
              "1.000000e-02  0.500190  3.797949e-02  0.000005\n",
              "1.000000e-03  0.500000  9.889954e-05  0.000005\n",
              "1.000000e-04  0.500000  9.889954e-05  0.000004\n",
              "1.000000e-05  0.500000  9.889954e-05  0.000004\n",
              "1.000000e-06  0.500000  5.365652e-09  0.000005\n",
              "1.000000e-07  0.500000  5.365652e-09  0.000005"
            ]
          },
          "metadata": {
            "tags": []
          },
          "execution_count": 42
        }
      ]
    },
    {
      "cell_type": "code",
      "metadata": {
        "id": "X21xgB4nsxI1",
        "colab": {
          "base_uri": "https://localhost:8080/",
          "height": 266
        },
        "outputId": "8c5e0cf7-112f-4e78-ebe9-63dd831f2f54"
      },
      "source": [
        "l_secante = []\n",
        "idx = []\n",
        "valor_real=-3\n",
        "for i in range(1,8):\n",
        "    tol = 10**(-i)\n",
        "    idx.append(tol)\n",
        "    ti = time()\n",
        "    raiz=secante(f1, -3.5, -2.5, delta=tol)[-1] #nos quedamos con el último valor que nos da la raíz y el error\n",
        "    tfi = time()-ti\n",
        "    l_secante.append([raiz[0],abs(abs(raiz[0]-valor_real)/valor_real)*100,tfi])\n",
        "cols = [\"Raiz\",\"error %\",\"Tiempo\"]\n",
        "pd.DataFrame(l_secante, index=idx, columns=cols)"
      ],
      "execution_count": null,
      "outputs": [
        {
          "output_type": "execute_result",
          "data": {
            "text/html": [
              "<div>\n",
              "<style scoped>\n",
              "    .dataframe tbody tr th:only-of-type {\n",
              "        vertical-align: middle;\n",
              "    }\n",
              "\n",
              "    .dataframe tbody tr th {\n",
              "        vertical-align: top;\n",
              "    }\n",
              "\n",
              "    .dataframe thead th {\n",
              "        text-align: right;\n",
              "    }\n",
              "</style>\n",
              "<table border=\"1\" class=\"dataframe\">\n",
              "  <thead>\n",
              "    <tr style=\"text-align: right;\">\n",
              "      <th></th>\n",
              "      <th>Raiz</th>\n",
              "      <th>error %</th>\n",
              "      <th>Tiempo</th>\n",
              "    </tr>\n",
              "  </thead>\n",
              "  <tbody>\n",
              "    <tr>\n",
              "      <th>1.000000e-01</th>\n",
              "      <td>-3.012195</td>\n",
              "      <td>4.065041e-01</td>\n",
              "      <td>0.000016</td>\n",
              "    </tr>\n",
              "    <tr>\n",
              "      <th>1.000000e-02</th>\n",
              "      <td>-2.999747</td>\n",
              "      <td>8.438819e-03</td>\n",
              "      <td>0.000004</td>\n",
              "    </tr>\n",
              "    <tr>\n",
              "      <th>1.000000e-03</th>\n",
              "      <td>-2.999999</td>\n",
              "      <td>2.930357e-05</td>\n",
              "      <td>0.000004</td>\n",
              "    </tr>\n",
              "    <tr>\n",
              "      <th>1.000000e-04</th>\n",
              "      <td>-2.999999</td>\n",
              "      <td>2.930357e-05</td>\n",
              "      <td>0.000004</td>\n",
              "    </tr>\n",
              "    <tr>\n",
              "      <th>1.000000e-05</th>\n",
              "      <td>-2.999999</td>\n",
              "      <td>2.930357e-05</td>\n",
              "      <td>0.000004</td>\n",
              "    </tr>\n",
              "    <tr>\n",
              "      <th>1.000000e-06</th>\n",
              "      <td>-3.000000</td>\n",
              "      <td>2.119756e-09</td>\n",
              "      <td>0.000005</td>\n",
              "    </tr>\n",
              "    <tr>\n",
              "      <th>1.000000e-07</th>\n",
              "      <td>-3.000000</td>\n",
              "      <td>2.119756e-09</td>\n",
              "      <td>0.000004</td>\n",
              "    </tr>\n",
              "  </tbody>\n",
              "</table>\n",
              "</div>"
            ],
            "text/plain": [
              "                  Raiz       error %    Tiempo\n",
              "1.000000e-01 -3.012195  4.065041e-01  0.000016\n",
              "1.000000e-02 -2.999747  8.438819e-03  0.000004\n",
              "1.000000e-03 -2.999999  2.930357e-05  0.000004\n",
              "1.000000e-04 -2.999999  2.930357e-05  0.000004\n",
              "1.000000e-05 -2.999999  2.930357e-05  0.000004\n",
              "1.000000e-06 -3.000000  2.119756e-09  0.000005\n",
              "1.000000e-07 -3.000000  2.119756e-09  0.000004"
            ]
          },
          "metadata": {
            "tags": []
          },
          "execution_count": 43
        }
      ]
    },
    {
      "cell_type": "markdown",
      "metadata": {
        "id": "LiEL6ek9sxI1"
      },
      "source": [
        "<font size = 4 color = 'green'> Aquí los errores porcentuales fueron de 5.3656e-9 y 2.11975e-9. Se prosige al método de Ridders"
      ]
    },
    {
      "cell_type": "code",
      "metadata": {
        "id": "0MX2UVuRsxI1",
        "outputId": "cf8dc675-7060-4c74-de2b-253b6380f7f4"
      },
      "source": [
        "#Este es el código de Roxana y Jordi\n",
        "print(ridders(f1,0,1, tol=1e-9))\n",
        "print(ridders(f1,-3.5,-2.5, tol=1e-9))"
      ],
      "execution_count": null,
      "outputs": [
        {
          "output_type": "stream",
          "text": [
            "(0.5, 1)\n",
            "(-3.0, 1)\n"
          ],
          "name": "stdout"
        }
      ]
    },
    {
      "cell_type": "code",
      "metadata": {
        "id": "3VIeYXUDsxI1",
        "colab": {
          "base_uri": "https://localhost:8080/",
          "height": 266
        },
        "outputId": "ec527e2d-387e-45e3-b349-5d2f6219a335"
      },
      "source": [
        "l_ridders = []\n",
        "idx = []\n",
        "valor_real=0.5 \n",
        "for i in range(1,8):\n",
        "    tol = 10**(-i)\n",
        "    idx.append(tol)\n",
        "    ti = time()\n",
        "    raiz=ridders(f1,0,1, tol) #cada renglon de la tabla\n",
        "    tfi = time()-ti\n",
        "    error=abs(abs(valor_real-raiz[0])/valor_real)*100\n",
        "    l_ridders.append([raiz[0],raiz[1],error, tfi])\n",
        "cols = [\"Raiz\",\"Pasos\",\"error %\",\"Tiempo\"]\n",
        "pd.DataFrame(l_ridders, index=idx, columns=cols)"
      ],
      "execution_count": null,
      "outputs": [
        {
          "output_type": "execute_result",
          "data": {
            "text/html": [
              "<div>\n",
              "<style scoped>\n",
              "    .dataframe tbody tr th:only-of-type {\n",
              "        vertical-align: middle;\n",
              "    }\n",
              "\n",
              "    .dataframe tbody tr th {\n",
              "        vertical-align: top;\n",
              "    }\n",
              "\n",
              "    .dataframe thead th {\n",
              "        text-align: right;\n",
              "    }\n",
              "</style>\n",
              "<table border=\"1\" class=\"dataframe\">\n",
              "  <thead>\n",
              "    <tr style=\"text-align: right;\">\n",
              "      <th></th>\n",
              "      <th>Raiz</th>\n",
              "      <th>Pasos</th>\n",
              "      <th>error %</th>\n",
              "      <th>Tiempo</th>\n",
              "    </tr>\n",
              "  </thead>\n",
              "  <tbody>\n",
              "    <tr>\n",
              "      <th>1.000000e-01</th>\n",
              "      <td>0.5</td>\n",
              "      <td>1</td>\n",
              "      <td>0.0</td>\n",
              "      <td>0.000016</td>\n",
              "    </tr>\n",
              "    <tr>\n",
              "      <th>1.000000e-02</th>\n",
              "      <td>0.5</td>\n",
              "      <td>1</td>\n",
              "      <td>0.0</td>\n",
              "      <td>0.000004</td>\n",
              "    </tr>\n",
              "    <tr>\n",
              "      <th>1.000000e-03</th>\n",
              "      <td>0.5</td>\n",
              "      <td>1</td>\n",
              "      <td>0.0</td>\n",
              "      <td>0.000020</td>\n",
              "    </tr>\n",
              "    <tr>\n",
              "      <th>1.000000e-04</th>\n",
              "      <td>0.5</td>\n",
              "      <td>1</td>\n",
              "      <td>0.0</td>\n",
              "      <td>0.000005</td>\n",
              "    </tr>\n",
              "    <tr>\n",
              "      <th>1.000000e-05</th>\n",
              "      <td>0.5</td>\n",
              "      <td>1</td>\n",
              "      <td>0.0</td>\n",
              "      <td>0.000005</td>\n",
              "    </tr>\n",
              "    <tr>\n",
              "      <th>1.000000e-06</th>\n",
              "      <td>0.5</td>\n",
              "      <td>1</td>\n",
              "      <td>0.0</td>\n",
              "      <td>0.000004</td>\n",
              "    </tr>\n",
              "    <tr>\n",
              "      <th>1.000000e-07</th>\n",
              "      <td>0.5</td>\n",
              "      <td>1</td>\n",
              "      <td>0.0</td>\n",
              "      <td>0.000004</td>\n",
              "    </tr>\n",
              "  </tbody>\n",
              "</table>\n",
              "</div>"
            ],
            "text/plain": [
              "              Raiz  Pasos  error %    Tiempo\n",
              "1.000000e-01   0.5      1      0.0  0.000016\n",
              "1.000000e-02   0.5      1      0.0  0.000004\n",
              "1.000000e-03   0.5      1      0.0  0.000020\n",
              "1.000000e-04   0.5      1      0.0  0.000005\n",
              "1.000000e-05   0.5      1      0.0  0.000005\n",
              "1.000000e-06   0.5      1      0.0  0.000004\n",
              "1.000000e-07   0.5      1      0.0  0.000004"
            ]
          },
          "metadata": {
            "tags": []
          },
          "execution_count": 94
        }
      ]
    },
    {
      "cell_type": "code",
      "metadata": {
        "id": "fWvW_OoPsxI2",
        "colab": {
          "base_uri": "https://localhost:8080/",
          "height": 266
        },
        "outputId": "383fd8b0-a356-46c7-cf53-f43f92378726"
      },
      "source": [
        "l_ridders = []\n",
        "idx = []\n",
        "valor_real=-3 \n",
        "for i in range(1,8):\n",
        "    tol = 10**(-i)\n",
        "    idx.append(tol)\n",
        "    ti = time()\n",
        "    raiz=ridders(f1,-3.5,-2.5, tol) #cada renglon de la tabla\n",
        "    tfi = time()-ti\n",
        "    error=abs(abs(valor_real-raiz[0])/valor_real)*100\n",
        "    l_ridders.append([raiz[0],raiz[1],error,tfi])\n",
        "cols = [\"Raiz\",\"Pasos\",\"error %\",\"Tiempo\"]\n",
        "pd.DataFrame(l_ridders, index=idx, columns=cols)"
      ],
      "execution_count": null,
      "outputs": [
        {
          "output_type": "execute_result",
          "data": {
            "text/html": [
              "<div>\n",
              "<style scoped>\n",
              "    .dataframe tbody tr th:only-of-type {\n",
              "        vertical-align: middle;\n",
              "    }\n",
              "\n",
              "    .dataframe tbody tr th {\n",
              "        vertical-align: top;\n",
              "    }\n",
              "\n",
              "    .dataframe thead th {\n",
              "        text-align: right;\n",
              "    }\n",
              "</style>\n",
              "<table border=\"1\" class=\"dataframe\">\n",
              "  <thead>\n",
              "    <tr style=\"text-align: right;\">\n",
              "      <th></th>\n",
              "      <th>Raiz</th>\n",
              "      <th>Pasos</th>\n",
              "      <th>error %</th>\n",
              "      <th>Tiempo</th>\n",
              "    </tr>\n",
              "  </thead>\n",
              "  <tbody>\n",
              "    <tr>\n",
              "      <th>1.000000e-01</th>\n",
              "      <td>-3.0</td>\n",
              "      <td>1</td>\n",
              "      <td>0.0</td>\n",
              "      <td>0.000013</td>\n",
              "    </tr>\n",
              "    <tr>\n",
              "      <th>1.000000e-02</th>\n",
              "      <td>-3.0</td>\n",
              "      <td>1</td>\n",
              "      <td>0.0</td>\n",
              "      <td>0.000003</td>\n",
              "    </tr>\n",
              "    <tr>\n",
              "      <th>1.000000e-03</th>\n",
              "      <td>-3.0</td>\n",
              "      <td>1</td>\n",
              "      <td>0.0</td>\n",
              "      <td>0.000002</td>\n",
              "    </tr>\n",
              "    <tr>\n",
              "      <th>1.000000e-04</th>\n",
              "      <td>-3.0</td>\n",
              "      <td>1</td>\n",
              "      <td>0.0</td>\n",
              "      <td>0.000002</td>\n",
              "    </tr>\n",
              "    <tr>\n",
              "      <th>1.000000e-05</th>\n",
              "      <td>-3.0</td>\n",
              "      <td>1</td>\n",
              "      <td>0.0</td>\n",
              "      <td>0.000002</td>\n",
              "    </tr>\n",
              "    <tr>\n",
              "      <th>1.000000e-06</th>\n",
              "      <td>-3.0</td>\n",
              "      <td>1</td>\n",
              "      <td>0.0</td>\n",
              "      <td>0.000002</td>\n",
              "    </tr>\n",
              "    <tr>\n",
              "      <th>1.000000e-07</th>\n",
              "      <td>-3.0</td>\n",
              "      <td>1</td>\n",
              "      <td>0.0</td>\n",
              "      <td>0.000002</td>\n",
              "    </tr>\n",
              "  </tbody>\n",
              "</table>\n",
              "</div>"
            ],
            "text/plain": [
              "              Raiz  Pasos  error %    Tiempo\n",
              "1.000000e-01  -3.0      1      0.0  0.000013\n",
              "1.000000e-02  -3.0      1      0.0  0.000003\n",
              "1.000000e-03  -3.0      1      0.0  0.000002\n",
              "1.000000e-04  -3.0      1      0.0  0.000002\n",
              "1.000000e-05  -3.0      1      0.0  0.000002\n",
              "1.000000e-06  -3.0      1      0.0  0.000002\n",
              "1.000000e-07  -3.0      1      0.0  0.000002"
            ]
          },
          "metadata": {
            "tags": []
          },
          "execution_count": 45
        }
      ]
    },
    {
      "cell_type": "markdown",
      "metadata": {
        "id": "6gmt0CSdsxI2"
      },
      "source": [
        "<font size = 4 color='green'> Aquí nuevamente el error fue 0. Al analizar los errores respectivos, los mejores métodos fueron: Ridders y secante pues ambos tuvieron error 0, el peor fue el de la bisección debido a su error de casi el 100%, más el hecho de su gran tiempo de cómputo, aunque el incremental tuvo más tiempo de computo, que fue de 1.7s para los pasos de 1e-7, mientras que Newton, Ridders y Secante tienen tiempos incluso más pequeños que para pasos mayores, alrededor de 2e-6 s."
      ]
    },
    {
      "cell_type": "markdown",
      "metadata": {
        "id": "tCTLc5OssxI2"
      },
      "source": [
        "<font size = 5 color = 'white'> Se continua con la segunda función, la cuál es $\\cos(x)+(1+x)^{-1}$. Primero se grafica."
      ]
    },
    {
      "cell_type": "code",
      "metadata": {
        "scrolled": false,
        "id": "Y9NoWvYMsxI2"
      },
      "source": [
        "xx = linspace(-10,10,10000) \n",
        "rcParams[ 'figure.figsize' ] = (10,5)\n",
        "\n"
      ],
      "execution_count": null,
      "outputs": []
    },
    {
      "cell_type": "markdown",
      "metadata": {
        "id": "Ys3PQs3fGEVX"
      },
      "source": [
        "Primero graficamos la función para poder definir un intervalo en el cuál es posible obtener las raíces, dado que es periódica bastará con analizar el caso claramente para dos de las raíces de la función trigonométrica del coseno"
      ]
    },
    {
      "cell_type": "code",
      "metadata": {
        "id": "Q79SrZcasxI2",
        "outputId": "ce48d0cd-f8ae-438e-8653-51fc03e7ddc1"
      },
      "source": [
        "plot(xx,f2(xx))\n",
        "plot(xx, zeros(len(xx)), '--r')"
      ],
      "execution_count": null,
      "outputs": [
        {
          "output_type": "execute_result",
          "data": {
            "text/plain": [
              "[<matplotlib.lines.Line2D at 0x7efee3f18490>]"
            ]
          },
          "metadata": {
            "tags": []
          },
          "execution_count": 72
        },
        {
          "output_type": "display_data",
          "data": {
            "image/png": "[encoded data removed]",
            "text/plain": [
              "<Figure size 720x360 with 1 Axes>"
            ]
          },
          "metadata": {
            "tags": [],
            "needs_background": "light"
          }
        }
      ]
    },
    {
      "cell_type": "markdown",
      "metadata": {
        "id": "Ief6oyW3sxI2"
      },
      "source": [
        "[texto del vínculo](https://)<font size = 4  color = \"black\"> Método incremental"
      ]
    },
    {
      "cell_type": "code",
      "metadata": {
        "id": "GWMHyv2YsxI2",
        "outputId": "c5d0c1b3-3c02-4577-90ec-7f9d422a031a"
      },
      "source": [
        "print(incremental(f2,-2.5,0,1e-7))#una raíz está entre -2.5 y 0\n",
        "print(incremental(f2,0,2.5,1e-7)) #la otra está entre 0 y 2.5 "
      ],
      "execution_count": null,
      "outputs": [
        {
          "output_type": "stream",
          "text": [
            "[-1.8073753007058222, 6926246.0]\n",
            "[1.8073754002215698, 18073753.0]\n"
          ],
          "name": "stdout"
        }
      ]
    },
    {
      "cell_type": "code",
      "metadata": {
        "id": "gRcX5nJ1sxI2"
      },
      "source": [
        "# Consideremos el tiempo de cómputo del método incremental para la función 2\n"
      ],
      "execution_count": null,
      "outputs": []
    },
    {
      "cell_type": "markdown",
      "metadata": {
        "id": "eosc8MfesxI2"
      },
      "source": [
        "De manera análoga para cada método podemos analizar la precisión y el error"
      ]
    },
    {
      "cell_type": "code",
      "metadata": {
        "id": "pmowH11BsxI2",
        "colab": {
          "base_uri": "https://localhost:8080/",
          "height": 266
        },
        "outputId": "0024ae88-6d54-434d-80be-7421c2f95da0"
      },
      "source": [
        "lista_incremental = []\n",
        "idx = []\n",
        "t = []\n",
        "valor_real=-3\n",
        "for i in range(1,8):\n",
        "    tol = 10**(-i)\n",
        "    idx.append(tol)\n",
        "    ti = time()\n",
        "    raiz=incremental(f1,-3.5,-2.5,tol) #cada renglon de la tabla\n",
        "    tfi = time()-ti\n",
        "    t.append(tfi)\n",
        "    error=abs(abs(valor_real-raiz[0])/valor_real)*100\n",
        "    lista_incremental.append([raiz[0],raiz[1],error, t[i-1]])\n",
        "cols = [\"Raiz\",\"Pasos\",\"error %\",\"Tiempo\"]\n",
        "pd.DataFrame(lista_incremental, index=idx, columns=cols)"
      ],
      "execution_count": null,
      "outputs": [
        {
          "output_type": "execute_result",
          "data": {
            "text/html": [
              "<div>\n",
              "<style scoped>\n",
              "    .dataframe tbody tr th:only-of-type {\n",
              "        vertical-align: middle;\n",
              "    }\n",
              "\n",
              "    .dataframe tbody tr th {\n",
              "        vertical-align: top;\n",
              "    }\n",
              "\n",
              "    .dataframe thead th {\n",
              "        text-align: right;\n",
              "    }\n",
              "</style>\n",
              "<table border=\"1\" class=\"dataframe\">\n",
              "  <thead>\n",
              "    <tr style=\"text-align: right;\">\n",
              "      <th></th>\n",
              "      <th>Raiz</th>\n",
              "      <th>Pasos</th>\n",
              "      <th>error %</th>\n",
              "      <th>Tiempo</th>\n",
              "    </tr>\n",
              "  </thead>\n",
              "  <tbody>\n",
              "    <tr>\n",
              "      <th>1.000000e-01</th>\n",
              "      <td>-3.000</td>\n",
              "      <td>4.0</td>\n",
              "      <td>1.480297e-14</td>\n",
              "      <td>0.000011</td>\n",
              "    </tr>\n",
              "    <tr>\n",
              "      <th>1.000000e-02</th>\n",
              "      <td>-2.990</td>\n",
              "      <td>50.0</td>\n",
              "      <td>3.333333e-01</td>\n",
              "      <td>0.000019</td>\n",
              "    </tr>\n",
              "    <tr>\n",
              "      <th>1.000000e-03</th>\n",
              "      <td>-2.999</td>\n",
              "      <td>500.0</td>\n",
              "      <td>3.333333e-02</td>\n",
              "      <td>0.000172</td>\n",
              "    </tr>\n",
              "    <tr>\n",
              "      <th>1.000000e-04</th>\n",
              "      <td>-3.000</td>\n",
              "      <td>4999.0</td>\n",
              "      <td>3.517187e-11</td>\n",
              "      <td>0.002628</td>\n",
              "    </tr>\n",
              "    <tr>\n",
              "      <th>1.000000e-05</th>\n",
              "      <td>-3.000</td>\n",
              "      <td>49999.0</td>\n",
              "      <td>1.091867e-10</td>\n",
              "      <td>0.020605</td>\n",
              "    </tr>\n",
              "    <tr>\n",
              "      <th>1.000000e-06</th>\n",
              "      <td>-3.000</td>\n",
              "      <td>499999.0</td>\n",
              "      <td>2.329633e-09</td>\n",
              "      <td>0.182723</td>\n",
              "    </tr>\n",
              "    <tr>\n",
              "      <th>1.000000e-07</th>\n",
              "      <td>-3.000</td>\n",
              "      <td>5000000.0</td>\n",
              "      <td>3.306057e-06</td>\n",
              "      <td>1.744367</td>\n",
              "    </tr>\n",
              "  </tbody>\n",
              "</table>\n",
              "</div>"
            ],
            "text/plain": [
              "               Raiz      Pasos       error %    Tiempo\n",
              "1.000000e-01 -3.000        4.0  1.480297e-14  0.000011\n",
              "1.000000e-02 -2.990       50.0  3.333333e-01  0.000019\n",
              "1.000000e-03 -2.999      500.0  3.333333e-02  0.000172\n",
              "1.000000e-04 -3.000     4999.0  3.517187e-11  0.002628\n",
              "1.000000e-05 -3.000    49999.0  1.091867e-10  0.020605\n",
              "1.000000e-06 -3.000   499999.0  2.329633e-09  0.182723\n",
              "1.000000e-07 -3.000  5000000.0  3.306057e-06  1.744367"
            ]
          },
          "metadata": {
            "tags": []
          },
          "execution_count": 93
        }
      ]
    },
    {
      "cell_type": "code",
      "metadata": {
        "id": "wr44iSQisxI2",
        "colab": {
          "base_uri": "https://localhost:8080/",
          "height": 266
        },
        "outputId": "a44d6db5-d7e5-4b8f-f68f-7cde48feaebc"
      },
      "source": [
        "lista_incremental = []\n",
        "idx = []\n",
        "t = []\n",
        "valor_real=2\n",
        "for i in range(1,8):\n",
        "    tol = 10**(-i)\n",
        "    idx.append(tol)\n",
        "    ti = time()\n",
        "    raiz=incremental(f2,1,2,tol) #cada renglon de la tabla\n",
        "    tfi = time()-ti\n",
        "    t.append(tfi)\n",
        "    error=abs(abs(valor_real-raiz[0])/valor_real)*100\n",
        "    lista_incremental.append([raiz[0],raiz[1],error, t[i-1]])\n",
        "cols = [\"Raiz\",\"Pasos\",\"error %\",\"Tiempo\"]\n",
        "pd.DataFrame(lista_incremental, index=idx, columns=cols)"
      ],
      "execution_count": null,
      "outputs": [
        {
          "output_type": "execute_result",
          "data": {
            "text/html": [
              "<div>\n",
              "<style scoped>\n",
              "    .dataframe tbody tr th:only-of-type {\n",
              "        vertical-align: middle;\n",
              "    }\n",
              "\n",
              "    .dataframe tbody tr th {\n",
              "        vertical-align: top;\n",
              "    }\n",
              "\n",
              "    .dataframe thead th {\n",
              "        text-align: right;\n",
              "    }\n",
              "</style>\n",
              "<table border=\"1\" class=\"dataframe\">\n",
              "  <thead>\n",
              "    <tr style=\"text-align: right;\">\n",
              "      <th></th>\n",
              "      <th>Raiz</th>\n",
              "      <th>Pasos</th>\n",
              "      <th>error %</th>\n",
              "      <th>Tiempo</th>\n",
              "    </tr>\n",
              "  </thead>\n",
              "  <tbody>\n",
              "    <tr>\n",
              "      <th>1.000000e-01</th>\n",
              "      <td>1.900000</td>\n",
              "      <td>8.0</td>\n",
              "      <td>5.00000</td>\n",
              "      <td>0.000034</td>\n",
              "    </tr>\n",
              "    <tr>\n",
              "      <th>1.000000e-02</th>\n",
              "      <td>1.810000</td>\n",
              "      <td>80.0</td>\n",
              "      <td>9.50000</td>\n",
              "      <td>0.000063</td>\n",
              "    </tr>\n",
              "    <tr>\n",
              "      <th>1.000000e-03</th>\n",
              "      <td>1.808000</td>\n",
              "      <td>807.0</td>\n",
              "      <td>9.60000</td>\n",
              "      <td>0.004025</td>\n",
              "    </tr>\n",
              "    <tr>\n",
              "      <th>1.000000e-04</th>\n",
              "      <td>1.807400</td>\n",
              "      <td>8073.0</td>\n",
              "      <td>9.63000</td>\n",
              "      <td>0.004673</td>\n",
              "    </tr>\n",
              "    <tr>\n",
              "      <th>1.000000e-05</th>\n",
              "      <td>1.807380</td>\n",
              "      <td>80737.0</td>\n",
              "      <td>9.63100</td>\n",
              "      <td>0.031980</td>\n",
              "    </tr>\n",
              "    <tr>\n",
              "      <th>1.000000e-06</th>\n",
              "      <td>1.807376</td>\n",
              "      <td>807375.0</td>\n",
              "      <td>9.63120</td>\n",
              "      <td>0.311842</td>\n",
              "    </tr>\n",
              "    <tr>\n",
              "      <th>1.000000e-07</th>\n",
              "      <td>1.807375</td>\n",
              "      <td>8073753.0</td>\n",
              "      <td>9.63123</td>\n",
              "      <td>3.155694</td>\n",
              "    </tr>\n",
              "  </tbody>\n",
              "</table>\n",
              "</div>"
            ],
            "text/plain": [
              "                  Raiz      Pasos  error %    Tiempo\n",
              "1.000000e-01  1.900000        8.0  5.00000  0.000034\n",
              "1.000000e-02  1.810000       80.0  9.50000  0.000063\n",
              "1.000000e-03  1.808000      807.0  9.60000  0.004025\n",
              "1.000000e-04  1.807400     8073.0  9.63000  0.004673\n",
              "1.000000e-05  1.807380    80737.0  9.63100  0.031980\n",
              "1.000000e-06  1.807376   807375.0  9.63120  0.311842\n",
              "1.000000e-07  1.807375  8073753.0  9.63123  3.155694"
            ]
          },
          "metadata": {
            "tags": []
          },
          "execution_count": 95
        }
      ]
    },
    {
      "cell_type": "markdown",
      "metadata": {
        "id": "ybiNImXsGq1y"
      },
      "source": [
        "Para la primera de las raíces aplicando el método de incremental se obtuvieron un error porcentual de 3.306057e-06 y el tiempo de cómputo fue de \t1.744367 s un tiempo considerable a comparación de otros incisos anteriores.\n",
        "Análogamente se obtuvieron valores de \n",
        "9.63123\t en el error porcentual y el tiempo de cómputo de 3.155694. Se puede notar claramente un aumento exponencial en el error y en el tiempo de cómputo, consideraremos estos párametros para analizar cuál fue el mejor método para este polinomio."
      ]
    },
    {
      "cell_type": "markdown",
      "metadata": {
        "id": "xxMGPEElsxI2"
      },
      "source": [
        "<font size = 4  color = \"black\"> Método de bisección "
      ]
    },
    {
      "cell_type": "code",
      "metadata": {
        "colab": {
          "base_uri": "https://localhost:8080/"
        },
        "id": "gXYAyE-xsxI2",
        "outputId": "c2219afa-5020-4acc-8d76-0a810fd39173"
      },
      "source": [
        "print(biseccion(f2,-2.5,0,1e-4))\n",
        "print(biseccion(f2,0,2.5,1e-4))"
      ],
      "execution_count": null,
      "outputs": [
        {
          "output_type": "stream",
          "text": [
            "[-1.8073272705078125, 15]\n",
            "[1.8073272705078125, 15]\n"
          ],
          "name": "stdout"
        }
      ]
    },
    {
      "cell_type": "markdown",
      "metadata": {
        "id": "rkNtoY73t_qq"
      },
      "source": [
        "Ahora continuamos para obtener el error porcentual y el tiempo de cómputo del método de la bisección para la función 2"
      ]
    },
    {
      "cell_type": "code",
      "metadata": {
        "colab": {
          "base_uri": "https://localhost:8080/",
          "height": 266
        },
        "id": "aZOWcK4VujP7",
        "outputId": "7f8e5c11-36a8-4745-b688-d309be7b3e9f"
      },
      "source": [
        "  l_biseccion = []\n",
        "idx = []\n",
        "t= []\n",
        "valor_real=-2\n",
        "for i in range(1,8):\n",
        "    tol = 10**(-i)\n",
        "    idx.append(tol)\n",
        "    ti = time()\n",
        "    raiz=biseccion(f2,-2,-1,tol) #cada renglon de la tabla\n",
        "    tfi = time()-ti\n",
        "    t.append(tfi)\n",
        "    error=abs(abs(valor_real-raiz[0])/valor_real)*100\n",
        "  l_biseccion.append([raiz[0],raiz[1],error,t[i-1]])\n",
        "cols = [\"Raiz\",\"Pasos\",\"error %\",\"Tiempo\"]\n",
        "pd.DataFrame(l_biseccion, index=idx, columns=cols)\n"
      ],
      "execution_count": null,
      "outputs": [
        {
          "output_type": "execute_result",
          "data": {
            "text/html": [
              "<div>\n",
              "<style scoped>\n",
              "    .dataframe tbody tr th:only-of-type {\n",
              "        vertical-align: middle;\n",
              "    }\n",
              "\n",
              "    .dataframe tbody tr th {\n",
              "        vertical-align: top;\n",
              "    }\n",
              "\n",
              "    .dataframe thead th {\n",
              "        text-align: right;\n",
              "    }\n",
              "</style>\n",
              "<table border=\"1\" class=\"dataframe\">\n",
              "  <thead>\n",
              "    <tr style=\"text-align: right;\">\n",
              "      <th></th>\n",
              "      <th>Raiz</th>\n",
              "      <th>Pasos</th>\n",
              "      <th>error %</th>\n",
              "      <th>Tiempo</th>\n",
              "    </tr>\n",
              "  </thead>\n",
              "  <tbody>\n",
              "    <tr>\n",
              "      <th>1.000000e-01</th>\n",
              "      <td>-1.807375</td>\n",
              "      <td>25</td>\n",
              "      <td>9.631234</td>\n",
              "      <td>0.000029</td>\n",
              "    </tr>\n",
              "    <tr>\n",
              "      <th>1.000000e-02</th>\n",
              "      <td>-1.807375</td>\n",
              "      <td>25</td>\n",
              "      <td>9.631234</td>\n",
              "      <td>0.000029</td>\n",
              "    </tr>\n",
              "    <tr>\n",
              "      <th>1.000000e-03</th>\n",
              "      <td>-1.807375</td>\n",
              "      <td>25</td>\n",
              "      <td>9.631234</td>\n",
              "      <td>0.000029</td>\n",
              "    </tr>\n",
              "    <tr>\n",
              "      <th>1.000000e-04</th>\n",
              "      <td>-1.807375</td>\n",
              "      <td>25</td>\n",
              "      <td>9.631234</td>\n",
              "      <td>0.000029</td>\n",
              "    </tr>\n",
              "    <tr>\n",
              "      <th>1.000000e-05</th>\n",
              "      <td>-1.807375</td>\n",
              "      <td>25</td>\n",
              "      <td>9.631234</td>\n",
              "      <td>0.000029</td>\n",
              "    </tr>\n",
              "    <tr>\n",
              "      <th>1.000000e-06</th>\n",
              "      <td>-1.807375</td>\n",
              "      <td>25</td>\n",
              "      <td>9.631234</td>\n",
              "      <td>0.000029</td>\n",
              "    </tr>\n",
              "    <tr>\n",
              "      <th>1.000000e-07</th>\n",
              "      <td>-1.807375</td>\n",
              "      <td>25</td>\n",
              "      <td>9.631234</td>\n",
              "      <td>0.000029</td>\n",
              "    </tr>\n",
              "  </tbody>\n",
              "</table>\n",
              "</div>"
            ],
            "text/plain": [
              "                  Raiz  Pasos   error %    Tiempo\n",
              "1.000000e-01 -1.807375     25  9.631234  0.000029\n",
              "1.000000e-02 -1.807375     25  9.631234  0.000029\n",
              "1.000000e-03 -1.807375     25  9.631234  0.000029\n",
              "1.000000e-04 -1.807375     25  9.631234  0.000029\n",
              "1.000000e-05 -1.807375     25  9.631234  0.000029\n",
              "1.000000e-06 -1.807375     25  9.631234  0.000029\n",
              "1.000000e-07 -1.807375     25  9.631234  0.000029"
            ]
          },
          "metadata": {
            "tags": []
          },
          "execution_count": 98
        }
      ]
    },
    {
      "cell_type": "code",
      "metadata": {
        "colab": {
          "base_uri": "https://localhost:8080/",
          "height": 266
        },
        "id": "-f0rzuxfutLB",
        "outputId": "a3adad92-2915-477c-8c44-2cd50466a863"
      },
      "source": [
        "  l_biseccion = []\n",
        "idx = []\n",
        "t= []\n",
        "valor_real= 2\n",
        "for i in range(1,8):\n",
        "    tol = 10**(-i)\n",
        "    idx.append(tol)\n",
        "    ti = time()\n",
        "    raiz=biseccion(f2,1,2,tol) #cada renglon de la tabla\n",
        "    tfi = time()-ti\n",
        "    t.append(tfi)\n",
        "    error=abs(abs(valor_real-raiz[0])/valor_real)*100\n",
        "  l_biseccion.append([raiz[0],raiz[1],error,t[i-1]])\n",
        "cols = [\"Raiz\",\"Pasos\",\"error %\",\"Tiempo\"]\n",
        "pd.DataFrame(l_biseccion, index=idx, columns=cols)"
      ],
      "execution_count": null,
      "outputs": [
        {
          "output_type": "execute_result",
          "data": {
            "text/html": [
              "<div>\n",
              "<style scoped>\n",
              "    .dataframe tbody tr th:only-of-type {\n",
              "        vertical-align: middle;\n",
              "    }\n",
              "\n",
              "    .dataframe tbody tr th {\n",
              "        vertical-align: top;\n",
              "    }\n",
              "\n",
              "    .dataframe thead th {\n",
              "        text-align: right;\n",
              "    }\n",
              "</style>\n",
              "<table border=\"1\" class=\"dataframe\">\n",
              "  <thead>\n",
              "    <tr style=\"text-align: right;\">\n",
              "      <th></th>\n",
              "      <th>Raiz</th>\n",
              "      <th>Pasos</th>\n",
              "      <th>error %</th>\n",
              "      <th>Tiempo</th>\n",
              "    </tr>\n",
              "  </thead>\n",
              "  <tbody>\n",
              "    <tr>\n",
              "      <th>1.000000e-01</th>\n",
              "      <td>1.807375</td>\n",
              "      <td>24</td>\n",
              "      <td>9.631231</td>\n",
              "      <td>0.000019</td>\n",
              "    </tr>\n",
              "    <tr>\n",
              "      <th>1.000000e-02</th>\n",
              "      <td>1.807375</td>\n",
              "      <td>24</td>\n",
              "      <td>9.631231</td>\n",
              "      <td>0.000019</td>\n",
              "    </tr>\n",
              "    <tr>\n",
              "      <th>1.000000e-03</th>\n",
              "      <td>1.807375</td>\n",
              "      <td>24</td>\n",
              "      <td>9.631231</td>\n",
              "      <td>0.000019</td>\n",
              "    </tr>\n",
              "    <tr>\n",
              "      <th>1.000000e-04</th>\n",
              "      <td>1.807375</td>\n",
              "      <td>24</td>\n",
              "      <td>9.631231</td>\n",
              "      <td>0.000019</td>\n",
              "    </tr>\n",
              "    <tr>\n",
              "      <th>1.000000e-05</th>\n",
              "      <td>1.807375</td>\n",
              "      <td>24</td>\n",
              "      <td>9.631231</td>\n",
              "      <td>0.000019</td>\n",
              "    </tr>\n",
              "    <tr>\n",
              "      <th>1.000000e-06</th>\n",
              "      <td>1.807375</td>\n",
              "      <td>24</td>\n",
              "      <td>9.631231</td>\n",
              "      <td>0.000019</td>\n",
              "    </tr>\n",
              "    <tr>\n",
              "      <th>1.000000e-07</th>\n",
              "      <td>1.807375</td>\n",
              "      <td>24</td>\n",
              "      <td>9.631231</td>\n",
              "      <td>0.000019</td>\n",
              "    </tr>\n",
              "  </tbody>\n",
              "</table>\n",
              "</div>"
            ],
            "text/plain": [
              "                  Raiz  Pasos   error %    Tiempo\n",
              "1.000000e-01  1.807375     24  9.631231  0.000019\n",
              "1.000000e-02  1.807375     24  9.631231  0.000019\n",
              "1.000000e-03  1.807375     24  9.631231  0.000019\n",
              "1.000000e-04  1.807375     24  9.631231  0.000019\n",
              "1.000000e-05  1.807375     24  9.631231  0.000019\n",
              "1.000000e-06  1.807375     24  9.631231  0.000019\n",
              "1.000000e-07  1.807375     24  9.631231  0.000019"
            ]
          },
          "metadata": {
            "tags": []
          },
          "execution_count": 100
        }
      ]
    },
    {
      "cell_type": "markdown",
      "metadata": {
        "id": "5hrro7Edf5Sz"
      },
      "source": [
        "Se obtuvo un error porcentual del mismo orden de magnitud que el método incremental para ambas raíces 9.631234\t y en este caso los tiempos de cómputo se mantuvieron constantes en un intervalo de (0.0000.19,0.000029) que son tiempos muy bajos a comparación del método incremental."
      ]
    },
    {
      "cell_type": "markdown",
      "metadata": {
        "id": "8tqcW99JsxI2"
      },
      "source": [
        "<font size = 4  color = \"black\"> Método de Newton-Raphson"
      ]
    },
    {
      "cell_type": "code",
      "metadata": {
        "id": "ij9oo-s9sxI2",
        "colab": {
          "base_uri": "https://localhost:8080/"
        },
        "outputId": "f9fe2fc2-82a4-40fb-8784-e20839d4fd20"
      },
      "source": [
        "print(newton(f2,df2,-1.8,1e-9)) #la primer raíz por la imagen está cerca de 0.6\n",
        "print(newton(f2,df2,1.8,1e-9)) #y la segunda cerca de -2.8"
      ],
      "execution_count": 206,
      "outputs": [
        {
          "output_type": "stream",
          "text": [
            "[-1.8073753791824754, 3]\n",
            "[1.8073753791824754, 3]\n"
          ],
          "name": "stdout"
        }
      ]
    },
    {
      "cell_type": "code",
      "metadata": {
        "id": "JUPnaSWggPc8",
        "colab": {
          "base_uri": "https://localhost:8080/",
          "height": 266
        },
        "outputId": "df6c49f3-05ec-4ac1-fbb5-253d6bddf8a4"
      },
      "source": [
        "l_Newton = []\n",
        "idx = []\n",
        "t = []\n",
        "valor_real=-2\n",
        "for i in range(1,8):\n",
        "    tol = 10**(-i)\n",
        "    idx.append(tol)\n",
        "    ti = time()\n",
        "    raiz=newton(f2,df2,-1.8,epsilon= tol) #cada renglon de la tabla\n",
        "    tfi = time()-ti\n",
        "    t.append(tfi)\n",
        "    error=abs(abs(valor_real-raiz[0])/valor_real)*100\n",
        "    l_Newton.append([raiz[0],raiz[1],error,t[i-1]])\n",
        "cols = [\"Raiz\",\"Pasos\",\"error %\",\"Tiempo\"]\n",
        "pd.DataFrame(l_Newton, index=idx, columns=cols)"
      ],
      "execution_count": 208,
      "outputs": [
        {
          "output_type": "execute_result",
          "data": {
            "text/html": [
              "<div>\n",
              "<style scoped>\n",
              "    .dataframe tbody tr th:only-of-type {\n",
              "        vertical-align: middle;\n",
              "    }\n",
              "\n",
              "    .dataframe tbody tr th {\n",
              "        vertical-align: top;\n",
              "    }\n",
              "\n",
              "    .dataframe thead th {\n",
              "        text-align: right;\n",
              "    }\n",
              "</style>\n",
              "<table border=\"1\" class=\"dataframe\">\n",
              "  <thead>\n",
              "    <tr style=\"text-align: right;\">\n",
              "      <th></th>\n",
              "      <th>Raiz</th>\n",
              "      <th>Pasos</th>\n",
              "      <th>error %</th>\n",
              "      <th>Tiempo</th>\n",
              "    </tr>\n",
              "  </thead>\n",
              "  <tbody>\n",
              "    <tr>\n",
              "      <th>1.000000e-01</th>\n",
              "      <td>-1.807365</td>\n",
              "      <td>1</td>\n",
              "      <td>9.631761</td>\n",
              "      <td>0.000059</td>\n",
              "    </tr>\n",
              "    <tr>\n",
              "      <th>1.000000e-02</th>\n",
              "      <td>-1.807365</td>\n",
              "      <td>1</td>\n",
              "      <td>9.631761</td>\n",
              "      <td>0.000007</td>\n",
              "    </tr>\n",
              "    <tr>\n",
              "      <th>1.000000e-03</th>\n",
              "      <td>-1.807375</td>\n",
              "      <td>2</td>\n",
              "      <td>9.631231</td>\n",
              "      <td>0.000044</td>\n",
              "    </tr>\n",
              "    <tr>\n",
              "      <th>1.000000e-04</th>\n",
              "      <td>-1.807375</td>\n",
              "      <td>2</td>\n",
              "      <td>9.631231</td>\n",
              "      <td>0.000014</td>\n",
              "    </tr>\n",
              "    <tr>\n",
              "      <th>1.000000e-05</th>\n",
              "      <td>-1.807375</td>\n",
              "      <td>3</td>\n",
              "      <td>9.631231</td>\n",
              "      <td>0.000021</td>\n",
              "    </tr>\n",
              "    <tr>\n",
              "      <th>1.000000e-06</th>\n",
              "      <td>-1.807375</td>\n",
              "      <td>3</td>\n",
              "      <td>9.631231</td>\n",
              "      <td>0.000019</td>\n",
              "    </tr>\n",
              "    <tr>\n",
              "      <th>1.000000e-07</th>\n",
              "      <td>-1.807375</td>\n",
              "      <td>3</td>\n",
              "      <td>9.631231</td>\n",
              "      <td>0.000020</td>\n",
              "    </tr>\n",
              "  </tbody>\n",
              "</table>\n",
              "</div>"
            ],
            "text/plain": [
              "                  Raiz  Pasos   error %    Tiempo\n",
              "1.000000e-01 -1.807365      1  9.631761  0.000059\n",
              "1.000000e-02 -1.807365      1  9.631761  0.000007\n",
              "1.000000e-03 -1.807375      2  9.631231  0.000044\n",
              "1.000000e-04 -1.807375      2  9.631231  0.000014\n",
              "1.000000e-05 -1.807375      3  9.631231  0.000021\n",
              "1.000000e-06 -1.807375      3  9.631231  0.000019\n",
              "1.000000e-07 -1.807375      3  9.631231  0.000020"
            ]
          },
          "metadata": {
            "tags": []
          },
          "execution_count": 208
        }
      ]
    },
    {
      "cell_type": "code",
      "metadata": {
        "colab": {
          "base_uri": "https://localhost:8080/",
          "height": 266
        },
        "id": "KbV5TDiLMRw8",
        "outputId": "1e495ef2-050d-444c-a7b4-7a8fefb860a1"
      },
      "source": [
        "l_Newton = []\n",
        "idx = []\n",
        "t = []\n",
        "valor_real=2\n",
        "for i in range(1,8):\n",
        "    tol = 10**(-i)\n",
        "    idx.append(tol)\n",
        "    ti = time()\n",
        "    raiz=newton(f2,df2,1.8,epsilon= tol) #cada renglon de la tabla\n",
        "    tfi = time()-ti\n",
        "    t.append(tfi)\n",
        "    error=abs(abs(valor_real-raiz[0])/valor_real)*100\n",
        "    l_Newton.append([raiz[0],raiz[1],error,t[i-1]])\n",
        "cols = [\"Raiz\",\"Pasos\",\"error %\",\"Tiempo\"]\n",
        "pd.DataFrame(l_Newton, index=idx, columns=cols)"
      ],
      "execution_count": 209,
      "outputs": [
        {
          "output_type": "execute_result",
          "data": {
            "text/html": [
              "<div>\n",
              "<style scoped>\n",
              "    .dataframe tbody tr th:only-of-type {\n",
              "        vertical-align: middle;\n",
              "    }\n",
              "\n",
              "    .dataframe tbody tr th {\n",
              "        vertical-align: top;\n",
              "    }\n",
              "\n",
              "    .dataframe thead th {\n",
              "        text-align: right;\n",
              "    }\n",
              "</style>\n",
              "<table border=\"1\" class=\"dataframe\">\n",
              "  <thead>\n",
              "    <tr style=\"text-align: right;\">\n",
              "      <th></th>\n",
              "      <th>Raiz</th>\n",
              "      <th>Pasos</th>\n",
              "      <th>error %</th>\n",
              "      <th>Tiempo</th>\n",
              "    </tr>\n",
              "  </thead>\n",
              "  <tbody>\n",
              "    <tr>\n",
              "      <th>1.000000e-01</th>\n",
              "      <td>1.807365</td>\n",
              "      <td>1</td>\n",
              "      <td>9.631761</td>\n",
              "      <td>0.000047</td>\n",
              "    </tr>\n",
              "    <tr>\n",
              "      <th>1.000000e-02</th>\n",
              "      <td>1.807365</td>\n",
              "      <td>1</td>\n",
              "      <td>9.631761</td>\n",
              "      <td>0.000006</td>\n",
              "    </tr>\n",
              "    <tr>\n",
              "      <th>1.000000e-03</th>\n",
              "      <td>1.807375</td>\n",
              "      <td>2</td>\n",
              "      <td>9.631231</td>\n",
              "      <td>0.000019</td>\n",
              "    </tr>\n",
              "    <tr>\n",
              "      <th>1.000000e-04</th>\n",
              "      <td>1.807375</td>\n",
              "      <td>2</td>\n",
              "      <td>9.631231</td>\n",
              "      <td>0.000014</td>\n",
              "    </tr>\n",
              "    <tr>\n",
              "      <th>1.000000e-05</th>\n",
              "      <td>1.807375</td>\n",
              "      <td>3</td>\n",
              "      <td>9.631231</td>\n",
              "      <td>0.000028</td>\n",
              "    </tr>\n",
              "    <tr>\n",
              "      <th>1.000000e-06</th>\n",
              "      <td>1.807375</td>\n",
              "      <td>3</td>\n",
              "      <td>9.631231</td>\n",
              "      <td>0.000029</td>\n",
              "    </tr>\n",
              "    <tr>\n",
              "      <th>1.000000e-07</th>\n",
              "      <td>1.807375</td>\n",
              "      <td>3</td>\n",
              "      <td>9.631231</td>\n",
              "      <td>0.000028</td>\n",
              "    </tr>\n",
              "  </tbody>\n",
              "</table>\n",
              "</div>"
            ],
            "text/plain": [
              "                  Raiz  Pasos   error %    Tiempo\n",
              "1.000000e-01  1.807365      1  9.631761  0.000047\n",
              "1.000000e-02  1.807365      1  9.631761  0.000006\n",
              "1.000000e-03  1.807375      2  9.631231  0.000019\n",
              "1.000000e-04  1.807375      2  9.631231  0.000014\n",
              "1.000000e-05  1.807375      3  9.631231  0.000028\n",
              "1.000000e-06  1.807375      3  9.631231  0.000029\n",
              "1.000000e-07  1.807375      3  9.631231  0.000028"
            ]
          },
          "metadata": {
            "tags": []
          },
          "execution_count": 209
        }
      ]
    },
    {
      "cell_type": "markdown",
      "metadata": {
        "id": "f3mc9gYCMlex"
      },
      "source": [
        "El error porcentual es idéntico al que obtuvimos por el método de la bisección  y los tiempos de carga son muy similares al método de la bisección pero menores a comparación del método incremental"
      ]
    },
    {
      "cell_type": "markdown",
      "metadata": {
        "id": "jd-9TNmvuRS0"
      },
      "source": [
        "<font size = 4  color = \"black\"> Método de la Secante"
      ]
    },
    {
      "cell_type": "code",
      "metadata": {
        "colab": {
          "base_uri": "https://localhost:8080/"
        },
        "id": "5J_UffNnkA3d",
        "outputId": "8e5d9a98-3cd7-4563-9761-3e65e24c0200"
      },
      "source": [
        "print(secante(f2,-2,-1,delta=1e-9))\n",
        "print(secante(f1,1,2,delta=1e-9))"
      ],
      "execution_count": null,
      "outputs": [
        {
          "output_type": "stream",
          "text": [
            "[[-2, -0.2161468365471424, nan], [-1, 1.0403023058681398, 1], [-1.8279700870887288, -0.02401179594160885, -0.8279700870887288], [-1.8092904052700578, -0.0022411043062825486, 0.018679681818670968], [-1.8073674936756516, 9.231697948142159e-06, 0.0019229115944061625], [-1.80737538215941, -3.4851430075200085e-09, -7.888483758433651e-06], [-1.80737537918248, -5.412337245047638e-15, 2.976930035814007e-09]]\n",
            "[[1, 4, nan], [2, 15, 1], [0.6363636363636365, 0.9917355371900838, -1.3636363636363635], [0.5398230088495575, 0.2819328060145665, -0.09654062751407899], [0.5014771856877119, 0.010344663969095613, -0.03834582316184554], [0.5000166114069643, 0.00011628040062738876, -0.0014605742807476396], [0.5000000070079041, 4.905532913213051e-08, -1.6604399060149433e-05], [0.5000000000000333, 2.3314683517128287e-13, -7.007870839181862e-09]]\n"
          ],
          "name": "stdout"
        }
      ]
    },
    {
      "cell_type": "code",
      "metadata": {
        "colab": {
          "base_uri": "https://localhost:8080/",
          "height": 266
        },
        "id": "Ia2EnnVZkA3e",
        "outputId": "0d71a988-7f0d-4f6a-c353-5784905a6b25"
      },
      "source": [
        "l_secante = []\n",
        "idx = []\n",
        "valor_real=-2\n",
        "for i in range(1,8):\n",
        "    tol = 10**(-i)\n",
        "    idx.append(tol)\n",
        "    ti = time()\n",
        "    raiz=secante(f2, -2, -1, delta=tol)[-1] #nos quedamos con el último valor que nos da la raíz y el error\n",
        "    tfi = time()-ti\n",
        "    l_secante.append([raiz[0],abs(abs(raiz[0]-valor_real)/valor_real)*100,tfi])\n",
        "cols = [\"Raiz\",\"error %\",\"Tiempo\"]\n",
        "pd.DataFrame(l_secante, index=idx, columns=cols)"
      ],
      "execution_count": null,
      "outputs": [
        {
          "output_type": "execute_result",
          "data": {
            "text/html": [
              "<div>\n",
              "<style scoped>\n",
              "    .dataframe tbody tr th:only-of-type {\n",
              "        vertical-align: middle;\n",
              "    }\n",
              "\n",
              "    .dataframe tbody tr th {\n",
              "        vertical-align: top;\n",
              "    }\n",
              "\n",
              "    .dataframe thead th {\n",
              "        text-align: right;\n",
              "    }\n",
              "</style>\n",
              "<table border=\"1\" class=\"dataframe\">\n",
              "  <thead>\n",
              "    <tr style=\"text-align: right;\">\n",
              "      <th></th>\n",
              "      <th>Raiz</th>\n",
              "      <th>error %</th>\n",
              "      <th>Tiempo</th>\n",
              "    </tr>\n",
              "  </thead>\n",
              "  <tbody>\n",
              "    <tr>\n",
              "      <th>1.000000e-01</th>\n",
              "      <td>-1.827970</td>\n",
              "      <td>8.601496</td>\n",
              "      <td>0.000023</td>\n",
              "    </tr>\n",
              "    <tr>\n",
              "      <th>1.000000e-02</th>\n",
              "      <td>-1.809290</td>\n",
              "      <td>9.535480</td>\n",
              "      <td>0.000007</td>\n",
              "    </tr>\n",
              "    <tr>\n",
              "      <th>1.000000e-03</th>\n",
              "      <td>-1.807367</td>\n",
              "      <td>9.631625</td>\n",
              "      <td>0.000006</td>\n",
              "    </tr>\n",
              "    <tr>\n",
              "      <th>1.000000e-04</th>\n",
              "      <td>-1.807367</td>\n",
              "      <td>9.631625</td>\n",
              "      <td>0.000005</td>\n",
              "    </tr>\n",
              "    <tr>\n",
              "      <th>1.000000e-05</th>\n",
              "      <td>-1.807367</td>\n",
              "      <td>9.631625</td>\n",
              "      <td>0.000005</td>\n",
              "    </tr>\n",
              "    <tr>\n",
              "      <th>1.000000e-06</th>\n",
              "      <td>-1.807375</td>\n",
              "      <td>9.631231</td>\n",
              "      <td>0.000006</td>\n",
              "    </tr>\n",
              "    <tr>\n",
              "      <th>1.000000e-07</th>\n",
              "      <td>-1.807375</td>\n",
              "      <td>9.631231</td>\n",
              "      <td>0.000005</td>\n",
              "    </tr>\n",
              "  </tbody>\n",
              "</table>\n",
              "</div>"
            ],
            "text/plain": [
              "                  Raiz   error %    Tiempo\n",
              "1.000000e-01 -1.827970  8.601496  0.000023\n",
              "1.000000e-02 -1.809290  9.535480  0.000007\n",
              "1.000000e-03 -1.807367  9.631625  0.000006\n",
              "1.000000e-04 -1.807367  9.631625  0.000005\n",
              "1.000000e-05 -1.807367  9.631625  0.000005\n",
              "1.000000e-06 -1.807375  9.631231  0.000006\n",
              "1.000000e-07 -1.807375  9.631231  0.000005"
            ]
          },
          "metadata": {
            "tags": []
          },
          "execution_count": 110
        }
      ]
    },
    {
      "cell_type": "markdown",
      "metadata": {
        "id": "xeKfjq2UsxI3"
      },
      "source": [
        "<font size = 4  color = \"white\"> Método de Ridders"
      ]
    },
    {
      "cell_type": "code",
      "metadata": {
        "id": "4kLlUJR6sxI3",
        "colab": {
          "base_uri": "https://localhost:8080/",
          "height": 266
        },
        "outputId": "7a579801-a4ec-489f-e2fc-3347af92dec0"
      },
      "source": [
        "l_secante = []\n",
        "idx = []\n",
        "valor_real=0.5\n",
        "for i in range(1,8):\n",
        "    tol = 10**(-i)\n",
        "    idx.append(tol)\n",
        "    ti = time()\n",
        "    raiz=secante(f2, 1, 2, delta=tol)[-1] #nos quedamos con el último valor que nos da la raíz y el error\n",
        "    tfi = time()-ti\n",
        "    l_secante.append([raiz[0],abs(abs(raiz[0]-valor_real)/valor_real)*100,tfi])\n",
        "cols = [\"Raiz\",\"error %\",\"Tiempo\"]\n",
        "pd.DataFrame(l_secante, index=idx, columns=cols)"
      ],
      "execution_count": null,
      "outputs": [
        {
          "output_type": "execute_result",
          "data": {
            "text/html": [
              "<div>\n",
              "<style scoped>\n",
              "    .dataframe tbody tr th:only-of-type {\n",
              "        vertical-align: middle;\n",
              "    }\n",
              "\n",
              "    .dataframe tbody tr th {\n",
              "        vertical-align: top;\n",
              "    }\n",
              "\n",
              "    .dataframe thead th {\n",
              "        text-align: right;\n",
              "    }\n",
              "</style>\n",
              "<table border=\"1\" class=\"dataframe\">\n",
              "  <thead>\n",
              "    <tr style=\"text-align: right;\">\n",
              "      <th></th>\n",
              "      <th>Raiz</th>\n",
              "      <th>error %</th>\n",
              "      <th>Tiempo</th>\n",
              "    </tr>\n",
              "  </thead>\n",
              "  <tbody>\n",
              "    <tr>\n",
              "      <th>1.000000e-01</th>\n",
              "      <td>1.827970</td>\n",
              "      <td>265.594017</td>\n",
              "      <td>0.000026</td>\n",
              "    </tr>\n",
              "    <tr>\n",
              "      <th>1.000000e-02</th>\n",
              "      <td>1.806471</td>\n",
              "      <td>261.294180</td>\n",
              "      <td>0.000009</td>\n",
              "    </tr>\n",
              "    <tr>\n",
              "      <th>1.000000e-03</th>\n",
              "      <td>1.807379</td>\n",
              "      <td>261.475819</td>\n",
              "      <td>0.000007</td>\n",
              "    </tr>\n",
              "    <tr>\n",
              "      <th>1.000000e-04</th>\n",
              "      <td>1.807379</td>\n",
              "      <td>261.475819</td>\n",
              "      <td>0.000007</td>\n",
              "    </tr>\n",
              "    <tr>\n",
              "      <th>1.000000e-05</th>\n",
              "      <td>1.807379</td>\n",
              "      <td>261.475819</td>\n",
              "      <td>0.000006</td>\n",
              "    </tr>\n",
              "    <tr>\n",
              "      <th>1.000000e-06</th>\n",
              "      <td>1.807375</td>\n",
              "      <td>261.475076</td>\n",
              "      <td>0.000007</td>\n",
              "    </tr>\n",
              "    <tr>\n",
              "      <th>1.000000e-07</th>\n",
              "      <td>1.807375</td>\n",
              "      <td>261.475076</td>\n",
              "      <td>0.000007</td>\n",
              "    </tr>\n",
              "  </tbody>\n",
              "</table>\n",
              "</div>"
            ],
            "text/plain": [
              "                  Raiz     error %    Tiempo\n",
              "1.000000e-01  1.827970  265.594017  0.000026\n",
              "1.000000e-02  1.806471  261.294180  0.000009\n",
              "1.000000e-03  1.807379  261.475819  0.000007\n",
              "1.000000e-04  1.807379  261.475819  0.000007\n",
              "1.000000e-05  1.807379  261.475819  0.000006\n",
              "1.000000e-06  1.807375  261.475076  0.000007\n",
              "1.000000e-07  1.807375  261.475076  0.000007"
            ]
          },
          "metadata": {
            "tags": []
          },
          "execution_count": 111
        }
      ]
    },
    {
      "cell_type": "markdown",
      "metadata": {
        "id": "oVsj7lTSNAKx"
      },
      "source": [
        "Los tiempos de cómputo se siguen manteniendo en un intervalo donde no son representativos, el problema de este método fue que al momento de calcular la segunda raíz se obtuvo un error porcentual impredecibe y caótico. Por lo que esté método tiene la menor precisión hasta ahora de los 4 evaluados para la función 2."
      ]
    },
    {
      "cell_type": "markdown",
      "metadata": {
        "id": "OY8UyMm4u7ml"
      },
      "source": [
        "<font size= 4 color='black'>Método de Ridders"
      ]
    },
    {
      "cell_type": "code",
      "metadata": {
        "colab": {
          "base_uri": "https://localhost:8080/"
        },
        "id": "B1w109FziaQg",
        "outputId": "aa823ae7-b4b1-413d-9cc8-2b2085d62024"
      },
      "source": [
        "#Este es el código de Roxana y Jordi\n",
        "print(ridders(f2,-2,-1, tol=1e-9))\n",
        "print(ridders(f2,1, 2, tol=1e-9))"
      ],
      "execution_count": null,
      "outputs": [
        {
          "output_type": "stream",
          "text": [
            "(-1.8073753791824754, 30)\n",
            "(1.8073753791824754, 30)\n"
          ],
          "name": "stdout"
        }
      ]
    },
    {
      "cell_type": "code",
      "metadata": {
        "colab": {
          "base_uri": "https://localhost:8080/",
          "height": 266
        },
        "id": "avIMTjHriaQh",
        "outputId": "a9c444ba-5ecb-4f68-e9c3-2c1f9f3d92d7"
      },
      "source": [
        "l_ridders = []\n",
        "idx = []\n",
        "valor_real=-2\n",
        "for i in range(1,8):\n",
        "    tol = 10**(-i)\n",
        "    idx.append(tol)\n",
        "    ti = time()\n",
        "    raiz=ridders(f2,-2,-1, tol) #cada renglon de la tabla\n",
        "    tfi = time()-ti\n",
        "    error=abs(abs(valor_real-raiz[0])/valor_real)*100\n",
        "    l_ridders.append([raiz[0],raiz[1],error, tfi])\n",
        "cols = [\"Raiz\",\"Pasos\",\"error %\",\"Tiempo\"]\n",
        "pd.DataFrame(l_ridders, index=idx, columns=cols)"
      ],
      "execution_count": null,
      "outputs": [
        {
          "output_type": "execute_result",
          "data": {
            "text/html": [
              "<div>\n",
              "<style scoped>\n",
              "    .dataframe tbody tr th:only-of-type {\n",
              "        vertical-align: middle;\n",
              "    }\n",
              "\n",
              "    .dataframe tbody tr th {\n",
              "        vertical-align: top;\n",
              "    }\n",
              "\n",
              "    .dataframe thead th {\n",
              "        text-align: right;\n",
              "    }\n",
              "</style>\n",
              "<table border=\"1\" class=\"dataframe\">\n",
              "  <thead>\n",
              "    <tr style=\"text-align: right;\">\n",
              "      <th></th>\n",
              "      <th>Raiz</th>\n",
              "      <th>Pasos</th>\n",
              "      <th>error %</th>\n",
              "      <th>Tiempo</th>\n",
              "    </tr>\n",
              "  </thead>\n",
              "  <tbody>\n",
              "    <tr>\n",
              "      <th>1.000000e-01</th>\n",
              "      <td>-1.807375</td>\n",
              "      <td>3</td>\n",
              "      <td>9.631230</td>\n",
              "      <td>0.000028</td>\n",
              "    </tr>\n",
              "    <tr>\n",
              "      <th>1.000000e-02</th>\n",
              "      <td>-1.807375</td>\n",
              "      <td>6</td>\n",
              "      <td>9.631231</td>\n",
              "      <td>0.000015</td>\n",
              "    </tr>\n",
              "    <tr>\n",
              "      <th>1.000000e-03</th>\n",
              "      <td>-1.807375</td>\n",
              "      <td>10</td>\n",
              "      <td>9.631231</td>\n",
              "      <td>0.000023</td>\n",
              "    </tr>\n",
              "    <tr>\n",
              "      <th>1.000000e-04</th>\n",
              "      <td>-1.807375</td>\n",
              "      <td>13</td>\n",
              "      <td>9.631231</td>\n",
              "      <td>0.000030</td>\n",
              "    </tr>\n",
              "    <tr>\n",
              "      <th>1.000000e-05</th>\n",
              "      <td>-1.807375</td>\n",
              "      <td>16</td>\n",
              "      <td>9.631231</td>\n",
              "      <td>0.000032</td>\n",
              "    </tr>\n",
              "    <tr>\n",
              "      <th>1.000000e-06</th>\n",
              "      <td>-1.807375</td>\n",
              "      <td>20</td>\n",
              "      <td>9.631231</td>\n",
              "      <td>0.000040</td>\n",
              "    </tr>\n",
              "    <tr>\n",
              "      <th>1.000000e-07</th>\n",
              "      <td>-1.807375</td>\n",
              "      <td>23</td>\n",
              "      <td>9.631231</td>\n",
              "      <td>0.000046</td>\n",
              "    </tr>\n",
              "  </tbody>\n",
              "</table>\n",
              "</div>"
            ],
            "text/plain": [
              "                  Raiz  Pasos   error %    Tiempo\n",
              "1.000000e-01 -1.807375      3  9.631230  0.000028\n",
              "1.000000e-02 -1.807375      6  9.631231  0.000015\n",
              "1.000000e-03 -1.807375     10  9.631231  0.000023\n",
              "1.000000e-04 -1.807375     13  9.631231  0.000030\n",
              "1.000000e-05 -1.807375     16  9.631231  0.000032\n",
              "1.000000e-06 -1.807375     20  9.631231  0.000040\n",
              "1.000000e-07 -1.807375     23  9.631231  0.000046"
            ]
          },
          "metadata": {
            "tags": []
          },
          "execution_count": 107
        }
      ]
    },
    {
      "cell_type": "code",
      "metadata": {
        "colab": {
          "base_uri": "https://localhost:8080/",
          "height": 266
        },
        "id": "DUwp415BitFD",
        "outputId": "5367f9b9-75d6-42ad-bdd5-91413a3e6aae"
      },
      "source": [
        "l_ridders = []\n",
        "idx = []\n",
        "valor_real=2\n",
        "for i in range(1,8):\n",
        "    tol = 10**(-i)\n",
        "    idx.append(tol)\n",
        "    ti = time()\n",
        "    raiz=ridders(f2,1,2, tol) #cada renglon de la tabla\n",
        "    tfi = time()-ti\n",
        "    error=abs(abs(valor_real-raiz[0])/valor_real)*100\n",
        "    l_ridders.append([raiz[0],raiz[1],error, tfi])\n",
        "cols = [\"Raiz\",\"Pasos\",\"error %\",\"Tiempo\"]\n",
        "pd.DataFrame(l_ridders, index=idx, columns=cols)"
      ],
      "execution_count": null,
      "outputs": [
        {
          "output_type": "execute_result",
          "data": {
            "text/html": [
              "<div>\n",
              "<style scoped>\n",
              "    .dataframe tbody tr th:only-of-type {\n",
              "        vertical-align: middle;\n",
              "    }\n",
              "\n",
              "    .dataframe tbody tr th {\n",
              "        vertical-align: top;\n",
              "    }\n",
              "\n",
              "    .dataframe thead th {\n",
              "        text-align: right;\n",
              "    }\n",
              "</style>\n",
              "<table border=\"1\" class=\"dataframe\">\n",
              "  <thead>\n",
              "    <tr style=\"text-align: right;\">\n",
              "      <th></th>\n",
              "      <th>Raiz</th>\n",
              "      <th>Pasos</th>\n",
              "      <th>error %</th>\n",
              "      <th>Tiempo</th>\n",
              "    </tr>\n",
              "  </thead>\n",
              "  <tbody>\n",
              "    <tr>\n",
              "      <th>1.000000e-01</th>\n",
              "      <td>1.807375</td>\n",
              "      <td>3</td>\n",
              "      <td>9.631230</td>\n",
              "      <td>0.000019</td>\n",
              "    </tr>\n",
              "    <tr>\n",
              "      <th>1.000000e-02</th>\n",
              "      <td>1.807375</td>\n",
              "      <td>6</td>\n",
              "      <td>9.631231</td>\n",
              "      <td>0.000009</td>\n",
              "    </tr>\n",
              "    <tr>\n",
              "      <th>1.000000e-03</th>\n",
              "      <td>1.807375</td>\n",
              "      <td>10</td>\n",
              "      <td>9.631231</td>\n",
              "      <td>0.000013</td>\n",
              "    </tr>\n",
              "    <tr>\n",
              "      <th>1.000000e-04</th>\n",
              "      <td>1.807375</td>\n",
              "      <td>13</td>\n",
              "      <td>9.631231</td>\n",
              "      <td>0.000015</td>\n",
              "    </tr>\n",
              "    <tr>\n",
              "      <th>1.000000e-05</th>\n",
              "      <td>1.807375</td>\n",
              "      <td>16</td>\n",
              "      <td>9.631231</td>\n",
              "      <td>0.000018</td>\n",
              "    </tr>\n",
              "    <tr>\n",
              "      <th>1.000000e-06</th>\n",
              "      <td>1.807375</td>\n",
              "      <td>20</td>\n",
              "      <td>9.631231</td>\n",
              "      <td>0.000022</td>\n",
              "    </tr>\n",
              "    <tr>\n",
              "      <th>1.000000e-07</th>\n",
              "      <td>1.807375</td>\n",
              "      <td>23</td>\n",
              "      <td>9.631231</td>\n",
              "      <td>0.000026</td>\n",
              "    </tr>\n",
              "  </tbody>\n",
              "</table>\n",
              "</div>"
            ],
            "text/plain": [
              "                  Raiz  Pasos   error %    Tiempo\n",
              "1.000000e-01  1.807375      3  9.631230  0.000019\n",
              "1.000000e-02  1.807375      6  9.631231  0.000009\n",
              "1.000000e-03  1.807375     10  9.631231  0.000013\n",
              "1.000000e-04  1.807375     13  9.631231  0.000015\n",
              "1.000000e-05  1.807375     16  9.631231  0.000018\n",
              "1.000000e-06  1.807375     20  9.631231  0.000022\n",
              "1.000000e-07  1.807375     23  9.631231  0.000026"
            ]
          },
          "metadata": {
            "tags": []
          },
          "execution_count": 108
        }
      ]
    },
    {
      "cell_type": "markdown",
      "metadata": {
        "id": "r74sWlc2NnV5"
      },
      "source": [
        "De la misma manera que en los métodos de la bisección , de la secante y de Newton obtuvimos un error porcentual de menos del 10% y con tiempos de carga similares a los ya mencionados, entonces podemos aseverar que en general tres de los cuatro métodos tuvieron resultados casi idénticos, pero el que tuvo menores tiempos de carga fue el *método de Ridders y por esa pequeña diferencia lo consideramos como el más apropiado* para trabajar con funciones trigonométricas a las que se les reste un polinomio cúbico."
      ]
    },
    {
      "cell_type": "markdown",
      "metadata": {
        "id": "JPQOvlMisxI3"
      },
      "source": [
        "<font size=4 color='blue'> 3. Ahora se trabaja con la función $f(x)=(x-2)^2+(1+x^2)^{-1}$"
      ]
    },
    {
      "cell_type": "code",
      "metadata": {
        "id": "oafbrhwJsxI3",
        "outputId": "e16b56b5-f7a6-4553-9661-fdea965a3ab2"
      },
      "source": [
        "a_3 = np.arange(0.01,10,0.05) #en 0 converge a infinito, se evita este punto\n",
        "def f_3(x): #se llamará f_i de aquí en adelante, con i el número de problema\n",
        "    return (x-2)**2-np.log(x)\n",
        "\n",
        "plt.plot(a_3,f_3(a_3))\n",
        "plt.grid(True)"
      ],
      "execution_count": null,
      "outputs": [
        {
          "output_type": "display_data",
          "data": {
            "image/png": "[encoded data removed]",
            "text/plain": [
              "<Figure size 432x288 with 1 Axes>"
            ]
          },
          "metadata": {
            "tags": [],
            "needs_background": "light"
          }
        }
      ]
    },
    {
      "cell_type": "markdown",
      "metadata": {
        "id": "2YyuH05779ub"
      },
      "source": [
        "<font size=4 color = 'blue'> Se acerca más al rango donde están las raíces."
      ]
    },
    {
      "cell_type": "code",
      "metadata": {
        "id": "7eGq9cYVsxI3",
        "outputId": "8827a46c-3fc0-4e6e-97e3-ff2240462db7"
      },
      "source": [
        "b_3 = np.arange(0.5,4,0.05) #se amplifica la parte de las raíces\n",
        "plt.plot(b_3,f_3(b_3))\n",
        "plt.grid(True)"
      ],
      "execution_count": null,
      "outputs": [
        {
          "output_type": "display_data",
          "data": {
            "image/png": "[encoded data removed]",
            "text/plain": [
              "<Figure size 432x288 with 1 Axes>"
            ]
          },
          "metadata": {
            "tags": [],
            "needs_background": "light"
          }
        }
      ]
    },
    {
      "cell_type": "markdown",
      "metadata": {
        "id": "yDPNirinsxI3"
      },
      "source": [
        "<font size = 4 color = 'blue'> Se comienza con el método incremental. Las raíces con 20 posiciones calculado con la función NSolve de Mathematica son $x=1.4123911720238845161$ y $x=3.0571035499947380778$"
      ]
    },
    {
      "cell_type": "code",
      "metadata": {
        "id": "42vlINUKsxI3",
        "outputId": "18cb4b3f-7c3c-4f80-aa49-dc07e378ba99"
      },
      "source": [
        "print(incremental(f3,1.2,1.5,1e-7)) #la primer raíz está entre 1.2 y 1.5\n",
        "print(incremental(f3,3,3.2,1e-7)) #la segunda está entre 3 y 3.2 a vista"
      ],
      "execution_count": null,
      "outputs": [
        {
          "output_type": "stream",
          "text": [
            "[1.4123912001240082, 2123911.0]\n",
            "[3.0571035999065455, 571035.0]\n"
          ],
          "name": "stdout"
        }
      ]
    },
    {
      "cell_type": "code",
      "metadata": {
        "id": "LqQvke0usxI3",
        "colab": {
          "base_uri": "https://localhost:8080/",
          "height": 266
        },
        "outputId": "6bd7702e-e99f-4e9f-ea11-c1bff6d2f72a"
      },
      "source": [
        "lista_incremental = []\n",
        "idx = []\n",
        "valor_real=1.4123911720238845161\n",
        "for i in range(1,8):\n",
        "    tol = 10**(-i)\n",
        "    idx.append(tol)\n",
        "    ti = time()\n",
        "    raiz=incremental(f3,1.2,1.5,tol) #cada renglon de la tabla\n",
        "    tfi = time()-ti\n",
        "    error=(abs(valor_real-raiz[0])/valor_real)*100\n",
        "    lista_incremental.append([raiz[0],raiz[1],error,tfi])\n",
        "cols = [\"Raiz\",\"Pasos\",\"error %\",\"Tiempo\"]\n",
        "pd.DataFrame(lista_incremental, index=idx, columns=cols)"
      ],
      "execution_count": null,
      "outputs": [
        {
          "output_type": "execute_result",
          "data": {
            "text/html": [
              "<div>\n",
              "<style scoped>\n",
              "    .dataframe tbody tr th:only-of-type {\n",
              "        vertical-align: middle;\n",
              "    }\n",
              "\n",
              "    .dataframe tbody tr th {\n",
              "        vertical-align: top;\n",
              "    }\n",
              "\n",
              "    .dataframe thead th {\n",
              "        text-align: right;\n",
              "    }\n",
              "</style>\n",
              "<table border=\"1\" class=\"dataframe\">\n",
              "  <thead>\n",
              "    <tr style=\"text-align: right;\">\n",
              "      <th></th>\n",
              "      <th>Raiz</th>\n",
              "      <th>Pasos</th>\n",
              "      <th>error %</th>\n",
              "      <th>Tiempo</th>\n",
              "    </tr>\n",
              "  </thead>\n",
              "  <tbody>\n",
              "    <tr>\n",
              "      <th>1.000000e-01</th>\n",
              "      <td>1.500000</td>\n",
              "      <td>2.0</td>\n",
              "      <td>6.202873</td>\n",
              "      <td>0.000012</td>\n",
              "    </tr>\n",
              "    <tr>\n",
              "      <th>1.000000e-02</th>\n",
              "      <td>1.420000</td>\n",
              "      <td>21.0</td>\n",
              "      <td>0.538720</td>\n",
              "      <td>0.000012</td>\n",
              "    </tr>\n",
              "    <tr>\n",
              "      <th>1.000000e-03</th>\n",
              "      <td>1.413000</td>\n",
              "      <td>212.0</td>\n",
              "      <td>0.043106</td>\n",
              "      <td>0.000092</td>\n",
              "    </tr>\n",
              "    <tr>\n",
              "      <th>1.000000e-04</th>\n",
              "      <td>1.412400</td>\n",
              "      <td>2123.0</td>\n",
              "      <td>0.000625</td>\n",
              "      <td>0.000781</td>\n",
              "    </tr>\n",
              "    <tr>\n",
              "      <th>1.000000e-05</th>\n",
              "      <td>1.412400</td>\n",
              "      <td>21239.0</td>\n",
              "      <td>0.000625</td>\n",
              "      <td>0.007677</td>\n",
              "    </tr>\n",
              "    <tr>\n",
              "      <th>1.000000e-06</th>\n",
              "      <td>1.412392</td>\n",
              "      <td>212391.0</td>\n",
              "      <td>0.000059</td>\n",
              "      <td>0.089911</td>\n",
              "    </tr>\n",
              "    <tr>\n",
              "      <th>1.000000e-07</th>\n",
              "      <td>1.412391</td>\n",
              "      <td>2123911.0</td>\n",
              "      <td>0.000002</td>\n",
              "      <td>0.768981</td>\n",
              "    </tr>\n",
              "  </tbody>\n",
              "</table>\n",
              "</div>"
            ],
            "text/plain": [
              "                  Raiz      Pasos   error %    Tiempo\n",
              "1.000000e-01  1.500000        2.0  6.202873  0.000012\n",
              "1.000000e-02  1.420000       21.0  0.538720  0.000012\n",
              "1.000000e-03  1.413000      212.0  0.043106  0.000092\n",
              "1.000000e-04  1.412400     2123.0  0.000625  0.000781\n",
              "1.000000e-05  1.412400    21239.0  0.000625  0.007677\n",
              "1.000000e-06  1.412392   212391.0  0.000059  0.089911\n",
              "1.000000e-07  1.412391  2123911.0  0.000002  0.768981"
            ]
          },
          "metadata": {
            "tags": []
          },
          "execution_count": 49
        }
      ]
    },
    {
      "cell_type": "code",
      "metadata": {
        "id": "vP-9pvM9sxI3",
        "colab": {
          "base_uri": "https://localhost:8080/",
          "height": 266
        },
        "outputId": "de54f629-f658-453a-e98b-64af8fde54ef"
      },
      "source": [
        "lista_incremental = []\n",
        "idx = []\n",
        "valor_real=3.0571035499947380778\n",
        "for i in range(1,8):\n",
        "    tol = 10**(-i)\n",
        "    idx.append(tol)\n",
        "    ti = time()\n",
        "    raiz=incremental(f3,3,3.2,tol) #cada renglon de la tabla\n",
        "    tfi = time() - ti\n",
        "    error=(abs(valor_real-raiz[0])/valor_real)*100\n",
        "    lista_incremental.append([raiz[0],raiz[1],error, tfi])\n",
        "cols = [\"Raiz\",\"Pasos\",\"error %\",\"Tiempo\"]\n",
        "pd.DataFrame(lista_incremental, index=idx, columns=cols)"
      ],
      "execution_count": null,
      "outputs": [
        {
          "output_type": "execute_result",
          "data": {
            "text/html": [
              "<div>\n",
              "<style scoped>\n",
              "    .dataframe tbody tr th:only-of-type {\n",
              "        vertical-align: middle;\n",
              "    }\n",
              "\n",
              "    .dataframe tbody tr th {\n",
              "        vertical-align: top;\n",
              "    }\n",
              "\n",
              "    .dataframe thead th {\n",
              "        text-align: right;\n",
              "    }\n",
              "</style>\n",
              "<table border=\"1\" class=\"dataframe\">\n",
              "  <thead>\n",
              "    <tr style=\"text-align: right;\">\n",
              "      <th></th>\n",
              "      <th>Raiz</th>\n",
              "      <th>Pasos</th>\n",
              "      <th>error %</th>\n",
              "      <th>Tiempo</th>\n",
              "    </tr>\n",
              "  </thead>\n",
              "  <tbody>\n",
              "    <tr>\n",
              "      <th>1.000000e-01</th>\n",
              "      <td>3.100000</td>\n",
              "      <td>0.0</td>\n",
              "      <td>1.403173</td>\n",
              "      <td>0.000011</td>\n",
              "    </tr>\n",
              "    <tr>\n",
              "      <th>1.000000e-02</th>\n",
              "      <td>3.060000</td>\n",
              "      <td>5.0</td>\n",
              "      <td>0.094745</td>\n",
              "      <td>0.000013</td>\n",
              "    </tr>\n",
              "    <tr>\n",
              "      <th>1.000000e-03</th>\n",
              "      <td>3.058000</td>\n",
              "      <td>57.0</td>\n",
              "      <td>0.029324</td>\n",
              "      <td>0.000028</td>\n",
              "    </tr>\n",
              "    <tr>\n",
              "      <th>1.000000e-04</th>\n",
              "      <td>3.057200</td>\n",
              "      <td>571.0</td>\n",
              "      <td>0.003155</td>\n",
              "      <td>0.000417</td>\n",
              "    </tr>\n",
              "    <tr>\n",
              "      <th>1.000000e-05</th>\n",
              "      <td>3.057110</td>\n",
              "      <td>5710.0</td>\n",
              "      <td>0.000211</td>\n",
              "      <td>0.002741</td>\n",
              "    </tr>\n",
              "    <tr>\n",
              "      <th>1.000000e-06</th>\n",
              "      <td>3.057104</td>\n",
              "      <td>57103.0</td>\n",
              "      <td>0.000015</td>\n",
              "      <td>0.022837</td>\n",
              "    </tr>\n",
              "    <tr>\n",
              "      <th>1.000000e-07</th>\n",
              "      <td>3.057104</td>\n",
              "      <td>571035.0</td>\n",
              "      <td>0.000002</td>\n",
              "      <td>0.211604</td>\n",
              "    </tr>\n",
              "  </tbody>\n",
              "</table>\n",
              "</div>"
            ],
            "text/plain": [
              "                  Raiz     Pasos   error %    Tiempo\n",
              "1.000000e-01  3.100000       0.0  1.403173  0.000011\n",
              "1.000000e-02  3.060000       5.0  0.094745  0.000013\n",
              "1.000000e-03  3.058000      57.0  0.029324  0.000028\n",
              "1.000000e-04  3.057200     571.0  0.003155  0.000417\n",
              "1.000000e-05  3.057110    5710.0  0.000211  0.002741\n",
              "1.000000e-06  3.057104   57103.0  0.000015  0.022837\n",
              "1.000000e-07  3.057104  571035.0  0.000002  0.211604"
            ]
          },
          "metadata": {
            "tags": []
          },
          "execution_count": 51
        }
      ]
    },
    {
      "cell_type": "markdown",
      "metadata": {
        "id": "okuonKgjsxI3"
      },
      "source": [
        "<font size = 4 color='blue'> El error para ambas raíces es de 2e-6. Sigue el método de disección."
      ]
    },
    {
      "cell_type": "code",
      "metadata": {
        "id": "EpSFnuO3sxI3",
        "outputId": "77c4601c-5869-454b-80d4-636928f998c6"
      },
      "source": [
        "print(biseccion(f_3,1.2,1.5,1e-4))\n",
        "print(biseccion(f_3,3,3.2,1e-4))"
      ],
      "execution_count": null,
      "outputs": [
        {
          "output_type": "stream",
          "text": [
            "[1.4123291015625, 12]\n",
            "[3.0571289062499996, 11]\n"
          ],
          "name": "stdout"
        }
      ]
    },
    {
      "cell_type": "code",
      "metadata": {
        "id": "uR3cg6ZYsxI3",
        "colab": {
          "base_uri": "https://localhost:8080/",
          "height": 266
        },
        "outputId": "729c28de-8b5d-4fae-881a-58a235e9201f"
      },
      "source": [
        "l_biseccion = []\n",
        "idx = []\n",
        "valor_real=1.4123911720238845161\n",
        "for i in range(1,8):\n",
        "    tol = 10**(-i)\n",
        "    idx.append(tol)\n",
        "    ti = time()\n",
        "    raiz=biseccion(f3,1.2,1.5,tol) #cada renglon de la tabla\n",
        "    tfi = time()-ti\n",
        "    error=abs(abs(valor_real-raiz[0])/valor_real)*100\n",
        "    l_biseccion.append([raiz[0],raiz[1],error,tfi])\n",
        "cols = [\"Raiz\",\"Pasos\",\"error %\",\"Tiempo\"]\n",
        "pd.DataFrame(l_biseccion, index=idx, columns=cols)"
      ],
      "execution_count": null,
      "outputs": [
        {
          "output_type": "execute_result",
          "data": {
            "text/html": [
              "<div>\n",
              "<style scoped>\n",
              "    .dataframe tbody tr th:only-of-type {\n",
              "        vertical-align: middle;\n",
              "    }\n",
              "\n",
              "    .dataframe tbody tr th {\n",
              "        vertical-align: top;\n",
              "    }\n",
              "\n",
              "    .dataframe thead th {\n",
              "        text-align: right;\n",
              "    }\n",
              "</style>\n",
              "<table border=\"1\" class=\"dataframe\">\n",
              "  <thead>\n",
              "    <tr style=\"text-align: right;\">\n",
              "      <th></th>\n",
              "      <th>Raiz</th>\n",
              "      <th>Pasos</th>\n",
              "      <th>error %</th>\n",
              "      <th>Tiempo</th>\n",
              "    </tr>\n",
              "  </thead>\n",
              "  <tbody>\n",
              "    <tr>\n",
              "      <th>1.000000e-01</th>\n",
              "      <td>1.425000</td>\n",
              "      <td>2</td>\n",
              "      <td>0.892729</td>\n",
              "      <td>0.000044</td>\n",
              "    </tr>\n",
              "    <tr>\n",
              "      <th>1.000000e-02</th>\n",
              "      <td>1.415625</td>\n",
              "      <td>5</td>\n",
              "      <td>0.228961</td>\n",
              "      <td>0.000008</td>\n",
              "    </tr>\n",
              "    <tr>\n",
              "      <th>1.000000e-03</th>\n",
              "      <td>1.412695</td>\n",
              "      <td>9</td>\n",
              "      <td>0.021534</td>\n",
              "      <td>0.000012</td>\n",
              "    </tr>\n",
              "    <tr>\n",
              "      <th>1.000000e-04</th>\n",
              "      <td>1.412329</td>\n",
              "      <td>12</td>\n",
              "      <td>0.004395</td>\n",
              "      <td>0.000009</td>\n",
              "    </tr>\n",
              "    <tr>\n",
              "      <th>1.000000e-05</th>\n",
              "      <td>1.412393</td>\n",
              "      <td>15</td>\n",
              "      <td>0.000143</td>\n",
              "      <td>0.000011</td>\n",
              "    </tr>\n",
              "    <tr>\n",
              "      <th>1.000000e-06</th>\n",
              "      <td>1.412391</td>\n",
              "      <td>19</td>\n",
              "      <td>0.000021</td>\n",
              "      <td>0.000013</td>\n",
              "    </tr>\n",
              "    <tr>\n",
              "      <th>1.000000e-07</th>\n",
              "      <td>1.412391</td>\n",
              "      <td>22</td>\n",
              "      <td>0.000004</td>\n",
              "      <td>0.000015</td>\n",
              "    </tr>\n",
              "  </tbody>\n",
              "</table>\n",
              "</div>"
            ],
            "text/plain": [
              "                  Raiz  Pasos   error %    Tiempo\n",
              "1.000000e-01  1.425000      2  0.892729  0.000044\n",
              "1.000000e-02  1.415625      5  0.228961  0.000008\n",
              "1.000000e-03  1.412695      9  0.021534  0.000012\n",
              "1.000000e-04  1.412329     12  0.004395  0.000009\n",
              "1.000000e-05  1.412393     15  0.000143  0.000011\n",
              "1.000000e-06  1.412391     19  0.000021  0.000013\n",
              "1.000000e-07  1.412391     22  0.000004  0.000015"
            ]
          },
          "metadata": {
            "tags": []
          },
          "execution_count": 53
        }
      ]
    },
    {
      "cell_type": "code",
      "metadata": {
        "id": "aERQNATDsxI4",
        "colab": {
          "base_uri": "https://localhost:8080/",
          "height": 266
        },
        "outputId": "a7e34991-fa13-4386-da7c-a15fa2c5f5e4"
      },
      "source": [
        "l_biseccion = []\n",
        "idx = []\n",
        "valor_real=3.0571035499947380778\n",
        "for i in range(1,8):\n",
        "    tol = 10**(-i)\n",
        "    idx.append(tol)\n",
        "    ti = time()\n",
        "    raiz=biseccion(f3,3,3.2,tol) #cada renglon de la tabla\n",
        "    tfi = time()-tfi\n",
        "    error=abs(abs(valor_real-raiz[0])/valor_real)*100\n",
        "    l_biseccion.append([raiz[0],raiz[1],error,tfi])\n",
        "cols = [\"Raiz\",\"Pasos\",\"error %\",\"Tiempo\"]\n",
        "pd.DataFrame(l_biseccion, index=idx, columns=cols)"
      ],
      "execution_count": null,
      "outputs": [
        {
          "output_type": "execute_result",
          "data": {
            "text/html": [
              "<div>\n",
              "<style scoped>\n",
              "    .dataframe tbody tr th:only-of-type {\n",
              "        vertical-align: middle;\n",
              "    }\n",
              "\n",
              "    .dataframe tbody tr th {\n",
              "        vertical-align: top;\n",
              "    }\n",
              "\n",
              "    .dataframe thead th {\n",
              "        text-align: right;\n",
              "    }\n",
              "</style>\n",
              "<table border=\"1\" class=\"dataframe\">\n",
              "  <thead>\n",
              "    <tr style=\"text-align: right;\">\n",
              "      <th></th>\n",
              "      <th>Raiz</th>\n",
              "      <th>Pasos</th>\n",
              "      <th>error %</th>\n",
              "      <th>Tiempo</th>\n",
              "    </tr>\n",
              "  </thead>\n",
              "  <tbody>\n",
              "    <tr>\n",
              "      <th>1.000000e-01</th>\n",
              "      <td>3.050000</td>\n",
              "      <td>2</td>\n",
              "      <td>0.232362</td>\n",
              "      <td>1.607122e+09</td>\n",
              "    </tr>\n",
              "    <tr>\n",
              "      <th>1.000000e-02</th>\n",
              "      <td>3.056250</td>\n",
              "      <td>5</td>\n",
              "      <td>0.027920</td>\n",
              "      <td>2.956390e-05</td>\n",
              "    </tr>\n",
              "    <tr>\n",
              "      <th>1.000000e-03</th>\n",
              "      <td>3.057031</td>\n",
              "      <td>8</td>\n",
              "      <td>0.002365</td>\n",
              "      <td>1.607122e+09</td>\n",
              "    </tr>\n",
              "    <tr>\n",
              "      <th>1.000000e-04</th>\n",
              "      <td>3.057129</td>\n",
              "      <td>11</td>\n",
              "      <td>0.000829</td>\n",
              "      <td>4.506111e-05</td>\n",
              "    </tr>\n",
              "    <tr>\n",
              "      <th>1.000000e-05</th>\n",
              "      <td>3.057098</td>\n",
              "      <td>15</td>\n",
              "      <td>0.000169</td>\n",
              "      <td>1.607122e+09</td>\n",
              "    </tr>\n",
              "    <tr>\n",
              "      <th>1.000000e-06</th>\n",
              "      <td>3.057104</td>\n",
              "      <td>18</td>\n",
              "      <td>0.000006</td>\n",
              "      <td>6.890297e-05</td>\n",
              "    </tr>\n",
              "    <tr>\n",
              "      <th>1.000000e-07</th>\n",
              "      <td>3.057104</td>\n",
              "      <td>21</td>\n",
              "      <td>0.000003</td>\n",
              "      <td>1.607122e+09</td>\n",
              "    </tr>\n",
              "  </tbody>\n",
              "</table>\n",
              "</div>"
            ],
            "text/plain": [
              "                  Raiz  Pasos   error %        Tiempo\n",
              "1.000000e-01  3.050000      2  0.232362  1.607122e+09\n",
              "1.000000e-02  3.056250      5  0.027920  2.956390e-05\n",
              "1.000000e-03  3.057031      8  0.002365  1.607122e+09\n",
              "1.000000e-04  3.057129     11  0.000829  4.506111e-05\n",
              "1.000000e-05  3.057098     15  0.000169  1.607122e+09\n",
              "1.000000e-06  3.057104     18  0.000006  6.890297e-05\n",
              "1.000000e-07  3.057104     21  0.000003  1.607122e+09"
            ]
          },
          "metadata": {
            "tags": []
          },
          "execution_count": 55
        }
      ]
    },
    {
      "cell_type": "markdown",
      "metadata": {
        "id": "HqtocAHjsxI4"
      },
      "source": [
        "<font size = 4 color = 'blue'> En este caso los errores porcentuales fueron de 4e-6 y 3e-6, un poco peor que el anterior método. Se sigue con el de Newton-Rapson"
      ]
    },
    {
      "cell_type": "code",
      "metadata": {
        "id": "EH8Bua6HsxI4",
        "outputId": "808fa0c2-5fd6-47b9-d956-c2a362ab4d0c"
      },
      "source": [
        "df = lambda x: 2*(x-2)-1/x #se calcula a mano la derivada\n",
        "\n",
        "print(newton(f_3,df,1.5,1e-9)) #la primer raíz por la imagen está cerca de 1.5\n",
        "print(newton(f_3,df,3,1e-9)) #y la segunda cerca de 3"
      ],
      "execution_count": null,
      "outputs": [
        {
          "output_type": "stream",
          "text": [
            "[1.4123911720238844, 4]\n",
            "[3.0571035499947383, 4]\n"
          ],
          "name": "stdout"
        }
      ]
    },
    {
      "cell_type": "code",
      "metadata": {
        "id": "0n4tfHXdsxI4",
        "colab": {
          "base_uri": "https://localhost:8080/",
          "height": 266
        },
        "outputId": "5c356f97-6bff-458d-fa5f-f6db986986db"
      },
      "source": [
        "l_Newton = []\n",
        "idx = []\n",
        "valor_real= 1.4123911720238845161\n",
        "for i in range(1,8):\n",
        "    tol = 10**(-i)\n",
        "    idx.append(tol)\n",
        "    ti = time()\n",
        "    raiz=newton(f3,df3,1.5,epsilon= tol) #cada renglon de la tabla\n",
        "    tfi = time()-ti\n",
        "    error=abs(abs(valor_real-raiz[0])/valor_real)*100\n",
        "    l_Newton.append([raiz[0],raiz[1],error,tfi])\n",
        "cols = [\"Raiz\",\"Pasos\",\"error %\",\"Tiempo\"]\n",
        "pd.DataFrame(l_Newton, index=idx, columns=cols)"
      ],
      "execution_count": null,
      "outputs": [
        {
          "output_type": "execute_result",
          "data": {
            "text/html": [
              "<div>\n",
              "<style scoped>\n",
              "    .dataframe tbody tr th:only-of-type {\n",
              "        vertical-align: middle;\n",
              "    }\n",
              "\n",
              "    .dataframe tbody tr th {\n",
              "        vertical-align: top;\n",
              "    }\n",
              "\n",
              "    .dataframe thead th {\n",
              "        text-align: right;\n",
              "    }\n",
              "</style>\n",
              "<table border=\"1\" class=\"dataframe\">\n",
              "  <thead>\n",
              "    <tr style=\"text-align: right;\">\n",
              "      <th></th>\n",
              "      <th>Raiz</th>\n",
              "      <th>Pasos</th>\n",
              "      <th>error %</th>\n",
              "      <th>Tiempo</th>\n",
              "    </tr>\n",
              "  </thead>\n",
              "  <tbody>\n",
              "    <tr>\n",
              "      <th>1.000000e-01</th>\n",
              "      <td>1.406721</td>\n",
              "      <td>1</td>\n",
              "      <td>4.014636e-01</td>\n",
              "      <td>0.000015</td>\n",
              "    </tr>\n",
              "    <tr>\n",
              "      <th>1.000000e-02</th>\n",
              "      <td>1.412370</td>\n",
              "      <td>2</td>\n",
              "      <td>1.502047e-03</td>\n",
              "      <td>0.000004</td>\n",
              "    </tr>\n",
              "    <tr>\n",
              "      <th>1.000000e-03</th>\n",
              "      <td>1.412391</td>\n",
              "      <td>3</td>\n",
              "      <td>2.116122e-08</td>\n",
              "      <td>0.000004</td>\n",
              "    </tr>\n",
              "    <tr>\n",
              "      <th>1.000000e-04</th>\n",
              "      <td>1.412391</td>\n",
              "      <td>3</td>\n",
              "      <td>2.116122e-08</td>\n",
              "      <td>0.000004</td>\n",
              "    </tr>\n",
              "    <tr>\n",
              "      <th>1.000000e-05</th>\n",
              "      <td>1.412391</td>\n",
              "      <td>4</td>\n",
              "      <td>0.000000e+00</td>\n",
              "      <td>0.000005</td>\n",
              "    </tr>\n",
              "    <tr>\n",
              "      <th>1.000000e-06</th>\n",
              "      <td>1.412391</td>\n",
              "      <td>4</td>\n",
              "      <td>0.000000e+00</td>\n",
              "      <td>0.000005</td>\n",
              "    </tr>\n",
              "    <tr>\n",
              "      <th>1.000000e-07</th>\n",
              "      <td>1.412391</td>\n",
              "      <td>4</td>\n",
              "      <td>0.000000e+00</td>\n",
              "      <td>0.000005</td>\n",
              "    </tr>\n",
              "  </tbody>\n",
              "</table>\n",
              "</div>"
            ],
            "text/plain": [
              "                  Raiz  Pasos       error %    Tiempo\n",
              "1.000000e-01  1.406721      1  4.014636e-01  0.000015\n",
              "1.000000e-02  1.412370      2  1.502047e-03  0.000004\n",
              "1.000000e-03  1.412391      3  2.116122e-08  0.000004\n",
              "1.000000e-04  1.412391      3  2.116122e-08  0.000004\n",
              "1.000000e-05  1.412391      4  0.000000e+00  0.000005\n",
              "1.000000e-06  1.412391      4  0.000000e+00  0.000005\n",
              "1.000000e-07  1.412391      4  0.000000e+00  0.000005"
            ]
          },
          "metadata": {
            "tags": []
          },
          "execution_count": 58
        }
      ]
    },
    {
      "cell_type": "code",
      "metadata": {
        "id": "CPoMQIO7sxI4",
        "colab": {
          "base_uri": "https://localhost:8080/",
          "height": 266
        },
        "outputId": "72d44149-8665-4357-c769-d2745305f50a"
      },
      "source": [
        "l_Newton = []\n",
        "idx = []\n",
        "valor_real=3.0571035499947380778\n",
        "for i in range(1,8):\n",
        "    tol = 10**(-i)\n",
        "    idx.append(tol)\n",
        "    ti = time()\n",
        "    raiz=newton(f3,df3,3,epsilon = tol) #cada renglon de la tabla\n",
        "    tfi = time()-ti\n",
        "    error=abs(abs(valor_real-raiz[0])/valor_real)*100\n",
        "    l_Newton.append([raiz[0],raiz[1],error,tfi])\n",
        "cols = [\"Raiz\",\"Pasos\",\"error %\",\"Tiempo\"]\n",
        "pd.DataFrame(l_Newton, index=idx, columns=cols)"
      ],
      "execution_count": null,
      "outputs": [
        {
          "output_type": "execute_result",
          "data": {
            "text/html": [
              "<div>\n",
              "<style scoped>\n",
              "    .dataframe tbody tr th:only-of-type {\n",
              "        vertical-align: middle;\n",
              "    }\n",
              "\n",
              "    .dataframe tbody tr th {\n",
              "        vertical-align: top;\n",
              "    }\n",
              "\n",
              "    .dataframe thead th {\n",
              "        text-align: right;\n",
              "    }\n",
              "</style>\n",
              "<table border=\"1\" class=\"dataframe\">\n",
              "  <thead>\n",
              "    <tr style=\"text-align: right;\">\n",
              "      <th></th>\n",
              "      <th>Raiz</th>\n",
              "      <th>Pasos</th>\n",
              "      <th>error %</th>\n",
              "      <th>Tiempo</th>\n",
              "    </tr>\n",
              "  </thead>\n",
              "  <tbody>\n",
              "    <tr>\n",
              "      <th>1.000000e-01</th>\n",
              "      <td>3.059167</td>\n",
              "      <td>1</td>\n",
              "      <td>6.750910e-02</td>\n",
              "      <td>0.000012</td>\n",
              "    </tr>\n",
              "    <tr>\n",
              "      <th>1.000000e-02</th>\n",
              "      <td>3.057106</td>\n",
              "      <td>2</td>\n",
              "      <td>8.193039e-05</td>\n",
              "      <td>0.000004</td>\n",
              "    </tr>\n",
              "    <tr>\n",
              "      <th>1.000000e-03</th>\n",
              "      <td>3.057104</td>\n",
              "      <td>3</td>\n",
              "      <td>1.209764e-10</td>\n",
              "      <td>0.000003</td>\n",
              "    </tr>\n",
              "    <tr>\n",
              "      <th>1.000000e-04</th>\n",
              "      <td>3.057104</td>\n",
              "      <td>3</td>\n",
              "      <td>1.209764e-10</td>\n",
              "      <td>0.000002</td>\n",
              "    </tr>\n",
              "    <tr>\n",
              "      <th>1.000000e-05</th>\n",
              "      <td>3.057104</td>\n",
              "      <td>3</td>\n",
              "      <td>1.209764e-10</td>\n",
              "      <td>0.000002</td>\n",
              "    </tr>\n",
              "    <tr>\n",
              "      <th>1.000000e-06</th>\n",
              "      <td>3.057104</td>\n",
              "      <td>4</td>\n",
              "      <td>1.452647e-14</td>\n",
              "      <td>0.000003</td>\n",
              "    </tr>\n",
              "    <tr>\n",
              "      <th>1.000000e-07</th>\n",
              "      <td>3.057104</td>\n",
              "      <td>4</td>\n",
              "      <td>1.452647e-14</td>\n",
              "      <td>0.000003</td>\n",
              "    </tr>\n",
              "  </tbody>\n",
              "</table>\n",
              "</div>"
            ],
            "text/plain": [
              "                  Raiz  Pasos       error %    Tiempo\n",
              "1.000000e-01  3.059167      1  6.750910e-02  0.000012\n",
              "1.000000e-02  3.057106      2  8.193039e-05  0.000004\n",
              "1.000000e-03  3.057104      3  1.209764e-10  0.000003\n",
              "1.000000e-04  3.057104      3  1.209764e-10  0.000002\n",
              "1.000000e-05  3.057104      3  1.209764e-10  0.000002\n",
              "1.000000e-06  3.057104      4  1.452647e-14  0.000003\n",
              "1.000000e-07  3.057104      4  1.452647e-14  0.000003"
            ]
          },
          "metadata": {
            "tags": []
          },
          "execution_count": 59
        }
      ]
    },
    {
      "cell_type": "markdown",
      "metadata": {
        "id": "10iE7xvusxI4"
      },
      "source": [
        "<font size = 4 color = 'blue'> En este caso los errores fueron casi 0 y 1.452647e-14, errores muy pequeños. Se sigue con el método de la secante."
      ]
    },
    {
      "cell_type": "code",
      "metadata": {
        "id": "0g11pdh2sxI4",
        "outputId": "03d030e2-3ca3-41d1-e5db-a43201409ff0"
      },
      "source": [
        "print(secante(f_3,1.2,1.5,delta=1e-9))\n",
        "print(secante(f_3,3,3.2,delta=1e-9))"
      ],
      "execution_count": null,
      "outputs": [
        {
          "output_type": "stream",
          "text": [
            "[[1.2, 0.45767844320604556, nan], [1.5, -0.15546510810816438, 0.30000000000000004], [1.4239337471094946, -0.021570958281858954, -0.07606625289050539], [1.4116791268001907, 0.0013415839047646316, -0.01225462030930391], [1.4123966640002121, -1.0342654247208483e-05, 0.0007175372000214342], [1.4123911746198017, -4.888726756746564e-09, -5.489380410450551e-06], [1.412391172023875, 1.7708057242771247e-14, -2.59592658480301e-09]]\n",
            "[[3, -0.09861228866810978, nan], [3.2, 0.2768491901943195, 0.20000000000000018], [3.0525285784133622, -0.00815388087962332, -0.14747142158663795], [3.0567477062993706, -0.0006357949005666441, 0.0042191278860084225], [3.0571045125399796, 1.7201656643539565e-06, 0.0003568062406089645], [3.057103549792781, -3.6091707400487394e-10, -9.627471984074987e-07]]\n"
          ],
          "name": "stdout"
        }
      ]
    },
    {
      "cell_type": "code",
      "metadata": {
        "id": "ZnU7uVDjsxI4",
        "colab": {
          "base_uri": "https://localhost:8080/",
          "height": 266
        },
        "outputId": "d1a3d601-fb44-4067-edff-74d69026bb34"
      },
      "source": [
        "l_secante = []\n",
        "idx = []\n",
        "valor_real=1.4123911720238845161\n",
        "for i in range(1,8):\n",
        "    tol = 10**(-i)\n",
        "    idx.append(tol)\n",
        "    ti = time()\n",
        "    raiz=secante(f3, 1.2, 1.5, delta=tol)[-1] #nos quedamos con el último valor que nos da la raíz y el error\n",
        "    tfi = time()-ti\n",
        "    l_secante.append([raiz[0],abs(abs(raiz[0]-valor_real)/valor_real)*100,tfi])\n",
        "cols = [\"Raiz\",\"error %\",\"Tiempo\"]\n",
        "pd.DataFrame(l_secante, index=idx, columns=cols)"
      ],
      "execution_count": null,
      "outputs": [
        {
          "output_type": "execute_result",
          "data": {
            "text/html": [
              "<div>\n",
              "<style scoped>\n",
              "    .dataframe tbody tr th:only-of-type {\n",
              "        vertical-align: middle;\n",
              "    }\n",
              "\n",
              "    .dataframe tbody tr th {\n",
              "        vertical-align: top;\n",
              "    }\n",
              "\n",
              "    .dataframe thead th {\n",
              "        text-align: right;\n",
              "    }\n",
              "</style>\n",
              "<table border=\"1\" class=\"dataframe\">\n",
              "  <thead>\n",
              "    <tr style=\"text-align: right;\">\n",
              "      <th></th>\n",
              "      <th>Raiz</th>\n",
              "      <th>error %</th>\n",
              "      <th>Tiempo</th>\n",
              "    </tr>\n",
              "  </thead>\n",
              "  <tbody>\n",
              "    <tr>\n",
              "      <th>1.000000e-01</th>\n",
              "      <td>1.423934</td>\n",
              "      <td>8.172364e-01</td>\n",
              "      <td>0.000020</td>\n",
              "    </tr>\n",
              "    <tr>\n",
              "      <th>1.000000e-02</th>\n",
              "      <td>1.411679</td>\n",
              "      <td>5.041417e-02</td>\n",
              "      <td>0.000006</td>\n",
              "    </tr>\n",
              "    <tr>\n",
              "      <th>1.000000e-03</th>\n",
              "      <td>1.412397</td>\n",
              "      <td>3.888424e-04</td>\n",
              "      <td>0.000006</td>\n",
              "    </tr>\n",
              "    <tr>\n",
              "      <th>1.000000e-04</th>\n",
              "      <td>1.412397</td>\n",
              "      <td>3.888424e-04</td>\n",
              "      <td>0.000005</td>\n",
              "    </tr>\n",
              "    <tr>\n",
              "      <th>1.000000e-05</th>\n",
              "      <td>1.412391</td>\n",
              "      <td>1.837959e-07</td>\n",
              "      <td>0.000005</td>\n",
              "    </tr>\n",
              "    <tr>\n",
              "      <th>1.000000e-06</th>\n",
              "      <td>1.412391</td>\n",
              "      <td>1.837959e-07</td>\n",
              "      <td>0.000005</td>\n",
              "    </tr>\n",
              "    <tr>\n",
              "      <th>1.000000e-07</th>\n",
              "      <td>1.412391</td>\n",
              "      <td>1.837959e-07</td>\n",
              "      <td>0.000006</td>\n",
              "    </tr>\n",
              "  </tbody>\n",
              "</table>\n",
              "</div>"
            ],
            "text/plain": [
              "                  Raiz       error %    Tiempo\n",
              "1.000000e-01  1.423934  8.172364e-01  0.000020\n",
              "1.000000e-02  1.411679  5.041417e-02  0.000006\n",
              "1.000000e-03  1.412397  3.888424e-04  0.000006\n",
              "1.000000e-04  1.412397  3.888424e-04  0.000005\n",
              "1.000000e-05  1.412391  1.837959e-07  0.000005\n",
              "1.000000e-06  1.412391  1.837959e-07  0.000005\n",
              "1.000000e-07  1.412391  1.837959e-07  0.000006"
            ]
          },
          "metadata": {
            "tags": []
          },
          "execution_count": 60
        }
      ]
    },
    {
      "cell_type": "code",
      "metadata": {
        "id": "cIiCsxebsxI4",
        "colab": {
          "base_uri": "https://localhost:8080/",
          "height": 266
        },
        "outputId": "8e6d45d7-eaaa-46ca-e694-a4c744dfdac6"
      },
      "source": [
        "l_secante = []\n",
        "idx = []\n",
        "valor_real=3.0571035499947380778\n",
        "for i in range(1,8):\n",
        "    tol = 10**(-i)\n",
        "    idx.append(tol)\n",
        "    ti = time()\n",
        "    raiz=secante(f3, 3, 3.2, delta=tol)[-1] #nos quedamos con el último valor que nos da la raíz y el error\n",
        "    tfi = time()-ti\n",
        "    l_secante.append([raiz[0],abs(abs(raiz[0]-valor_real)/valor_real)*100,tfi])\n",
        "cols = [\"Raiz\",\"error %\",\"Tiempo\"]\n",
        "pd.DataFrame(l_secante, index=idx, columns=cols)"
      ],
      "execution_count": null,
      "outputs": [
        {
          "output_type": "execute_result",
          "data": {
            "text/html": [
              "<div>\n",
              "<style scoped>\n",
              "    .dataframe tbody tr th:only-of-type {\n",
              "        vertical-align: middle;\n",
              "    }\n",
              "\n",
              "    .dataframe tbody tr th {\n",
              "        vertical-align: top;\n",
              "    }\n",
              "\n",
              "    .dataframe thead th {\n",
              "        text-align: right;\n",
              "    }\n",
              "</style>\n",
              "<table border=\"1\" class=\"dataframe\">\n",
              "  <thead>\n",
              "    <tr style=\"text-align: right;\">\n",
              "      <th></th>\n",
              "      <th>Raiz</th>\n",
              "      <th>error %</th>\n",
              "      <th>Tiempo</th>\n",
              "    </tr>\n",
              "  </thead>\n",
              "  <tbody>\n",
              "    <tr>\n",
              "      <th>1.000000e-01</th>\n",
              "      <td>3.052529</td>\n",
              "      <td>1.496505e-01</td>\n",
              "      <td>0.000015</td>\n",
              "    </tr>\n",
              "    <tr>\n",
              "      <th>1.000000e-02</th>\n",
              "      <td>3.052529</td>\n",
              "      <td>1.496505e-01</td>\n",
              "      <td>0.000003</td>\n",
              "    </tr>\n",
              "    <tr>\n",
              "      <th>1.000000e-03</th>\n",
              "      <td>3.056748</td>\n",
              "      <td>1.163990e-02</td>\n",
              "      <td>0.000004</td>\n",
              "    </tr>\n",
              "    <tr>\n",
              "      <th>1.000000e-04</th>\n",
              "      <td>3.057105</td>\n",
              "      <td>3.148553e-05</td>\n",
              "      <td>0.000004</td>\n",
              "    </tr>\n",
              "    <tr>\n",
              "      <th>1.000000e-05</th>\n",
              "      <td>3.057105</td>\n",
              "      <td>3.148553e-05</td>\n",
              "      <td>0.000004</td>\n",
              "    </tr>\n",
              "    <tr>\n",
              "      <th>1.000000e-06</th>\n",
              "      <td>3.057104</td>\n",
              "      <td>6.606144e-09</td>\n",
              "      <td>0.000004</td>\n",
              "    </tr>\n",
              "    <tr>\n",
              "      <th>1.000000e-07</th>\n",
              "      <td>3.057104</td>\n",
              "      <td>6.606144e-09</td>\n",
              "      <td>0.000004</td>\n",
              "    </tr>\n",
              "  </tbody>\n",
              "</table>\n",
              "</div>"
            ],
            "text/plain": [
              "                  Raiz       error %    Tiempo\n",
              "1.000000e-01  3.052529  1.496505e-01  0.000015\n",
              "1.000000e-02  3.052529  1.496505e-01  0.000003\n",
              "1.000000e-03  3.056748  1.163990e-02  0.000004\n",
              "1.000000e-04  3.057105  3.148553e-05  0.000004\n",
              "1.000000e-05  3.057105  3.148553e-05  0.000004\n",
              "1.000000e-06  3.057104  6.606144e-09  0.000004\n",
              "1.000000e-07  3.057104  6.606144e-09  0.000004"
            ]
          },
          "metadata": {
            "tags": []
          },
          "execution_count": 61
        }
      ]
    },
    {
      "cell_type": "code",
      "metadata": {
        "id": "wjsAIa0GsxI5",
        "outputId": "3861e3b3-663e-4e64-9f20-4c8612223d00"
      },
      "source": [
        "print(ridders(f3,1.2,1.5, tol=1e-9))\n",
        "print(ridders(f3,3,3.2, tol=1e-9))"
      ],
      "execution_count": null,
      "outputs": [
        {
          "output_type": "stream",
          "text": [
            "(1.4123911720238846, 27)\n",
            "(3.0571035499947388, 27)\n"
          ],
          "name": "stdout"
        }
      ]
    },
    {
      "cell_type": "code",
      "metadata": {
        "id": "k4Zbj5jBsxI5",
        "colab": {
          "base_uri": "https://localhost:8080/",
          "height": 266
        },
        "outputId": "70a6dfd8-835f-4e4a-e76c-e7f98837da57"
      },
      "source": [
        "l_ridders = []\n",
        "idx = []\n",
        "valor_real= 1.4123911720238845161\n",
        "for i in range(1,8):\n",
        "    tol = 10**(-i)\n",
        "    idx.append(tol)\n",
        "    ti = time()\n",
        "    raiz=ridders(f3,1.2,1.5, tol) #cada renglon de la tabla\n",
        "    tfi = time()-ti\n",
        "    error=abs(abs(valor_real-raiz[0])/valor_real)*100\n",
        "    l_ridders.append([raiz[0],raiz[1],error,tfi])\n",
        "cols = [\"Raiz\",\"Pasos\",\"error %\",\"Tiempo\"]\n",
        "pd.DataFrame(l_ridders, index=idx, columns=cols)"
      ],
      "execution_count": null,
      "outputs": [
        {
          "output_type": "execute_result",
          "data": {
            "text/html": [
              "<div>\n",
              "<style scoped>\n",
              "    .dataframe tbody tr th:only-of-type {\n",
              "        vertical-align: middle;\n",
              "    }\n",
              "\n",
              "    .dataframe tbody tr th {\n",
              "        vertical-align: top;\n",
              "    }\n",
              "\n",
              "    .dataframe thead th {\n",
              "        text-align: right;\n",
              "    }\n",
              "</style>\n",
              "<table border=\"1\" class=\"dataframe\">\n",
              "  <thead>\n",
              "    <tr style=\"text-align: right;\">\n",
              "      <th></th>\n",
              "      <th>Raiz</th>\n",
              "      <th>Pasos</th>\n",
              "      <th>error %</th>\n",
              "      <th>Tiempo</th>\n",
              "    </tr>\n",
              "  </thead>\n",
              "  <tbody>\n",
              "    <tr>\n",
              "      <th>1.000000e-01</th>\n",
              "      <td>1.412556</td>\n",
              "      <td>1</td>\n",
              "      <td>1.167981e-02</td>\n",
              "      <td>0.000021</td>\n",
              "    </tr>\n",
              "    <tr>\n",
              "      <th>1.000000e-02</th>\n",
              "      <td>1.412391</td>\n",
              "      <td>4</td>\n",
              "      <td>3.144237e-14</td>\n",
              "      <td>0.000009</td>\n",
              "    </tr>\n",
              "    <tr>\n",
              "      <th>1.000000e-03</th>\n",
              "      <td>1.412391</td>\n",
              "      <td>7</td>\n",
              "      <td>0.000000e+00</td>\n",
              "      <td>0.000012</td>\n",
              "    </tr>\n",
              "    <tr>\n",
              "      <th>1.000000e-04</th>\n",
              "      <td>1.412391</td>\n",
              "      <td>11</td>\n",
              "      <td>1.572118e-14</td>\n",
              "      <td>0.000018</td>\n",
              "    </tr>\n",
              "    <tr>\n",
              "      <th>1.000000e-05</th>\n",
              "      <td>1.412391</td>\n",
              "      <td>14</td>\n",
              "      <td>1.572118e-14</td>\n",
              "      <td>0.000023</td>\n",
              "    </tr>\n",
              "    <tr>\n",
              "      <th>1.000000e-06</th>\n",
              "      <td>1.412391</td>\n",
              "      <td>17</td>\n",
              "      <td>1.572118e-14</td>\n",
              "      <td>0.000025</td>\n",
              "    </tr>\n",
              "    <tr>\n",
              "      <th>1.000000e-07</th>\n",
              "      <td>1.412391</td>\n",
              "      <td>21</td>\n",
              "      <td>1.572118e-14</td>\n",
              "      <td>0.000041</td>\n",
              "    </tr>\n",
              "  </tbody>\n",
              "</table>\n",
              "</div>"
            ],
            "text/plain": [
              "                  Raiz  Pasos       error %    Tiempo\n",
              "1.000000e-01  1.412556      1  1.167981e-02  0.000021\n",
              "1.000000e-02  1.412391      4  3.144237e-14  0.000009\n",
              "1.000000e-03  1.412391      7  0.000000e+00  0.000012\n",
              "1.000000e-04  1.412391     11  1.572118e-14  0.000018\n",
              "1.000000e-05  1.412391     14  1.572118e-14  0.000023\n",
              "1.000000e-06  1.412391     17  1.572118e-14  0.000025\n",
              "1.000000e-07  1.412391     21  1.572118e-14  0.000041"
            ]
          },
          "metadata": {
            "tags": []
          },
          "execution_count": 62
        }
      ]
    },
    {
      "cell_type": "code",
      "metadata": {
        "id": "fzraeMBLsxI5",
        "colab": {
          "base_uri": "https://localhost:8080/",
          "height": 266
        },
        "outputId": "67459974-4377-46b5-a135-cf50f1d8d60c"
      },
      "source": [
        "l_ridders = []\n",
        "idx = []\n",
        "valor_real= 3.0571035499947380778\n",
        "for i in range(1,8):\n",
        "    tol = 10**(-i)\n",
        "    idx.append(tol)\n",
        "    ti = time()\n",
        "    raiz=ridders(f3,3,3.2, tol) #cada renglon de la tabla\n",
        "    tfi = time()-ti\n",
        "    error=abs(abs(valor_real-raiz[0])/valor_real)*100\n",
        "    l_ridders.append([raiz[0],raiz[1],error,tfi])\n",
        "cols = [\"Raiz\",\"Pasos\",\"error %\",\"Tiempo\"]\n",
        "pd.DataFrame(l_ridders, index=idx, columns=cols)"
      ],
      "execution_count": null,
      "outputs": [
        {
          "output_type": "execute_result",
          "data": {
            "text/html": [
              "<div>\n",
              "<style scoped>\n",
              "    .dataframe tbody tr th:only-of-type {\n",
              "        vertical-align: middle;\n",
              "    }\n",
              "\n",
              "    .dataframe tbody tr th {\n",
              "        vertical-align: top;\n",
              "    }\n",
              "\n",
              "    .dataframe thead th {\n",
              "        text-align: right;\n",
              "    }\n",
              "</style>\n",
              "<table border=\"1\" class=\"dataframe\">\n",
              "  <thead>\n",
              "    <tr style=\"text-align: right;\">\n",
              "      <th></th>\n",
              "      <th>Raiz</th>\n",
              "      <th>Pasos</th>\n",
              "      <th>error %</th>\n",
              "      <th>Tiempo</th>\n",
              "    </tr>\n",
              "  </thead>\n",
              "  <tbody>\n",
              "    <tr>\n",
              "      <th>1.000000e-01</th>\n",
              "      <td>3.057044</td>\n",
              "      <td>1</td>\n",
              "      <td>1.963956e-03</td>\n",
              "      <td>0.000016</td>\n",
              "    </tr>\n",
              "    <tr>\n",
              "      <th>1.000000e-02</th>\n",
              "      <td>3.057104</td>\n",
              "      <td>4</td>\n",
              "      <td>0.000000e+00</td>\n",
              "      <td>0.000008</td>\n",
              "    </tr>\n",
              "    <tr>\n",
              "      <th>1.000000e-03</th>\n",
              "      <td>3.057104</td>\n",
              "      <td>7</td>\n",
              "      <td>2.905294e-14</td>\n",
              "      <td>0.000009</td>\n",
              "    </tr>\n",
              "    <tr>\n",
              "      <th>1.000000e-04</th>\n",
              "      <td>3.057104</td>\n",
              "      <td>10</td>\n",
              "      <td>2.905294e-14</td>\n",
              "      <td>0.000011</td>\n",
              "    </tr>\n",
              "    <tr>\n",
              "      <th>1.000000e-05</th>\n",
              "      <td>3.057104</td>\n",
              "      <td>14</td>\n",
              "      <td>2.905294e-14</td>\n",
              "      <td>0.000015</td>\n",
              "    </tr>\n",
              "    <tr>\n",
              "      <th>1.000000e-06</th>\n",
              "      <td>3.057104</td>\n",
              "      <td>17</td>\n",
              "      <td>0.000000e+00</td>\n",
              "      <td>0.000026</td>\n",
              "    </tr>\n",
              "    <tr>\n",
              "      <th>1.000000e-07</th>\n",
              "      <td>3.057104</td>\n",
              "      <td>20</td>\n",
              "      <td>2.905294e-14</td>\n",
              "      <td>0.000020</td>\n",
              "    </tr>\n",
              "  </tbody>\n",
              "</table>\n",
              "</div>"
            ],
            "text/plain": [
              "                  Raiz  Pasos       error %    Tiempo\n",
              "1.000000e-01  3.057044      1  1.963956e-03  0.000016\n",
              "1.000000e-02  3.057104      4  0.000000e+00  0.000008\n",
              "1.000000e-03  3.057104      7  2.905294e-14  0.000009\n",
              "1.000000e-04  3.057104     10  2.905294e-14  0.000011\n",
              "1.000000e-05  3.057104     14  2.905294e-14  0.000015\n",
              "1.000000e-06  3.057104     17  0.000000e+00  0.000026\n",
              "1.000000e-07  3.057104     20  2.905294e-14  0.000020"
            ]
          },
          "metadata": {
            "tags": []
          },
          "execution_count": 63
        }
      ]
    },
    {
      "cell_type": "markdown",
      "metadata": {
        "id": "OP2Zn2vasxI5"
      },
      "source": [
        "<font size = 4 color = 'blue'> Los errores entonces son de 1.5727118e-14 y 2.90529e-14. Por ello los mejores métodos fueron Newton y Ridders, ambos tienen los errores porcentuales más pequeños, casi cero del órden de 1e-14, además ambos tienen tiempo de cómputo del órden de 1e-6, el cuál es un buen tiempo. El peor método por otro lado fue bisección y lo sigue de cerca incremental aunque debido al tiempo de computo enorme del incremental de 0.2 y 0.7 s, este puede determinarse cómo el peor, el máximo error del de la bisección fue de 1.5e-5. "
      ]
    },
    {
      "cell_type": "code",
      "metadata": {
        "id": "SE0reR7qsxI5"
      },
      "source": [
        ""
      ],
      "execution_count": null,
      "outputs": []
    },
    {
      "cell_type": "markdown",
      "metadata": {
        "id": "KykDRWOGcaZf"
      },
      "source": [
        "4.$f(x)=x^3-3x+2$"
      ]
    },
    {
      "cell_type": "code",
      "metadata": {
        "colab": {
          "base_uri": "https://localhost:8080/",
          "height": 337
        },
        "id": "6VsA3cOKgW-2",
        "outputId": "c6724cd0-5b5d-4e4a-f9cf-54421753112c"
      },
      "source": [
        "plot(xx,f4(xx))\n",
        "plot(xx, zeros(len(xx)), '--r')\n",
        "xlim(-3,3) \n",
        "ylim(-0.05,.05)"
      ],
      "execution_count": null,
      "outputs": [
        {
          "output_type": "execute_result",
          "data": {
            "text/plain": [
              "(-0.05, 0.05)"
            ]
          },
          "metadata": {
            "tags": []
          },
          "execution_count": 121
        },
        {
          "output_type": "display_data",
          "data": {
            "image/png": "[encoded data removed]",
            "text/plain": [
              "<Figure size 720x360 with 1 Axes>"
            ]
          },
          "metadata": {
            "tags": [],
            "needs_background": "light"
          }
        }
      ]
    },
    {
      "cell_type": "markdown",
      "metadata": {
        "id": "_Fo72gAZk0CZ"
      },
      "source": [
        "<font size = 4  color = \"black\"> Método incremental"
      ]
    },
    {
      "cell_type": "code",
      "metadata": {
        "colab": {
          "base_uri": "https://localhost:8080/"
        },
        "id": "ca76L0jck0Ca",
        "outputId": "bd3db5c9-9630-468c-a465-b4cf42e29453"
      },
      "source": [
        "print(incremental(f4,-2.3,-2,1e-9))#una raíz está entre -2.3 y -2\n",
        "print(incremental(f4,.5,1.5,1e-9)) #la otra está entre .5 y 1.5 "
      ],
      "execution_count": null,
      "outputs": [
        {
          "output_type": "stream",
          "text": [
            "[-1.9999999991778905, 299999975.0]\n",
            "[0.9999999918590341, 500000005.0]\n"
          ],
          "name": "stdout"
        }
      ]
    },
    {
      "cell_type": "code",
      "metadata": {
        "id": "aZ1GA449k0Cc"
      },
      "source": [
        "# Consideremos el tiempo de cómputo del método incremental para la función 2\n"
      ],
      "execution_count": null,
      "outputs": []
    },
    {
      "cell_type": "markdown",
      "metadata": {
        "id": "BhFJxL7-k0Cc"
      },
      "source": [
        "De manera análoga para cada método podemos analizar la precisión y el error"
      ]
    },
    {
      "cell_type": "code",
      "metadata": {
        "colab": {
          "base_uri": "https://localhost:8080/",
          "height": 266
        },
        "id": "U5iDIiByk0Cc",
        "outputId": "c8610ced-54e5-444f-a865-3a359ef06d9c"
      },
      "source": [
        "lista_incremental = []\n",
        "idx = []\n",
        "t = []\n",
        "valor_real=-2\n",
        "for i in range(1,8):\n",
        "    tol = 10**(-i)\n",
        "    idx.append(tol)\n",
        "    ti = time()\n",
        "    raiz=incremental(f4,-2.3,-2,tol) #cada renglon de la tabla\n",
        "    tfi = time()-ti\n",
        "    t.append(tfi)\n",
        "    error=abs(abs(valor_real-raiz[0])/valor_real)*100\n",
        "    lista_incremental.append([raiz[0],raiz[1],error, t[i-1]])\n",
        "cols = [\"Raiz\",\"Pasos\",\"error %\",\"Tiempo\"]\n",
        "pd.DataFrame(lista_incremental, index=idx, columns=cols)"
      ],
      "execution_count": null,
      "outputs": [
        {
          "output_type": "execute_result",
          "data": {
            "text/html": [
              "<div>\n",
              "<style scoped>\n",
              "    .dataframe tbody tr th:only-of-type {\n",
              "        vertical-align: middle;\n",
              "    }\n",
              "\n",
              "    .dataframe tbody tr th {\n",
              "        vertical-align: top;\n",
              "    }\n",
              "\n",
              "    .dataframe thead th {\n",
              "        text-align: right;\n",
              "    }\n",
              "</style>\n",
              "<table border=\"1\" class=\"dataframe\">\n",
              "  <thead>\n",
              "    <tr style=\"text-align: right;\">\n",
              "      <th></th>\n",
              "      <th>Raiz</th>\n",
              "      <th>Pasos</th>\n",
              "      <th>error %</th>\n",
              "      <th>Tiempo</th>\n",
              "    </tr>\n",
              "  </thead>\n",
              "  <tbody>\n",
              "    <tr>\n",
              "      <th>1.000000e-01</th>\n",
              "      <td>-2.000</td>\n",
              "      <td>2.0</td>\n",
              "      <td>2.220446e-14</td>\n",
              "      <td>0.000013</td>\n",
              "    </tr>\n",
              "    <tr>\n",
              "      <th>1.000000e-02</th>\n",
              "      <td>-1.990</td>\n",
              "      <td>30.0</td>\n",
              "      <td>5.000000e-01</td>\n",
              "      <td>0.000362</td>\n",
              "    </tr>\n",
              "    <tr>\n",
              "      <th>1.000000e-03</th>\n",
              "      <td>-1.999</td>\n",
              "      <td>300.0</td>\n",
              "      <td>5.000000e-02</td>\n",
              "      <td>0.000199</td>\n",
              "    </tr>\n",
              "    <tr>\n",
              "      <th>1.000000e-04</th>\n",
              "      <td>-2.000</td>\n",
              "      <td>2999.0</td>\n",
              "      <td>3.165246e-11</td>\n",
              "      <td>0.001907</td>\n",
              "    </tr>\n",
              "    <tr>\n",
              "      <th>1.000000e-05</th>\n",
              "      <td>-2.000</td>\n",
              "      <td>29999.0</td>\n",
              "      <td>9.827694e-11</td>\n",
              "      <td>0.014745</td>\n",
              "    </tr>\n",
              "    <tr>\n",
              "      <th>1.000000e-06</th>\n",
              "      <td>-2.000</td>\n",
              "      <td>299999.0</td>\n",
              "      <td>2.096667e-09</td>\n",
              "      <td>0.124826</td>\n",
              "    </tr>\n",
              "    <tr>\n",
              "      <th>1.000000e-07</th>\n",
              "      <td>-2.000</td>\n",
              "      <td>3000000.0</td>\n",
              "      <td>4.975451e-06</td>\n",
              "      <td>1.187647</td>\n",
              "    </tr>\n",
              "  </tbody>\n",
              "</table>\n",
              "</div>"
            ],
            "text/plain": [
              "               Raiz      Pasos       error %    Tiempo\n",
              "1.000000e-01 -2.000        2.0  2.220446e-14  0.000013\n",
              "1.000000e-02 -1.990       30.0  5.000000e-01  0.000362\n",
              "1.000000e-03 -1.999      300.0  5.000000e-02  0.000199\n",
              "1.000000e-04 -2.000     2999.0  3.165246e-11  0.001907\n",
              "1.000000e-05 -2.000    29999.0  9.827694e-11  0.014745\n",
              "1.000000e-06 -2.000   299999.0  2.096667e-09  0.124826\n",
              "1.000000e-07 -2.000  3000000.0  4.975451e-06  1.187647"
            ]
          },
          "metadata": {
            "tags": []
          },
          "execution_count": 125
        }
      ]
    },
    {
      "cell_type": "code",
      "metadata": {
        "colab": {
          "base_uri": "https://localhost:8080/",
          "height": 266
        },
        "id": "aWAsZ6fCk0Cd",
        "outputId": "bafa5ccc-b897-4491-d468-29a3b470e67f"
      },
      "source": [
        "lista_incremental = []\n",
        "idx = []\n",
        "t = []\n",
        "valor_real=1\n",
        "for i in range(1,8):\n",
        "    tol = 10**(-i)\n",
        "    idx.append(tol)\n",
        "    ti = time()\n",
        "    raiz=incremental(f4,.5,1.5,tol) #cada renglon de la tabla\n",
        "    tfi = time()-ti\n",
        "    t.append(tfi)\n",
        "    error=abs(abs(valor_real-raiz[0])/valor_real)*100\n",
        "    lista_incremental.append([raiz[0],raiz[1],error, t[i-1]])\n",
        "cols = [\"Raiz\",\"Pasos\",\"error %\",\"Tiempo\"]\n",
        "pd.DataFrame(lista_incremental, index=idx, columns=cols)"
      ],
      "execution_count": null,
      "outputs": [
        {
          "output_type": "execute_result",
          "data": {
            "text/html": [
              "<div>\n",
              "<style scoped>\n",
              "    .dataframe tbody tr th:only-of-type {\n",
              "        vertical-align: middle;\n",
              "    }\n",
              "\n",
              "    .dataframe tbody tr th {\n",
              "        vertical-align: top;\n",
              "    }\n",
              "\n",
              "    .dataframe thead th {\n",
              "        text-align: right;\n",
              "    }\n",
              "</style>\n",
              "<table border=\"1\" class=\"dataframe\">\n",
              "  <thead>\n",
              "    <tr style=\"text-align: right;\">\n",
              "      <th></th>\n",
              "      <th>Raiz</th>\n",
              "      <th>Pasos</th>\n",
              "      <th>error %</th>\n",
              "      <th>Tiempo</th>\n",
              "    </tr>\n",
              "  </thead>\n",
              "  <tbody>\n",
              "    <tr>\n",
              "      <th>1.000000e-01</th>\n",
              "      <td>1.0</td>\n",
              "      <td>4.0</td>\n",
              "      <td>1.110223e-14</td>\n",
              "      <td>0.000011</td>\n",
              "    </tr>\n",
              "    <tr>\n",
              "      <th>1.000000e-02</th>\n",
              "      <td>1.0</td>\n",
              "      <td>49.0</td>\n",
              "      <td>4.440892e-14</td>\n",
              "      <td>0.000030</td>\n",
              "    </tr>\n",
              "    <tr>\n",
              "      <th>1.000000e-03</th>\n",
              "      <td>1.0</td>\n",
              "      <td>499.0</td>\n",
              "      <td>4.440892e-14</td>\n",
              "      <td>0.000409</td>\n",
              "    </tr>\n",
              "    <tr>\n",
              "      <th>1.000000e-04</th>\n",
              "      <td>1.0</td>\n",
              "      <td>4999.0</td>\n",
              "      <td>5.506706e-12</td>\n",
              "      <td>0.001850</td>\n",
              "    </tr>\n",
              "    <tr>\n",
              "      <th>1.000000e-05</th>\n",
              "      <td>1.0</td>\n",
              "      <td>49999.0</td>\n",
              "      <td>2.275513e-10</td>\n",
              "      <td>0.021551</td>\n",
              "    </tr>\n",
              "    <tr>\n",
              "      <th>1.000000e-06</th>\n",
              "      <td>1.0</td>\n",
              "      <td>499999.0</td>\n",
              "      <td>1.437783e-09</td>\n",
              "      <td>0.196965</td>\n",
              "    </tr>\n",
              "    <tr>\n",
              "      <th>1.000000e-07</th>\n",
              "      <td>1.0</td>\n",
              "      <td>4999999.0</td>\n",
              "      <td>2.631779e-08</td>\n",
              "      <td>1.822611</td>\n",
              "    </tr>\n",
              "  </tbody>\n",
              "</table>\n",
              "</div>"
            ],
            "text/plain": [
              "              Raiz      Pasos       error %    Tiempo\n",
              "1.000000e-01   1.0        4.0  1.110223e-14  0.000011\n",
              "1.000000e-02   1.0       49.0  4.440892e-14  0.000030\n",
              "1.000000e-03   1.0      499.0  4.440892e-14  0.000409\n",
              "1.000000e-04   1.0     4999.0  5.506706e-12  0.001850\n",
              "1.000000e-05   1.0    49999.0  2.275513e-10  0.021551\n",
              "1.000000e-06   1.0   499999.0  1.437783e-09  0.196965\n",
              "1.000000e-07   1.0  4999999.0  2.631779e-08  1.822611"
            ]
          },
          "metadata": {
            "tags": []
          },
          "execution_count": 126
        }
      ]
    },
    {
      "cell_type": "markdown",
      "metadata": {
        "id": "B-kmOgJpk0Cd"
      },
      "source": [
        "<font size = 4  color = \"black\"> Método de bisección "
      ]
    },
    {
      "cell_type": "code",
      "metadata": {
        "colab": {
          "base_uri": "https://localhost:8080/"
        },
        "id": "VwnZMXhOk0Cd",
        "outputId": "da8d7d87-6259-46cf-c94a-e7171afcb5dc"
      },
      "source": [
        "print(biseccion(f2,-2.3,-2,1e-4))\n",
        "print(biseccion(f2,0.5,1.5,1e-4))"
      ],
      "execution_count": null,
      "outputs": [
        {
          "output_type": "stream",
          "text": [
            "[-2.0000732421875, 12]\n",
            "[1.49993896484375, 14]\n"
          ],
          "name": "stdout"
        }
      ]
    },
    {
      "cell_type": "markdown",
      "metadata": {
        "id": "o1whuhLVk0Ce"
      },
      "source": [
        "Ahora continuamos para obtener el error porcentual del método de la bisección para la función 2"
      ]
    },
    {
      "cell_type": "code",
      "metadata": {
        "colab": {
          "base_uri": "https://localhost:8080/",
          "height": 266
        },
        "id": "fbt-Ay9pk0Ce",
        "outputId": "8b4eab6d-0811-434d-aba7-c00bb5376c19"
      },
      "source": [
        "  l_biseccion = []\n",
        "idx = []\n",
        "t= []\n",
        "valor_real=-2\n",
        "for i in range(1,8):\n",
        "    tol = 10**(-i)\n",
        "    idx.append(tol)\n",
        "    ti = time()\n",
        "    raiz=biseccion(f4,-2.3,-2,tol) #cada renglon de la tabla\n",
        "    tfi = time()-ti\n",
        "    t.append(tfi)\n",
        "    error=abs(abs(valor_real-raiz[0])/valor_real)*100\n",
        "  l_biseccion.append([raiz[0],raiz[1],error,t[i-1]])\n",
        "cols = [\"Raiz\",\"Pasos\",\"error %\",\"Tiempo\"]\n",
        "pd.DataFrame(l_biseccion, index=idx, columns=cols)\n"
      ],
      "execution_count": null,
      "outputs": [
        {
          "output_type": "execute_result",
          "data": {
            "text/html": [
              "<div>\n",
              "<style scoped>\n",
              "    .dataframe tbody tr th:only-of-type {\n",
              "        vertical-align: middle;\n",
              "    }\n",
              "\n",
              "    .dataframe tbody tr th {\n",
              "        vertical-align: top;\n",
              "    }\n",
              "\n",
              "    .dataframe thead th {\n",
              "        text-align: right;\n",
              "    }\n",
              "</style>\n",
              "<table border=\"1\" class=\"dataframe\">\n",
              "  <thead>\n",
              "    <tr style=\"text-align: right;\">\n",
              "      <th></th>\n",
              "      <th>Raiz</th>\n",
              "      <th>Pasos</th>\n",
              "      <th>error %</th>\n",
              "      <th>Tiempo</th>\n",
              "    </tr>\n",
              "  </thead>\n",
              "  <tbody>\n",
              "    <tr>\n",
              "      <th>1.000000e-01</th>\n",
              "      <td>-2.0</td>\n",
              "      <td>22</td>\n",
              "      <td>0.000004</td>\n",
              "      <td>0.000017</td>\n",
              "    </tr>\n",
              "    <tr>\n",
              "      <th>1.000000e-02</th>\n",
              "      <td>-2.0</td>\n",
              "      <td>22</td>\n",
              "      <td>0.000004</td>\n",
              "      <td>0.000017</td>\n",
              "    </tr>\n",
              "    <tr>\n",
              "      <th>1.000000e-03</th>\n",
              "      <td>-2.0</td>\n",
              "      <td>22</td>\n",
              "      <td>0.000004</td>\n",
              "      <td>0.000017</td>\n",
              "    </tr>\n",
              "    <tr>\n",
              "      <th>1.000000e-04</th>\n",
              "      <td>-2.0</td>\n",
              "      <td>22</td>\n",
              "      <td>0.000004</td>\n",
              "      <td>0.000017</td>\n",
              "    </tr>\n",
              "    <tr>\n",
              "      <th>1.000000e-05</th>\n",
              "      <td>-2.0</td>\n",
              "      <td>22</td>\n",
              "      <td>0.000004</td>\n",
              "      <td>0.000017</td>\n",
              "    </tr>\n",
              "    <tr>\n",
              "      <th>1.000000e-06</th>\n",
              "      <td>-2.0</td>\n",
              "      <td>22</td>\n",
              "      <td>0.000004</td>\n",
              "      <td>0.000017</td>\n",
              "    </tr>\n",
              "    <tr>\n",
              "      <th>1.000000e-07</th>\n",
              "      <td>-2.0</td>\n",
              "      <td>22</td>\n",
              "      <td>0.000004</td>\n",
              "      <td>0.000017</td>\n",
              "    </tr>\n",
              "  </tbody>\n",
              "</table>\n",
              "</div>"
            ],
            "text/plain": [
              "              Raiz  Pasos   error %    Tiempo\n",
              "1.000000e-01  -2.0     22  0.000004  0.000017\n",
              "1.000000e-02  -2.0     22  0.000004  0.000017\n",
              "1.000000e-03  -2.0     22  0.000004  0.000017\n",
              "1.000000e-04  -2.0     22  0.000004  0.000017\n",
              "1.000000e-05  -2.0     22  0.000004  0.000017\n",
              "1.000000e-06  -2.0     22  0.000004  0.000017\n",
              "1.000000e-07  -2.0     22  0.000004  0.000017"
            ]
          },
          "metadata": {
            "tags": []
          },
          "execution_count": 128
        }
      ]
    },
    {
      "cell_type": "code",
      "metadata": {
        "colab": {
          "base_uri": "https://localhost:8080/",
          "height": 266
        },
        "id": "sOTfNVkIk0Ce",
        "outputId": "b91110f4-3589-4b0a-8517-bd47158d1943"
      },
      "source": [
        "  l_biseccion = []\n",
        "idx = []\n",
        "t= []\n",
        "valor_real= 1\n",
        "for i in range(1,8):\n",
        "    tol = 10**(-i)\n",
        "    idx.append(tol)\n",
        "    ti = time()\n",
        "    raiz=biseccion(f2,.5,1.5,tol) #cada renglon de la tabla\n",
        "    tfi = time()-ti\n",
        "    t.append(tfi)\n",
        "    error=abs(abs(valor_real-raiz[0])/valor_real)*100\n",
        "  l_biseccion.append([raiz[0],raiz[1],error,t[i-1]])\n",
        "cols = [\"Raiz\",\"Pasos\",\"error %\",\"Tiempo\"]\n",
        "pd.DataFrame(l_biseccion, index=idx, columns=cols)"
      ],
      "execution_count": null,
      "outputs": [
        {
          "output_type": "execute_result",
          "data": {
            "text/html": [
              "<div>\n",
              "<style scoped>\n",
              "    .dataframe tbody tr th:only-of-type {\n",
              "        vertical-align: middle;\n",
              "    }\n",
              "\n",
              "    .dataframe tbody tr th {\n",
              "        vertical-align: top;\n",
              "    }\n",
              "\n",
              "    .dataframe thead th {\n",
              "        text-align: right;\n",
              "    }\n",
              "</style>\n",
              "<table border=\"1\" class=\"dataframe\">\n",
              "  <thead>\n",
              "    <tr style=\"text-align: right;\">\n",
              "      <th></th>\n",
              "      <th>Raiz</th>\n",
              "      <th>Pasos</th>\n",
              "      <th>error %</th>\n",
              "      <th>Tiempo</th>\n",
              "    </tr>\n",
              "  </thead>\n",
              "  <tbody>\n",
              "    <tr>\n",
              "      <th>1.000000e-01</th>\n",
              "      <td>1.5</td>\n",
              "      <td>24</td>\n",
              "      <td>49.999994</td>\n",
              "      <td>0.000018</td>\n",
              "    </tr>\n",
              "    <tr>\n",
              "      <th>1.000000e-02</th>\n",
              "      <td>1.5</td>\n",
              "      <td>24</td>\n",
              "      <td>49.999994</td>\n",
              "      <td>0.000018</td>\n",
              "    </tr>\n",
              "    <tr>\n",
              "      <th>1.000000e-03</th>\n",
              "      <td>1.5</td>\n",
              "      <td>24</td>\n",
              "      <td>49.999994</td>\n",
              "      <td>0.000018</td>\n",
              "    </tr>\n",
              "    <tr>\n",
              "      <th>1.000000e-04</th>\n",
              "      <td>1.5</td>\n",
              "      <td>24</td>\n",
              "      <td>49.999994</td>\n",
              "      <td>0.000018</td>\n",
              "    </tr>\n",
              "    <tr>\n",
              "      <th>1.000000e-05</th>\n",
              "      <td>1.5</td>\n",
              "      <td>24</td>\n",
              "      <td>49.999994</td>\n",
              "      <td>0.000018</td>\n",
              "    </tr>\n",
              "    <tr>\n",
              "      <th>1.000000e-06</th>\n",
              "      <td>1.5</td>\n",
              "      <td>24</td>\n",
              "      <td>49.999994</td>\n",
              "      <td>0.000018</td>\n",
              "    </tr>\n",
              "    <tr>\n",
              "      <th>1.000000e-07</th>\n",
              "      <td>1.5</td>\n",
              "      <td>24</td>\n",
              "      <td>49.999994</td>\n",
              "      <td>0.000018</td>\n",
              "    </tr>\n",
              "  </tbody>\n",
              "</table>\n",
              "</div>"
            ],
            "text/plain": [
              "              Raiz  Pasos    error %    Tiempo\n",
              "1.000000e-01   1.5     24  49.999994  0.000018\n",
              "1.000000e-02   1.5     24  49.999994  0.000018\n",
              "1.000000e-03   1.5     24  49.999994  0.000018\n",
              "1.000000e-04   1.5     24  49.999994  0.000018\n",
              "1.000000e-05   1.5     24  49.999994  0.000018\n",
              "1.000000e-06   1.5     24  49.999994  0.000018\n",
              "1.000000e-07   1.5     24  49.999994  0.000018"
            ]
          },
          "metadata": {
            "tags": []
          },
          "execution_count": 129
        }
      ]
    },
    {
      "cell_type": "markdown",
      "metadata": {
        "id": "mAPeDNP4k0Ce"
      },
      "source": [
        ""
      ]
    },
    {
      "cell_type": "markdown",
      "metadata": {
        "id": "RJBt2-OIk0Cf"
      },
      "source": [
        "<font size = 4  color = \"black\"> Método de Newton-Raphson"
      ]
    },
    {
      "cell_type": "code",
      "metadata": {
        "colab": {
          "base_uri": "https://localhost:8080/",
          "height": 316
        },
        "id": "6iP-2FDik0Cf",
        "outputId": "22974eea-fc5a-4a52-a895-12fa019bfbff"
      },
      "source": [
        "print(newton(f4,df4,-2,1e-9)) #la primer raíz por la imagen está cerca -2\n",
        "print(newton(f4,df4,1,1e-9)) #y la segunda cerca de 1"
      ],
      "execution_count": 210,
      "outputs": [
        {
          "output_type": "stream",
          "text": [
            "[-2.0, 1]\n"
          ],
          "name": "stdout"
        },
        {
          "output_type": "error",
          "ename": "ZeroDivisionError",
          "evalue": "ignored",
          "traceback": [
            "\u001b[0;31m---------------------------------------------------------------------------\u001b[0m",
            "\u001b[0;31mZeroDivisionError\u001b[0m                         Traceback (most recent call last)",
            "\u001b[0;32m<ipython-input-210-e0662a25cc56>\u001b[0m in \u001b[0;36m<module>\u001b[0;34m()\u001b[0m\n\u001b[1;32m      1\u001b[0m \u001b[0mprint\u001b[0m\u001b[0;34m(\u001b[0m\u001b[0mnewton\u001b[0m\u001b[0;34m(\u001b[0m\u001b[0mf4\u001b[0m\u001b[0;34m,\u001b[0m\u001b[0mdf4\u001b[0m\u001b[0;34m,\u001b[0m\u001b[0;34m-\u001b[0m\u001b[0;36m2\u001b[0m\u001b[0;34m,\u001b[0m\u001b[0;36m1e-9\u001b[0m\u001b[0;34m)\u001b[0m\u001b[0;34m)\u001b[0m \u001b[0;31m#la primer raíz por la imagen está cerca -2\u001b[0m\u001b[0;34m\u001b[0m\u001b[0;34m\u001b[0m\u001b[0m\n\u001b[0;32m----> 2\u001b[0;31m \u001b[0mprint\u001b[0m\u001b[0;34m(\u001b[0m\u001b[0mnewton\u001b[0m\u001b[0;34m(\u001b[0m\u001b[0mf4\u001b[0m\u001b[0;34m,\u001b[0m\u001b[0mdf4\u001b[0m\u001b[0;34m,\u001b[0m\u001b[0;36m1\u001b[0m\u001b[0;34m,\u001b[0m\u001b[0;36m1e-9\u001b[0m\u001b[0;34m)\u001b[0m\u001b[0;34m)\u001b[0m \u001b[0;31m#y la segunda cerca de 1\u001b[0m\u001b[0;34m\u001b[0m\u001b[0;34m\u001b[0m\u001b[0m\n\u001b[0m",
            "\u001b[0;32m<ipython-input-194-86b8e34905ea>\u001b[0m in \u001b[0;36mnewton\u001b[0;34m(f, df, x, epsilon)\u001b[0m\n\u001b[1;32m      3\u001b[0m     \u001b[0mcontador\u001b[0m \u001b[0;34m=\u001b[0m \u001b[0;36m0\u001b[0m\u001b[0;34m\u001b[0m\u001b[0;34m\u001b[0m\u001b[0m\n\u001b[1;32m      4\u001b[0m     \u001b[0;32mwhile\u001b[0m \u001b[0mdx\u001b[0m\u001b[0;34m>\u001b[0m \u001b[0mepsilon\u001b[0m \u001b[0;32mand\u001b[0m \u001b[0mcontador\u001b[0m\u001b[0;34m<\u001b[0m\u001b[0;36m1000\u001b[0m\u001b[0;34m:\u001b[0m\u001b[0;34m\u001b[0m\u001b[0;34m\u001b[0m\u001b[0m\n\u001b[0;32m----> 5\u001b[0;31m         \u001b[0mx1\u001b[0m\u001b[0;34m=\u001b[0m\u001b[0mx\u001b[0m\u001b[0;34m-\u001b[0m\u001b[0;34m(\u001b[0m\u001b[0mf\u001b[0m\u001b[0;34m(\u001b[0m\u001b[0mx\u001b[0m\u001b[0;34m)\u001b[0m\u001b[0;34m)\u001b[0m\u001b[0;34m/\u001b[0m\u001b[0;34m(\u001b[0m\u001b[0mdf\u001b[0m\u001b[0;34m(\u001b[0m\u001b[0mx\u001b[0m\u001b[0;34m)\u001b[0m\u001b[0;34m)\u001b[0m\u001b[0;34m\u001b[0m\u001b[0;34m\u001b[0m\u001b[0m\n\u001b[0m\u001b[1;32m      6\u001b[0m         \u001b[0mdx\u001b[0m\u001b[0;34m=\u001b[0m\u001b[0mabs\u001b[0m\u001b[0;34m(\u001b[0m\u001b[0mx\u001b[0m\u001b[0;34m-\u001b[0m\u001b[0mx1\u001b[0m\u001b[0;34m)\u001b[0m\u001b[0;34m\u001b[0m\u001b[0;34m\u001b[0m\u001b[0m\n\u001b[1;32m      7\u001b[0m         \u001b[0mx\u001b[0m\u001b[0;34m=\u001b[0m\u001b[0mx1\u001b[0m\u001b[0;34m\u001b[0m\u001b[0;34m\u001b[0m\u001b[0m\n",
            "\u001b[0;31mZeroDivisionError\u001b[0m: division by zero"
          ]
        }
      ]
    },
    {
      "cell_type": "markdown",
      "metadata": {
        "id": "Afngk2tftNoZ"
      },
      "source": [
        "En este caso no podemos evaluar el desempeño del método numérico de Newton ya que la derivada se anula , solo se puede considerar una raíz ya que al acercarse al cero se indetermina el método por división entre cero "
      ]
    },
    {
      "cell_type": "code",
      "metadata": {
        "colab": {
          "base_uri": "https://localhost:8080/",
          "height": 266
        },
        "id": "eTRCdPBSvDRg",
        "outputId": "ed51d1d4-7fbc-4122-ce4a-722bf5dc94af"
      },
      "source": [
        "\n",
        "l_Newton = []\n",
        "idx = []\n",
        "valor_real=-2\n",
        "for i in range(1,8):\n",
        "    tol = 10**(-i)\n",
        "    idx.append(tol)\n",
        "    ti = time()\n",
        "    raiz=newton(f4,df4,-2,epsilon = tol) #cada renglon de la tabla\n",
        "    tfi = time()-ti\n",
        "    error=abs(abs(valor_real-raiz[0])/valor_real)*100\n",
        "    l_Newton.append([raiz[0],raiz[1],error,tfi])\n",
        "cols = [\"Raiz\",\"Pasos\",\"error %\",\"Tiempo\"]\n",
        "pd.DataFrame(l_Newton, index=idx, columns=cols)"
      ],
      "execution_count": null,
      "outputs": [
        {
          "output_type": "execute_result",
          "data": {
            "text/html": [
              "<div>\n",
              "<style scoped>\n",
              "    .dataframe tbody tr th:only-of-type {\n",
              "        vertical-align: middle;\n",
              "    }\n",
              "\n",
              "    .dataframe tbody tr th {\n",
              "        vertical-align: top;\n",
              "    }\n",
              "\n",
              "    .dataframe thead th {\n",
              "        text-align: right;\n",
              "    }\n",
              "</style>\n",
              "<table border=\"1\" class=\"dataframe\">\n",
              "  <thead>\n",
              "    <tr style=\"text-align: right;\">\n",
              "      <th></th>\n",
              "      <th>Raiz</th>\n",
              "      <th>Pasos</th>\n",
              "      <th>error %</th>\n",
              "      <th>Tiempo</th>\n",
              "    </tr>\n",
              "  </thead>\n",
              "  <tbody>\n",
              "    <tr>\n",
              "      <th>1.000000e-01</th>\n",
              "      <td>-2.0</td>\n",
              "      <td>1</td>\n",
              "      <td>0.0</td>\n",
              "      <td>0.000039</td>\n",
              "    </tr>\n",
              "    <tr>\n",
              "      <th>1.000000e-02</th>\n",
              "      <td>-2.0</td>\n",
              "      <td>1</td>\n",
              "      <td>0.0</td>\n",
              "      <td>0.000003</td>\n",
              "    </tr>\n",
              "    <tr>\n",
              "      <th>1.000000e-03</th>\n",
              "      <td>-2.0</td>\n",
              "      <td>1</td>\n",
              "      <td>0.0</td>\n",
              "      <td>0.000002</td>\n",
              "    </tr>\n",
              "    <tr>\n",
              "      <th>1.000000e-04</th>\n",
              "      <td>-2.0</td>\n",
              "      <td>1</td>\n",
              "      <td>0.0</td>\n",
              "      <td>0.000002</td>\n",
              "    </tr>\n",
              "    <tr>\n",
              "      <th>1.000000e-05</th>\n",
              "      <td>-2.0</td>\n",
              "      <td>1</td>\n",
              "      <td>0.0</td>\n",
              "      <td>0.000002</td>\n",
              "    </tr>\n",
              "    <tr>\n",
              "      <th>1.000000e-06</th>\n",
              "      <td>-2.0</td>\n",
              "      <td>1</td>\n",
              "      <td>0.0</td>\n",
              "      <td>0.000002</td>\n",
              "    </tr>\n",
              "    <tr>\n",
              "      <th>1.000000e-07</th>\n",
              "      <td>-2.0</td>\n",
              "      <td>1</td>\n",
              "      <td>0.0</td>\n",
              "      <td>0.000002</td>\n",
              "    </tr>\n",
              "  </tbody>\n",
              "</table>\n",
              "</div>"
            ],
            "text/plain": [
              "              Raiz  Pasos  error %    Tiempo\n",
              "1.000000e-01  -2.0      1      0.0  0.000039\n",
              "1.000000e-02  -2.0      1      0.0  0.000003\n",
              "1.000000e-03  -2.0      1      0.0  0.000002\n",
              "1.000000e-04  -2.0      1      0.0  0.000002\n",
              "1.000000e-05  -2.0      1      0.0  0.000002\n",
              "1.000000e-06  -2.0      1      0.0  0.000002\n",
              "1.000000e-07  -2.0      1      0.0  0.000002"
            ]
          },
          "metadata": {
            "tags": []
          },
          "execution_count": 133
        }
      ]
    },
    {
      "cell_type": "markdown",
      "metadata": {
        "id": "hxyAQFkwk0Cf"
      },
      "source": [
        "<font size = 4  color = \"black\"> Método de la Secante"
      ]
    },
    {
      "cell_type": "code",
      "metadata": {
        "colab": {
          "base_uri": "https://localhost:8080/"
        },
        "id": "2QHMVyxdk0Cf",
        "outputId": "8e5d9a98-3cd7-4563-9761-3e65e24c0200"
      },
      "source": [
        "print(secante(f2,-2,-1,delta=1e-9))\n",
        "print(secante(f1,1,2,delta=1e-9))"
      ],
      "execution_count": null,
      "outputs": [
        {
          "output_type": "stream",
          "text": [
            "[[-2, -0.2161468365471424, nan], [-1, 1.0403023058681398, 1], [-1.8279700870887288, -0.02401179594160885, -0.8279700870887288], [-1.8092904052700578, -0.0022411043062825486, 0.018679681818670968], [-1.8073674936756516, 9.231697948142159e-06, 0.0019229115944061625], [-1.80737538215941, -3.4851430075200085e-09, -7.888483758433651e-06], [-1.80737537918248, -5.412337245047638e-15, 2.976930035814007e-09]]\n",
            "[[1, 4, nan], [2, 15, 1], [0.6363636363636365, 0.9917355371900838, -1.3636363636363635], [0.5398230088495575, 0.2819328060145665, -0.09654062751407899], [0.5014771856877119, 0.010344663969095613, -0.03834582316184554], [0.5000166114069643, 0.00011628040062738876, -0.0014605742807476396], [0.5000000070079041, 4.905532913213051e-08, -1.6604399060149433e-05], [0.5000000000000333, 2.3314683517128287e-13, -7.007870839181862e-09]]\n"
          ],
          "name": "stdout"
        }
      ]
    },
    {
      "cell_type": "code",
      "metadata": {
        "colab": {
          "base_uri": "https://localhost:8080/",
          "height": 266
        },
        "id": "ScB1gs-gk0Cg",
        "outputId": "0d71a988-7f0d-4f6a-c353-5784905a6b25"
      },
      "source": [
        "l_secante = []\n",
        "idx = []\n",
        "valor_real=-2\n",
        "for i in range(1,8):\n",
        "    tol = 10**(-i)\n",
        "    idx.append(tol)\n",
        "    ti = time()\n",
        "    raiz=secante(f2, -2, -1, delta=tol)[-1] #nos quedamos con el último valor que nos da la raíz y el error\n",
        "    tfi = time()-ti\n",
        "    l_secante.append([raiz[0],abs(abs(raiz[0]-valor_real)/valor_real)*100,tfi])\n",
        "cols = [\"Raiz\",\"error %\",\"Tiempo\"]\n",
        "pd.DataFrame(l_secante, index=idx, columns=cols)"
      ],
      "execution_count": null,
      "outputs": [
        {
          "output_type": "execute_result",
          "data": {
            "text/html": [
              "<div>\n",
              "<style scoped>\n",
              "    .dataframe tbody tr th:only-of-type {\n",
              "        vertical-align: middle;\n",
              "    }\n",
              "\n",
              "    .dataframe tbody tr th {\n",
              "        vertical-align: top;\n",
              "    }\n",
              "\n",
              "    .dataframe thead th {\n",
              "        text-align: right;\n",
              "    }\n",
              "</style>\n",
              "<table border=\"1\" class=\"dataframe\">\n",
              "  <thead>\n",
              "    <tr style=\"text-align: right;\">\n",
              "      <th></th>\n",
              "      <th>Raiz</th>\n",
              "      <th>error %</th>\n",
              "      <th>Tiempo</th>\n",
              "    </tr>\n",
              "  </thead>\n",
              "  <tbody>\n",
              "    <tr>\n",
              "      <th>1.000000e-01</th>\n",
              "      <td>-1.827970</td>\n",
              "      <td>8.601496</td>\n",
              "      <td>0.000023</td>\n",
              "    </tr>\n",
              "    <tr>\n",
              "      <th>1.000000e-02</th>\n",
              "      <td>-1.809290</td>\n",
              "      <td>9.535480</td>\n",
              "      <td>0.000007</td>\n",
              "    </tr>\n",
              "    <tr>\n",
              "      <th>1.000000e-03</th>\n",
              "      <td>-1.807367</td>\n",
              "      <td>9.631625</td>\n",
              "      <td>0.000006</td>\n",
              "    </tr>\n",
              "    <tr>\n",
              "      <th>1.000000e-04</th>\n",
              "      <td>-1.807367</td>\n",
              "      <td>9.631625</td>\n",
              "      <td>0.000005</td>\n",
              "    </tr>\n",
              "    <tr>\n",
              "      <th>1.000000e-05</th>\n",
              "      <td>-1.807367</td>\n",
              "      <td>9.631625</td>\n",
              "      <td>0.000005</td>\n",
              "    </tr>\n",
              "    <tr>\n",
              "      <th>1.000000e-06</th>\n",
              "      <td>-1.807375</td>\n",
              "      <td>9.631231</td>\n",
              "      <td>0.000006</td>\n",
              "    </tr>\n",
              "    <tr>\n",
              "      <th>1.000000e-07</th>\n",
              "      <td>-1.807375</td>\n",
              "      <td>9.631231</td>\n",
              "      <td>0.000005</td>\n",
              "    </tr>\n",
              "  </tbody>\n",
              "</table>\n",
              "</div>"
            ],
            "text/plain": [
              "                  Raiz   error %    Tiempo\n",
              "1.000000e-01 -1.827970  8.601496  0.000023\n",
              "1.000000e-02 -1.809290  9.535480  0.000007\n",
              "1.000000e-03 -1.807367  9.631625  0.000006\n",
              "1.000000e-04 -1.807367  9.631625  0.000005\n",
              "1.000000e-05 -1.807367  9.631625  0.000005\n",
              "1.000000e-06 -1.807375  9.631231  0.000006\n",
              "1.000000e-07 -1.807375  9.631231  0.000005"
            ]
          },
          "metadata": {
            "tags": []
          },
          "execution_count": 110
        }
      ]
    },
    {
      "cell_type": "markdown",
      "metadata": {
        "id": "1gx0cdrhk0Cg"
      },
      "source": [
        "<font size = 4  color = \"white\"> Método de Ridders"
      ]
    },
    {
      "cell_type": "code",
      "metadata": {
        "colab": {
          "base_uri": "https://localhost:8080/",
          "height": 266
        },
        "id": "_RsRF5rPk0Cg",
        "outputId": "7a579801-a4ec-489f-e2fc-3347af92dec0"
      },
      "source": [
        "l_secante = []\n",
        "idx = []\n",
        "valor_real=0.5\n",
        "for i in range(1,8):\n",
        "    tol = 10**(-i)\n",
        "    idx.append(tol)\n",
        "    ti = time()\n",
        "    raiz=secante(f2, 1, 2, delta=tol)[-1] #nos quedamos con el último valor que nos da la raíz y el error\n",
        "    tfi = time()-ti\n",
        "    l_secante.append([raiz[0],abs(abs(raiz[0]-valor_real)/valor_real)*100,tfi])\n",
        "cols = [\"Raiz\",\"error %\",\"Tiempo\"]\n",
        "pd.DataFrame(l_secante, index=idx, columns=cols)"
      ],
      "execution_count": null,
      "outputs": [
        {
          "output_type": "execute_result",
          "data": {
            "text/html": [
              "<div>\n",
              "<style scoped>\n",
              "    .dataframe tbody tr th:only-of-type {\n",
              "        vertical-align: middle;\n",
              "    }\n",
              "\n",
              "    .dataframe tbody tr th {\n",
              "        vertical-align: top;\n",
              "    }\n",
              "\n",
              "    .dataframe thead th {\n",
              "        text-align: right;\n",
              "    }\n",
              "</style>\n",
              "<table border=\"1\" class=\"dataframe\">\n",
              "  <thead>\n",
              "    <tr style=\"text-align: right;\">\n",
              "      <th></th>\n",
              "      <th>Raiz</th>\n",
              "      <th>error %</th>\n",
              "      <th>Tiempo</th>\n",
              "    </tr>\n",
              "  </thead>\n",
              "  <tbody>\n",
              "    <tr>\n",
              "      <th>1.000000e-01</th>\n",
              "      <td>1.827970</td>\n",
              "      <td>265.594017</td>\n",
              "      <td>0.000026</td>\n",
              "    </tr>\n",
              "    <tr>\n",
              "      <th>1.000000e-02</th>\n",
              "      <td>1.806471</td>\n",
              "      <td>261.294180</td>\n",
              "      <td>0.000009</td>\n",
              "    </tr>\n",
              "    <tr>\n",
              "      <th>1.000000e-03</th>\n",
              "      <td>1.807379</td>\n",
              "      <td>261.475819</td>\n",
              "      <td>0.000007</td>\n",
              "    </tr>\n",
              "    <tr>\n",
              "      <th>1.000000e-04</th>\n",
              "      <td>1.807379</td>\n",
              "      <td>261.475819</td>\n",
              "      <td>0.000007</td>\n",
              "    </tr>\n",
              "    <tr>\n",
              "      <th>1.000000e-05</th>\n",
              "      <td>1.807379</td>\n",
              "      <td>261.475819</td>\n",
              "      <td>0.000006</td>\n",
              "    </tr>\n",
              "    <tr>\n",
              "      <th>1.000000e-06</th>\n",
              "      <td>1.807375</td>\n",
              "      <td>261.475076</td>\n",
              "      <td>0.000007</td>\n",
              "    </tr>\n",
              "    <tr>\n",
              "      <th>1.000000e-07</th>\n",
              "      <td>1.807375</td>\n",
              "      <td>261.475076</td>\n",
              "      <td>0.000007</td>\n",
              "    </tr>\n",
              "  </tbody>\n",
              "</table>\n",
              "</div>"
            ],
            "text/plain": [
              "                  Raiz     error %    Tiempo\n",
              "1.000000e-01  1.827970  265.594017  0.000026\n",
              "1.000000e-02  1.806471  261.294180  0.000009\n",
              "1.000000e-03  1.807379  261.475819  0.000007\n",
              "1.000000e-04  1.807379  261.475819  0.000007\n",
              "1.000000e-05  1.807379  261.475819  0.000006\n",
              "1.000000e-06  1.807375  261.475076  0.000007\n",
              "1.000000e-07  1.807375  261.475076  0.000007"
            ]
          },
          "metadata": {
            "tags": []
          },
          "execution_count": 111
        }
      ]
    },
    {
      "cell_type": "markdown",
      "metadata": {
        "id": "KH_k9WUdk0Cg"
      },
      "source": [
        "<font size= 4 color='black'>Método de Ridders"
      ]
    },
    {
      "cell_type": "code",
      "metadata": {
        "colab": {
          "base_uri": "https://localhost:8080/"
        },
        "id": "WQqGFczpk0Cg",
        "outputId": "aa823ae7-b4b1-413d-9cc8-2b2085d62024"
      },
      "source": [
        "#Este es el código de Roxana y Jordi\n",
        "print(ridders(f2,-2,-1, tol=1e-9))\n",
        "print(ridders(f2,1, 2, tol=1e-9))"
      ],
      "execution_count": null,
      "outputs": [
        {
          "output_type": "stream",
          "text": [
            "(-1.8073753791824754, 30)\n",
            "(1.8073753791824754, 30)\n"
          ],
          "name": "stdout"
        }
      ]
    },
    {
      "cell_type": "code",
      "metadata": {
        "colab": {
          "base_uri": "https://localhost:8080/",
          "height": 266
        },
        "id": "ZpGbO6SAk0Ch",
        "outputId": "a9c444ba-5ecb-4f68-e9c3-2c1f9f3d92d7"
      },
      "source": [
        "l_ridders = []\n",
        "idx = []\n",
        "valor_real=-2\n",
        "for i in range(1,8):\n",
        "    tol = 10**(-i)\n",
        "    idx.append(tol)\n",
        "    ti = time()\n",
        "    raiz=ridders(f2,-2,-1, tol) #cada renglon de la tabla\n",
        "    tfi = time()-ti\n",
        "    error=abs(abs(valor_real-raiz[0])/valor_real)*100\n",
        "    l_ridders.append([raiz[0],raiz[1],error, tfi])\n",
        "cols = [\"Raiz\",\"Pasos\",\"error %\",\"Tiempo\"]\n",
        "pd.DataFrame(l_ridders, index=idx, columns=cols)"
      ],
      "execution_count": null,
      "outputs": [
        {
          "output_type": "execute_result",
          "data": {
            "text/html": [
              "<div>\n",
              "<style scoped>\n",
              "    .dataframe tbody tr th:only-of-type {\n",
              "        vertical-align: middle;\n",
              "    }\n",
              "\n",
              "    .dataframe tbody tr th {\n",
              "        vertical-align: top;\n",
              "    }\n",
              "\n",
              "    .dataframe thead th {\n",
              "        text-align: right;\n",
              "    }\n",
              "</style>\n",
              "<table border=\"1\" class=\"dataframe\">\n",
              "  <thead>\n",
              "    <tr style=\"text-align: right;\">\n",
              "      <th></th>\n",
              "      <th>Raiz</th>\n",
              "      <th>Pasos</th>\n",
              "      <th>error %</th>\n",
              "      <th>Tiempo</th>\n",
              "    </tr>\n",
              "  </thead>\n",
              "  <tbody>\n",
              "    <tr>\n",
              "      <th>1.000000e-01</th>\n",
              "      <td>-1.807375</td>\n",
              "      <td>3</td>\n",
              "      <td>9.631230</td>\n",
              "      <td>0.000028</td>\n",
              "    </tr>\n",
              "    <tr>\n",
              "      <th>1.000000e-02</th>\n",
              "      <td>-1.807375</td>\n",
              "      <td>6</td>\n",
              "      <td>9.631231</td>\n",
              "      <td>0.000015</td>\n",
              "    </tr>\n",
              "    <tr>\n",
              "      <th>1.000000e-03</th>\n",
              "      <td>-1.807375</td>\n",
              "      <td>10</td>\n",
              "      <td>9.631231</td>\n",
              "      <td>0.000023</td>\n",
              "    </tr>\n",
              "    <tr>\n",
              "      <th>1.000000e-04</th>\n",
              "      <td>-1.807375</td>\n",
              "      <td>13</td>\n",
              "      <td>9.631231</td>\n",
              "      <td>0.000030</td>\n",
              "    </tr>\n",
              "    <tr>\n",
              "      <th>1.000000e-05</th>\n",
              "      <td>-1.807375</td>\n",
              "      <td>16</td>\n",
              "      <td>9.631231</td>\n",
              "      <td>0.000032</td>\n",
              "    </tr>\n",
              "    <tr>\n",
              "      <th>1.000000e-06</th>\n",
              "      <td>-1.807375</td>\n",
              "      <td>20</td>\n",
              "      <td>9.631231</td>\n",
              "      <td>0.000040</td>\n",
              "    </tr>\n",
              "    <tr>\n",
              "      <th>1.000000e-07</th>\n",
              "      <td>-1.807375</td>\n",
              "      <td>23</td>\n",
              "      <td>9.631231</td>\n",
              "      <td>0.000046</td>\n",
              "    </tr>\n",
              "  </tbody>\n",
              "</table>\n",
              "</div>"
            ],
            "text/plain": [
              "                  Raiz  Pasos   error %    Tiempo\n",
              "1.000000e-01 -1.807375      3  9.631230  0.000028\n",
              "1.000000e-02 -1.807375      6  9.631231  0.000015\n",
              "1.000000e-03 -1.807375     10  9.631231  0.000023\n",
              "1.000000e-04 -1.807375     13  9.631231  0.000030\n",
              "1.000000e-05 -1.807375     16  9.631231  0.000032\n",
              "1.000000e-06 -1.807375     20  9.631231  0.000040\n",
              "1.000000e-07 -1.807375     23  9.631231  0.000046"
            ]
          },
          "metadata": {
            "tags": []
          },
          "execution_count": 107
        }
      ]
    },
    {
      "cell_type": "code",
      "metadata": {
        "colab": {
          "base_uri": "https://localhost:8080/",
          "height": 266
        },
        "id": "DoSzBU5jk0Ch",
        "outputId": "5367f9b9-75d6-42ad-bdd5-91413a3e6aae"
      },
      "source": [
        "l_ridders = []\n",
        "idx = []\n",
        "valor_real=2\n",
        "for i in range(1,8):\n",
        "    tol = 10**(-i)\n",
        "    idx.append(tol)\n",
        "    ti = time()\n",
        "    raiz=ridders(f2,1,2, tol) #cada renglon de la tabla\n",
        "    tfi = time()-ti\n",
        "    error=abs(abs(valor_real-raiz[0])/valor_real)*100\n",
        "    l_ridders.append([raiz[0],raiz[1],error, tfi])\n",
        "cols = [\"Raiz\",\"Pasos\",\"error %\",\"Tiempo\"]\n",
        "pd.DataFrame(l_ridders, index=idx, columns=cols)"
      ],
      "execution_count": null,
      "outputs": [
        {
          "output_type": "execute_result",
          "data": {
            "text/html": [
              "<div>\n",
              "<style scoped>\n",
              "    .dataframe tbody tr th:only-of-type {\n",
              "        vertical-align: middle;\n",
              "    }\n",
              "\n",
              "    .dataframe tbody tr th {\n",
              "        vertical-align: top;\n",
              "    }\n",
              "\n",
              "    .dataframe thead th {\n",
              "        text-align: right;\n",
              "    }\n",
              "</style>\n",
              "<table border=\"1\" class=\"dataframe\">\n",
              "  <thead>\n",
              "    <tr style=\"text-align: right;\">\n",
              "      <th></th>\n",
              "      <th>Raiz</th>\n",
              "      <th>Pasos</th>\n",
              "      <th>error %</th>\n",
              "      <th>Tiempo</th>\n",
              "    </tr>\n",
              "  </thead>\n",
              "  <tbody>\n",
              "    <tr>\n",
              "      <th>1.000000e-01</th>\n",
              "      <td>1.807375</td>\n",
              "      <td>3</td>\n",
              "      <td>9.631230</td>\n",
              "      <td>0.000019</td>\n",
              "    </tr>\n",
              "    <tr>\n",
              "      <th>1.000000e-02</th>\n",
              "      <td>1.807375</td>\n",
              "      <td>6</td>\n",
              "      <td>9.631231</td>\n",
              "      <td>0.000009</td>\n",
              "    </tr>\n",
              "    <tr>\n",
              "      <th>1.000000e-03</th>\n",
              "      <td>1.807375</td>\n",
              "      <td>10</td>\n",
              "      <td>9.631231</td>\n",
              "      <td>0.000013</td>\n",
              "    </tr>\n",
              "    <tr>\n",
              "      <th>1.000000e-04</th>\n",
              "      <td>1.807375</td>\n",
              "      <td>13</td>\n",
              "      <td>9.631231</td>\n",
              "      <td>0.000015</td>\n",
              "    </tr>\n",
              "    <tr>\n",
              "      <th>1.000000e-05</th>\n",
              "      <td>1.807375</td>\n",
              "      <td>16</td>\n",
              "      <td>9.631231</td>\n",
              "      <td>0.000018</td>\n",
              "    </tr>\n",
              "    <tr>\n",
              "      <th>1.000000e-06</th>\n",
              "      <td>1.807375</td>\n",
              "      <td>20</td>\n",
              "      <td>9.631231</td>\n",
              "      <td>0.000022</td>\n",
              "    </tr>\n",
              "    <tr>\n",
              "      <th>1.000000e-07</th>\n",
              "      <td>1.807375</td>\n",
              "      <td>23</td>\n",
              "      <td>9.631231</td>\n",
              "      <td>0.000026</td>\n",
              "    </tr>\n",
              "  </tbody>\n",
              "</table>\n",
              "</div>"
            ],
            "text/plain": [
              "                  Raiz  Pasos   error %    Tiempo\n",
              "1.000000e-01  1.807375      3  9.631230  0.000019\n",
              "1.000000e-02  1.807375      6  9.631231  0.000009\n",
              "1.000000e-03  1.807375     10  9.631231  0.000013\n",
              "1.000000e-04  1.807375     13  9.631231  0.000015\n",
              "1.000000e-05  1.807375     16  9.631231  0.000018\n",
              "1.000000e-06  1.807375     20  9.631231  0.000022\n",
              "1.000000e-07  1.807375     23  9.631231  0.000026"
            ]
          },
          "metadata": {
            "tags": []
          },
          "execution_count": 108
        }
      ]
    },
    {
      "cell_type": "markdown",
      "metadata": {
        "id": "NEGYsi-NckkK"
      },
      "source": [
        ""
      ]
    },
    {
      "cell_type": "markdown",
      "metadata": {
        "id": "G_w3MClhO6t6"
      },
      "source": [
        "Los métodos que mejor desempeño tuvieron fueron el de Ridders, el de Newton y el de la bisección. Para calcular la primera raíz. Pero el más consistente fue el de Ridders debido a que en ambas raíces mantuvo un error porcentual debajo del 10% mientras que en los otros el error porcentual explotaba hasta el 261%.En el método de la bisección se obtuvo un error porcentual de 0% pero con tiempos de carga mayores a los de Ridders. "
      ]
    },
    {
      "cell_type": "markdown",
      "metadata": {
        "id": "qW-ggrO4sxI5"
      },
      "source": [
        "<font size = 4 color = 'red'> 5. Vamos con la función $x^{1/3}$. Aquí la raiz es $x=0$. Se grafica primero."
      ]
    },
    {
      "cell_type": "code",
      "metadata": {
        "id": "YUNASyDtsxI5",
        "colab": {
          "base_uri": "https://localhost:8080/",
          "height": 320
        },
        "outputId": "76775f5b-fec5-4222-f0b1-f2ca14e21a6a"
      },
      "source": [
        "a_5 = np.arange(-3,3,0.005)\n",
        "def f_5(x): #se llamará f_i de aquí en adelante, con i el número de problema\n",
        "    return np.sign(x) * (np.abs(x)) ** (1/3) #por alguna razón numpy no calcula bien la potenciación de negativos\n",
        "                                             #con esto se soluciona\n",
        "\n",
        "plt.plot(a_5,f_5(a_5))\n",
        "plt.grid(True)"
      ],
      "execution_count": null,
      "outputs": [
        {
          "output_type": "display_data",
          "data": {
            "image/png": "[encoded data removed]",
            "text/plain": [
              "<Figure size 720x360 with 1 Axes>"
            ]
          },
          "metadata": {
            "tags": [],
            "needs_background": "light"
          }
        }
      ]
    },
    {
      "cell_type": "markdown",
      "metadata": {
        "id": "ZzHTdZy6sxI5"
      },
      "source": [
        "<font size = 4 color = 'red'> Se comienza con el incremental."
      ]
    },
    {
      "cell_type": "code",
      "metadata": {
        "id": "MNx_f9HjsxI5",
        "outputId": "c5c01889-6cef-4366-ba85-c81b8e7d2da3"
      },
      "source": [
        "print(incremental(f_5,-0.2,0.2,1e-7)) #la raíz esté entre -0.2 y 0.2 por la imagen"
      ],
      "execution_count": null,
      "outputs": [
        {
          "output_type": "stream",
          "text": [
            "[4.721179148182479e-12, 1999999.0]\n"
          ],
          "name": "stdout"
        }
      ]
    },
    {
      "cell_type": "code",
      "metadata": {
        "id": "ljufcm6msxI5",
        "colab": {
          "base_uri": "https://localhost:8080/",
          "height": 266
        },
        "outputId": "0fb5d96f-32c8-4670-b4a2-1e72d3d8e0a9"
      },
      "source": [
        "lista_incremental = []\n",
        "idx = []\n",
        "valor_real=0\n",
        "for i in range(1,8):\n",
        "    tol = 10**(-i)\n",
        "    idx.append(tol)\n",
        "    ti = time()\n",
        "    raiz=incremental(f_5,-0.2,0.2,tol) #cada renglon de la tabla\n",
        "    tfi = time()-ti\n",
        "    error=(abs(valor_real-raiz[0]))*100\n",
        "    lista_incremental.append([raiz[0],raiz[1],error,tfi])\n",
        "cols = [\"Raiz\",\"Pasos\",\"error %\",\"Tiempo\"]\n",
        "pd.DataFrame(lista_incremental, index=idx, columns=cols)"
      ],
      "execution_count": null,
      "outputs": [
        {
          "output_type": "execute_result",
          "data": {
            "text/html": [
              "<div>\n",
              "<style scoped>\n",
              "    .dataframe tbody tr th:only-of-type {\n",
              "        vertical-align: middle;\n",
              "    }\n",
              "\n",
              "    .dataframe tbody tr th {\n",
              "        vertical-align: top;\n",
              "    }\n",
              "\n",
              "    .dataframe thead th {\n",
              "        text-align: right;\n",
              "    }\n",
              "</style>\n",
              "<table border=\"1\" class=\"dataframe\">\n",
              "  <thead>\n",
              "    <tr style=\"text-align: right;\">\n",
              "      <th></th>\n",
              "      <th>Raiz</th>\n",
              "      <th>Pasos</th>\n",
              "      <th>error %</th>\n",
              "      <th>Tiempo</th>\n",
              "    </tr>\n",
              "  </thead>\n",
              "  <tbody>\n",
              "    <tr>\n",
              "      <th>1.000000e-01</th>\n",
              "      <td>0.000000e+00</td>\n",
              "      <td>1.0</td>\n",
              "      <td>0.000000e+00</td>\n",
              "      <td>0.000056</td>\n",
              "    </tr>\n",
              "    <tr>\n",
              "      <th>1.000000e-02</th>\n",
              "      <td>3.122502e-17</td>\n",
              "      <td>19.0</td>\n",
              "      <td>3.122502e-15</td>\n",
              "      <td>0.000057</td>\n",
              "    </tr>\n",
              "    <tr>\n",
              "      <th>1.000000e-03</th>\n",
              "      <td>1.595946e-16</td>\n",
              "      <td>199.0</td>\n",
              "      <td>1.595946e-14</td>\n",
              "      <td>0.000557</td>\n",
              "    </tr>\n",
              "    <tr>\n",
              "      <th>1.000000e-04</th>\n",
              "      <td>1.000000e-04</td>\n",
              "      <td>2000.0</td>\n",
              "      <td>1.000000e-02</td>\n",
              "      <td>0.005921</td>\n",
              "    </tr>\n",
              "    <tr>\n",
              "      <th>1.000000e-05</th>\n",
              "      <td>5.921888e-14</td>\n",
              "      <td>19999.0</td>\n",
              "      <td>5.921888e-12</td>\n",
              "      <td>0.062575</td>\n",
              "    </tr>\n",
              "    <tr>\n",
              "      <th>1.000000e-06</th>\n",
              "      <td>1.793523e-13</td>\n",
              "      <td>199999.0</td>\n",
              "      <td>1.793523e-11</td>\n",
              "      <td>0.513969</td>\n",
              "    </tr>\n",
              "    <tr>\n",
              "      <th>1.000000e-07</th>\n",
              "      <td>4.721179e-12</td>\n",
              "      <td>1999999.0</td>\n",
              "      <td>4.721179e-10</td>\n",
              "      <td>5.061095</td>\n",
              "    </tr>\n",
              "  </tbody>\n",
              "</table>\n",
              "</div>"
            ],
            "text/plain": [
              "                      Raiz      Pasos       error %    Tiempo\n",
              "1.000000e-01  0.000000e+00        1.0  0.000000e+00  0.000056\n",
              "1.000000e-02  3.122502e-17       19.0  3.122502e-15  0.000057\n",
              "1.000000e-03  1.595946e-16      199.0  1.595946e-14  0.000557\n",
              "1.000000e-04  1.000000e-04     2000.0  1.000000e-02  0.005921\n",
              "1.000000e-05  5.921888e-14    19999.0  5.921888e-12  0.062575\n",
              "1.000000e-06  1.793523e-13   199999.0  1.793523e-11  0.513969\n",
              "1.000000e-07  4.721179e-12  1999999.0  4.721179e-10  5.061095"
            ]
          },
          "metadata": {
            "tags": []
          },
          "execution_count": 66
        }
      ]
    },
    {
      "cell_type": "markdown",
      "metadata": {
        "id": "0gr-r4t4sxI5"
      },
      "source": [
        "<font size = 4 color = 'red'> El error porcentual fue de 4.7211e-10. Se sigue con el método de bisección"
      ]
    },
    {
      "cell_type": "code",
      "metadata": {
        "id": "5sgAv7pRsxI5",
        "outputId": "583afc0b-8abf-4c8e-a8b1-647e55ab6c24"
      },
      "source": [
        "print(biseccion(f_5,-0.2,0.2,1e-7))\n",
        "print(biseccion(f_5,-0.2,0.2,1e-7))"
      ],
      "execution_count": null,
      "outputs": [
        {
          "output_type": "stream",
          "text": [
            "[0.19999990463256836, 22]\n",
            "[0.19999990463256836, 22]\n"
          ],
          "name": "stdout"
        }
      ]
    },
    {
      "cell_type": "code",
      "metadata": {
        "id": "073W1A9wsxI5",
        "colab": {
          "base_uri": "https://localhost:8080/",
          "height": 266
        },
        "outputId": "6a0facbc-9fc5-406d-8c83-634a0f0c37e6"
      },
      "source": [
        "l_biseccion = []\n",
        "idx = []\n",
        "valor_real=0\n",
        "for i in range(1,8):\n",
        "    tol = 10**(-i)\n",
        "    idx.append(tol)\n",
        "    ti = time()\n",
        "    raiz=biseccion(f_5,-0.2,0.2,tol) #cada renglon de la tabla\n",
        "    tfi = time()-ti\n",
        "    error=abs(abs(valor_real-raiz[0]))*100\n",
        "    l_biseccion.append([raiz[0],raiz[1],error,tfi])\n",
        "cols = [\"Raiz\",\"Pasos\",\"error %\",\"Tiempo\"]\n",
        "pd.DataFrame(l_biseccion, index=idx, columns=cols)"
      ],
      "execution_count": null,
      "outputs": [
        {
          "output_type": "execute_result",
          "data": {
            "text/html": [
              "<div>\n",
              "<style scoped>\n",
              "    .dataframe tbody tr th:only-of-type {\n",
              "        vertical-align: middle;\n",
              "    }\n",
              "\n",
              "    .dataframe tbody tr th {\n",
              "        vertical-align: top;\n",
              "    }\n",
              "\n",
              "    .dataframe thead th {\n",
              "        text-align: right;\n",
              "    }\n",
              "</style>\n",
              "<table border=\"1\" class=\"dataframe\">\n",
              "  <thead>\n",
              "    <tr style=\"text-align: right;\">\n",
              "      <th></th>\n",
              "      <th>Raiz</th>\n",
              "      <th>Pasos</th>\n",
              "      <th>error %</th>\n",
              "      <th>Tiempo</th>\n",
              "    </tr>\n",
              "  </thead>\n",
              "  <tbody>\n",
              "    <tr>\n",
              "      <th>1.000000e-01</th>\n",
              "      <td>0.100000</td>\n",
              "      <td>2</td>\n",
              "      <td>10.000000</td>\n",
              "      <td>0.000119</td>\n",
              "    </tr>\n",
              "    <tr>\n",
              "      <th>1.000000e-02</th>\n",
              "      <td>0.193750</td>\n",
              "      <td>6</td>\n",
              "      <td>19.375000</td>\n",
              "      <td>0.000052</td>\n",
              "    </tr>\n",
              "    <tr>\n",
              "      <th>1.000000e-03</th>\n",
              "      <td>0.199219</td>\n",
              "      <td>9</td>\n",
              "      <td>19.921875</td>\n",
              "      <td>0.000133</td>\n",
              "    </tr>\n",
              "    <tr>\n",
              "      <th>1.000000e-04</th>\n",
              "      <td>0.199902</td>\n",
              "      <td>12</td>\n",
              "      <td>19.990234</td>\n",
              "      <td>0.000129</td>\n",
              "    </tr>\n",
              "    <tr>\n",
              "      <th>1.000000e-05</th>\n",
              "      <td>0.199994</td>\n",
              "      <td>16</td>\n",
              "      <td>19.999390</td>\n",
              "      <td>0.000179</td>\n",
              "    </tr>\n",
              "    <tr>\n",
              "      <th>1.000000e-06</th>\n",
              "      <td>0.199999</td>\n",
              "      <td>19</td>\n",
              "      <td>19.999924</td>\n",
              "      <td>0.000874</td>\n",
              "    </tr>\n",
              "    <tr>\n",
              "      <th>1.000000e-07</th>\n",
              "      <td>0.200000</td>\n",
              "      <td>22</td>\n",
              "      <td>19.999990</td>\n",
              "      <td>0.000304</td>\n",
              "    </tr>\n",
              "  </tbody>\n",
              "</table>\n",
              "</div>"
            ],
            "text/plain": [
              "                  Raiz  Pasos    error %    Tiempo\n",
              "1.000000e-01  0.100000      2  10.000000  0.000119\n",
              "1.000000e-02  0.193750      6  19.375000  0.000052\n",
              "1.000000e-03  0.199219      9  19.921875  0.000133\n",
              "1.000000e-04  0.199902     12  19.990234  0.000129\n",
              "1.000000e-05  0.199994     16  19.999390  0.000179\n",
              "1.000000e-06  0.199999     19  19.999924  0.000874\n",
              "1.000000e-07  0.200000     22  19.999990  0.000304"
            ]
          },
          "metadata": {
            "tags": []
          },
          "execution_count": 67
        }
      ]
    },
    {
      "cell_type": "markdown",
      "metadata": {
        "id": "8sxEPh1ksxI6"
      },
      "source": [
        "<font size = 4 color = 'red'> Aquí incluso el error se incrementa enormemente al mejorar el paso. El error porcentual fue de 19.99. Se sigue con Newton"
      ]
    },
    {
      "cell_type": "code",
      "metadata": {
        "id": "RaEN3x3NsxI6",
        "colab": {
          "base_uri": "https://localhost:8080/"
        },
        "outputId": "bee22b19-1823-40f8-a859-f5488028977d"
      },
      "source": [
        "df_5 = lambda x: 1/3 * np.sign(x) * np.abs(x) ** (-2/3) #se calcula a mano la derivada\n",
        "\n",
        "print(newton(f_5,df_5,0.2,1e-9)) #la raíz está cerca de 0.2"
      ],
      "execution_count": null,
      "outputs": [
        {
          "output_type": "stream",
          "text": [
            "[-inf, 515]\n"
          ],
          "name": "stdout"
        },
        {
          "output_type": "stream",
          "text": [
            "/usr/local/lib/python3.6/dist-packages/ipykernel_launcher.py:5: RuntimeWarning: overflow encountered in double_scalars\n",
            "  \"\"\"\n",
            "/usr/local/lib/python3.6/dist-packages/ipykernel_launcher.py:6: RuntimeWarning: invalid value encountered in double_scalars\n",
            "  \n"
          ],
          "name": "stderr"
        }
      ]
    },
    {
      "cell_type": "markdown",
      "metadata": {
        "id": "EX09lWO4sxI6"
      },
      "source": [
        "<font size = 4 color = 'red'> Debido a que la derivada diverge en $x=0$ que es la raíz, no se puede aplicar el método. Se sigue con la secante."
      ]
    },
    {
      "cell_type": "code",
      "metadata": {
        "id": "O5QRJ-iksxI6",
        "outputId": "27533c55-93ac-4e41-f0a9-8924c1771b45"
      },
      "source": [
        "print(secante(f_5,-0.2,0.2,delta=1e-9))"
      ],
      "execution_count": null,
      "outputs": [
        {
          "output_type": "stream",
          "text": [
            "[[-0.2, -0.5848035476425733, nan], [0.2, 0.5848035476425733, 0.4], [0.0, 0.0, -0.2]]\n"
          ],
          "name": "stdout"
        }
      ]
    },
    {
      "cell_type": "code",
      "metadata": {
        "id": "cqVxAaSrsxI6",
        "colab": {
          "base_uri": "https://localhost:8080/",
          "height": 266
        },
        "outputId": "e10e84b9-4819-4756-fe29-f0cca5f56310"
      },
      "source": [
        "l_secante = []\n",
        "idx = []\n",
        "valor_real=0\n",
        "for i in range(1,8):\n",
        "    tol = 10**(-i)\n",
        "    idx.append(tol)\n",
        "    ti = time()\n",
        "    raiz=secante(f_5, -0.2, 0.2, delta=tol)[-1] #nos quedamos con el último valor que nos da la raíz y el error\n",
        "    tfi = time() - ti\n",
        "    l_secante.append([raiz[0],abs(abs(raiz[0]-valor_real))*100,tfi])\n",
        "cols = [\"Raiz\",\"error %\",\"Tiempo\"]\n",
        "pd.DataFrame(l_secante, index=idx, columns=cols)"
      ],
      "execution_count": null,
      "outputs": [
        {
          "output_type": "execute_result",
          "data": {
            "text/html": [
              "<div>\n",
              "<style scoped>\n",
              "    .dataframe tbody tr th:only-of-type {\n",
              "        vertical-align: middle;\n",
              "    }\n",
              "\n",
              "    .dataframe tbody tr th {\n",
              "        vertical-align: top;\n",
              "    }\n",
              "\n",
              "    .dataframe thead th {\n",
              "        text-align: right;\n",
              "    }\n",
              "</style>\n",
              "<table border=\"1\" class=\"dataframe\">\n",
              "  <thead>\n",
              "    <tr style=\"text-align: right;\">\n",
              "      <th></th>\n",
              "      <th>Raiz</th>\n",
              "      <th>error %</th>\n",
              "      <th>Tiempo</th>\n",
              "    </tr>\n",
              "  </thead>\n",
              "  <tbody>\n",
              "    <tr>\n",
              "      <th>1.000000e-01</th>\n",
              "      <td>0.0</td>\n",
              "      <td>0.0</td>\n",
              "      <td>0.000096</td>\n",
              "    </tr>\n",
              "    <tr>\n",
              "      <th>1.000000e-02</th>\n",
              "      <td>0.0</td>\n",
              "      <td>0.0</td>\n",
              "      <td>0.000016</td>\n",
              "    </tr>\n",
              "    <tr>\n",
              "      <th>1.000000e-03</th>\n",
              "      <td>0.0</td>\n",
              "      <td>0.0</td>\n",
              "      <td>0.000014</td>\n",
              "    </tr>\n",
              "    <tr>\n",
              "      <th>1.000000e-04</th>\n",
              "      <td>0.0</td>\n",
              "      <td>0.0</td>\n",
              "      <td>0.000014</td>\n",
              "    </tr>\n",
              "    <tr>\n",
              "      <th>1.000000e-05</th>\n",
              "      <td>0.0</td>\n",
              "      <td>0.0</td>\n",
              "      <td>0.000014</td>\n",
              "    </tr>\n",
              "    <tr>\n",
              "      <th>1.000000e-06</th>\n",
              "      <td>0.0</td>\n",
              "      <td>0.0</td>\n",
              "      <td>0.000014</td>\n",
              "    </tr>\n",
              "    <tr>\n",
              "      <th>1.000000e-07</th>\n",
              "      <td>0.0</td>\n",
              "      <td>0.0</td>\n",
              "      <td>0.000014</td>\n",
              "    </tr>\n",
              "  </tbody>\n",
              "</table>\n",
              "</div>"
            ],
            "text/plain": [
              "              Raiz  error %    Tiempo\n",
              "1.000000e-01   0.0      0.0  0.000096\n",
              "1.000000e-02   0.0      0.0  0.000016\n",
              "1.000000e-03   0.0      0.0  0.000014\n",
              "1.000000e-04   0.0      0.0  0.000014\n",
              "1.000000e-05   0.0      0.0  0.000014\n",
              "1.000000e-06   0.0      0.0  0.000014\n",
              "1.000000e-07   0.0      0.0  0.000014"
            ]
          },
          "metadata": {
            "tags": []
          },
          "execution_count": 69
        }
      ]
    },
    {
      "cell_type": "markdown",
      "metadata": {
        "id": "1gA8AMC5sxI6"
      },
      "source": [
        "<font size = 4 color = 'red' > Converge muy bien. El error es justamente 0. Falta Ridders."
      ]
    },
    {
      "cell_type": "code",
      "metadata": {
        "id": "pvFzYTdEsxI6",
        "outputId": "25c131c4-9f87-41a2-825f-c459f7c07c7b"
      },
      "source": [
        "print(ridders(f_5,-0.2,0.2, tol=1e-9))"
      ],
      "execution_count": null,
      "outputs": [
        {
          "output_type": "stream",
          "text": [
            "(0.0, 1)\n"
          ],
          "name": "stdout"
        }
      ]
    },
    {
      "cell_type": "code",
      "metadata": {
        "id": "YB3l-NvJsxI6",
        "colab": {
          "base_uri": "https://localhost:8080/",
          "height": 266
        },
        "outputId": "8ac5625c-bb6d-43ad-e467-8e66b3430866"
      },
      "source": [
        "l_ridders = []\n",
        "idx = []\n",
        "valor_real= 0\n",
        "for i in range(1,8):\n",
        "    tol = 10**(-i)\n",
        "    idx.append(tol)\n",
        "    ti = time()\n",
        "    raiz=ridders(f_5,-0.2,0.2, tol) #cada renglon de la tabla\n",
        "    tfi = time() -ti\n",
        "    error=abs(abs(valor_real-raiz[0]))*100\n",
        "    l_ridders.append([raiz[0],raiz[1],error,tfi])\n",
        "cols = [\"Raiz\",\"Pasos\",\"error %\",\"Tiempo\"]\n",
        "pd.DataFrame(l_ridders, index=idx, columns=cols)"
      ],
      "execution_count": null,
      "outputs": [
        {
          "output_type": "execute_result",
          "data": {
            "text/html": [
              "<div>\n",
              "<style scoped>\n",
              "    .dataframe tbody tr th:only-of-type {\n",
              "        vertical-align: middle;\n",
              "    }\n",
              "\n",
              "    .dataframe tbody tr th {\n",
              "        vertical-align: top;\n",
              "    }\n",
              "\n",
              "    .dataframe thead th {\n",
              "        text-align: right;\n",
              "    }\n",
              "</style>\n",
              "<table border=\"1\" class=\"dataframe\">\n",
              "  <thead>\n",
              "    <tr style=\"text-align: right;\">\n",
              "      <th></th>\n",
              "      <th>Raiz</th>\n",
              "      <th>Pasos</th>\n",
              "      <th>error %</th>\n",
              "      <th>Tiempo</th>\n",
              "    </tr>\n",
              "  </thead>\n",
              "  <tbody>\n",
              "    <tr>\n",
              "      <th>1.000000e-01</th>\n",
              "      <td>0.0</td>\n",
              "      <td>1</td>\n",
              "      <td>0.0</td>\n",
              "      <td>0.000121</td>\n",
              "    </tr>\n",
              "    <tr>\n",
              "      <th>1.000000e-02</th>\n",
              "      <td>0.0</td>\n",
              "      <td>1</td>\n",
              "      <td>0.0</td>\n",
              "      <td>0.000017</td>\n",
              "    </tr>\n",
              "    <tr>\n",
              "      <th>1.000000e-03</th>\n",
              "      <td>0.0</td>\n",
              "      <td>1</td>\n",
              "      <td>0.0</td>\n",
              "      <td>0.000015</td>\n",
              "    </tr>\n",
              "    <tr>\n",
              "      <th>1.000000e-04</th>\n",
              "      <td>0.0</td>\n",
              "      <td>1</td>\n",
              "      <td>0.0</td>\n",
              "      <td>0.000015</td>\n",
              "    </tr>\n",
              "    <tr>\n",
              "      <th>1.000000e-05</th>\n",
              "      <td>0.0</td>\n",
              "      <td>1</td>\n",
              "      <td>0.0</td>\n",
              "      <td>0.000015</td>\n",
              "    </tr>\n",
              "    <tr>\n",
              "      <th>1.000000e-06</th>\n",
              "      <td>0.0</td>\n",
              "      <td>1</td>\n",
              "      <td>0.0</td>\n",
              "      <td>0.000015</td>\n",
              "    </tr>\n",
              "    <tr>\n",
              "      <th>1.000000e-07</th>\n",
              "      <td>0.0</td>\n",
              "      <td>1</td>\n",
              "      <td>0.0</td>\n",
              "      <td>0.000016</td>\n",
              "    </tr>\n",
              "  </tbody>\n",
              "</table>\n",
              "</div>"
            ],
            "text/plain": [
              "              Raiz  Pasos  error %    Tiempo\n",
              "1.000000e-01   0.0      1      0.0  0.000121\n",
              "1.000000e-02   0.0      1      0.0  0.000017\n",
              "1.000000e-03   0.0      1      0.0  0.000015\n",
              "1.000000e-04   0.0      1      0.0  0.000015\n",
              "1.000000e-05   0.0      1      0.0  0.000015\n",
              "1.000000e-06   0.0      1      0.0  0.000015\n",
              "1.000000e-07   0.0      1      0.0  0.000016"
            ]
          },
          "metadata": {
            "tags": []
          },
          "execution_count": 112
        }
      ]
    },
    {
      "cell_type": "markdown",
      "metadata": {
        "id": "NbLzCgXLsxI6"
      },
      "source": [
        "<font size = 4 color = 'red' > También el error fue 0. Por ello es el mejor método junto con el de la secante, el tiempo de computo en ambos además es del órden de 1e-5. Fueron los únicos buenos métodos, el peor fue Newton ya que nisiquiera pudo calcular la raíz, la bisección e incremental tampoco fueron buenos, tuvieron errores porcentuales cercanos al 20%, y el incremental con un terrible tiempo de computo de 5s."
      ]
    },
    {
      "cell_type": "code",
      "metadata": {
        "id": "6mWzk8OwsxI6"
      },
      "source": [
        "plot(xx,f(xx))\n",
        "xlim(-1,1)\n",
        "ylim(-10,10)"
      ],
      "execution_count": null,
      "outputs": []
    },
    {
      "cell_type": "markdown",
      "metadata": {
        "id": "Y__oOrZJDB83"
      },
      "source": [
        "<font size = 4 color = 'orange'> 7. Se sigue con la función $x-\\cos(x)$, en el dominio $x \\in (0,\\pi/2)$. Mathematica arroja la raíz 0.73908513321516064166 "
      ]
    },
    {
      "cell_type": "code",
      "metadata": {
        "colab": {
          "base_uri": "https://localhost:8080/",
          "height": 320
        },
        "id": "UahAT_wdDS4W",
        "outputId": "7b0efffb-2e99-47ff-92ab-c4614d590454"
      },
      "source": [
        "import numpy as np\n",
        "import matplotlib.pyplot as plt\n",
        "valor7 = 0.73908513321516064166\n",
        "a = np.arange(0,np.pi/2,0.05)\n",
        "\n",
        "plt.plot(a,f7(a))\n",
        "plt.grid(True)"
      ],
      "execution_count": null,
      "outputs": [
        {
          "output_type": "display_data",
          "data": {
            "image/png": "[encoded data removed]",
            "text/plain": [
              "<Figure size 720x360 with 1 Axes>"
            ]
          },
          "metadata": {
            "tags": [],
            "needs_background": "light"
          }
        }
      ]
    },
    {
      "cell_type": "code",
      "metadata": {
        "colab": {
          "base_uri": "https://localhost:8080/"
        },
        "id": "obfZfet9Ew4q",
        "outputId": "9650112e-642a-4c36-fbb5-f19b620f2e99"
      },
      "source": [
        "print(incremental(f7,0.6,0.8,1e-7)) #la primer raíz está entre 0.6 y 0.8"
      ],
      "execution_count": null,
      "outputs": [
        {
          "output_type": "stream",
          "text": [
            "[0.7390851999267917, 1390851.0]\n"
          ],
          "name": "stdout"
        }
      ]
    },
    {
      "cell_type": "code",
      "metadata": {
        "colab": {
          "base_uri": "https://localhost:8080/",
          "height": 266
        },
        "id": "MQXs-CRnF9BF",
        "outputId": "f0f44c3a-a5bf-488b-c82d-f213d7fa0f18"
      },
      "source": [
        "from time import time\n",
        "\n",
        "lista_incremental = []\n",
        "idx = []\n",
        "valor_real= valor7\n",
        "for i in range(1,8):\n",
        "    tol = 10**(-i)\n",
        "    idx.append(tol)\n",
        "    ti = time()\n",
        "    raiz=incremental(f7,0.6,0.8,tol) #cada renglon de la tabla\n",
        "    tfi = time() - ti\n",
        "    error=(abs(valor_real-raiz[0])/valor_real)*100\n",
        "    lista_incremental.append([raiz[0],raiz[1],error, tfi])\n",
        "cols = [\"Raiz\",\"Pasos\",\"error %\",\"Tiempo\"]\n",
        "pd.DataFrame(lista_incremental, index=idx, columns=cols)"
      ],
      "execution_count": null,
      "outputs": [
        {
          "output_type": "execute_result",
          "data": {
            "text/html": [
              "<div>\n",
              "<style scoped>\n",
              "    .dataframe tbody tr th:only-of-type {\n",
              "        vertical-align: middle;\n",
              "    }\n",
              "\n",
              "    .dataframe tbody tr th {\n",
              "        vertical-align: top;\n",
              "    }\n",
              "\n",
              "    .dataframe thead th {\n",
              "        text-align: right;\n",
              "    }\n",
              "</style>\n",
              "<table border=\"1\" class=\"dataframe\">\n",
              "  <thead>\n",
              "    <tr style=\"text-align: right;\">\n",
              "      <th></th>\n",
              "      <th>Raiz</th>\n",
              "      <th>Pasos</th>\n",
              "      <th>error %</th>\n",
              "      <th>Tiempo</th>\n",
              "    </tr>\n",
              "  </thead>\n",
              "  <tbody>\n",
              "    <tr>\n",
              "      <th>1.000000e-01</th>\n",
              "      <td>0.800000</td>\n",
              "      <td>1.0</td>\n",
              "      <td>8.241928</td>\n",
              "      <td>0.000050</td>\n",
              "    </tr>\n",
              "    <tr>\n",
              "      <th>1.000000e-02</th>\n",
              "      <td>0.740000</td>\n",
              "      <td>13.0</td>\n",
              "      <td>0.123784</td>\n",
              "      <td>0.000025</td>\n",
              "    </tr>\n",
              "    <tr>\n",
              "      <th>1.000000e-03</th>\n",
              "      <td>0.740000</td>\n",
              "      <td>139.0</td>\n",
              "      <td>0.123784</td>\n",
              "      <td>0.000205</td>\n",
              "    </tr>\n",
              "    <tr>\n",
              "      <th>1.000000e-04</th>\n",
              "      <td>0.739100</td>\n",
              "      <td>1390.0</td>\n",
              "      <td>0.002012</td>\n",
              "      <td>0.001983</td>\n",
              "    </tr>\n",
              "    <tr>\n",
              "      <th>1.000000e-05</th>\n",
              "      <td>0.739090</td>\n",
              "      <td>13908.0</td>\n",
              "      <td>0.000658</td>\n",
              "      <td>0.026470</td>\n",
              "    </tr>\n",
              "    <tr>\n",
              "      <th>1.000000e-06</th>\n",
              "      <td>0.739086</td>\n",
              "      <td>139085.0</td>\n",
              "      <td>0.000117</td>\n",
              "      <td>0.205005</td>\n",
              "    </tr>\n",
              "    <tr>\n",
              "      <th>1.000000e-07</th>\n",
              "      <td>0.739085</td>\n",
              "      <td>1390851.0</td>\n",
              "      <td>0.000009</td>\n",
              "      <td>2.024467</td>\n",
              "    </tr>\n",
              "  </tbody>\n",
              "</table>\n",
              "</div>"
            ],
            "text/plain": [
              "                  Raiz      Pasos   error %    Tiempo\n",
              "1.000000e-01  0.800000        1.0  8.241928  0.000050\n",
              "1.000000e-02  0.740000       13.0  0.123784  0.000025\n",
              "1.000000e-03  0.740000      139.0  0.123784  0.000205\n",
              "1.000000e-04  0.739100     1390.0  0.002012  0.001983\n",
              "1.000000e-05  0.739090    13908.0  0.000658  0.026470\n",
              "1.000000e-06  0.739086   139085.0  0.000117  0.205005\n",
              "1.000000e-07  0.739085  1390851.0  0.000009  2.024467"
            ]
          },
          "metadata": {
            "tags": []
          },
          "execution_count": 92
        }
      ]
    },
    {
      "cell_type": "code",
      "metadata": {
        "colab": {
          "base_uri": "https://localhost:8080/"
        },
        "id": "FR4w_32pGpBf",
        "outputId": "14f977d1-3fd6-4372-edf2-edcdb0c4a185"
      },
      "source": [
        "print(biseccion(f7,0.6,0.8,1e-7))"
      ],
      "execution_count": null,
      "outputs": [
        {
          "output_type": "stream",
          "text": [
            "[0.7390851020812989, 21]\n"
          ],
          "name": "stdout"
        }
      ]
    },
    {
      "cell_type": "code",
      "metadata": {
        "colab": {
          "base_uri": "https://localhost:8080/",
          "height": 266
        },
        "id": "9p07NgKIGPJZ",
        "outputId": "261e0c48-b3e0-4da0-de5e-b53dd5fbb678"
      },
      "source": [
        "l_biseccion = []\n",
        "idx = []\n",
        "valor_real=valor7\n",
        "for i in range(1,8):\n",
        "    tol = 10**(-i)\n",
        "    idx.append(tol)\n",
        "    ti = time()\n",
        "    raiz=biseccion(f_5,0.6,0.8,tol) #cada renglon de la tabla\n",
        "    tfi = time()-ti\n",
        "    error=abs(abs(valor_real-raiz[0]))*100\n",
        "    l_biseccion.append([raiz[0],raiz[1],error,tfi])\n",
        "cols = [\"Raiz\",\"Pasos\",\"error %\",\"Tiempo\"]\n",
        "pd.DataFrame(l_biseccion, index=idx, columns=cols)"
      ],
      "execution_count": null,
      "outputs": [
        {
          "output_type": "execute_result",
          "data": {
            "text/html": [
              "<div>\n",
              "<style scoped>\n",
              "    .dataframe tbody tr th:only-of-type {\n",
              "        vertical-align: middle;\n",
              "    }\n",
              "\n",
              "    .dataframe tbody tr th {\n",
              "        vertical-align: top;\n",
              "    }\n",
              "\n",
              "    .dataframe thead th {\n",
              "        text-align: right;\n",
              "    }\n",
              "</style>\n",
              "<table border=\"1\" class=\"dataframe\">\n",
              "  <thead>\n",
              "    <tr style=\"text-align: right;\">\n",
              "      <th></th>\n",
              "      <th>Raiz</th>\n",
              "      <th>Pasos</th>\n",
              "      <th>error %</th>\n",
              "      <th>Tiempo</th>\n",
              "    </tr>\n",
              "  </thead>\n",
              "  <tbody>\n",
              "    <tr>\n",
              "      <th>1.000000e-01</th>\n",
              "      <td>0.750000</td>\n",
              "      <td>2</td>\n",
              "      <td>1.091487</td>\n",
              "      <td>0.000086</td>\n",
              "    </tr>\n",
              "    <tr>\n",
              "      <th>1.000000e-02</th>\n",
              "      <td>0.793750</td>\n",
              "      <td>5</td>\n",
              "      <td>5.466487</td>\n",
              "      <td>0.000047</td>\n",
              "    </tr>\n",
              "    <tr>\n",
              "      <th>1.000000e-03</th>\n",
              "      <td>0.799219</td>\n",
              "      <td>8</td>\n",
              "      <td>6.013362</td>\n",
              "      <td>0.000073</td>\n",
              "    </tr>\n",
              "    <tr>\n",
              "      <th>1.000000e-04</th>\n",
              "      <td>0.799902</td>\n",
              "      <td>11</td>\n",
              "      <td>6.081721</td>\n",
              "      <td>0.000122</td>\n",
              "    </tr>\n",
              "    <tr>\n",
              "      <th>1.000000e-05</th>\n",
              "      <td>0.799994</td>\n",
              "      <td>15</td>\n",
              "      <td>6.090876</td>\n",
              "      <td>0.000126</td>\n",
              "    </tr>\n",
              "    <tr>\n",
              "      <th>1.000000e-06</th>\n",
              "      <td>0.799999</td>\n",
              "      <td>18</td>\n",
              "      <td>6.091410</td>\n",
              "      <td>0.000141</td>\n",
              "    </tr>\n",
              "    <tr>\n",
              "      <th>1.000000e-07</th>\n",
              "      <td>0.800000</td>\n",
              "      <td>21</td>\n",
              "      <td>6.091477</td>\n",
              "      <td>0.000175</td>\n",
              "    </tr>\n",
              "  </tbody>\n",
              "</table>\n",
              "</div>"
            ],
            "text/plain": [
              "                  Raiz  Pasos   error %    Tiempo\n",
              "1.000000e-01  0.750000      2  1.091487  0.000086\n",
              "1.000000e-02  0.793750      5  5.466487  0.000047\n",
              "1.000000e-03  0.799219      8  6.013362  0.000073\n",
              "1.000000e-04  0.799902     11  6.081721  0.000122\n",
              "1.000000e-05  0.799994     15  6.090876  0.000126\n",
              "1.000000e-06  0.799999     18  6.091410  0.000141\n",
              "1.000000e-07  0.800000     21  6.091477  0.000175"
            ]
          },
          "metadata": {
            "tags": []
          },
          "execution_count": 94
        }
      ]
    },
    {
      "cell_type": "code",
      "metadata": {
        "colab": {
          "base_uri": "https://localhost:8080/"
        },
        "id": "aSJDh0oWG29g",
        "outputId": "1b6c976b-e17e-4e6c-8909-188f89ba9d22"
      },
      "source": [
        "print(newton(f7,df7,0.6,epsilon=1e-7)) #la raíz está cerca de 0.6"
      ],
      "execution_count": null,
      "outputs": [
        {
          "output_type": "stream",
          "text": [
            "[0.7390851332151607, 4]\n"
          ],
          "name": "stdout"
        }
      ]
    },
    {
      "cell_type": "code",
      "metadata": {
        "colab": {
          "base_uri": "https://localhost:8080/",
          "height": 266
        },
        "id": "voDRSO57HEfr",
        "outputId": "5944780c-8550-443c-a9da-acbc62ea8c2d"
      },
      "source": [
        "from time import time\n",
        "\n",
        "l_Newton = []\n",
        "idx = []\n",
        "valor_real=valor7\n",
        "for i in range(1,8):\n",
        "    tol = 10**(-i)\n",
        "    idx.append(tol)\n",
        "    ti = time()\n",
        "    raiz=newton(f7,df7,0.6,epsilon = tol) #cada renglon de la tabla\n",
        "    tfi = time()-ti\n",
        "    error=abs(abs(valor_real-raiz[0])/valor_real)*100\n",
        "    l_Newton.append([raiz[0],raiz[1],error,tfi])\n",
        "cols = [\"Raiz\",\"Pasos\",\"error %\",\"Tiempo\"]\n",
        "pd.DataFrame(l_Newton, index=idx, columns=cols)"
      ],
      "execution_count": null,
      "outputs": [
        {
          "output_type": "execute_result",
          "data": {
            "text/html": [
              "<div>\n",
              "<style scoped>\n",
              "    .dataframe tbody tr th:only-of-type {\n",
              "        vertical-align: middle;\n",
              "    }\n",
              "\n",
              "    .dataframe tbody tr th {\n",
              "        vertical-align: top;\n",
              "    }\n",
              "\n",
              "    .dataframe thead th {\n",
              "        text-align: right;\n",
              "    }\n",
              "</style>\n",
              "<table border=\"1\" class=\"dataframe\">\n",
              "  <thead>\n",
              "    <tr style=\"text-align: right;\">\n",
              "      <th></th>\n",
              "      <th>Raiz</th>\n",
              "      <th>Pasos</th>\n",
              "      <th>error %</th>\n",
              "      <th>Tiempo</th>\n",
              "    </tr>\n",
              "  </thead>\n",
              "  <tbody>\n",
              "    <tr>\n",
              "      <th>1.000000e-01</th>\n",
              "      <td>0.739090</td>\n",
              "      <td>2</td>\n",
              "      <td>7.230116e-04</td>\n",
              "      <td>0.000074</td>\n",
              "    </tr>\n",
              "    <tr>\n",
              "      <th>1.000000e-02</th>\n",
              "      <td>0.739090</td>\n",
              "      <td>2</td>\n",
              "      <td>7.230116e-04</td>\n",
              "      <td>0.000010</td>\n",
              "    </tr>\n",
              "    <tr>\n",
              "      <th>1.000000e-03</th>\n",
              "      <td>0.739085</td>\n",
              "      <td>3</td>\n",
              "      <td>8.530758e-10</td>\n",
              "      <td>0.000013</td>\n",
              "    </tr>\n",
              "    <tr>\n",
              "      <th>1.000000e-04</th>\n",
              "      <td>0.739085</td>\n",
              "      <td>3</td>\n",
              "      <td>8.530758e-10</td>\n",
              "      <td>0.000012</td>\n",
              "    </tr>\n",
              "    <tr>\n",
              "      <th>1.000000e-05</th>\n",
              "      <td>0.739085</td>\n",
              "      <td>3</td>\n",
              "      <td>8.530758e-10</td>\n",
              "      <td>0.000038</td>\n",
              "    </tr>\n",
              "    <tr>\n",
              "      <th>1.000000e-06</th>\n",
              "      <td>0.739085</td>\n",
              "      <td>4</td>\n",
              "      <td>0.000000e+00</td>\n",
              "      <td>0.000029</td>\n",
              "    </tr>\n",
              "    <tr>\n",
              "      <th>1.000000e-07</th>\n",
              "      <td>0.739085</td>\n",
              "      <td>4</td>\n",
              "      <td>0.000000e+00</td>\n",
              "      <td>0.000022</td>\n",
              "    </tr>\n",
              "  </tbody>\n",
              "</table>\n",
              "</div>"
            ],
            "text/plain": [
              "                  Raiz  Pasos       error %    Tiempo\n",
              "1.000000e-01  0.739090      2  7.230116e-04  0.000074\n",
              "1.000000e-02  0.739090      2  7.230116e-04  0.000010\n",
              "1.000000e-03  0.739085      3  8.530758e-10  0.000013\n",
              "1.000000e-04  0.739085      3  8.530758e-10  0.000012\n",
              "1.000000e-05  0.739085      3  8.530758e-10  0.000038\n",
              "1.000000e-06  0.739085      4  0.000000e+00  0.000029\n",
              "1.000000e-07  0.739085      4  0.000000e+00  0.000022"
            ]
          },
          "metadata": {
            "tags": []
          },
          "execution_count": 106
        }
      ]
    },
    {
      "cell_type": "code",
      "metadata": {
        "colab": {
          "base_uri": "https://localhost:8080/"
        },
        "id": "VnTxakbtIbZh",
        "outputId": "a2a0caf4-f5f1-472a-972d-cfe4836d6ba1"
      },
      "source": [
        "print(secante(f7,0.6,0.8,delta=1e-9))"
      ],
      "execution_count": null,
      "outputs": [
        {
          "output_type": "stream",
          "text": [
            "[[0.6, -0.22533561490967835, nan], [0.8, 0.10329329065283466, 0.20000000000000007], [0.7371368197353012, -0.003259317290635555, -0.06286318026469884], [0.7390597295010554, -4.2515723026825825e-05, 0.001922909765754155], [0.739085144155111, 1.8309232463487035e-08, 2.5414654055588848e-05], [0.7390851332150993, -1.0269562977782698e-13, -1.0940011674342998e-08]]\n"
          ],
          "name": "stdout"
        }
      ]
    },
    {
      "cell_type": "code",
      "metadata": {
        "colab": {
          "base_uri": "https://localhost:8080/",
          "height": 266
        },
        "id": "hWoSFQjDImir",
        "outputId": "d2a7b9f3-476f-49ad-fbb9-6cba48ce0d4c"
      },
      "source": [
        "l_secante = []\n",
        "idx = []\n",
        "valor_real=valor7\n",
        "for i in range(1,8):\n",
        "    tol = 10**(-i)\n",
        "    idx.append(tol)\n",
        "    ti = time()\n",
        "    raiz=secante(f7, 0.6, 0.8, delta=tol)[-1] #nos quedamos con el último valor que nos da la raíz y el error\n",
        "    tfi = time() - ti\n",
        "    l_secante.append([raiz[0],abs(abs(raiz[0]-valor_real))*100,tfi])\n",
        "cols = [\"Raiz\",\"error %\",\"Tiempo\"]\n",
        "pd.DataFrame(l_secante, index=idx, columns=cols)"
      ],
      "execution_count": null,
      "outputs": [
        {
          "output_type": "execute_result",
          "data": {
            "text/html": [
              "<div>\n",
              "<style scoped>\n",
              "    .dataframe tbody tr th:only-of-type {\n",
              "        vertical-align: middle;\n",
              "    }\n",
              "\n",
              "    .dataframe tbody tr th {\n",
              "        vertical-align: top;\n",
              "    }\n",
              "\n",
              "    .dataframe thead th {\n",
              "        text-align: right;\n",
              "    }\n",
              "</style>\n",
              "<table border=\"1\" class=\"dataframe\">\n",
              "  <thead>\n",
              "    <tr style=\"text-align: right;\">\n",
              "      <th></th>\n",
              "      <th>Raiz</th>\n",
              "      <th>error %</th>\n",
              "      <th>Tiempo</th>\n",
              "    </tr>\n",
              "  </thead>\n",
              "  <tbody>\n",
              "    <tr>\n",
              "      <th>1.000000e-01</th>\n",
              "      <td>0.737137</td>\n",
              "      <td>0.194831</td>\n",
              "      <td>0.000048</td>\n",
              "    </tr>\n",
              "    <tr>\n",
              "      <th>1.000000e-02</th>\n",
              "      <td>0.737137</td>\n",
              "      <td>0.194831</td>\n",
              "      <td>0.000012</td>\n",
              "    </tr>\n",
              "    <tr>\n",
              "      <th>1.000000e-03</th>\n",
              "      <td>0.739060</td>\n",
              "      <td>0.002540</td>\n",
              "      <td>0.000014</td>\n",
              "    </tr>\n",
              "    <tr>\n",
              "      <th>1.000000e-04</th>\n",
              "      <td>0.739060</td>\n",
              "      <td>0.002540</td>\n",
              "      <td>0.000012</td>\n",
              "    </tr>\n",
              "    <tr>\n",
              "      <th>1.000000e-05</th>\n",
              "      <td>0.739085</td>\n",
              "      <td>0.000001</td>\n",
              "      <td>0.000016</td>\n",
              "    </tr>\n",
              "    <tr>\n",
              "      <th>1.000000e-06</th>\n",
              "      <td>0.739085</td>\n",
              "      <td>0.000001</td>\n",
              "      <td>0.000016</td>\n",
              "    </tr>\n",
              "    <tr>\n",
              "      <th>1.000000e-07</th>\n",
              "      <td>0.739085</td>\n",
              "      <td>0.000001</td>\n",
              "      <td>0.000015</td>\n",
              "    </tr>\n",
              "  </tbody>\n",
              "</table>\n",
              "</div>"
            ],
            "text/plain": [
              "                  Raiz   error %    Tiempo\n",
              "1.000000e-01  0.737137  0.194831  0.000048\n",
              "1.000000e-02  0.737137  0.194831  0.000012\n",
              "1.000000e-03  0.739060  0.002540  0.000014\n",
              "1.000000e-04  0.739060  0.002540  0.000012\n",
              "1.000000e-05  0.739085  0.000001  0.000016\n",
              "1.000000e-06  0.739085  0.000001  0.000016\n",
              "1.000000e-07  0.739085  0.000001  0.000015"
            ]
          },
          "metadata": {
            "tags": []
          },
          "execution_count": 108
        }
      ]
    },
    {
      "cell_type": "code",
      "metadata": {
        "colab": {
          "base_uri": "https://localhost:8080/"
        },
        "id": "xuQhR-YdIu8s",
        "outputId": "3dd54e76-79f0-454d-beb9-0cc0eb3b65ec"
      },
      "source": [
        "print(ridders(f7,0.6,0.8, tol=1e-9))"
      ],
      "execution_count": null,
      "outputs": [
        {
          "output_type": "stream",
          "text": [
            "(0.7390851332151606, 27)\n"
          ],
          "name": "stdout"
        }
      ]
    },
    {
      "cell_type": "code",
      "metadata": {
        "colab": {
          "base_uri": "https://localhost:8080/",
          "height": 266
        },
        "id": "6GhAUtuJI0jT",
        "outputId": "f701d218-d170-4be2-ed31-dfcc5ec0491c"
      },
      "source": [
        "l_ridders = []\n",
        "idx = []\n",
        "valor_real= valor7\n",
        "for i in range(1,8):\n",
        "    tol = 10**(-i)\n",
        "    idx.append(tol)\n",
        "    ti = time()\n",
        "    raiz=ridders(f7,0.6,0.8, tol) #cada renglon de la tabla\n",
        "    tfi = time() - ti\n",
        "    error=abs(abs(valor_real-raiz[0]))*100\n",
        "    l_ridders.append([raiz[0],raiz[1],error,tfi])\n",
        "cols = [\"Raiz\",\"Pasos\",\"error %\",\"Tiempo\"]\n",
        "pd.DataFrame(l_ridders, index=idx, columns=cols)"
      ],
      "execution_count": null,
      "outputs": [
        {
          "output_type": "execute_result",
          "data": {
            "text/html": [
              "<div>\n",
              "<style scoped>\n",
              "    .dataframe tbody tr th:only-of-type {\n",
              "        vertical-align: middle;\n",
              "    }\n",
              "\n",
              "    .dataframe tbody tr th {\n",
              "        vertical-align: top;\n",
              "    }\n",
              "\n",
              "    .dataframe thead th {\n",
              "        text-align: right;\n",
              "    }\n",
              "</style>\n",
              "<table border=\"1\" class=\"dataframe\">\n",
              "  <thead>\n",
              "    <tr style=\"text-align: right;\">\n",
              "      <th></th>\n",
              "      <th>Raiz</th>\n",
              "      <th>Pasos</th>\n",
              "      <th>error %</th>\n",
              "      <th>Tiempo</th>\n",
              "    </tr>\n",
              "  </thead>\n",
              "  <tbody>\n",
              "    <tr>\n",
              "      <th>1.000000e-01</th>\n",
              "      <td>0.739115</td>\n",
              "      <td>1</td>\n",
              "      <td>3.028491e-03</td>\n",
              "      <td>0.000094</td>\n",
              "    </tr>\n",
              "    <tr>\n",
              "      <th>1.000000e-02</th>\n",
              "      <td>0.739085</td>\n",
              "      <td>3</td>\n",
              "      <td>3.674838e-12</td>\n",
              "      <td>0.000030</td>\n",
              "    </tr>\n",
              "    <tr>\n",
              "      <th>1.000000e-03</th>\n",
              "      <td>0.739085</td>\n",
              "      <td>7</td>\n",
              "      <td>1.110223e-14</td>\n",
              "      <td>0.000063</td>\n",
              "    </tr>\n",
              "    <tr>\n",
              "      <th>1.000000e-04</th>\n",
              "      <td>0.739085</td>\n",
              "      <td>10</td>\n",
              "      <td>1.110223e-14</td>\n",
              "      <td>0.000076</td>\n",
              "    </tr>\n",
              "    <tr>\n",
              "      <th>1.000000e-05</th>\n",
              "      <td>0.739085</td>\n",
              "      <td>13</td>\n",
              "      <td>1.110223e-14</td>\n",
              "      <td>0.000097</td>\n",
              "    </tr>\n",
              "    <tr>\n",
              "      <th>1.000000e-06</th>\n",
              "      <td>0.739085</td>\n",
              "      <td>17</td>\n",
              "      <td>1.110223e-14</td>\n",
              "      <td>0.000124</td>\n",
              "    </tr>\n",
              "    <tr>\n",
              "      <th>1.000000e-07</th>\n",
              "      <td>0.739085</td>\n",
              "      <td>20</td>\n",
              "      <td>1.110223e-14</td>\n",
              "      <td>0.000175</td>\n",
              "    </tr>\n",
              "  </tbody>\n",
              "</table>\n",
              "</div>"
            ],
            "text/plain": [
              "                  Raiz  Pasos       error %    Tiempo\n",
              "1.000000e-01  0.739115      1  3.028491e-03  0.000094\n",
              "1.000000e-02  0.739085      3  3.674838e-12  0.000030\n",
              "1.000000e-03  0.739085      7  1.110223e-14  0.000063\n",
              "1.000000e-04  0.739085     10  1.110223e-14  0.000076\n",
              "1.000000e-05  0.739085     13  1.110223e-14  0.000097\n",
              "1.000000e-06  0.739085     17  1.110223e-14  0.000124\n",
              "1.000000e-07  0.739085     20  1.110223e-14  0.000175"
            ]
          },
          "metadata": {
            "tags": []
          },
          "execution_count": 111
        }
      ]
    },
    {
      "cell_type": "markdown",
      "metadata": {
        "id": "DTp0dY35I959"
      },
      "source": [
        "<font size = 4 color = 'orange' > Cómo se puede ver por los errores, el peor método es el de la bisección, pues tiene un error porcentual de 6%, mientras que un tiempo de computo de 1.75e-4 s, lo cuál es bueno, pues el incremental tiene un tiempo de 2 s aunque un error del órden de 1e-6. El mejor método fue el de Newton ya que reporta un error de 0%, su tiempo fue del órden de 2.2e-6, menor en este caso que el resto de métodos. "
      ]
    },
    {
      "cell_type": "markdown",
      "metadata": {
        "id": "ea3447nigiOh"
      },
      "source": [
        "<font size = 4 color='black'> 8.$f(x) = \\cos(x)-x^3$"
      ]
    },
    {
      "cell_type": "code",
      "metadata": {
        "id": "tVkPrZnjgzID"
      },
      "source": [
        "xx = linspace(-10,10,10000) \n",
        "rcParams[ 'figure.figsize' ] = (10,5)"
      ],
      "execution_count": null,
      "outputs": []
    },
    {
      "cell_type": "code",
      "metadata": {
        "colab": {
          "base_uri": "https://localhost:8080/",
          "height": 341
        },
        "id": "3dWpR7YsyrHa",
        "outputId": "56aacfc0-89ba-4d2e-a294-526788b0cb35"
      },
      "source": [
        "plot(xx,f8(xx))\n",
        "plot(xx,zeros(len(xx)))\n",
        "xlim(-5,5)\n",
        "ylim(-10,10)"
      ],
      "execution_count": null,
      "outputs": [
        {
          "output_type": "execute_result",
          "data": {
            "text/plain": [
              "(-10.0, 10.0)"
            ]
          },
          "metadata": {
            "tags": []
          },
          "execution_count": 167
        },
        {
          "output_type": "display_data",
          "data": {
            "image/png": "[encoded data removed]",
            "text/plain": [
              "<Figure size 720x360 with 1 Axes>"
            ]
          },
          "metadata": {
            "tags": [],
            "needs_background": "light"
          }
        }
      ]
    },
    {
      "cell_type": "markdown",
      "metadata": {
        "id": "NOa12T70k7nF"
      },
      "source": [
        "<font size = 4  color = \"black\"> Método incremental"
      ]
    },
    {
      "cell_type": "code",
      "metadata": {
        "id": "-7rdAqThk7nF",
        "colab": {
          "base_uri": "https://localhost:8080/"
        },
        "outputId": "5aeeb957-fd6a-49ca-f874-d904172b1310"
      },
      "source": [
        "print(incremental(f8,1.5,2.5,1e-7))#una raíz está entre 1.5 y 2.5"
      ],
      "execution_count": null,
      "outputs": [
        {
          "output_type": "stream",
          "text": [
            "nada\n"
          ],
          "name": "stdout"
        }
      ]
    },
    {
      "cell_type": "code",
      "metadata": {
        "id": "iUflTJhkk7nF"
      },
      "source": [
        "# Consideremos el tiempo de cómputo del método incremental para la función 2\n"
      ],
      "execution_count": null,
      "outputs": []
    },
    {
      "cell_type": "markdown",
      "metadata": {
        "id": "dosSuY4jk7nF"
      },
      "source": [
        "Ya que no se obtuvo ningún resultado no es posible evaluar el error porcentual y el tiempo de cómputo de el método incremental"
      ]
    },
    {
      "cell_type": "markdown",
      "metadata": {
        "id": "65DcYIByk7nG"
      },
      "source": [
        "<font size = 4  color = \"black\"> Método de bisección "
      ]
    },
    {
      "cell_type": "code",
      "metadata": {
        "colab": {
          "base_uri": "https://localhost:8080/"
        },
        "id": "XNOaoV5mk7nG",
        "outputId": "beeb8621-ba21-45f2-80b8-c3c5a0eda0fd"
      },
      "source": [
        "print(biseccion(f8,1.5,2.5,1e-9))"
      ],
      "execution_count": null,
      "outputs": [
        {
          "output_type": "stream",
          "text": [
            "[2.4999999990686774, 30]\n"
          ],
          "name": "stdout"
        }
      ]
    },
    {
      "cell_type": "markdown",
      "metadata": {
        "id": "qM_11hV_k7nG"
      },
      "source": [
        "Ahora continuamos para obtener el error porcentual del método de la bisección para la función 2"
      ]
    },
    {
      "cell_type": "code",
      "metadata": {
        "colab": {
          "base_uri": "https://localhost:8080/",
          "height": 266
        },
        "id": "mcGDZGfGk7nG",
        "outputId": "977bff5a-f513-4f7f-8fef-4e0549c148ec"
      },
      "source": [
        "  l_biseccion = []\n",
        "idx = []\n",
        "t= []\n",
        "valor_real=-2.5\n",
        "for i in range(1,8):\n",
        "    tol = 10**(-i)\n",
        "    idx.append(tol)\n",
        "    ti = time()\n",
        "    raiz=biseccion(f8,1.5,2.5,tol) #cada renglon de la tabla\n",
        "    tfi = time()-ti\n",
        "    t.append(tfi)\n",
        "    error=abs(abs(valor_real-raiz[0])/valor_real)*100\n",
        "  l_biseccion.append([raiz[0],raiz[1],error,t[i-1]])\n",
        "cols = [\"Raiz\",\"Pasos\",\"error %\",\"Tiempo\"]\n",
        "pd.DataFrame(l_biseccion, index=idx, columns=cols)\n"
      ],
      "execution_count": null,
      "outputs": [
        {
          "output_type": "execute_result",
          "data": {
            "text/html": [
              "<div>\n",
              "<style scoped>\n",
              "    .dataframe tbody tr th:only-of-type {\n",
              "        vertical-align: middle;\n",
              "    }\n",
              "\n",
              "    .dataframe tbody tr th {\n",
              "        vertical-align: top;\n",
              "    }\n",
              "\n",
              "    .dataframe thead th {\n",
              "        text-align: right;\n",
              "    }\n",
              "</style>\n",
              "<table border=\"1\" class=\"dataframe\">\n",
              "  <thead>\n",
              "    <tr style=\"text-align: right;\">\n",
              "      <th></th>\n",
              "      <th>Raiz</th>\n",
              "      <th>Pasos</th>\n",
              "      <th>error %</th>\n",
              "      <th>Tiempo</th>\n",
              "    </tr>\n",
              "  </thead>\n",
              "  <tbody>\n",
              "    <tr>\n",
              "      <th>1.000000e-01</th>\n",
              "      <td>2.5</td>\n",
              "      <td>24</td>\n",
              "      <td>199.999998</td>\n",
              "      <td>0.000083</td>\n",
              "    </tr>\n",
              "    <tr>\n",
              "      <th>1.000000e-02</th>\n",
              "      <td>2.5</td>\n",
              "      <td>24</td>\n",
              "      <td>199.999998</td>\n",
              "      <td>0.000083</td>\n",
              "    </tr>\n",
              "    <tr>\n",
              "      <th>1.000000e-03</th>\n",
              "      <td>2.5</td>\n",
              "      <td>24</td>\n",
              "      <td>199.999998</td>\n",
              "      <td>0.000083</td>\n",
              "    </tr>\n",
              "    <tr>\n",
              "      <th>1.000000e-04</th>\n",
              "      <td>2.5</td>\n",
              "      <td>24</td>\n",
              "      <td>199.999998</td>\n",
              "      <td>0.000083</td>\n",
              "    </tr>\n",
              "    <tr>\n",
              "      <th>1.000000e-05</th>\n",
              "      <td>2.5</td>\n",
              "      <td>24</td>\n",
              "      <td>199.999998</td>\n",
              "      <td>0.000083</td>\n",
              "    </tr>\n",
              "    <tr>\n",
              "      <th>1.000000e-06</th>\n",
              "      <td>2.5</td>\n",
              "      <td>24</td>\n",
              "      <td>199.999998</td>\n",
              "      <td>0.000083</td>\n",
              "    </tr>\n",
              "    <tr>\n",
              "      <th>1.000000e-07</th>\n",
              "      <td>2.5</td>\n",
              "      <td>24</td>\n",
              "      <td>199.999998</td>\n",
              "      <td>0.000083</td>\n",
              "    </tr>\n",
              "  </tbody>\n",
              "</table>\n",
              "</div>"
            ],
            "text/plain": [
              "              Raiz  Pasos     error %    Tiempo\n",
              "1.000000e-01   2.5     24  199.999998  0.000083\n",
              "1.000000e-02   2.5     24  199.999998  0.000083\n",
              "1.000000e-03   2.5     24  199.999998  0.000083\n",
              "1.000000e-04   2.5     24  199.999998  0.000083\n",
              "1.000000e-05   2.5     24  199.999998  0.000083\n",
              "1.000000e-06   2.5     24  199.999998  0.000083\n",
              "1.000000e-07   2.5     24  199.999998  0.000083"
            ]
          },
          "metadata": {
            "tags": []
          },
          "execution_count": 176
        }
      ]
    },
    {
      "cell_type": "markdown",
      "metadata": {
        "id": "mTpavRL2k7nG"
      },
      "source": [
        ""
      ]
    },
    {
      "cell_type": "markdown",
      "metadata": {
        "id": "GFId1t04k7nG"
      },
      "source": [
        "<font size = 4  color = \"black\"> Método de Newton-Raphson"
      ]
    },
    {
      "cell_type": "code",
      "metadata": {
        "colab": {
          "base_uri": "https://localhost:8080/"
        },
        "id": "68w0IIYek7nG",
        "outputId": "f80d00b5-0421-4534-e393-b706ac2e1818"
      },
      "source": [
        "print(newton(f8,df8,2.5,1e-9)) #la primer raíz por la imagen está cerca de 2.5"
      ],
      "execution_count": null,
      "outputs": [
        {
          "output_type": "stream",
          "text": [
            "[0.8654740331016144, 7]\n"
          ],
          "name": "stdout"
        }
      ]
    },
    {
      "cell_type": "code",
      "metadata": {
        "id": "JcXzVdIik7nG",
        "colab": {
          "base_uri": "https://localhost:8080/",
          "height": 266
        },
        "outputId": "102e85c7-b82e-4138-892d-cb621fb77fde"
      },
      "source": [
        "l_Newton = []\n",
        "idx = []\n",
        "t = []\n",
        "valor_real=0.86 \n",
        "for i in range(1,8):\n",
        "    tol = 10**(-i)\n",
        "    idx.append(tol)\n",
        "    ti = time()\n",
        "    raiz=newton(f8,df8,.9,epsilon= tol) #cada renglon de la tabla\n",
        "    tfi = time()-ti\n",
        "    t.append(tfi)\n",
        "    error=abs(abs(valor_real-raiz[0])/valor_real)*100\n",
        "    l_Newton.append([raiz[0],raiz[1],error,t[i-1]])\n",
        "cols = [\"Raiz\",\"Pasos\",\"error %\",\"Tiempo\"]\n",
        "pd.DataFrame(l_Newton, index=idx, columns=cols)"
      ],
      "execution_count": null,
      "outputs": [
        {
          "output_type": "execute_result",
          "data": {
            "text/html": [
              "<div>\n",
              "<style scoped>\n",
              "    .dataframe tbody tr th:only-of-type {\n",
              "        vertical-align: middle;\n",
              "    }\n",
              "\n",
              "    .dataframe tbody tr th {\n",
              "        vertical-align: top;\n",
              "    }\n",
              "\n",
              "    .dataframe thead th {\n",
              "        text-align: right;\n",
              "    }\n",
              "</style>\n",
              "<table border=\"1\" class=\"dataframe\">\n",
              "  <thead>\n",
              "    <tr style=\"text-align: right;\">\n",
              "      <th></th>\n",
              "      <th>Raiz</th>\n",
              "      <th>Pasos</th>\n",
              "      <th>error %</th>\n",
              "      <th>Tiempo</th>\n",
              "    </tr>\n",
              "  </thead>\n",
              "  <tbody>\n",
              "    <tr>\n",
              "      <th>1.000000e-01</th>\n",
              "      <td>0.866580</td>\n",
              "      <td>1</td>\n",
              "      <td>0.765093</td>\n",
              "      <td>0.000057</td>\n",
              "    </tr>\n",
              "    <tr>\n",
              "      <th>1.000000e-02</th>\n",
              "      <td>0.865475</td>\n",
              "      <td>2</td>\n",
              "      <td>0.636653</td>\n",
              "      <td>0.000257</td>\n",
              "    </tr>\n",
              "    <tr>\n",
              "      <th>1.000000e-03</th>\n",
              "      <td>0.865474</td>\n",
              "      <td>3</td>\n",
              "      <td>0.636515</td>\n",
              "      <td>0.000019</td>\n",
              "    </tr>\n",
              "    <tr>\n",
              "      <th>1.000000e-04</th>\n",
              "      <td>0.865474</td>\n",
              "      <td>3</td>\n",
              "      <td>0.636515</td>\n",
              "      <td>0.000015</td>\n",
              "    </tr>\n",
              "    <tr>\n",
              "      <th>1.000000e-05</th>\n",
              "      <td>0.865474</td>\n",
              "      <td>3</td>\n",
              "      <td>0.636515</td>\n",
              "      <td>0.000015</td>\n",
              "    </tr>\n",
              "    <tr>\n",
              "      <th>1.000000e-06</th>\n",
              "      <td>0.865474</td>\n",
              "      <td>4</td>\n",
              "      <td>0.636515</td>\n",
              "      <td>0.000020</td>\n",
              "    </tr>\n",
              "    <tr>\n",
              "      <th>1.000000e-07</th>\n",
              "      <td>0.865474</td>\n",
              "      <td>4</td>\n",
              "      <td>0.636515</td>\n",
              "      <td>0.000020</td>\n",
              "    </tr>\n",
              "  </tbody>\n",
              "</table>\n",
              "</div>"
            ],
            "text/plain": [
              "                  Raiz  Pasos   error %    Tiempo\n",
              "1.000000e-01  0.866580      1  0.765093  0.000057\n",
              "1.000000e-02  0.865475      2  0.636653  0.000257\n",
              "1.000000e-03  0.865474      3  0.636515  0.000019\n",
              "1.000000e-04  0.865474      3  0.636515  0.000015\n",
              "1.000000e-05  0.865474      3  0.636515  0.000015\n",
              "1.000000e-06  0.865474      4  0.636515  0.000020\n",
              "1.000000e-07  0.865474      4  0.636515  0.000020"
            ]
          },
          "metadata": {
            "tags": []
          },
          "execution_count": 180
        }
      ]
    },
    {
      "cell_type": "markdown",
      "metadata": {
        "id": "zcOeCFRGk7nG"
      },
      "source": [
        "<font size = 4  color = \"black\"> Método de la Secante"
      ]
    },
    {
      "cell_type": "code",
      "metadata": {
        "colab": {
          "base_uri": "https://localhost:8080/"
        },
        "id": "bHAp_LhAk7nG",
        "outputId": "d24a432f-99fb-485b-91a8-c529062ef571"
      },
      "source": [
        "print(secante(f8,1.5,2.5,delta=1e-9))\n"
      ],
      "execution_count": null,
      "outputs": [
        {
          "output_type": "stream",
          "text": [
            "[[1.5, -3.304262798332297, nan], [2.5, -16.426143615546934, 1.0], [1.2481868000205103, -1.6275954059848545, -1.2518131999794897], [1.1105080639319713, -0.9253034292371543, -0.13767873608853898], [0.9291097127423079, -0.20350176504572193, -0.1813983511896634], [0.87796701458182, -0.0380431437331169, -0.05114269816048789], [0.8662080080000902, -0.002209765492564797, -0.011759006581729792], [0.865482855970139, -2.654416751979305e-05, -0.0007251520299512704], [0.8654740393848759, -1.8903434373385153e-08, -8.816585263082821e-06], [0.8654740331016683, -1.6187051699034782e-13, -6.2832076208607646e-09]]\n"
          ],
          "name": "stdout"
        }
      ]
    },
    {
      "cell_type": "code",
      "metadata": {
        "colab": {
          "base_uri": "https://localhost:8080/",
          "height": 266
        },
        "id": "jmLqLa9Wk7nG",
        "outputId": "ca71e1f4-7656-479e-c79d-7fddab05fb2b"
      },
      "source": [
        "l_secante = []\n",
        "idx = []\n",
        "valor_real=.86\n",
        "for i in range(1,8):\n",
        "    tol = 10**(-i)\n",
        "    idx.append(tol)\n",
        "    ti = time()\n",
        "    raiz=secante(f2, 1.5, 2.5, delta=tol)[-1] #nos quedamos con el último valor que nos da la raíz y el error\n",
        "    tfi = time()-ti\n",
        "    l_secante.append([raiz[0],abs(abs(raiz[0]-valor_real)/valor_real)*100,tfi])\n",
        "cols = [\"Raiz\",\"error %\",\"Tiempo\"]\n",
        "pd.DataFrame(l_secante, index=idx, columns=cols)"
      ],
      "execution_count": null,
      "outputs": [
        {
          "output_type": "execute_result",
          "data": {
            "text/html": [
              "<div>\n",
              "<style scoped>\n",
              "    .dataframe tbody tr th:only-of-type {\n",
              "        vertical-align: middle;\n",
              "    }\n",
              "\n",
              "    .dataframe tbody tr th {\n",
              "        vertical-align: top;\n",
              "    }\n",
              "\n",
              "    .dataframe thead th {\n",
              "        text-align: right;\n",
              "    }\n",
              "</style>\n",
              "<table border=\"1\" class=\"dataframe\">\n",
              "  <thead>\n",
              "    <tr style=\"text-align: right;\">\n",
              "      <th></th>\n",
              "      <th>Raiz</th>\n",
              "      <th>error %</th>\n",
              "      <th>Tiempo</th>\n",
              "    </tr>\n",
              "  </thead>\n",
              "  <tbody>\n",
              "    <tr>\n",
              "      <th>1.000000e-01</th>\n",
              "      <td>1.863301</td>\n",
              "      <td>116.662895</td>\n",
              "      <td>0.000062</td>\n",
              "    </tr>\n",
              "    <tr>\n",
              "      <th>1.000000e-02</th>\n",
              "      <td>1.807522</td>\n",
              "      <td>110.176993</td>\n",
              "      <td>0.000030</td>\n",
              "    </tr>\n",
              "    <tr>\n",
              "      <th>1.000000e-03</th>\n",
              "      <td>1.807522</td>\n",
              "      <td>110.176993</td>\n",
              "      <td>0.000021</td>\n",
              "    </tr>\n",
              "    <tr>\n",
              "      <th>1.000000e-04</th>\n",
              "      <td>1.807376</td>\n",
              "      <td>110.159971</td>\n",
              "      <td>0.000026</td>\n",
              "    </tr>\n",
              "    <tr>\n",
              "      <th>1.000000e-05</th>\n",
              "      <td>1.807376</td>\n",
              "      <td>110.159971</td>\n",
              "      <td>0.000025</td>\n",
              "    </tr>\n",
              "    <tr>\n",
              "      <th>1.000000e-06</th>\n",
              "      <td>1.807376</td>\n",
              "      <td>110.159971</td>\n",
              "      <td>0.000055</td>\n",
              "    </tr>\n",
              "    <tr>\n",
              "      <th>1.000000e-07</th>\n",
              "      <td>1.807375</td>\n",
              "      <td>110.159928</td>\n",
              "      <td>0.000033</td>\n",
              "    </tr>\n",
              "  </tbody>\n",
              "</table>\n",
              "</div>"
            ],
            "text/plain": [
              "                  Raiz     error %    Tiempo\n",
              "1.000000e-01  1.863301  116.662895  0.000062\n",
              "1.000000e-02  1.807522  110.176993  0.000030\n",
              "1.000000e-03  1.807522  110.176993  0.000021\n",
              "1.000000e-04  1.807376  110.159971  0.000026\n",
              "1.000000e-05  1.807376  110.159971  0.000025\n",
              "1.000000e-06  1.807376  110.159971  0.000055\n",
              "1.000000e-07  1.807375  110.159928  0.000033"
            ]
          },
          "metadata": {
            "tags": []
          },
          "execution_count": 181
        }
      ]
    },
    {
      "cell_type": "markdown",
      "metadata": {
        "id": "niXwJaE2k7nG"
      },
      "source": [
        "<font size= 4 color='black'>Método de Ridders"
      ]
    },
    {
      "cell_type": "code",
      "metadata": {
        "colab": {
          "base_uri": "https://localhost:8080/"
        },
        "id": "0-1-H07Wk7nG",
        "outputId": "d89bcc93-55fe-430f-a0b3-8536006144ef"
      },
      "source": [
        "#Este es el código de Roxana y Jordi\n",
        "print(ridders(f8,1.5,2.5, tol=1e-9))\n"
      ],
      "execution_count": null,
      "outputs": [
        {
          "output_type": "stream",
          "text": [
            "(nan, 26)\n"
          ],
          "name": "stdout"
        },
        {
          "output_type": "stream",
          "text": [
            "/usr/local/lib/python3.6/dist-packages/ipykernel_launcher.py:12: RuntimeWarning: invalid value encountered in sqrt\n",
            "  if sys.path[0] == '':\n"
          ],
          "name": "stderr"
        }
      ]
    },
    {
      "cell_type": "code",
      "metadata": {
        "id": "eVFWw1s6gzm_"
      },
      "source": [
        "No es posible evaluar el método de Ridders para este problema "
      ],
      "execution_count": null,
      "outputs": []
    },
    {
      "cell_type": "markdown",
      "metadata": {
        "id": "T0i4on3TAjFk"
      },
      "source": [
        "En este caso los métodos que tuvieron mejor desempeño fueron los de Newton y de la secante ya que ambos nos dan la raíz de .86 y con errores porcentuales muy bajos, además el tiempo de cómputo fue muy eficiente. Los peores métodos fueron los de Ridders y el Incremental ya que no se obtuvo nada consistente."
      ]
    },
    {
      "cell_type": "markdown",
      "metadata": {
        "id": "fk0KPkjrKVer"
      },
      "source": [
        "<font size = 4 color = 'indigo'> 9. Ahora se sigue con la función $\\tan(\\pi x) -6 =0$ en el intervalo $x \\in (0,1)$, Mathematica arroja una raíz de $x=0.44743154328874657005$"
      ]
    },
    {
      "cell_type": "code",
      "metadata": {
        "colab": {
          "base_uri": "https://localhost:8080/",
          "height": 276
        },
        "id": "Dpj9b5jMLgCa",
        "outputId": "2f734b9e-f6c2-4c2b-e290-8a095ff093ed"
      },
      "source": [
        "import numpy as np\n",
        "import matplotlib.pyplot as plt\n",
        "\n",
        "valor9 = 0.44743154328874657005\n",
        "b = np.arange(0,1,0.01)\n",
        "plt.plot(b,f9(b))\n",
        "plt.grid(True)"
      ],
      "execution_count": null,
      "outputs": [
        {
          "output_type": "display_data",
          "data": {
            "image/png": "[encoded data removed]",
            "text/plain": [
              "<Figure size 432x288 with 1 Axes>"
            ]
          },
          "metadata": {
            "tags": [],
            "needs_background": "light"
          }
        }
      ]
    },
    {
      "cell_type": "code",
      "metadata": {
        "colab": {
          "base_uri": "https://localhost:8080/"
        },
        "id": "MT8Joc0vMGDJ",
        "outputId": "7daa1d57-c09a-4f90-e0cb-98576a24dbc3"
      },
      "source": [
        "print(incremental(f9,0.4,0.6,1e-7)) #la raíz está entre 0.4 y 0.6"
      ],
      "execution_count": null,
      "outputs": [
        {
          "output_type": "stream",
          "text": [
            "[0.44743160000136395, 474315.0]\n"
          ],
          "name": "stdout"
        }
      ]
    },
    {
      "cell_type": "code",
      "metadata": {
        "id": "wZpPMr29Nt6M",
        "colab": {
          "base_uri": "https://localhost:8080/",
          "height": 266
        },
        "outputId": "54bb1bd1-24b8-443f-98f5-f31d5e05e3a7"
      },
      "source": [
        "from time import time\n",
        "\n",
        "lista_incremental = []\n",
        "idx = []\n",
        "valor_real= valor9\n",
        "for i in range(1,8):\n",
        "    tol = 10**(-i)\n",
        "    idx.append(tol)\n",
        "    ti = time()\n",
        "    raiz=incremental(f9,0.4,0.6,tol) #cada renglon de la tabla\n",
        "    tfi = time() - ti\n",
        "    error=(abs(valor_real-raiz[0])/valor_real)*100\n",
        "    lista_incremental.append([raiz[0],raiz[1],error, tfi])\n",
        "cols = [\"Raiz\",\"Pasos\",\"error %\",\"Tiempo\"]\n",
        "pd.DataFrame(lista_incremental, index=idx, columns=cols)"
      ],
      "execution_count": null,
      "outputs": [
        {
          "output_type": "execute_result",
          "data": {
            "text/html": [
              "<div>\n",
              "<style scoped>\n",
              "    .dataframe tbody tr th:only-of-type {\n",
              "        vertical-align: middle;\n",
              "    }\n",
              "\n",
              "    .dataframe tbody tr th {\n",
              "        vertical-align: top;\n",
              "    }\n",
              "\n",
              "    .dataframe thead th {\n",
              "        text-align: right;\n",
              "    }\n",
              "</style>\n",
              "<table border=\"1\" class=\"dataframe\">\n",
              "  <thead>\n",
              "    <tr style=\"text-align: right;\">\n",
              "      <th></th>\n",
              "      <th>Raiz</th>\n",
              "      <th>Pasos</th>\n",
              "      <th>error %</th>\n",
              "      <th>Tiempo</th>\n",
              "    </tr>\n",
              "  </thead>\n",
              "  <tbody>\n",
              "    <tr>\n",
              "      <th>1.000000e-01</th>\n",
              "      <td>0.500000</td>\n",
              "      <td>0.0</td>\n",
              "      <td>11.748938</td>\n",
              "      <td>0.000174</td>\n",
              "    </tr>\n",
              "    <tr>\n",
              "      <th>1.000000e-02</th>\n",
              "      <td>0.450000</td>\n",
              "      <td>4.0</td>\n",
              "      <td>0.574045</td>\n",
              "      <td>0.000032</td>\n",
              "    </tr>\n",
              "    <tr>\n",
              "      <th>1.000000e-03</th>\n",
              "      <td>0.448000</td>\n",
              "      <td>47.0</td>\n",
              "      <td>0.127049</td>\n",
              "      <td>0.000216</td>\n",
              "    </tr>\n",
              "    <tr>\n",
              "      <th>1.000000e-04</th>\n",
              "      <td>0.447500</td>\n",
              "      <td>474.0</td>\n",
              "      <td>0.015300</td>\n",
              "      <td>0.001109</td>\n",
              "    </tr>\n",
              "    <tr>\n",
              "      <th>1.000000e-05</th>\n",
              "      <td>0.447440</td>\n",
              "      <td>4743.0</td>\n",
              "      <td>0.001890</td>\n",
              "      <td>0.010813</td>\n",
              "    </tr>\n",
              "    <tr>\n",
              "      <th>1.000000e-06</th>\n",
              "      <td>0.447432</td>\n",
              "      <td>47431.0</td>\n",
              "      <td>0.000102</td>\n",
              "      <td>0.088843</td>\n",
              "    </tr>\n",
              "    <tr>\n",
              "      <th>1.000000e-07</th>\n",
              "      <td>0.447432</td>\n",
              "      <td>474315.0</td>\n",
              "      <td>0.000013</td>\n",
              "      <td>0.846291</td>\n",
              "    </tr>\n",
              "  </tbody>\n",
              "</table>\n",
              "</div>"
            ],
            "text/plain": [
              "                  Raiz     Pasos    error %    Tiempo\n",
              "1.000000e-01  0.500000       0.0  11.748938  0.000174\n",
              "1.000000e-02  0.450000       4.0   0.574045  0.000032\n",
              "1.000000e-03  0.448000      47.0   0.127049  0.000216\n",
              "1.000000e-04  0.447500     474.0   0.015300  0.001109\n",
              "1.000000e-05  0.447440    4743.0   0.001890  0.010813\n",
              "1.000000e-06  0.447432   47431.0   0.000102  0.088843\n",
              "1.000000e-07  0.447432  474315.0   0.000013  0.846291"
            ]
          },
          "metadata": {
            "tags": []
          },
          "execution_count": 129
        }
      ]
    },
    {
      "cell_type": "code",
      "metadata": {
        "colab": {
          "base_uri": "https://localhost:8080/"
        },
        "id": "0uDnMysxUbkb",
        "outputId": "e4205e2b-3579-471f-9c7f-efcd4590cc8f"
      },
      "source": [
        "print(biseccion(f9,0.4,0.6,1e-7))"
      ],
      "execution_count": null,
      "outputs": [
        {
          "output_type": "stream",
          "text": [
            "[0.44743146896362307, 21]\n"
          ],
          "name": "stdout"
        }
      ]
    },
    {
      "cell_type": "code",
      "metadata": {
        "colab": {
          "base_uri": "https://localhost:8080/",
          "height": 266
        },
        "id": "x7G0B3MXUoFf",
        "outputId": "bfc9805c-a3e2-4e75-8646-33a1911dc55f"
      },
      "source": [
        "l_biseccion = []\n",
        "idx = []\n",
        "valor_real=9\n",
        "for i in range(1,8):\n",
        "    tol = 10**(-i)\n",
        "    idx.append(tol)\n",
        "    ti = time()\n",
        "    raiz=biseccion(f9,0.4,0.6,tol) #cada renglon de la tabla\n",
        "    tfi = time()-ti\n",
        "    error=abs(abs(valor_real-raiz[0]))*100\n",
        "    l_biseccion.append([raiz[0],raiz[1],error,tfi])\n",
        "cols = [\"Raiz\",\"Pasos\",\"error %\",\"Tiempo\"]\n",
        "pd.DataFrame(l_biseccion, index=idx, columns=cols)"
      ],
      "execution_count": null,
      "outputs": [
        {
          "output_type": "execute_result",
          "data": {
            "text/html": [
              "<div>\n",
              "<style scoped>\n",
              "    .dataframe tbody tr th:only-of-type {\n",
              "        vertical-align: middle;\n",
              "    }\n",
              "\n",
              "    .dataframe tbody tr th {\n",
              "        vertical-align: top;\n",
              "    }\n",
              "\n",
              "    .dataframe thead th {\n",
              "        text-align: right;\n",
              "    }\n",
              "</style>\n",
              "<table border=\"1\" class=\"dataframe\">\n",
              "  <thead>\n",
              "    <tr style=\"text-align: right;\">\n",
              "      <th></th>\n",
              "      <th>Raiz</th>\n",
              "      <th>Pasos</th>\n",
              "      <th>error %</th>\n",
              "      <th>Tiempo</th>\n",
              "    </tr>\n",
              "  </thead>\n",
              "  <tbody>\n",
              "    <tr>\n",
              "      <th>1.000000e-01</th>\n",
              "      <td>0.500000</td>\n",
              "      <td>1</td>\n",
              "      <td>850.000000</td>\n",
              "      <td>0.000148</td>\n",
              "    </tr>\n",
              "    <tr>\n",
              "      <th>1.000000e-02</th>\n",
              "      <td>0.443750</td>\n",
              "      <td>5</td>\n",
              "      <td>855.625000</td>\n",
              "      <td>0.000106</td>\n",
              "    </tr>\n",
              "    <tr>\n",
              "      <th>1.000000e-03</th>\n",
              "      <td>0.447656</td>\n",
              "      <td>8</td>\n",
              "      <td>855.234375</td>\n",
              "      <td>0.000104</td>\n",
              "    </tr>\n",
              "    <tr>\n",
              "      <th>1.000000e-04</th>\n",
              "      <td>0.447363</td>\n",
              "      <td>11</td>\n",
              "      <td>855.263672</td>\n",
              "      <td>0.000132</td>\n",
              "    </tr>\n",
              "    <tr>\n",
              "      <th>1.000000e-05</th>\n",
              "      <td>0.447430</td>\n",
              "      <td>15</td>\n",
              "      <td>855.256958</td>\n",
              "      <td>0.000118</td>\n",
              "    </tr>\n",
              "    <tr>\n",
              "      <th>1.000000e-06</th>\n",
              "      <td>0.447431</td>\n",
              "      <td>18</td>\n",
              "      <td>855.256882</td>\n",
              "      <td>0.000130</td>\n",
              "    </tr>\n",
              "    <tr>\n",
              "      <th>1.000000e-07</th>\n",
              "      <td>0.447431</td>\n",
              "      <td>21</td>\n",
              "      <td>855.256853</td>\n",
              "      <td>0.000118</td>\n",
              "    </tr>\n",
              "  </tbody>\n",
              "</table>\n",
              "</div>"
            ],
            "text/plain": [
              "                  Raiz  Pasos     error %    Tiempo\n",
              "1.000000e-01  0.500000      1  850.000000  0.000148\n",
              "1.000000e-02  0.443750      5  855.625000  0.000106\n",
              "1.000000e-03  0.447656      8  855.234375  0.000104\n",
              "1.000000e-04  0.447363     11  855.263672  0.000132\n",
              "1.000000e-05  0.447430     15  855.256958  0.000118\n",
              "1.000000e-06  0.447431     18  855.256882  0.000130\n",
              "1.000000e-07  0.447431     21  855.256853  0.000118"
            ]
          },
          "metadata": {
            "tags": []
          },
          "execution_count": 105
        }
      ]
    },
    {
      "cell_type": "code",
      "metadata": {
        "colab": {
          "base_uri": "https://localhost:8080/"
        },
        "id": "YMusJF7XU0Qn",
        "outputId": "3540d4a7-29b1-45c4-c9f0-55ae32b8c8a5"
      },
      "source": [
        "print(newton(f9,df9,0.4,epsilon=1e-7)) #la raíz está cerca de 0.6"
      ],
      "execution_count": 213,
      "outputs": [
        {
          "output_type": "stream",
          "text": [
            "[0.44743154328874873, 8]\n"
          ],
          "name": "stdout"
        }
      ]
    },
    {
      "cell_type": "code",
      "metadata": {
        "colab": {
          "base_uri": "https://localhost:8080/",
          "height": 266
        },
        "id": "EjqXZxm4U5JM",
        "outputId": "ab3ae549-dd29-401e-e6dc-fdea468d7749"
      },
      "source": [
        "from time import time\n",
        "\n",
        "l_Newton = []\n",
        "idx = []\n",
        "t= []\n",
        "valor_real=9\n",
        "for i in range(1,8):\n",
        "    tol = 10**(-i)\n",
        "    idx.append(tol)\n",
        "    ti = time()\n",
        "    raiz=newton(f9,df9,0.4,epsilon = tol) #cada renglon de la tabla\n",
        "    tfi = time()-ti\n",
        "    error=abs(abs(valor_real-raiz[0])/valor_real)*100\n",
        "    l_Newton.append([raiz[0],raiz[1],error,tfi])\n",
        "cols = [\"Raiz\",\"Pasos\",\"error %\",\"Tiempo\"]\n",
        "pd.DataFrame(l_Newton, index=idx, columns=cols)"
      ],
      "execution_count": 214,
      "outputs": [
        {
          "output_type": "execute_result",
          "data": {
            "text/html": [
              "<div>\n",
              "<style scoped>\n",
              "    .dataframe tbody tr th:only-of-type {\n",
              "        vertical-align: middle;\n",
              "    }\n",
              "\n",
              "    .dataframe tbody tr th {\n",
              "        vertical-align: top;\n",
              "    }\n",
              "\n",
              "    .dataframe thead th {\n",
              "        text-align: right;\n",
              "    }\n",
              "</style>\n",
              "<table border=\"1\" class=\"dataframe\">\n",
              "  <thead>\n",
              "    <tr style=\"text-align: right;\">\n",
              "      <th></th>\n",
              "      <th>Raiz</th>\n",
              "      <th>Pasos</th>\n",
              "      <th>error %</th>\n",
              "      <th>Tiempo</th>\n",
              "    </tr>\n",
              "  </thead>\n",
              "  <tbody>\n",
              "    <tr>\n",
              "      <th>1.000000e-01</th>\n",
              "      <td>0.488826</td>\n",
              "      <td>1</td>\n",
              "      <td>94.568595</td>\n",
              "      <td>0.000060</td>\n",
              "    </tr>\n",
              "    <tr>\n",
              "      <th>1.000000e-02</th>\n",
              "      <td>0.480014</td>\n",
              "      <td>2</td>\n",
              "      <td>94.666507</td>\n",
              "      <td>0.000030</td>\n",
              "    </tr>\n",
              "    <tr>\n",
              "      <th>1.000000e-03</th>\n",
              "      <td>0.447432</td>\n",
              "      <td>7</td>\n",
              "      <td>95.028538</td>\n",
              "      <td>0.000060</td>\n",
              "    </tr>\n",
              "    <tr>\n",
              "      <th>1.000000e-04</th>\n",
              "      <td>0.447432</td>\n",
              "      <td>7</td>\n",
              "      <td>95.028538</td>\n",
              "      <td>0.000077</td>\n",
              "    </tr>\n",
              "    <tr>\n",
              "      <th>1.000000e-05</th>\n",
              "      <td>0.447432</td>\n",
              "      <td>8</td>\n",
              "      <td>95.028538</td>\n",
              "      <td>0.000086</td>\n",
              "    </tr>\n",
              "    <tr>\n",
              "      <th>1.000000e-06</th>\n",
              "      <td>0.447432</td>\n",
              "      <td>8</td>\n",
              "      <td>95.028538</td>\n",
              "      <td>0.000063</td>\n",
              "    </tr>\n",
              "    <tr>\n",
              "      <th>1.000000e-07</th>\n",
              "      <td>0.447432</td>\n",
              "      <td>8</td>\n",
              "      <td>95.028538</td>\n",
              "      <td>0.000065</td>\n",
              "    </tr>\n",
              "  </tbody>\n",
              "</table>\n",
              "</div>"
            ],
            "text/plain": [
              "                  Raiz  Pasos    error %    Tiempo\n",
              "1.000000e-01  0.488826      1  94.568595  0.000060\n",
              "1.000000e-02  0.480014      2  94.666507  0.000030\n",
              "1.000000e-03  0.447432      7  95.028538  0.000060\n",
              "1.000000e-04  0.447432      7  95.028538  0.000077\n",
              "1.000000e-05  0.447432      8  95.028538  0.000086\n",
              "1.000000e-06  0.447432      8  95.028538  0.000063\n",
              "1.000000e-07  0.447432      8  95.028538  0.000065"
            ]
          },
          "metadata": {
            "tags": []
          },
          "execution_count": 214
        }
      ]
    },
    {
      "cell_type": "code",
      "metadata": {
        "colab": {
          "base_uri": "https://localhost:8080/",
          "height": 340
        },
        "id": "hhwpkpMwVHxz",
        "outputId": "de4eb1da-e50f-448a-97ea-0a1e9f2829c5"
      },
      "source": [
        "print(secante(f9,0.41,0.5,delta=1e-7))"
      ],
      "execution_count": 212,
      "outputs": [
        {
          "output_type": "stream",
          "text": [
            "/usr/local/lib/python3.6/dist-packages/ipykernel_launcher.py:7: RuntimeWarning: invalid value encountered in double_scalars\n",
            "  import sys\n"
          ],
          "name": "stderr"
        },
        {
          "output_type": "error",
          "ename": "KeyboardInterrupt",
          "evalue": "ignored",
          "traceback": [
            "\u001b[0;31m---------------------------------------------------------------------------\u001b[0m",
            "\u001b[0;31mKeyboardInterrupt\u001b[0m                         Traceback (most recent call last)",
            "\u001b[0;32m<ipython-input-212-64613b6751c8>\u001b[0m in \u001b[0;36m<module>\u001b[0;34m()\u001b[0m\n\u001b[0;32m----> 1\u001b[0;31m \u001b[0mprint\u001b[0m\u001b[0;34m(\u001b[0m\u001b[0msecante\u001b[0m\u001b[0;34m(\u001b[0m\u001b[0mf9\u001b[0m\u001b[0;34m,\u001b[0m\u001b[0;36m0.41\u001b[0m\u001b[0;34m,\u001b[0m\u001b[0;36m0.5\u001b[0m\u001b[0;34m,\u001b[0m\u001b[0mdelta\u001b[0m\u001b[0;34m=\u001b[0m\u001b[0;36m1e-7\u001b[0m\u001b[0;34m)\u001b[0m\u001b[0;34m)\u001b[0m\u001b[0;34m\u001b[0m\u001b[0;34m\u001b[0m\u001b[0m\n\u001b[0m",
            "\u001b[0;32m<ipython-input-71-5d37ceafb56c>\u001b[0m in \u001b[0;36msecante\u001b[0;34m(f, x0, x1, delta)\u001b[0m\n\u001b[1;32m      6\u001b[0m     \u001b[0;32mwhile\u001b[0m \u001b[0;32mTrue\u001b[0m\u001b[0;34m:\u001b[0m\u001b[0;34m\u001b[0m\u001b[0;34m\u001b[0m\u001b[0m\n\u001b[1;32m      7\u001b[0m         \u001b[0mx2\u001b[0m \u001b[0;34m=\u001b[0m \u001b[0mx1\u001b[0m \u001b[0;34m-\u001b[0m \u001b[0mf1\u001b[0m \u001b[0;34m*\u001b[0m \u001b[0;34m(\u001b[0m\u001b[0mx1\u001b[0m \u001b[0;34m-\u001b[0m \u001b[0mx0\u001b[0m\u001b[0;34m)\u001b[0m \u001b[0;34m/\u001b[0m \u001b[0;34m(\u001b[0m\u001b[0mf1\u001b[0m \u001b[0;34m-\u001b[0m \u001b[0mf0\u001b[0m\u001b[0;34m)\u001b[0m \u001b[0;31m#secante\u001b[0m\u001b[0;34m\u001b[0m\u001b[0;34m\u001b[0m\u001b[0m\n\u001b[0;32m----> 8\u001b[0;31m         \u001b[0mf2\u001b[0m \u001b[0;34m=\u001b[0m \u001b[0mf\u001b[0m\u001b[0;34m(\u001b[0m\u001b[0mx2\u001b[0m\u001b[0;34m)\u001b[0m\u001b[0;34m\u001b[0m\u001b[0;34m\u001b[0m\u001b[0m\n\u001b[0m\u001b[1;32m      9\u001b[0m         \u001b[0mres\u001b[0m\u001b[0;34m.\u001b[0m\u001b[0mappend\u001b[0m\u001b[0;34m(\u001b[0m\u001b[0;34m[\u001b[0m\u001b[0mx2\u001b[0m\u001b[0;34m,\u001b[0m \u001b[0mf2\u001b[0m\u001b[0;34m,\u001b[0m \u001b[0mx2\u001b[0m\u001b[0;34m-\u001b[0m\u001b[0mx1\u001b[0m\u001b[0;34m]\u001b[0m\u001b[0;34m)\u001b[0m\u001b[0;34m\u001b[0m\u001b[0;34m\u001b[0m\u001b[0m\n\u001b[1;32m     10\u001b[0m         \u001b[0;32mif\u001b[0m \u001b[0mabs\u001b[0m\u001b[0;34m(\u001b[0m\u001b[0mf2\u001b[0m\u001b[0;34m)\u001b[0m \u001b[0;34m<\u001b[0m \u001b[0mdelta\u001b[0m\u001b[0;34m:\u001b[0m\u001b[0;34m\u001b[0m\u001b[0;34m\u001b[0m\u001b[0m\n",
            "\u001b[0;32m<ipython-input-190-e3e5efd261d3>\u001b[0m in \u001b[0;36mf9\u001b[0;34m(x)\u001b[0m\n\u001b[1;32m     55\u001b[0m \u001b[0;34m\u001b[0m\u001b[0m\n\u001b[1;32m     56\u001b[0m \u001b[0;32mdef\u001b[0m \u001b[0mf9\u001b[0m\u001b[0;34m(\u001b[0m\u001b[0mx\u001b[0m\u001b[0;34m)\u001b[0m\u001b[0;34m:\u001b[0m\u001b[0;34m\u001b[0m\u001b[0;34m\u001b[0m\u001b[0m\n\u001b[0;32m---> 57\u001b[0;31m     \u001b[0;32mreturn\u001b[0m \u001b[0mnp\u001b[0m\u001b[0;34m.\u001b[0m\u001b[0mtan\u001b[0m\u001b[0;34m(\u001b[0m\u001b[0mnp\u001b[0m\u001b[0;34m.\u001b[0m\u001b[0mpi\u001b[0m\u001b[0;34m*\u001b[0m\u001b[0mx\u001b[0m\u001b[0;34m)\u001b[0m \u001b[0;34m-\u001b[0m\u001b[0;36m6\u001b[0m\u001b[0;34m\u001b[0m\u001b[0;34m\u001b[0m\u001b[0m\n\u001b[0m\u001b[1;32m     58\u001b[0m \u001b[0;32mdef\u001b[0m \u001b[0mdf9\u001b[0m\u001b[0;34m(\u001b[0m\u001b[0mx\u001b[0m\u001b[0;34m)\u001b[0m\u001b[0;34m:\u001b[0m\u001b[0;34m\u001b[0m\u001b[0;34m\u001b[0m\u001b[0m\n\u001b[1;32m     59\u001b[0m     \u001b[0;32mreturn\u001b[0m \u001b[0mnp\u001b[0m\u001b[0;34m.\u001b[0m\u001b[0mpi\u001b[0m \u001b[0;34m*\u001b[0m \u001b[0;36m1\u001b[0m\u001b[0;34m/\u001b[0m\u001b[0;34m(\u001b[0m\u001b[0mnp\u001b[0m\u001b[0;34m.\u001b[0m\u001b[0mcos\u001b[0m\u001b[0;34m(\u001b[0m\u001b[0mnp\u001b[0m\u001b[0;34m.\u001b[0m\u001b[0mpi\u001b[0m\u001b[0;34m*\u001b[0m\u001b[0mx\u001b[0m\u001b[0;34m)\u001b[0m\u001b[0;34m)\u001b[0m\u001b[0;34m**\u001b[0m\u001b[0;36m2\u001b[0m\u001b[0;34m\u001b[0m\u001b[0;34m\u001b[0m\u001b[0m\n",
            "\u001b[0;31mKeyboardInterrupt\u001b[0m: "
          ]
        }
      ]
    },
    {
      "cell_type": "code",
      "metadata": {
        "colab": {
          "base_uri": "https://localhost:8080/",
          "height": 408
        },
        "id": "MKHJzdWKWpFZ",
        "outputId": "cd30a1ab-6c7b-4ca4-cfdb-5d65d8041ad0"
      },
      "source": [
        "l_secante = []\n",
        "idx = []\n",
        "valor_real=9\n",
        "for i in range(1,8):\n",
        "    tol = 10**(-i)\n",
        "    idx.append(tol)\n",
        "    ti = time()\n",
        "    raiz=secante(f9, 0.4, 0.6, delta=tol)[-1] #nos quedamos con el último valor que nos da la raíz y el error\n",
        "    tfi = time() - ti\n",
        "    l_secante.append([raiz[0],abs(abs(raiz[0]-valor_real))*100,tfi])\n",
        "cols = [\"Raiz\",\"error %\",\"Tiempo\"]\n",
        "pd.DataFrame(l_secante, index=idx, columns=cols)"
      ],
      "execution_count": 211,
      "outputs": [
        {
          "output_type": "stream",
          "text": [
            "/usr/local/lib/python3.6/dist-packages/ipykernel_launcher.py:57: RuntimeWarning: overflow encountered in double_scalars\n",
            "/usr/local/lib/python3.6/dist-packages/ipykernel_launcher.py:57: RuntimeWarning: invalid value encountered in tan\n"
          ],
          "name": "stderr"
        },
        {
          "output_type": "error",
          "ename": "KeyboardInterrupt",
          "evalue": "ignored",
          "traceback": [
            "\u001b[0;31m---------------------------------------------------------------------------\u001b[0m",
            "\u001b[0;31mKeyboardInterrupt\u001b[0m                         Traceback (most recent call last)",
            "\u001b[0;32m<ipython-input-211-383080a52f4f>\u001b[0m in \u001b[0;36m<module>\u001b[0;34m()\u001b[0m\n\u001b[1;32m      6\u001b[0m     \u001b[0midx\u001b[0m\u001b[0;34m.\u001b[0m\u001b[0mappend\u001b[0m\u001b[0;34m(\u001b[0m\u001b[0mtol\u001b[0m\u001b[0;34m)\u001b[0m\u001b[0;34m\u001b[0m\u001b[0;34m\u001b[0m\u001b[0m\n\u001b[1;32m      7\u001b[0m     \u001b[0mti\u001b[0m \u001b[0;34m=\u001b[0m \u001b[0mtime\u001b[0m\u001b[0;34m(\u001b[0m\u001b[0;34m)\u001b[0m\u001b[0;34m\u001b[0m\u001b[0;34m\u001b[0m\u001b[0m\n\u001b[0;32m----> 8\u001b[0;31m     \u001b[0mraiz\u001b[0m\u001b[0;34m=\u001b[0m\u001b[0msecante\u001b[0m\u001b[0;34m(\u001b[0m\u001b[0mf9\u001b[0m\u001b[0;34m,\u001b[0m \u001b[0;36m0.4\u001b[0m\u001b[0;34m,\u001b[0m \u001b[0;36m0.6\u001b[0m\u001b[0;34m,\u001b[0m \u001b[0mdelta\u001b[0m\u001b[0;34m=\u001b[0m\u001b[0mtol\u001b[0m\u001b[0;34m)\u001b[0m\u001b[0;34m[\u001b[0m\u001b[0;34m-\u001b[0m\u001b[0;36m1\u001b[0m\u001b[0;34m]\u001b[0m \u001b[0;31m#nos quedamos con el último valor que nos da la raíz y el error\u001b[0m\u001b[0;34m\u001b[0m\u001b[0;34m\u001b[0m\u001b[0m\n\u001b[0m\u001b[1;32m      9\u001b[0m     \u001b[0mtfi\u001b[0m \u001b[0;34m=\u001b[0m \u001b[0mtime\u001b[0m\u001b[0;34m(\u001b[0m\u001b[0;34m)\u001b[0m \u001b[0;34m-\u001b[0m \u001b[0mti\u001b[0m\u001b[0;34m\u001b[0m\u001b[0;34m\u001b[0m\u001b[0m\n\u001b[1;32m     10\u001b[0m     \u001b[0ml_secante\u001b[0m\u001b[0;34m.\u001b[0m\u001b[0mappend\u001b[0m\u001b[0;34m(\u001b[0m\u001b[0;34m[\u001b[0m\u001b[0mraiz\u001b[0m\u001b[0;34m[\u001b[0m\u001b[0;36m0\u001b[0m\u001b[0;34m]\u001b[0m\u001b[0;34m,\u001b[0m\u001b[0mabs\u001b[0m\u001b[0;34m(\u001b[0m\u001b[0mabs\u001b[0m\u001b[0;34m(\u001b[0m\u001b[0mraiz\u001b[0m\u001b[0;34m[\u001b[0m\u001b[0;36m0\u001b[0m\u001b[0;34m]\u001b[0m\u001b[0;34m-\u001b[0m\u001b[0mvalor_real\u001b[0m\u001b[0;34m)\u001b[0m\u001b[0;34m)\u001b[0m\u001b[0;34m*\u001b[0m\u001b[0;36m100\u001b[0m\u001b[0;34m,\u001b[0m\u001b[0mtfi\u001b[0m\u001b[0;34m]\u001b[0m\u001b[0;34m)\u001b[0m\u001b[0;34m\u001b[0m\u001b[0;34m\u001b[0m\u001b[0m\n",
            "\u001b[0;32m<ipython-input-71-5d37ceafb56c>\u001b[0m in \u001b[0;36msecante\u001b[0;34m(f, x0, x1, delta)\u001b[0m\n\u001b[1;32m      6\u001b[0m     \u001b[0;32mwhile\u001b[0m \u001b[0;32mTrue\u001b[0m\u001b[0;34m:\u001b[0m\u001b[0;34m\u001b[0m\u001b[0;34m\u001b[0m\u001b[0m\n\u001b[1;32m      7\u001b[0m         \u001b[0mx2\u001b[0m \u001b[0;34m=\u001b[0m \u001b[0mx1\u001b[0m \u001b[0;34m-\u001b[0m \u001b[0mf1\u001b[0m \u001b[0;34m*\u001b[0m \u001b[0;34m(\u001b[0m\u001b[0mx1\u001b[0m \u001b[0;34m-\u001b[0m \u001b[0mx0\u001b[0m\u001b[0;34m)\u001b[0m \u001b[0;34m/\u001b[0m \u001b[0;34m(\u001b[0m\u001b[0mf1\u001b[0m \u001b[0;34m-\u001b[0m \u001b[0mf0\u001b[0m\u001b[0;34m)\u001b[0m \u001b[0;31m#secante\u001b[0m\u001b[0;34m\u001b[0m\u001b[0;34m\u001b[0m\u001b[0m\n\u001b[0;32m----> 8\u001b[0;31m         \u001b[0mf2\u001b[0m \u001b[0;34m=\u001b[0m \u001b[0mf\u001b[0m\u001b[0;34m(\u001b[0m\u001b[0mx2\u001b[0m\u001b[0;34m)\u001b[0m\u001b[0;34m\u001b[0m\u001b[0;34m\u001b[0m\u001b[0m\n\u001b[0m\u001b[1;32m      9\u001b[0m         \u001b[0mres\u001b[0m\u001b[0;34m.\u001b[0m\u001b[0mappend\u001b[0m\u001b[0;34m(\u001b[0m\u001b[0;34m[\u001b[0m\u001b[0mx2\u001b[0m\u001b[0;34m,\u001b[0m \u001b[0mf2\u001b[0m\u001b[0;34m,\u001b[0m \u001b[0mx2\u001b[0m\u001b[0;34m-\u001b[0m\u001b[0mx1\u001b[0m\u001b[0;34m]\u001b[0m\u001b[0;34m)\u001b[0m\u001b[0;34m\u001b[0m\u001b[0;34m\u001b[0m\u001b[0m\n\u001b[1;32m     10\u001b[0m         \u001b[0;32mif\u001b[0m \u001b[0mabs\u001b[0m\u001b[0;34m(\u001b[0m\u001b[0mf2\u001b[0m\u001b[0;34m)\u001b[0m \u001b[0;34m<\u001b[0m \u001b[0mdelta\u001b[0m\u001b[0;34m:\u001b[0m\u001b[0;34m\u001b[0m\u001b[0;34m\u001b[0m\u001b[0m\n",
            "\u001b[0;32m<ipython-input-190-e3e5efd261d3>\u001b[0m in \u001b[0;36mf9\u001b[0;34m(x)\u001b[0m\n\u001b[1;32m     55\u001b[0m \u001b[0;34m\u001b[0m\u001b[0m\n\u001b[1;32m     56\u001b[0m \u001b[0;32mdef\u001b[0m \u001b[0mf9\u001b[0m\u001b[0;34m(\u001b[0m\u001b[0mx\u001b[0m\u001b[0;34m)\u001b[0m\u001b[0;34m:\u001b[0m\u001b[0;34m\u001b[0m\u001b[0;34m\u001b[0m\u001b[0m\n\u001b[0;32m---> 57\u001b[0;31m     \u001b[0;32mreturn\u001b[0m \u001b[0mnp\u001b[0m\u001b[0;34m.\u001b[0m\u001b[0mtan\u001b[0m\u001b[0;34m(\u001b[0m\u001b[0mnp\u001b[0m\u001b[0;34m.\u001b[0m\u001b[0mpi\u001b[0m\u001b[0;34m*\u001b[0m\u001b[0mx\u001b[0m\u001b[0;34m)\u001b[0m \u001b[0;34m-\u001b[0m\u001b[0;36m6\u001b[0m\u001b[0;34m\u001b[0m\u001b[0;34m\u001b[0m\u001b[0m\n\u001b[0m\u001b[1;32m     58\u001b[0m \u001b[0;32mdef\u001b[0m \u001b[0mdf9\u001b[0m\u001b[0;34m(\u001b[0m\u001b[0mx\u001b[0m\u001b[0;34m)\u001b[0m\u001b[0;34m:\u001b[0m\u001b[0;34m\u001b[0m\u001b[0;34m\u001b[0m\u001b[0m\n\u001b[1;32m     59\u001b[0m     \u001b[0;32mreturn\u001b[0m \u001b[0mnp\u001b[0m\u001b[0;34m.\u001b[0m\u001b[0mpi\u001b[0m \u001b[0;34m*\u001b[0m \u001b[0;36m1\u001b[0m\u001b[0;34m/\u001b[0m\u001b[0;34m(\u001b[0m\u001b[0mnp\u001b[0m\u001b[0;34m.\u001b[0m\u001b[0mcos\u001b[0m\u001b[0;34m(\u001b[0m\u001b[0mnp\u001b[0m\u001b[0;34m.\u001b[0m\u001b[0mpi\u001b[0m\u001b[0;34m*\u001b[0m\u001b[0mx\u001b[0m\u001b[0;34m)\u001b[0m\u001b[0;34m)\u001b[0m\u001b[0;34m**\u001b[0m\u001b[0;36m2\u001b[0m\u001b[0;34m\u001b[0m\u001b[0;34m\u001b[0m\u001b[0m\n",
            "\u001b[0;31mKeyboardInterrupt\u001b[0m: "
          ]
        }
      ]
    },
    {
      "cell_type": "code",
      "metadata": {
        "colab": {
          "base_uri": "https://localhost:8080/"
        },
        "id": "5GpCJG1_W7vQ",
        "outputId": "59f4c1f4-8978-436e-8098-aee1fad94454"
      },
      "source": [
        "print(ridders(f9,0.4,0.6, tol=1e-9))"
      ],
      "execution_count": null,
      "outputs": [
        {
          "output_type": "stream",
          "text": [
            "(0.5000000007448876, 28)\n"
          ],
          "name": "stdout"
        }
      ]
    },
    {
      "cell_type": "code",
      "metadata": {
        "colab": {
          "base_uri": "https://localhost:8080/",
          "height": 266
        },
        "id": "3mxZ7kUVYU_Z",
        "outputId": "a382abce-e32b-4dda-d45e-7dc679a97b44"
      },
      "source": [
        "from time import time\n",
        "\n",
        "l_ridders = []\n",
        "idx = []\n",
        "valor_real= valor9\n",
        "for i in range(1,8):\n",
        "    tol = 10**(-i)\n",
        "    idx.append(tol)\n",
        "    ti = time()\n",
        "    raiz=ridders(f9,0.4,0.6, tol) #cada renglon de la tabla\n",
        "    tfi = time() - ti\n",
        "    error=abs(abs(valor_real-raiz[0]))*100\n",
        "    l_ridders.append([raiz[0],raiz[1],error,tfi])\n",
        "cols = [\"Raiz\",\"Pasos\",\"error %\",\"Tiempo\"]\n",
        "pd.DataFrame(l_ridders, index=idx, columns=cols)"
      ],
      "execution_count": null,
      "outputs": [
        {
          "output_type": "execute_result",
          "data": {
            "text/html": [
              "<div>\n",
              "<style scoped>\n",
              "    .dataframe tbody tr th:only-of-type {\n",
              "        vertical-align: middle;\n",
              "    }\n",
              "\n",
              "    .dataframe tbody tr th {\n",
              "        vertical-align: top;\n",
              "    }\n",
              "\n",
              "    .dataframe thead th {\n",
              "        text-align: right;\n",
              "    }\n",
              "</style>\n",
              "<table border=\"1\" class=\"dataframe\">\n",
              "  <thead>\n",
              "    <tr style=\"text-align: right;\">\n",
              "      <th></th>\n",
              "      <th>Raiz</th>\n",
              "      <th>Pasos</th>\n",
              "      <th>error %</th>\n",
              "      <th>Tiempo</th>\n",
              "    </tr>\n",
              "  </thead>\n",
              "  <tbody>\n",
              "    <tr>\n",
              "      <th>1.000000e-01</th>\n",
              "      <td>0.600000</td>\n",
              "      <td>1</td>\n",
              "      <td>15.256846</td>\n",
              "      <td>0.000148</td>\n",
              "    </tr>\n",
              "    <tr>\n",
              "      <th>1.000000e-02</th>\n",
              "      <td>0.506250</td>\n",
              "      <td>5</td>\n",
              "      <td>5.881846</td>\n",
              "      <td>0.000134</td>\n",
              "    </tr>\n",
              "    <tr>\n",
              "      <th>1.000000e-03</th>\n",
              "      <td>0.500781</td>\n",
              "      <td>8</td>\n",
              "      <td>5.334971</td>\n",
              "      <td>0.000132</td>\n",
              "    </tr>\n",
              "    <tr>\n",
              "      <th>1.000000e-04</th>\n",
              "      <td>0.500098</td>\n",
              "      <td>11</td>\n",
              "      <td>5.266611</td>\n",
              "      <td>0.000160</td>\n",
              "    </tr>\n",
              "    <tr>\n",
              "      <th>1.000000e-05</th>\n",
              "      <td>0.500006</td>\n",
              "      <td>15</td>\n",
              "      <td>5.257456</td>\n",
              "      <td>0.000196</td>\n",
              "    </tr>\n",
              "    <tr>\n",
              "      <th>1.000000e-06</th>\n",
              "      <td>0.500001</td>\n",
              "      <td>18</td>\n",
              "      <td>5.256922</td>\n",
              "      <td>0.000202</td>\n",
              "    </tr>\n",
              "    <tr>\n",
              "      <th>1.000000e-07</th>\n",
              "      <td>0.500000</td>\n",
              "      <td>21</td>\n",
              "      <td>5.256855</td>\n",
              "      <td>0.000225</td>\n",
              "    </tr>\n",
              "  </tbody>\n",
              "</table>\n",
              "</div>"
            ],
            "text/plain": [
              "                  Raiz  Pasos    error %    Tiempo\n",
              "1.000000e-01  0.600000      1  15.256846  0.000148\n",
              "1.000000e-02  0.506250      5   5.881846  0.000134\n",
              "1.000000e-03  0.500781      8   5.334971  0.000132\n",
              "1.000000e-04  0.500098     11   5.266611  0.000160\n",
              "1.000000e-05  0.500006     15   5.257456  0.000196\n",
              "1.000000e-06  0.500001     18   5.256922  0.000202\n",
              "1.000000e-07  0.500000     21   5.256855  0.000225"
            ]
          },
          "metadata": {
            "tags": []
          },
          "execution_count": 11
        }
      ]
    },
    {
      "cell_type": "markdown",
      "metadata": {
        "id": "hmKXKkMlY_VF"
      },
      "source": [
        "<font size = 4 color = 'indigo'> Cómo se puede observar, el método de Newton es el mejor ya que el tiempo de corrida es el menor que es del órden de 7e-5 y aún más el error es del órden de 1e-13. Por otro lado el método de la secante es el peor porque nisiquiera pudo calcular la raíz al encontrar valores inválidos en la tangente. "
      ]
    },
    {
      "cell_type": "code",
      "metadata": {
        "id": "nbdjVQX8ZpwR"
      },
      "source": [
        ""
      ],
      "execution_count": null,
      "outputs": []
    },
    {
      "cell_type": "markdown",
      "metadata": {
        "id": "AKQNWmSVg-HQ"
      },
      "source": [
        "<font size=4 color='black'>10. $f(x)=\\frac{1}{(x-0.3)^2+0.01}-\\frac{1}{(x-0.8)^2+0.04}$"
      ]
    },
    {
      "cell_type": "code",
      "metadata": {
        "id": "yyKe_67-hM3s"
      },
      "source": [
        "xx = linspace(-10,10,10000) \n",
        "rcParams[ 'figure.figsize' ] = (10,5)"
      ],
      "execution_count": null,
      "outputs": []
    },
    {
      "cell_type": "code",
      "metadata": {
        "id": "HEONq8SynQIH",
        "colab": {
          "base_uri": "https://localhost:8080/",
          "height": 337
        },
        "outputId": "facc17f4-840e-4aa5-9a35-14c8f08f6e7a"
      },
      "source": [
        "plot (xx,f10(xx))\n",
        "plot(xx,zeros(len(xx)))\n",
        "xlim(0,2.5)"
      ],
      "execution_count": null,
      "outputs": [
        {
          "output_type": "execute_result",
          "data": {
            "text/plain": [
              "(0.0, 2.5)"
            ]
          },
          "metadata": {
            "tags": []
          },
          "execution_count": 184
        },
        {
          "output_type": "display_data",
          "data": {
            "image/png": "[encoded data removed]",
            "text/plain": [
              "<Figure size 720x360 with 1 Axes>"
            ]
          },
          "metadata": {
            "tags": [],
            "needs_background": "light"
          }
        }
      ]
    },
    {
      "cell_type": "markdown",
      "metadata": {
        "id": "RV2KZ1oDlDn_"
      },
      "source": [
        "[texto del vínculo](https://)<font size = 4  color = \"black\"> Método incremental"
      ]
    },
    {
      "cell_type": "code",
      "metadata": {
        "id": "0swsjpWplDn_",
        "colab": {
          "base_uri": "https://localhost:8080/"
        },
        "outputId": "1e4ad392-cc50-4032-a762-41a4d8500f03"
      },
      "source": [
        "print(incremental(f2,.5,1,1e-9))#una raíz está entre -2.5 y 0\n"
      ],
      "execution_count": null,
      "outputs": [
        {
          "output_type": "stream",
          "text": [
            "nada\n"
          ],
          "name": "stdout"
        }
      ]
    },
    {
      "cell_type": "markdown",
      "metadata": {
        "id": "g5CMJSeHlDoA"
      },
      "source": [
        "El método incremental no nos devolvió nada pero podemos evaluar el tiempo de cómputo "
      ]
    },
    {
      "cell_type": "code",
      "metadata": {
        "id": "Q_HXvp4xEsi4"
      },
      "source": [
        "ti = time() \n",
        "incremental(f2,.5,1,1e-9)\n",
        "tfi= time()-ti \n",
        "print(incremental(f2,.5,1,1e-9),tfi)\n"
      ],
      "execution_count": null,
      "outputs": []
    },
    {
      "cell_type": "markdown",
      "metadata": {
        "id": "r1Fib4FOlDoA"
      },
      "source": [
        "<font size = 4  color = \"black\"> Método de bisección "
      ]
    },
    {
      "cell_type": "code",
      "metadata": {
        "colab": {
          "base_uri": "https://localhost:8080/"
        },
        "id": "j3QE4lAKlDoA",
        "outputId": "cbfd8b0a-b0c5-4127-bef0-a22e502c5223"
      },
      "source": [
        "print(biseccion(f10,.5,1,1e-9))\n"
      ],
      "execution_count": null,
      "outputs": [
        {
          "output_type": "stream",
          "text": [
            "[0.5799999991431832, 29]\n"
          ],
          "name": "stdout"
        }
      ]
    },
    {
      "cell_type": "markdown",
      "metadata": {
        "id": "COkT5CAglDoA"
      },
      "source": [
        "Ahora continuamos para obtener el error porcentual del método de la bisección para la función 2"
      ]
    },
    {
      "cell_type": "code",
      "metadata": {
        "colab": {
          "base_uri": "https://localhost:8080/",
          "height": 266
        },
        "id": "0oSSsYpNlDoA",
        "outputId": "7f8e5c11-36a8-4745-b688-d309be7b3e9f"
      },
      "source": [
        "  l_biseccion = []\n",
        "idx = []\n",
        "t= []\n",
        "valor_real=-2\n",
        "for i in range(1,8):\n",
        "    tol = 10**(-i)\n",
        "    idx.append(tol)\n",
        "    ti = time()\n",
        "    raiz=biseccion(f10,0.5,1,tol) #cada renglon de la tabla\n",
        "    tfi = time()-ti\n",
        "    t.append(tfi)\n",
        "    error=abs(abs(valor_real-raiz[0])/valor_real)*100\n",
        "  l_biseccion.append([raiz[0],raiz[1],error,t[i-1]])\n",
        "cols = [\"Raiz\",\"Pasos\",\"error %\",\"Tiempo\"]\n",
        "pd.DataFrame(l_biseccion, index=idx, columns=cols)\n"
      ],
      "execution_count": null,
      "outputs": [
        {
          "output_type": "execute_result",
          "data": {
            "text/html": [
              "<div>\n",
              "<style scoped>\n",
              "    .dataframe tbody tr th:only-of-type {\n",
              "        vertical-align: middle;\n",
              "    }\n",
              "\n",
              "    .dataframe tbody tr th {\n",
              "        vertical-align: top;\n",
              "    }\n",
              "\n",
              "    .dataframe thead th {\n",
              "        text-align: right;\n",
              "    }\n",
              "</style>\n",
              "<table border=\"1\" class=\"dataframe\">\n",
              "  <thead>\n",
              "    <tr style=\"text-align: right;\">\n",
              "      <th></th>\n",
              "      <th>Raiz</th>\n",
              "      <th>Pasos</th>\n",
              "      <th>error %</th>\n",
              "      <th>Tiempo</th>\n",
              "    </tr>\n",
              "  </thead>\n",
              "  <tbody>\n",
              "    <tr>\n",
              "      <th>1.000000e-01</th>\n",
              "      <td>-1.807375</td>\n",
              "      <td>25</td>\n",
              "      <td>9.631234</td>\n",
              "      <td>0.000029</td>\n",
              "    </tr>\n",
              "    <tr>\n",
              "      <th>1.000000e-02</th>\n",
              "      <td>-1.807375</td>\n",
              "      <td>25</td>\n",
              "      <td>9.631234</td>\n",
              "      <td>0.000029</td>\n",
              "    </tr>\n",
              "    <tr>\n",
              "      <th>1.000000e-03</th>\n",
              "      <td>-1.807375</td>\n",
              "      <td>25</td>\n",
              "      <td>9.631234</td>\n",
              "      <td>0.000029</td>\n",
              "    </tr>\n",
              "    <tr>\n",
              "      <th>1.000000e-04</th>\n",
              "      <td>-1.807375</td>\n",
              "      <td>25</td>\n",
              "      <td>9.631234</td>\n",
              "      <td>0.000029</td>\n",
              "    </tr>\n",
              "    <tr>\n",
              "      <th>1.000000e-05</th>\n",
              "      <td>-1.807375</td>\n",
              "      <td>25</td>\n",
              "      <td>9.631234</td>\n",
              "      <td>0.000029</td>\n",
              "    </tr>\n",
              "    <tr>\n",
              "      <th>1.000000e-06</th>\n",
              "      <td>-1.807375</td>\n",
              "      <td>25</td>\n",
              "      <td>9.631234</td>\n",
              "      <td>0.000029</td>\n",
              "    </tr>\n",
              "    <tr>\n",
              "      <th>1.000000e-07</th>\n",
              "      <td>-1.807375</td>\n",
              "      <td>25</td>\n",
              "      <td>9.631234</td>\n",
              "      <td>0.000029</td>\n",
              "    </tr>\n",
              "  </tbody>\n",
              "</table>\n",
              "</div>"
            ],
            "text/plain": [
              "                  Raiz  Pasos   error %    Tiempo\n",
              "1.000000e-01 -1.807375     25  9.631234  0.000029\n",
              "1.000000e-02 -1.807375     25  9.631234  0.000029\n",
              "1.000000e-03 -1.807375     25  9.631234  0.000029\n",
              "1.000000e-04 -1.807375     25  9.631234  0.000029\n",
              "1.000000e-05 -1.807375     25  9.631234  0.000029\n",
              "1.000000e-06 -1.807375     25  9.631234  0.000029\n",
              "1.000000e-07 -1.807375     25  9.631234  0.000029"
            ]
          },
          "metadata": {
            "tags": []
          },
          "execution_count": 98
        }
      ]
    },
    {
      "cell_type": "markdown",
      "metadata": {
        "id": "zyrgFJSClDoA"
      },
      "source": [
        ""
      ]
    },
    {
      "cell_type": "markdown",
      "metadata": {
        "id": "_RJjQvnXlDoA"
      },
      "source": [
        "<font size = 4  color = \"black\"> Método de Newton-Raphson"
      ]
    },
    {
      "cell_type": "code",
      "metadata": {
        "colab": {
          "base_uri": "https://localhost:8080/",
          "height": 306
        },
        "id": "mt96ZQIMlDoA",
        "outputId": "cdde079a-543f-4362-9a60-23726e79fc0a"
      },
      "source": [
        "print(newton(f10,df10,0.6,1e-9)) #la primer raíz por la imagen está cerca de 0.6\n"
      ],
      "execution_count": 215,
      "outputs": [
        {
          "output_type": "error",
          "ename": "TypeError",
          "evalue": "ignored",
          "traceback": [
            "\u001b[0;31m---------------------------------------------------------------------------\u001b[0m",
            "\u001b[0;31mTypeError\u001b[0m                                 Traceback (most recent call last)",
            "\u001b[0;32m<ipython-input-215-b330cff1df9a>\u001b[0m in \u001b[0;36m<module>\u001b[0;34m()\u001b[0m\n\u001b[0;32m----> 1\u001b[0;31m \u001b[0mprint\u001b[0m\u001b[0;34m(\u001b[0m\u001b[0mnewton\u001b[0m\u001b[0;34m(\u001b[0m\u001b[0mf10\u001b[0m\u001b[0;34m,\u001b[0m\u001b[0mdf10\u001b[0m\u001b[0;34m,\u001b[0m\u001b[0;36m0.6\u001b[0m\u001b[0;34m,\u001b[0m\u001b[0;36m1e-9\u001b[0m\u001b[0;34m)\u001b[0m\u001b[0;34m)\u001b[0m \u001b[0;31m#la primer raíz por la imagen está cerca de 0.6\u001b[0m\u001b[0;34m\u001b[0m\u001b[0;34m\u001b[0m\u001b[0m\n\u001b[0m",
            "\u001b[0;32m<ipython-input-194-86b8e34905ea>\u001b[0m in \u001b[0;36mnewton\u001b[0;34m(f, df, x, epsilon)\u001b[0m\n\u001b[1;32m      3\u001b[0m     \u001b[0mcontador\u001b[0m \u001b[0;34m=\u001b[0m \u001b[0;36m0\u001b[0m\u001b[0;34m\u001b[0m\u001b[0;34m\u001b[0m\u001b[0m\n\u001b[1;32m      4\u001b[0m     \u001b[0;32mwhile\u001b[0m \u001b[0mdx\u001b[0m\u001b[0;34m>\u001b[0m \u001b[0mepsilon\u001b[0m \u001b[0;32mand\u001b[0m \u001b[0mcontador\u001b[0m\u001b[0;34m<\u001b[0m\u001b[0;36m1000\u001b[0m\u001b[0;34m:\u001b[0m\u001b[0;34m\u001b[0m\u001b[0;34m\u001b[0m\u001b[0m\n\u001b[0;32m----> 5\u001b[0;31m         \u001b[0mx1\u001b[0m\u001b[0;34m=\u001b[0m\u001b[0mx\u001b[0m\u001b[0;34m-\u001b[0m\u001b[0;34m(\u001b[0m\u001b[0mf\u001b[0m\u001b[0;34m(\u001b[0m\u001b[0mx\u001b[0m\u001b[0;34m)\u001b[0m\u001b[0;34m)\u001b[0m\u001b[0;34m/\u001b[0m\u001b[0;34m(\u001b[0m\u001b[0mdf\u001b[0m\u001b[0;34m(\u001b[0m\u001b[0mx\u001b[0m\u001b[0;34m)\u001b[0m\u001b[0;34m)\u001b[0m\u001b[0;34m\u001b[0m\u001b[0;34m\u001b[0m\u001b[0m\n\u001b[0m\u001b[1;32m      6\u001b[0m         \u001b[0mdx\u001b[0m\u001b[0;34m=\u001b[0m\u001b[0mabs\u001b[0m\u001b[0;34m(\u001b[0m\u001b[0mx\u001b[0m\u001b[0;34m-\u001b[0m\u001b[0mx1\u001b[0m\u001b[0;34m)\u001b[0m\u001b[0;34m\u001b[0m\u001b[0;34m\u001b[0m\u001b[0m\n\u001b[1;32m      7\u001b[0m         \u001b[0mx\u001b[0m\u001b[0;34m=\u001b[0m\u001b[0mx1\u001b[0m\u001b[0;34m\u001b[0m\u001b[0;34m\u001b[0m\u001b[0m\n",
            "\u001b[0;32m<ipython-input-190-e3e5efd261d3>\u001b[0m in \u001b[0;36mdf10\u001b[0;34m(x)\u001b[0m\n\u001b[1;32m     64\u001b[0m     \u001b[0;32mreturn\u001b[0m \u001b[0;34m(\u001b[0m\u001b[0;34m(\u001b[0m\u001b[0mx\u001b[0m\u001b[0;34m-\u001b[0m\u001b[0;36m0.3\u001b[0m\u001b[0;34m)\u001b[0m\u001b[0;34m**\u001b[0m\u001b[0;36m2\u001b[0m\u001b[0;34m+\u001b[0m\u001b[0;36m0.01\u001b[0m\u001b[0;34m)\u001b[0m\u001b[0;34m**\u001b[0m\u001b[0;34m(\u001b[0m\u001b[0;34m-\u001b[0m\u001b[0;36m1\u001b[0m\u001b[0;34m)\u001b[0m\u001b[0;34m-\u001b[0m\u001b[0;34m(\u001b[0m\u001b[0;34m(\u001b[0m\u001b[0mx\u001b[0m\u001b[0;34m-\u001b[0m\u001b[0;36m0.8\u001b[0m\u001b[0;34m)\u001b[0m\u001b[0;34m**\u001b[0m\u001b[0;36m2\u001b[0m\u001b[0;34m+\u001b[0m\u001b[0;36m0.04\u001b[0m\u001b[0;34m)\u001b[0m\u001b[0;34m**\u001b[0m\u001b[0;34m(\u001b[0m\u001b[0;34m-\u001b[0m\u001b[0;36m1\u001b[0m\u001b[0;34m)\u001b[0m\u001b[0;34m\u001b[0m\u001b[0;34m\u001b[0m\u001b[0m\n\u001b[1;32m     65\u001b[0m \u001b[0;32mdef\u001b[0m \u001b[0mdf10\u001b[0m\u001b[0;34m(\u001b[0m\u001b[0mx\u001b[0m\u001b[0;34m)\u001b[0m\u001b[0;34m:\u001b[0m\u001b[0;34m\u001b[0m\u001b[0;34m\u001b[0m\u001b[0m\n\u001b[0;32m---> 66\u001b[0;31m     \u001b[0;32mreturn\u001b[0m \u001b[0;34m(\u001b[0m\u001b[0;36m3\u001b[0m\u001b[0;34m*\u001b[0m\u001b[0mx\u001b[0m\u001b[0;34m**\u001b[0m\u001b[0;36m2\u001b[0m\u001b[0;34m-\u001b[0m\u001b[0;36m6.72\u001b[0m\u001b[0;34m*\u001b[0m\u001b[0mx\u001b[0m\u001b[0;34m**\u001b[0m\u001b[0;36m3\u001b[0m\u001b[0;34m+\u001b[0m\u001b[0;36m5.568\u001b[0m\u001b[0;34m*\u001b[0m\u001b[0mx\u001b[0m\u001b[0;34m**\u001b[0m\u001b[0;36m2\u001b[0m\u001b[0;34m-\u001b[0m\u001b[0;36m2.0184\u001b[0m\u001b[0;34m*\u001b[0m\u001b[0mx\u001b[0m\u001b[0;34m+\u001b[0m\u001b[0;36m0.26144\u001b[0m\u001b[0;34m)\u001b[0m\u001b[0;34m*\u001b[0m\u001b[0;34m(\u001b[0m\u001b[0;34m(\u001b[0m\u001b[0mx\u001b[0m\u001b[0;34m**\u001b[0m\u001b[0;36m2\u001b[0m\u001b[0;34m-\u001b[0m\u001b[0;36m0.6\u001b[0m\u001b[0;34m*\u001b[0m\u001b[0mx\u001b[0m\u001b[0;34m+\u001b[0m\u001b[0;36m0.1\u001b[0m\u001b[0;34m)\u001b[0m\u001b[0;34m**\u001b[0m\u001b[0;36m2\u001b[0m\u001b[0;34m(\u001b[0m\u001b[0mx\u001b[0m\u001b[0;34m**\u001b[0m\u001b[0;36m2\u001b[0m\u001b[0;34m-\u001b[0m\u001b[0;36m1.6\u001b[0m\u001b[0;34m*\u001b[0m\u001b[0mx\u001b[0m\u001b[0;34m+\u001b[0m\u001b[0;36m0.68\u001b[0m\u001b[0;34m)\u001b[0m\u001b[0;34m**\u001b[0m\u001b[0;36m2\u001b[0m\u001b[0;34m)\u001b[0m\u001b[0;34m**\u001b[0m\u001b[0;34m(\u001b[0m\u001b[0;34m-\u001b[0m\u001b[0;36m1\u001b[0m\u001b[0;34m)\u001b[0m\u001b[0;34m\u001b[0m\u001b[0;34m\u001b[0m\u001b[0m\n\u001b[0m\u001b[1;32m     67\u001b[0m \u001b[0;34m\u001b[0m\u001b[0m\n\u001b[1;32m     68\u001b[0m \u001b[0;34m\u001b[0m\u001b[0m\n",
            "\u001b[0;31mTypeError\u001b[0m: 'int' object is not callable"
          ]
        }
      ]
    },
    {
      "cell_type": "code",
      "metadata": {
        "id": "rheTpLe6lDoA"
      },
      "source": [
        "l_Newton = []\n",
        "idx = []\n",
        "t = []\n",
        "valor_real=0.5 \n",
        "for i in range(1,8):\n",
        "    tol = 10**(-i)\n",
        "    idx.append(tol)\n",
        "    ti = time()\n",
        "    raiz=newton(f1,df1,0.6,epsilon= tol) #cada renglon de la tabla\n",
        "    tfi = time()-ti\n",
        "    t.append(tfi)\n",
        "    error=abs(abs(valor_real-raiz[0])/valor_real)*100\n",
        "    l_Newton.append([raiz[0],raiz[1],error,t[i-1]])\n",
        "cols = [\"Raiz\",\"Pasos\",\"error %\",\"Tiempo\"]\n",
        "pd.DataFrame(l_Newton, index=idx, columns=cols)"
      ],
      "execution_count": null,
      "outputs": []
    },
    {
      "cell_type": "markdown",
      "metadata": {
        "id": "AnYrWCzkQckD"
      },
      "source": [
        "No fue posible aplicar el método de Newton."
      ]
    },
    {
      "cell_type": "markdown",
      "metadata": {
        "id": "viYknevdlDoA"
      },
      "source": [
        "<font size = 4  color = \"black\"> Método de la Secante"
      ]
    },
    {
      "cell_type": "code",
      "metadata": {
        "colab": {
          "base_uri": "https://localhost:8080/"
        },
        "id": "SOaY0l8BlDoA",
        "outputId": "f3c56fb0-ceb8-4f35-a37c-b32a6d8bcf83"
      },
      "source": [
        "print(secante(f2,-2,-1,delta=1e-9))\n",
        "print(secante(f1,1,2,delta=1e-9))"
      ],
      "execution_count": 216,
      "outputs": [
        {
          "output_type": "stream",
          "text": [
            "[[-2, -0.2161468365471424, nan], [-1, 1.0403023058681398, 1], [-1.8279700870887288, -0.02401179594160885, -0.8279700870887288], [-1.8092904052700578, -0.0022411043062825486, 0.018679681818670968], [-1.8073674936756516, 9.231697948142159e-06, 0.0019229115944061625], [-1.80737538215941, -3.4851430075200085e-09, -7.888483758433651e-06], [-1.80737537918248, -5.412337245047638e-15, 2.976930035814007e-09]]\n",
            "[[1, 4, nan], [2, 15, 1], [0.6363636363636365, 0.9917355371900838, -1.3636363636363635], [0.5398230088495575, 0.2819328060145665, -0.09654062751407899], [0.5014771856877119, 0.010344663969095613, -0.03834582316184554], [0.5000166114069643, 0.00011628040062738876, -0.0014605742807476396], [0.5000000070079041, 4.905532913213051e-08, -1.6604399060149433e-05], [0.5000000000000333, 2.3314683517128287e-13, -7.007870839181862e-09]]\n"
          ],
          "name": "stdout"
        }
      ]
    },
    {
      "cell_type": "code",
      "metadata": {
        "colab": {
          "base_uri": "https://localhost:8080/",
          "height": 266
        },
        "id": "2-12lF72lDoA",
        "outputId": "b58946f4-685f-43f5-b34a-55f493060318"
      },
      "source": [
        "l_secante = []\n",
        "idx = []\n",
        "valor_real=-2\n",
        "for i in range(1,8):\n",
        "    tol = 10**(-i)\n",
        "    idx.append(tol)\n",
        "    ti = time()\n",
        "    raiz=secante(f10, -2, -1, delta=tol)[-1] #nos quedamos con el último valor que nos da la raíz y el error\n",
        "    tfi = time()-ti\n",
        "    l_secante.append([raiz[0],abs(abs(raiz[0]-valor_real)/valor_real)*100,tfi])\n",
        "cols = [\"Raiz\",\"error %\",\"Tiempo\"]\n",
        "pd.DataFrame(l_secante, index=idx, columns=cols)"
      ],
      "execution_count": 217,
      "outputs": [
        {
          "output_type": "execute_result",
          "data": {
            "text/html": [
              "<div>\n",
              "<style scoped>\n",
              "    .dataframe tbody tr th:only-of-type {\n",
              "        vertical-align: middle;\n",
              "    }\n",
              "\n",
              "    .dataframe tbody tr th {\n",
              "        vertical-align: top;\n",
              "    }\n",
              "\n",
              "    .dataframe thead th {\n",
              "        text-align: right;\n",
              "    }\n",
              "</style>\n",
              "<table border=\"1\" class=\"dataframe\">\n",
              "  <thead>\n",
              "    <tr style=\"text-align: right;\">\n",
              "      <th></th>\n",
              "      <th>Raiz</th>\n",
              "      <th>error %</th>\n",
              "      <th>Tiempo</th>\n",
              "    </tr>\n",
              "  </thead>\n",
              "  <tbody>\n",
              "    <tr>\n",
              "      <th>1.000000e-01</th>\n",
              "      <td>-2.278794</td>\n",
              "      <td>13.939719</td>\n",
              "      <td>0.000016</td>\n",
              "    </tr>\n",
              "    <tr>\n",
              "      <th>1.000000e-02</th>\n",
              "      <td>-4.154301</td>\n",
              "      <td>107.715066</td>\n",
              "      <td>0.000007</td>\n",
              "    </tr>\n",
              "    <tr>\n",
              "      <th>1.000000e-03</th>\n",
              "      <td>-9.926007</td>\n",
              "      <td>396.300331</td>\n",
              "      <td>0.000009</td>\n",
              "    </tr>\n",
              "    <tr>\n",
              "      <th>1.000000e-04</th>\n",
              "      <td>-22.699995</td>\n",
              "      <td>1034.999770</td>\n",
              "      <td>0.000011</td>\n",
              "    </tr>\n",
              "    <tr>\n",
              "      <th>1.000000e-05</th>\n",
              "      <td>-51.068032</td>\n",
              "      <td>2453.401624</td>\n",
              "      <td>0.000013</td>\n",
              "    </tr>\n",
              "    <tr>\n",
              "      <th>1.000000e-06</th>\n",
              "      <td>-114.067265</td>\n",
              "      <td>5603.363231</td>\n",
              "      <td>0.000019</td>\n",
              "    </tr>\n",
              "    <tr>\n",
              "      <th>1.000000e-07</th>\n",
              "      <td>-253.972968</td>\n",
              "      <td>12598.648378</td>\n",
              "      <td>0.000019</td>\n",
              "    </tr>\n",
              "  </tbody>\n",
              "</table>\n",
              "</div>"
            ],
            "text/plain": [
              "                    Raiz       error %    Tiempo\n",
              "1.000000e-01   -2.278794     13.939719  0.000016\n",
              "1.000000e-02   -4.154301    107.715066  0.000007\n",
              "1.000000e-03   -9.926007    396.300331  0.000009\n",
              "1.000000e-04  -22.699995   1034.999770  0.000011\n",
              "1.000000e-05  -51.068032   2453.401624  0.000013\n",
              "1.000000e-06 -114.067265   5603.363231  0.000019\n",
              "1.000000e-07 -253.972968  12598.648378  0.000019"
            ]
          },
          "metadata": {
            "tags": []
          },
          "execution_count": 217
        }
      ]
    },
    {
      "cell_type": "markdown",
      "metadata": {
        "id": "kVWTAgdhlDoB"
      },
      "source": [
        "<font size = 4  color = \"white\"> Método de Ridders"
      ]
    },
    {
      "cell_type": "code",
      "metadata": {
        "colab": {
          "base_uri": "https://localhost:8080/",
          "height": 266
        },
        "id": "B8_IEHNnlDoB",
        "outputId": "7a579801-a4ec-489f-e2fc-3347af92dec0"
      },
      "source": [
        "l_secante = []\n",
        "idx = []\n",
        "valor_real=0.5\n",
        "for i in range(1,8):\n",
        "    tol = 10**(-i)\n",
        "    idx.append(tol)\n",
        "    ti = time()\n",
        "    raiz=secante(f2, 1, 2, delta=tol)[-1] #nos quedamos con el último valor que nos da la raíz y el error\n",
        "    tfi = time()-ti\n",
        "    l_secante.append([raiz[0],abs(abs(raiz[0]-valor_real)/valor_real)*100,tfi])\n",
        "cols = [\"Raiz\",\"error %\",\"Tiempo\"]\n",
        "pd.DataFrame(l_secante, index=idx, columns=cols)"
      ],
      "execution_count": null,
      "outputs": [
        {
          "output_type": "execute_result",
          "data": {
            "text/html": [
              "<div>\n",
              "<style scoped>\n",
              "    .dataframe tbody tr th:only-of-type {\n",
              "        vertical-align: middle;\n",
              "    }\n",
              "\n",
              "    .dataframe tbody tr th {\n",
              "        vertical-align: top;\n",
              "    }\n",
              "\n",
              "    .dataframe thead th {\n",
              "        text-align: right;\n",
              "    }\n",
              "</style>\n",
              "<table border=\"1\" class=\"dataframe\">\n",
              "  <thead>\n",
              "    <tr style=\"text-align: right;\">\n",
              "      <th></th>\n",
              "      <th>Raiz</th>\n",
              "      <th>error %</th>\n",
              "      <th>Tiempo</th>\n",
              "    </tr>\n",
              "  </thead>\n",
              "  <tbody>\n",
              "    <tr>\n",
              "      <th>1.000000e-01</th>\n",
              "      <td>1.827970</td>\n",
              "      <td>265.594017</td>\n",
              "      <td>0.000026</td>\n",
              "    </tr>\n",
              "    <tr>\n",
              "      <th>1.000000e-02</th>\n",
              "      <td>1.806471</td>\n",
              "      <td>261.294180</td>\n",
              "      <td>0.000009</td>\n",
              "    </tr>\n",
              "    <tr>\n",
              "      <th>1.000000e-03</th>\n",
              "      <td>1.807379</td>\n",
              "      <td>261.475819</td>\n",
              "      <td>0.000007</td>\n",
              "    </tr>\n",
              "    <tr>\n",
              "      <th>1.000000e-04</th>\n",
              "      <td>1.807379</td>\n",
              "      <td>261.475819</td>\n",
              "      <td>0.000007</td>\n",
              "    </tr>\n",
              "    <tr>\n",
              "      <th>1.000000e-05</th>\n",
              "      <td>1.807379</td>\n",
              "      <td>261.475819</td>\n",
              "      <td>0.000006</td>\n",
              "    </tr>\n",
              "    <tr>\n",
              "      <th>1.000000e-06</th>\n",
              "      <td>1.807375</td>\n",
              "      <td>261.475076</td>\n",
              "      <td>0.000007</td>\n",
              "    </tr>\n",
              "    <tr>\n",
              "      <th>1.000000e-07</th>\n",
              "      <td>1.807375</td>\n",
              "      <td>261.475076</td>\n",
              "      <td>0.000007</td>\n",
              "    </tr>\n",
              "  </tbody>\n",
              "</table>\n",
              "</div>"
            ],
            "text/plain": [
              "                  Raiz     error %    Tiempo\n",
              "1.000000e-01  1.827970  265.594017  0.000026\n",
              "1.000000e-02  1.806471  261.294180  0.000009\n",
              "1.000000e-03  1.807379  261.475819  0.000007\n",
              "1.000000e-04  1.807379  261.475819  0.000007\n",
              "1.000000e-05  1.807379  261.475819  0.000006\n",
              "1.000000e-06  1.807375  261.475076  0.000007\n",
              "1.000000e-07  1.807375  261.475076  0.000007"
            ]
          },
          "metadata": {
            "tags": []
          },
          "execution_count": 111
        }
      ]
    },
    {
      "cell_type": "markdown",
      "metadata": {
        "id": "hmvQi3TLlDoB"
      },
      "source": [
        "<font size= 4 color='black'>Método de Ridders"
      ]
    },
    {
      "cell_type": "code",
      "metadata": {
        "colab": {
          "base_uri": "https://localhost:8080/"
        },
        "id": "uwn4fzyZlDoB",
        "outputId": "aa823ae7-b4b1-413d-9cc8-2b2085d62024"
      },
      "source": [
        "#Este es el código de Roxana y Jordi\n",
        "print(ridders(f2,-2,-1, tol=1e-9))\n",
        "print(ridders(f2,1, 2, tol=1e-9))"
      ],
      "execution_count": null,
      "outputs": [
        {
          "output_type": "stream",
          "text": [
            "(-1.8073753791824754, 30)\n",
            "(1.8073753791824754, 30)\n"
          ],
          "name": "stdout"
        }
      ]
    },
    {
      "cell_type": "code",
      "metadata": {
        "colab": {
          "base_uri": "https://localhost:8080/",
          "height": 266
        },
        "id": "EsMpDB_klDoB",
        "outputId": "a9c444ba-5ecb-4f68-e9c3-2c1f9f3d92d7"
      },
      "source": [
        "l_ridders = []\n",
        "idx = []\n",
        "valor_real=-2\n",
        "for i in range(1,8):\n",
        "    tol = 10**(-i)\n",
        "    idx.append(tol)\n",
        "    ti = time()\n",
        "    raiz=ridders(f2,-2,-1, tol) #cada renglon de la tabla\n",
        "    tfi = time()-ti\n",
        "    error=abs(abs(valor_real-raiz[0])/valor_real)*100\n",
        "    l_ridders.append([raiz[0],raiz[1],error, tfi])\n",
        "cols = [\"Raiz\",\"Pasos\",\"error %\",\"Tiempo\"]\n",
        "pd.DataFrame(l_ridders, index=idx, columns=cols)"
      ],
      "execution_count": null,
      "outputs": [
        {
          "output_type": "execute_result",
          "data": {
            "text/html": [
              "<div>\n",
              "<style scoped>\n",
              "    .dataframe tbody tr th:only-of-type {\n",
              "        vertical-align: middle;\n",
              "    }\n",
              "\n",
              "    .dataframe tbody tr th {\n",
              "        vertical-align: top;\n",
              "    }\n",
              "\n",
              "    .dataframe thead th {\n",
              "        text-align: right;\n",
              "    }\n",
              "</style>\n",
              "<table border=\"1\" class=\"dataframe\">\n",
              "  <thead>\n",
              "    <tr style=\"text-align: right;\">\n",
              "      <th></th>\n",
              "      <th>Raiz</th>\n",
              "      <th>Pasos</th>\n",
              "      <th>error %</th>\n",
              "      <th>Tiempo</th>\n",
              "    </tr>\n",
              "  </thead>\n",
              "  <tbody>\n",
              "    <tr>\n",
              "      <th>1.000000e-01</th>\n",
              "      <td>-1.807375</td>\n",
              "      <td>3</td>\n",
              "      <td>9.631230</td>\n",
              "      <td>0.000028</td>\n",
              "    </tr>\n",
              "    <tr>\n",
              "      <th>1.000000e-02</th>\n",
              "      <td>-1.807375</td>\n",
              "      <td>6</td>\n",
              "      <td>9.631231</td>\n",
              "      <td>0.000015</td>\n",
              "    </tr>\n",
              "    <tr>\n",
              "      <th>1.000000e-03</th>\n",
              "      <td>-1.807375</td>\n",
              "      <td>10</td>\n",
              "      <td>9.631231</td>\n",
              "      <td>0.000023</td>\n",
              "    </tr>\n",
              "    <tr>\n",
              "      <th>1.000000e-04</th>\n",
              "      <td>-1.807375</td>\n",
              "      <td>13</td>\n",
              "      <td>9.631231</td>\n",
              "      <td>0.000030</td>\n",
              "    </tr>\n",
              "    <tr>\n",
              "      <th>1.000000e-05</th>\n",
              "      <td>-1.807375</td>\n",
              "      <td>16</td>\n",
              "      <td>9.631231</td>\n",
              "      <td>0.000032</td>\n",
              "    </tr>\n",
              "    <tr>\n",
              "      <th>1.000000e-06</th>\n",
              "      <td>-1.807375</td>\n",
              "      <td>20</td>\n",
              "      <td>9.631231</td>\n",
              "      <td>0.000040</td>\n",
              "    </tr>\n",
              "    <tr>\n",
              "      <th>1.000000e-07</th>\n",
              "      <td>-1.807375</td>\n",
              "      <td>23</td>\n",
              "      <td>9.631231</td>\n",
              "      <td>0.000046</td>\n",
              "    </tr>\n",
              "  </tbody>\n",
              "</table>\n",
              "</div>"
            ],
            "text/plain": [
              "                  Raiz  Pasos   error %    Tiempo\n",
              "1.000000e-01 -1.807375      3  9.631230  0.000028\n",
              "1.000000e-02 -1.807375      6  9.631231  0.000015\n",
              "1.000000e-03 -1.807375     10  9.631231  0.000023\n",
              "1.000000e-04 -1.807375     13  9.631231  0.000030\n",
              "1.000000e-05 -1.807375     16  9.631231  0.000032\n",
              "1.000000e-06 -1.807375     20  9.631231  0.000040\n",
              "1.000000e-07 -1.807375     23  9.631231  0.000046"
            ]
          },
          "metadata": {
            "tags": []
          },
          "execution_count": 107
        }
      ]
    },
    {
      "cell_type": "code",
      "metadata": {
        "colab": {
          "base_uri": "https://localhost:8080/",
          "height": 266
        },
        "id": "GbRIc_ZTlDoB",
        "outputId": "5367f9b9-75d6-42ad-bdd5-91413a3e6aae"
      },
      "source": [
        "l_ridders = []\n",
        "idx = []\n",
        "valor_real=2\n",
        "for i in range(1,8):\n",
        "    tol = 10**(-i)\n",
        "    idx.append(tol)\n",
        "    ti = time()\n",
        "    raiz=ridders(f2,1,2, tol) #cada renglon de la tabla\n",
        "    tfi = time()-ti\n",
        "    error=abs(abs(valor_real-raiz[0])/valor_real)*100\n",
        "    l_ridders.append([raiz[0],raiz[1],error, tfi])\n",
        "cols = [\"Raiz\",\"Pasos\",\"error %\",\"Tiempo\"]\n",
        "pd.DataFrame(l_ridders, index=idx, columns=cols)"
      ],
      "execution_count": null,
      "outputs": [
        {
          "output_type": "execute_result",
          "data": {
            "text/html": [
              "<div>\n",
              "<style scoped>\n",
              "    .dataframe tbody tr th:only-of-type {\n",
              "        vertical-align: middle;\n",
              "    }\n",
              "\n",
              "    .dataframe tbody tr th {\n",
              "        vertical-align: top;\n",
              "    }\n",
              "\n",
              "    .dataframe thead th {\n",
              "        text-align: right;\n",
              "    }\n",
              "</style>\n",
              "<table border=\"1\" class=\"dataframe\">\n",
              "  <thead>\n",
              "    <tr style=\"text-align: right;\">\n",
              "      <th></th>\n",
              "      <th>Raiz</th>\n",
              "      <th>Pasos</th>\n",
              "      <th>error %</th>\n",
              "      <th>Tiempo</th>\n",
              "    </tr>\n",
              "  </thead>\n",
              "  <tbody>\n",
              "    <tr>\n",
              "      <th>1.000000e-01</th>\n",
              "      <td>1.807375</td>\n",
              "      <td>3</td>\n",
              "      <td>9.631230</td>\n",
              "      <td>0.000019</td>\n",
              "    </tr>\n",
              "    <tr>\n",
              "      <th>1.000000e-02</th>\n",
              "      <td>1.807375</td>\n",
              "      <td>6</td>\n",
              "      <td>9.631231</td>\n",
              "      <td>0.000009</td>\n",
              "    </tr>\n",
              "    <tr>\n",
              "      <th>1.000000e-03</th>\n",
              "      <td>1.807375</td>\n",
              "      <td>10</td>\n",
              "      <td>9.631231</td>\n",
              "      <td>0.000013</td>\n",
              "    </tr>\n",
              "    <tr>\n",
              "      <th>1.000000e-04</th>\n",
              "      <td>1.807375</td>\n",
              "      <td>13</td>\n",
              "      <td>9.631231</td>\n",
              "      <td>0.000015</td>\n",
              "    </tr>\n",
              "    <tr>\n",
              "      <th>1.000000e-05</th>\n",
              "      <td>1.807375</td>\n",
              "      <td>16</td>\n",
              "      <td>9.631231</td>\n",
              "      <td>0.000018</td>\n",
              "    </tr>\n",
              "    <tr>\n",
              "      <th>1.000000e-06</th>\n",
              "      <td>1.807375</td>\n",
              "      <td>20</td>\n",
              "      <td>9.631231</td>\n",
              "      <td>0.000022</td>\n",
              "    </tr>\n",
              "    <tr>\n",
              "      <th>1.000000e-07</th>\n",
              "      <td>1.807375</td>\n",
              "      <td>23</td>\n",
              "      <td>9.631231</td>\n",
              "      <td>0.000026</td>\n",
              "    </tr>\n",
              "  </tbody>\n",
              "</table>\n",
              "</div>"
            ],
            "text/plain": [
              "                  Raiz  Pasos   error %    Tiempo\n",
              "1.000000e-01  1.807375      3  9.631230  0.000019\n",
              "1.000000e-02  1.807375      6  9.631231  0.000009\n",
              "1.000000e-03  1.807375     10  9.631231  0.000013\n",
              "1.000000e-04  1.807375     13  9.631231  0.000015\n",
              "1.000000e-05  1.807375     16  9.631231  0.000018\n",
              "1.000000e-06  1.807375     20  9.631231  0.000022\n",
              "1.000000e-07  1.807375     23  9.631231  0.000026"
            ]
          },
          "metadata": {
            "tags": []
          },
          "execution_count": 108
        }
      ]
    },
    {
      "cell_type": "markdown",
      "metadata": {
        "id": "XqbuCXsDQr8l"
      },
      "source": [
        "El mejor método fue el de Ridders ya que mantuvo un error porcentual debajo del 10% y con tiempos de carga muy eficientes. \n",
        "Con los métodos de Newton e Incremental no fue posible determinar las raíces y el peor fue el método de la secante ya que dio un error porcentual de 12 mil %. "
      ]
    },
    {
      "cell_type": "markdown",
      "metadata": {
        "id": "099jxj6phPG2"
      },
      "source": [
        "<font size=4 color='black'> 11.$f(x)=x^4-6.4x^3+6.45x^2+20.538x-31.752$"
      ]
    },
    {
      "cell_type": "markdown",
      "metadata": {
        "id": "QtvrL4ceQrB0"
      },
      "source": [
        ""
      ]
    },
    {
      "cell_type": "code",
      "metadata": {
        "colab": {
          "base_uri": "https://localhost:8080/",
          "height": 341
        },
        "id": "ablPOxBuhazt",
        "outputId": "b2b91657-1adf-4e4c-a1cb-d9529442fdc1"
      },
      "source": [
        "plot(xx,f11(xx))\n",
        "plot(xx,zeros(len(xx)))\n",
        "#xlim(-1,1)\n",
        "ylim(-10,10)"
      ],
      "execution_count": null,
      "outputs": [
        {
          "output_type": "execute_result",
          "data": {
            "text/plain": [
              "(-10.0, 10.0)"
            ]
          },
          "metadata": {
            "tags": []
          },
          "execution_count": 138
        },
        {
          "output_type": "display_data",
          "data": {
            "image/png": "[encoded data removed]",
            "text/plain": [
              "<Figure size 720x360 with 1 Axes>"
            ]
          },
          "metadata": {
            "tags": [],
            "needs_background": "light"
          }
        }
      ]
    },
    {
      "cell_type": "markdown",
      "metadata": {
        "id": "OzGBHkbBlHqn"
      },
      "source": [
        "<font size = 4  color = \"black\"> Método incremental"
      ]
    },
    {
      "cell_type": "code",
      "metadata": {
        "id": "kAnUSDcHlHqn",
        "colab": {
          "base_uri": "https://localhost:8080/"
        },
        "outputId": "1636c9bf-0571-4ede-c2b6-a2e366bca1f4"
      },
      "source": [
        "print(incremental(f11,-2.5,-1,1e-9))#una raíz está entre -2.5 y -1\n",
        "print(incremental(f11,0,1.5,1e-9)) #la otra está entre 0 y 1.5\n",
        "print(incremental(f11,3,5,1e-9)) #la otra está entre 3 y 5\n"
      ],
      "execution_count": null,
      "outputs": [
        {
          "output_type": "stream",
          "text": [
            "[-1.799999999081745, 699999942.0]\n",
            "nada\n",
            "[4.000000000740364, 999999917.0]\n"
          ],
          "name": "stdout"
        }
      ]
    },
    {
      "cell_type": "code",
      "metadata": {
        "id": "CHASfmu2lHqo"
      },
      "source": [
        "# Consideremos el tiempo de cómputo del método incremental para la función 2\n"
      ],
      "execution_count": null,
      "outputs": []
    },
    {
      "cell_type": "markdown",
      "metadata": {
        "id": "_UbHBd5SlHqo"
      },
      "source": [
        "De manera análoga para cada método podemos analizar la precisión y el error"
      ]
    },
    {
      "cell_type": "code",
      "metadata": {
        "colab": {
          "base_uri": "https://localhost:8080/",
          "height": 266
        },
        "id": "VKHCwjWrlHqo",
        "outputId": "47c104e0-0cb6-4b92-86a8-4184762b1193"
      },
      "source": [
        "lista_incremental = []\n",
        "idx = []\n",
        "t = []\n",
        "valor_real=-2\n",
        "for i in range(1,8):\n",
        "    tol = 10**(-i)\n",
        "    idx.append(tol)\n",
        "    ti = time()\n",
        "    raiz=incremental(f11,-2.5,-1,tol) #cada renglon de la tabla\n",
        "    tfi = time()-ti\n",
        "    t.append(tfi)\n",
        "    error=abs(abs(valor_real-raiz[0])/valor_real)*100\n",
        "    lista_incremental.append([raiz[0],raiz[1],error, t[i-1]])\n",
        "cols = [\"Raiz\",\"Pasos\",\"error %\",\"Tiempo\"]\n",
        "pd.DataFrame(lista_incremental, index=idx, columns=cols)"
      ],
      "execution_count": null,
      "outputs": [
        {
          "output_type": "execute_result",
          "data": {
            "text/html": [
              "<div>\n",
              "<style scoped>\n",
              "    .dataframe tbody tr th:only-of-type {\n",
              "        vertical-align: middle;\n",
              "    }\n",
              "\n",
              "    .dataframe tbody tr th {\n",
              "        vertical-align: top;\n",
              "    }\n",
              "\n",
              "    .dataframe thead th {\n",
              "        text-align: right;\n",
              "    }\n",
              "</style>\n",
              "<table border=\"1\" class=\"dataframe\">\n",
              "  <thead>\n",
              "    <tr style=\"text-align: right;\">\n",
              "      <th></th>\n",
              "      <th>Raiz</th>\n",
              "      <th>Pasos</th>\n",
              "      <th>error %</th>\n",
              "      <th>Tiempo</th>\n",
              "    </tr>\n",
              "  </thead>\n",
              "  <tbody>\n",
              "    <tr>\n",
              "      <th>1.000000e-01</th>\n",
              "      <td>-1.800</td>\n",
              "      <td>6.0</td>\n",
              "      <td>10.000000</td>\n",
              "      <td>0.000019</td>\n",
              "    </tr>\n",
              "    <tr>\n",
              "      <th>1.000000e-02</th>\n",
              "      <td>-1.790</td>\n",
              "      <td>70.0</td>\n",
              "      <td>10.500000</td>\n",
              "      <td>0.000055</td>\n",
              "    </tr>\n",
              "    <tr>\n",
              "      <th>1.000000e-03</th>\n",
              "      <td>-1.799</td>\n",
              "      <td>700.0</td>\n",
              "      <td>10.050000</td>\n",
              "      <td>0.000490</td>\n",
              "    </tr>\n",
              "    <tr>\n",
              "      <th>1.000000e-04</th>\n",
              "      <td>-1.800</td>\n",
              "      <td>6999.0</td>\n",
              "      <td>10.000000</td>\n",
              "      <td>0.020605</td>\n",
              "    </tr>\n",
              "    <tr>\n",
              "      <th>1.000000e-05</th>\n",
              "      <td>-1.800</td>\n",
              "      <td>69999.0</td>\n",
              "      <td>10.000000</td>\n",
              "      <td>0.051152</td>\n",
              "    </tr>\n",
              "    <tr>\n",
              "      <th>1.000000e-06</th>\n",
              "      <td>-1.800</td>\n",
              "      <td>699999.0</td>\n",
              "      <td>10.000000</td>\n",
              "      <td>0.445875</td>\n",
              "    </tr>\n",
              "    <tr>\n",
              "      <th>1.000000e-07</th>\n",
              "      <td>-1.800</td>\n",
              "      <td>7000000.0</td>\n",
              "      <td>10.000005</td>\n",
              "      <td>4.259435</td>\n",
              "    </tr>\n",
              "  </tbody>\n",
              "</table>\n",
              "</div>"
            ],
            "text/plain": [
              "               Raiz      Pasos    error %    Tiempo\n",
              "1.000000e-01 -1.800        6.0  10.000000  0.000019\n",
              "1.000000e-02 -1.790       70.0  10.500000  0.000055\n",
              "1.000000e-03 -1.799      700.0  10.050000  0.000490\n",
              "1.000000e-04 -1.800     6999.0  10.000000  0.020605\n",
              "1.000000e-05 -1.800    69999.0  10.000000  0.051152\n",
              "1.000000e-06 -1.800   699999.0  10.000000  0.445875\n",
              "1.000000e-07 -1.800  7000000.0  10.000005  4.259435"
            ]
          },
          "metadata": {
            "tags": []
          },
          "execution_count": 144
        }
      ]
    },
    {
      "cell_type": "code",
      "metadata": {
        "colab": {
          "base_uri": "https://localhost:8080/",
          "height": 266
        },
        "id": "-yxw4_L_lHqo",
        "outputId": "a109e184-4db7-4b6f-da6b-5a93dedff979"
      },
      "source": [
        "lista_incremental = []\n",
        "idx = []\n",
        "t = []\n",
        "valor_real=4\n",
        "for i in range(1,8):\n",
        "    tol = 10**(-i)\n",
        "    idx.append(tol)\n",
        "    ti = time()\n",
        "    raiz=incremental(f11,3,5,tol) #cada renglon de la tabla\n",
        "    tfi = time()-ti\n",
        "    t.append(tfi)\n",
        "    error=abs(abs(valor_real-raiz[0])/valor_real)*100\n",
        "    lista_incremental.append([raiz[0],raiz[1],error, t[i-1]])\n",
        "cols = [\"Raiz\",\"Pasos\",\"error %\",\"Tiempo\"]\n",
        "pd.DataFrame(lista_incremental, index=idx, columns=cols)"
      ],
      "execution_count": null,
      "outputs": [
        {
          "output_type": "execute_result",
          "data": {
            "text/html": [
              "<div>\n",
              "<style scoped>\n",
              "    .dataframe tbody tr th:only-of-type {\n",
              "        vertical-align: middle;\n",
              "    }\n",
              "\n",
              "    .dataframe tbody tr th {\n",
              "        vertical-align: top;\n",
              "    }\n",
              "\n",
              "    .dataframe thead th {\n",
              "        text-align: right;\n",
              "    }\n",
              "</style>\n",
              "<table border=\"1\" class=\"dataframe\">\n",
              "  <thead>\n",
              "    <tr style=\"text-align: right;\">\n",
              "      <th></th>\n",
              "      <th>Raiz</th>\n",
              "      <th>Pasos</th>\n",
              "      <th>error %</th>\n",
              "      <th>Tiempo</th>\n",
              "    </tr>\n",
              "  </thead>\n",
              "  <tbody>\n",
              "    <tr>\n",
              "      <th>1.000000e-01</th>\n",
              "      <td>4.100</td>\n",
              "      <td>10.0</td>\n",
              "      <td>2.500000e+00</td>\n",
              "      <td>0.000031</td>\n",
              "    </tr>\n",
              "    <tr>\n",
              "      <th>1.000000e-02</th>\n",
              "      <td>4.010</td>\n",
              "      <td>100.0</td>\n",
              "      <td>2.500000e-01</td>\n",
              "      <td>0.000112</td>\n",
              "    </tr>\n",
              "    <tr>\n",
              "      <th>1.000000e-03</th>\n",
              "      <td>4.001</td>\n",
              "      <td>1000.0</td>\n",
              "      <td>2.500000e-02</td>\n",
              "      <td>0.000935</td>\n",
              "    </tr>\n",
              "    <tr>\n",
              "      <th>1.000000e-04</th>\n",
              "      <td>4.000</td>\n",
              "      <td>9999.0</td>\n",
              "      <td>5.275780e-11</td>\n",
              "      <td>0.006960</td>\n",
              "    </tr>\n",
              "    <tr>\n",
              "      <th>1.000000e-05</th>\n",
              "      <td>4.000</td>\n",
              "      <td>99999.0</td>\n",
              "      <td>1.637801e-10</td>\n",
              "      <td>0.070527</td>\n",
              "    </tr>\n",
              "    <tr>\n",
              "      <th>1.000000e-06</th>\n",
              "      <td>4.000</td>\n",
              "      <td>999999.0</td>\n",
              "      <td>3.494449e-09</td>\n",
              "      <td>0.597821</td>\n",
              "    </tr>\n",
              "    <tr>\n",
              "      <th>1.000000e-07</th>\n",
              "      <td>4.000</td>\n",
              "      <td>10000000.0</td>\n",
              "      <td>2.459086e-06</td>\n",
              "      <td>5.883286</td>\n",
              "    </tr>\n",
              "  </tbody>\n",
              "</table>\n",
              "</div>"
            ],
            "text/plain": [
              "               Raiz       Pasos       error %    Tiempo\n",
              "1.000000e-01  4.100        10.0  2.500000e+00  0.000031\n",
              "1.000000e-02  4.010       100.0  2.500000e-01  0.000112\n",
              "1.000000e-03  4.001      1000.0  2.500000e-02  0.000935\n",
              "1.000000e-04  4.000      9999.0  5.275780e-11  0.006960\n",
              "1.000000e-05  4.000     99999.0  1.637801e-10  0.070527\n",
              "1.000000e-06  4.000    999999.0  3.494449e-09  0.597821\n",
              "1.000000e-07  4.000  10000000.0  2.459086e-06  5.883286"
            ]
          },
          "metadata": {
            "tags": []
          },
          "execution_count": 145
        }
      ]
    },
    {
      "cell_type": "markdown",
      "metadata": {
        "id": "ZfSQaZ5plHqo"
      },
      "source": [
        "<font size = 4  color = \"black\"> Método de bisección "
      ]
    },
    {
      "cell_type": "code",
      "metadata": {
        "colab": {
          "base_uri": "https://localhost:8080/"
        },
        "id": "rC5GjFcblHqo",
        "outputId": "275ed9a2-73fc-4b1c-8149-83068b5560de"
      },
      "source": [
        "print(biseccion(f11,-2.5,-1,1e-9))\n",
        "print(biseccion(f11,0,1.6,1e-9))\n",
        "print(biseccion(f11,3,5,1e-9))"
      ],
      "execution_count": null,
      "outputs": [
        {
          "output_type": "stream",
          "text": [
            "[-1.8000000005122274, 31]\n",
            "[1.599999999254942, 31]\n",
            "[4.000000000931323, 31]\n"
          ],
          "name": "stdout"
        }
      ]
    },
    {
      "cell_type": "markdown",
      "metadata": {
        "id": "tNgZj54mlHqp"
      },
      "source": [
        "Ahora continuamos para obtener el error porcentual del método de la bisección para la función 2"
      ]
    },
    {
      "cell_type": "code",
      "metadata": {
        "colab": {
          "base_uri": "https://localhost:8080/",
          "height": 266
        },
        "id": "hyB655ynlHqp",
        "outputId": "6f1d55b4-8a95-430d-82fd-f811bd03e917"
      },
      "source": [
        "  l_biseccion = []\n",
        "idx = []\n",
        "t= []\n",
        "valor_real=-2\n",
        "for i in range(1,8):\n",
        "    tol = 10**(-i)\n",
        "    idx.append(tol)\n",
        "    ti = time()\n",
        "    raiz=biseccion(f11,-2.5,-1,tol) #cada renglon de la tabla\n",
        "    tfi = time()-ti\n",
        "    t.append(tfi)\n",
        "    error=abs(abs(valor_real-raiz[0])/valor_real)*100\n",
        "  l_biseccion.append([raiz[0],raiz[1],error,t[i-1]])\n",
        "cols = [\"Raiz\",\"Pasos\",\"error %\",\"Tiempo\"]\n",
        "pd.DataFrame(l_biseccion, index=idx, columns=cols)\n"
      ],
      "execution_count": null,
      "outputs": [
        {
          "output_type": "execute_result",
          "data": {
            "text/html": [
              "<div>\n",
              "<style scoped>\n",
              "    .dataframe tbody tr th:only-of-type {\n",
              "        vertical-align: middle;\n",
              "    }\n",
              "\n",
              "    .dataframe tbody tr th {\n",
              "        vertical-align: top;\n",
              "    }\n",
              "\n",
              "    .dataframe thead th {\n",
              "        text-align: right;\n",
              "    }\n",
              "</style>\n",
              "<table border=\"1\" class=\"dataframe\">\n",
              "  <thead>\n",
              "    <tr style=\"text-align: right;\">\n",
              "      <th></th>\n",
              "      <th>Raiz</th>\n",
              "      <th>Pasos</th>\n",
              "      <th>error %</th>\n",
              "      <th>Tiempo</th>\n",
              "    </tr>\n",
              "  </thead>\n",
              "  <tbody>\n",
              "    <tr>\n",
              "      <th>1.000000e-01</th>\n",
              "      <td>-1.8</td>\n",
              "      <td>24</td>\n",
              "      <td>9.999998</td>\n",
              "      <td>0.000041</td>\n",
              "    </tr>\n",
              "    <tr>\n",
              "      <th>1.000000e-02</th>\n",
              "      <td>-1.8</td>\n",
              "      <td>24</td>\n",
              "      <td>9.999998</td>\n",
              "      <td>0.000041</td>\n",
              "    </tr>\n",
              "    <tr>\n",
              "      <th>1.000000e-03</th>\n",
              "      <td>-1.8</td>\n",
              "      <td>24</td>\n",
              "      <td>9.999998</td>\n",
              "      <td>0.000041</td>\n",
              "    </tr>\n",
              "    <tr>\n",
              "      <th>1.000000e-04</th>\n",
              "      <td>-1.8</td>\n",
              "      <td>24</td>\n",
              "      <td>9.999998</td>\n",
              "      <td>0.000041</td>\n",
              "    </tr>\n",
              "    <tr>\n",
              "      <th>1.000000e-05</th>\n",
              "      <td>-1.8</td>\n",
              "      <td>24</td>\n",
              "      <td>9.999998</td>\n",
              "      <td>0.000041</td>\n",
              "    </tr>\n",
              "    <tr>\n",
              "      <th>1.000000e-06</th>\n",
              "      <td>-1.8</td>\n",
              "      <td>24</td>\n",
              "      <td>9.999998</td>\n",
              "      <td>0.000041</td>\n",
              "    </tr>\n",
              "    <tr>\n",
              "      <th>1.000000e-07</th>\n",
              "      <td>-1.8</td>\n",
              "      <td>24</td>\n",
              "      <td>9.999998</td>\n",
              "      <td>0.000041</td>\n",
              "    </tr>\n",
              "  </tbody>\n",
              "</table>\n",
              "</div>"
            ],
            "text/plain": [
              "              Raiz  Pasos   error %    Tiempo\n",
              "1.000000e-01  -1.8     24  9.999998  0.000041\n",
              "1.000000e-02  -1.8     24  9.999998  0.000041\n",
              "1.000000e-03  -1.8     24  9.999998  0.000041\n",
              "1.000000e-04  -1.8     24  9.999998  0.000041\n",
              "1.000000e-05  -1.8     24  9.999998  0.000041\n",
              "1.000000e-06  -1.8     24  9.999998  0.000041\n",
              "1.000000e-07  -1.8     24  9.999998  0.000041"
            ]
          },
          "metadata": {
            "tags": []
          },
          "execution_count": 147
        }
      ]
    },
    {
      "cell_type": "code",
      "metadata": {
        "colab": {
          "base_uri": "https://localhost:8080/",
          "height": 266
        },
        "id": "3MxRRHxhRZrF",
        "outputId": "25681af1-585d-424a-82d1-2c519d0d28e1"
      },
      "source": [
        "  l_biseccion = []\n",
        "idx = []\n",
        "t= []\n",
        "valor_real=2\n",
        "for i in range(1,8):\n",
        "    tol = 10**(-i)\n",
        "    idx.append(tol)\n",
        "    ti = time()\n",
        "    raiz=biseccion(f11,0,1.6,tol) #cada renglon de la tabla\n",
        "    tfi = time()-ti\n",
        "    t.append(tfi)\n",
        "    error=abs(abs(valor_real-raiz[0])/valor_real)*100\n",
        "  l_biseccion.append([raiz[0],raiz[1],error,t[i-1]])\n",
        "cols = [\"Raiz\",\"Pasos\",\"error %\",\"Tiempo\"]\n",
        "pd.DataFrame(l_biseccion, index=idx, columns=cols)"
      ],
      "execution_count": 218,
      "outputs": [
        {
          "output_type": "execute_result",
          "data": {
            "text/html": [
              "<div>\n",
              "<style scoped>\n",
              "    .dataframe tbody tr th:only-of-type {\n",
              "        vertical-align: middle;\n",
              "    }\n",
              "\n",
              "    .dataframe tbody tr th {\n",
              "        vertical-align: top;\n",
              "    }\n",
              "\n",
              "    .dataframe thead th {\n",
              "        text-align: right;\n",
              "    }\n",
              "</style>\n",
              "<table border=\"1\" class=\"dataframe\">\n",
              "  <thead>\n",
              "    <tr style=\"text-align: right;\">\n",
              "      <th></th>\n",
              "      <th>Raiz</th>\n",
              "      <th>Pasos</th>\n",
              "      <th>error %</th>\n",
              "      <th>Tiempo</th>\n",
              "    </tr>\n",
              "  </thead>\n",
              "  <tbody>\n",
              "    <tr>\n",
              "      <th>1.000000e-01</th>\n",
              "      <td>1.6</td>\n",
              "      <td>24</td>\n",
              "      <td>20.000005</td>\n",
              "      <td>0.000028</td>\n",
              "    </tr>\n",
              "    <tr>\n",
              "      <th>1.000000e-02</th>\n",
              "      <td>1.6</td>\n",
              "      <td>24</td>\n",
              "      <td>20.000005</td>\n",
              "      <td>0.000028</td>\n",
              "    </tr>\n",
              "    <tr>\n",
              "      <th>1.000000e-03</th>\n",
              "      <td>1.6</td>\n",
              "      <td>24</td>\n",
              "      <td>20.000005</td>\n",
              "      <td>0.000028</td>\n",
              "    </tr>\n",
              "    <tr>\n",
              "      <th>1.000000e-04</th>\n",
              "      <td>1.6</td>\n",
              "      <td>24</td>\n",
              "      <td>20.000005</td>\n",
              "      <td>0.000028</td>\n",
              "    </tr>\n",
              "    <tr>\n",
              "      <th>1.000000e-05</th>\n",
              "      <td>1.6</td>\n",
              "      <td>24</td>\n",
              "      <td>20.000005</td>\n",
              "      <td>0.000028</td>\n",
              "    </tr>\n",
              "    <tr>\n",
              "      <th>1.000000e-06</th>\n",
              "      <td>1.6</td>\n",
              "      <td>24</td>\n",
              "      <td>20.000005</td>\n",
              "      <td>0.000028</td>\n",
              "    </tr>\n",
              "    <tr>\n",
              "      <th>1.000000e-07</th>\n",
              "      <td>1.6</td>\n",
              "      <td>24</td>\n",
              "      <td>20.000005</td>\n",
              "      <td>0.000028</td>\n",
              "    </tr>\n",
              "  </tbody>\n",
              "</table>\n",
              "</div>"
            ],
            "text/plain": [
              "              Raiz  Pasos    error %    Tiempo\n",
              "1.000000e-01   1.6     24  20.000005  0.000028\n",
              "1.000000e-02   1.6     24  20.000005  0.000028\n",
              "1.000000e-03   1.6     24  20.000005  0.000028\n",
              "1.000000e-04   1.6     24  20.000005  0.000028\n",
              "1.000000e-05   1.6     24  20.000005  0.000028\n",
              "1.000000e-06   1.6     24  20.000005  0.000028\n",
              "1.000000e-07   1.6     24  20.000005  0.000028"
            ]
          },
          "metadata": {
            "tags": []
          },
          "execution_count": 218
        }
      ]
    },
    {
      "cell_type": "code",
      "metadata": {
        "colab": {
          "base_uri": "https://localhost:8080/",
          "height": 266
        },
        "id": "iHVF_AgElHqp",
        "outputId": "479363c5-cf3b-45eb-f7e6-715304dcd0f1"
      },
      "source": [
        "  l_biseccion = []\n",
        "idx = []\n",
        "t= []\n",
        "valor_real= 4\n",
        "for i in range(1,8):\n",
        "    tol = 10**(-i)\n",
        "    idx.append(tol)\n",
        "    ti = time()\n",
        "    raiz=biseccion(f11,3,5,tol) #cada renglon de la tabla\n",
        "    tfi = time()-ti\n",
        "    t.append(tfi)\n",
        "    error=abs(abs(valor_real-raiz[0])/valor_real)*100\n",
        "  l_biseccion.append([raiz[0],raiz[1],error,t[i-1]])\n",
        "cols = [\"Raiz\",\"Pasos\",\"error %\",\"Tiempo\"]\n",
        "pd.DataFrame(l_biseccion, index=idx, columns=cols)"
      ],
      "execution_count": null,
      "outputs": [
        {
          "output_type": "execute_result",
          "data": {
            "text/html": [
              "<div>\n",
              "<style scoped>\n",
              "    .dataframe tbody tr th:only-of-type {\n",
              "        vertical-align: middle;\n",
              "    }\n",
              "\n",
              "    .dataframe tbody tr th {\n",
              "        vertical-align: top;\n",
              "    }\n",
              "\n",
              "    .dataframe thead th {\n",
              "        text-align: right;\n",
              "    }\n",
              "</style>\n",
              "<table border=\"1\" class=\"dataframe\">\n",
              "  <thead>\n",
              "    <tr style=\"text-align: right;\">\n",
              "      <th></th>\n",
              "      <th>Raiz</th>\n",
              "      <th>Pasos</th>\n",
              "      <th>error %</th>\n",
              "      <th>Tiempo</th>\n",
              "    </tr>\n",
              "  </thead>\n",
              "  <tbody>\n",
              "    <tr>\n",
              "      <th>1.000000e-01</th>\n",
              "      <td>4.0</td>\n",
              "      <td>25</td>\n",
              "      <td>0.000001</td>\n",
              "      <td>0.000034</td>\n",
              "    </tr>\n",
              "    <tr>\n",
              "      <th>1.000000e-02</th>\n",
              "      <td>4.0</td>\n",
              "      <td>25</td>\n",
              "      <td>0.000001</td>\n",
              "      <td>0.000034</td>\n",
              "    </tr>\n",
              "    <tr>\n",
              "      <th>1.000000e-03</th>\n",
              "      <td>4.0</td>\n",
              "      <td>25</td>\n",
              "      <td>0.000001</td>\n",
              "      <td>0.000034</td>\n",
              "    </tr>\n",
              "    <tr>\n",
              "      <th>1.000000e-04</th>\n",
              "      <td>4.0</td>\n",
              "      <td>25</td>\n",
              "      <td>0.000001</td>\n",
              "      <td>0.000034</td>\n",
              "    </tr>\n",
              "    <tr>\n",
              "      <th>1.000000e-05</th>\n",
              "      <td>4.0</td>\n",
              "      <td>25</td>\n",
              "      <td>0.000001</td>\n",
              "      <td>0.000034</td>\n",
              "    </tr>\n",
              "    <tr>\n",
              "      <th>1.000000e-06</th>\n",
              "      <td>4.0</td>\n",
              "      <td>25</td>\n",
              "      <td>0.000001</td>\n",
              "      <td>0.000034</td>\n",
              "    </tr>\n",
              "    <tr>\n",
              "      <th>1.000000e-07</th>\n",
              "      <td>4.0</td>\n",
              "      <td>25</td>\n",
              "      <td>0.000001</td>\n",
              "      <td>0.000034</td>\n",
              "    </tr>\n",
              "  </tbody>\n",
              "</table>\n",
              "</div>"
            ],
            "text/plain": [
              "              Raiz  Pasos   error %    Tiempo\n",
              "1.000000e-01   4.0     25  0.000001  0.000034\n",
              "1.000000e-02   4.0     25  0.000001  0.000034\n",
              "1.000000e-03   4.0     25  0.000001  0.000034\n",
              "1.000000e-04   4.0     25  0.000001  0.000034\n",
              "1.000000e-05   4.0     25  0.000001  0.000034\n",
              "1.000000e-06   4.0     25  0.000001  0.000034\n",
              "1.000000e-07   4.0     25  0.000001  0.000034"
            ]
          },
          "metadata": {
            "tags": []
          },
          "execution_count": 148
        }
      ]
    },
    {
      "cell_type": "markdown",
      "metadata": {
        "id": "pR7eGGfSlHqp"
      },
      "source": [
        ""
      ]
    },
    {
      "cell_type": "markdown",
      "metadata": {
        "id": "Dnl-ZDA_lHqp"
      },
      "source": [
        "<font size = 4  color = \"black\"> Método de Newton-Raphson"
      ]
    },
    {
      "cell_type": "code",
      "metadata": {
        "colab": {
          "base_uri": "https://localhost:8080/",
          "height": 323
        },
        "id": "vOEL_XRllHqp",
        "outputId": "814ee19e-114a-4d62-e2ea-2bb52724596d"
      },
      "source": [
        "print(newton(f11,df11,-2,1e-9)) #la primer raíz por la imagen está cerca de -2\n",
        "print(newton(f11,df11,4,1e-9)) #y la segunda cerca de 4"
      ],
      "execution_count": null,
      "outputs": [
        {
          "output_type": "error",
          "ename": "TypeError",
          "evalue": "ignored",
          "traceback": [
            "\u001b[0;31m---------------------------------------------------------------------------\u001b[0m",
            "\u001b[0;31mTypeError\u001b[0m                                 Traceback (most recent call last)",
            "\u001b[0;32m<ipython-input-153-308416fb1136>\u001b[0m in \u001b[0;36m<module>\u001b[0;34m()\u001b[0m\n\u001b[0;32m----> 1\u001b[0;31m \u001b[0mprint\u001b[0m\u001b[0;34m(\u001b[0m\u001b[0mnewton\u001b[0m\u001b[0;34m(\u001b[0m\u001b[0mf11\u001b[0m\u001b[0;34m,\u001b[0m\u001b[0mdf11\u001b[0m\u001b[0;34m,\u001b[0m\u001b[0;34m-\u001b[0m\u001b[0;36m2\u001b[0m\u001b[0;34m,\u001b[0m\u001b[0;36m1e-9\u001b[0m\u001b[0;34m)\u001b[0m\u001b[0;34m)\u001b[0m \u001b[0;31m#la primer raíz por la imagen está cerca de -2\u001b[0m\u001b[0;34m\u001b[0m\u001b[0;34m\u001b[0m\u001b[0m\n\u001b[0m\u001b[1;32m      2\u001b[0m \u001b[0mprint\u001b[0m\u001b[0;34m(\u001b[0m\u001b[0mnewton\u001b[0m\u001b[0;34m(\u001b[0m\u001b[0mf11\u001b[0m\u001b[0;34m,\u001b[0m\u001b[0mdf11\u001b[0m\u001b[0;34m,\u001b[0m\u001b[0;36m4\u001b[0m\u001b[0;34m,\u001b[0m\u001b[0;36m1e-9\u001b[0m\u001b[0;34m)\u001b[0m\u001b[0;34m)\u001b[0m \u001b[0;31m#y la segunda cerca de 4\u001b[0m\u001b[0;34m\u001b[0m\u001b[0;34m\u001b[0m\u001b[0m\n",
            "\u001b[0;32m<ipython-input-70-98e827520b34>\u001b[0m in \u001b[0;36mnewton\u001b[0;34m(f, df, x, epsilon)\u001b[0m\n\u001b[1;32m      3\u001b[0m     \u001b[0mcontador\u001b[0m \u001b[0;34m=\u001b[0m \u001b[0;36m0\u001b[0m\u001b[0;34m\u001b[0m\u001b[0;34m\u001b[0m\u001b[0m\n\u001b[1;32m      4\u001b[0m     \u001b[0;32mwhile\u001b[0m \u001b[0mdx\u001b[0m\u001b[0;34m>\u001b[0m \u001b[0mepsilon\u001b[0m \u001b[0;32mand\u001b[0m \u001b[0mcontador\u001b[0m\u001b[0;34m<\u001b[0m\u001b[0;36m1000\u001b[0m\u001b[0;34m:\u001b[0m\u001b[0;34m\u001b[0m\u001b[0;34m\u001b[0m\u001b[0m\n\u001b[0;32m----> 5\u001b[0;31m         \u001b[0mx1\u001b[0m\u001b[0;34m=\u001b[0m\u001b[0mx\u001b[0m\u001b[0;34m-\u001b[0m\u001b[0mf\u001b[0m\u001b[0;34m(\u001b[0m\u001b[0mx\u001b[0m\u001b[0;34m)\u001b[0m\u001b[0;34m/\u001b[0m\u001b[0mdf\u001b[0m\u001b[0;34m(\u001b[0m\u001b[0mx\u001b[0m\u001b[0;34m)\u001b[0m\u001b[0;34m\u001b[0m\u001b[0;34m\u001b[0m\u001b[0m\n\u001b[0m\u001b[1;32m      6\u001b[0m         \u001b[0mdx\u001b[0m\u001b[0;34m=\u001b[0m\u001b[0mabs\u001b[0m\u001b[0;34m(\u001b[0m\u001b[0mx\u001b[0m\u001b[0;34m-\u001b[0m\u001b[0mx1\u001b[0m\u001b[0;34m)\u001b[0m\u001b[0;34m\u001b[0m\u001b[0;34m\u001b[0m\u001b[0m\n\u001b[1;32m      7\u001b[0m         \u001b[0mx\u001b[0m\u001b[0;34m=\u001b[0m\u001b[0mx1\u001b[0m\u001b[0;34m\u001b[0m\u001b[0;34m\u001b[0m\u001b[0m\n",
            "\u001b[0;32m<ipython-input-151-05cfd8edee06>\u001b[0m in \u001b[0;36mdf11\u001b[0;34m(x)\u001b[0m\n\u001b[1;32m     71\u001b[0m      \u001b[0;32mreturn\u001b[0m \u001b[0mx\u001b[0m\u001b[0;34m**\u001b[0m\u001b[0;36m4\u001b[0m\u001b[0;34m-\u001b[0m\u001b[0;36m6.4\u001b[0m\u001b[0;34m*\u001b[0m\u001b[0mx\u001b[0m\u001b[0;34m**\u001b[0m\u001b[0;36m3\u001b[0m \u001b[0;34m+\u001b[0m \u001b[0;36m6.45\u001b[0m\u001b[0;34m*\u001b[0m\u001b[0mx\u001b[0m\u001b[0;34m**\u001b[0m\u001b[0;36m2\u001b[0m \u001b[0;34m+\u001b[0m \u001b[0;36m20.538\u001b[0m\u001b[0;34m*\u001b[0m\u001b[0mx\u001b[0m \u001b[0;34m-\u001b[0m \u001b[0;36m31.752\u001b[0m\u001b[0;34m\u001b[0m\u001b[0;34m\u001b[0m\u001b[0m\n\u001b[1;32m     72\u001b[0m \u001b[0;32mdef\u001b[0m \u001b[0mdf11\u001b[0m\u001b[0;34m(\u001b[0m\u001b[0mx\u001b[0m\u001b[0;34m)\u001b[0m\u001b[0;34m:\u001b[0m\u001b[0;34m\u001b[0m\u001b[0;34m\u001b[0m\u001b[0m\n\u001b[0;32m---> 73\u001b[0;31m       \u001b[0;32mreturn\u001b[0m \u001b[0;36m4\u001b[0m\u001b[0;34m*\u001b[0m\u001b[0mx\u001b[0m\u001b[0;34m**\u001b[0m\u001b[0;36m3\u001b[0m\u001b[0;34m-\u001b[0m\u001b[0;36m19.2\u001b[0m\u001b[0;34m*\u001b[0m\u001b[0mx\u001b[0m\u001b[0;34m^\u001b[0m\u001b[0;36m2\u001b[0m\u001b[0;34m+\u001b[0m\u001b[0;36m20.538\u001b[0m\u001b[0;34m\u001b[0m\u001b[0;34m\u001b[0m\u001b[0m\n\u001b[0m\u001b[1;32m     74\u001b[0m \u001b[0;34m\u001b[0m\u001b[0m\n\u001b[1;32m     75\u001b[0m \u001b[0;34m\u001b[0m\u001b[0m\n",
            "\u001b[0;31mTypeError\u001b[0m: unsupported operand type(s) for ^: 'float' and 'float'"
          ]
        }
      ]
    },
    {
      "cell_type": "markdown",
      "metadata": {
        "id": "txd16vbGlHqp"
      },
      "source": [
        "<font size = 4  color = \"black\"> Método de la Secante"
      ]
    },
    {
      "cell_type": "code",
      "metadata": {
        "colab": {
          "base_uri": "https://localhost:8080/"
        },
        "id": "AAQDYUHFlHqq",
        "outputId": "0a069124-5fa4-4fcc-9ef4-69b4abacd1c2"
      },
      "source": [
        "print(secante(f11,-2.5,-1,delta=1e-9))\n",
        "print(secante(f11,3,5,delta=1e-9))"
      ],
      "execution_count": null,
      "outputs": [
        {
          "output_type": "stream",
          "text": [
            "[[-2.5, 96.278, nan], [-1, -38.44, 1.5], [-1.4280051663474813, -25.132493885001466, -0.4280051663474813], [-2.2363337241569248, 51.167420626441725, -0.8083285578094435], [-1.6942611990874796, -8.66814594880137, 0.5420725250694451], [-1.7727891387574175, -2.356002166345494, -0.07852793966993787], [-1.8020996238093026, 0.1854912281079102, -0.02931048505188505], [-1.7999603942206763, -0.0034938478182731103, 0.0021392295886262236], [-1.7999999430717926, -5.022092405937428e-06, -3.954885111623341e-05], [-1.800000000001545, 1.3630696571453882e-10, -5.6929752467738126e-08]]\n",
            "[[3, -3.8880000000000017, nan], [5, 57.188, 2], [3.1273167856441155, -4.538118957045807, -1.8726832143558845], [3.2649969012775615, -5.052634631301903, 0.13768011563344595], [1.912953892486838, -0.27111213030301684, -1.3520430087907236], [1.8362931091698131, -0.5471422698847128, -0.07666078331702475], [1.988248816103776, -0.09517371619065784, 0.15195570693396276], [2.0202470363495886, -0.04810565257247745, 0.03199822024581267], [2.0529506393397083, -0.016606490429726506, 0.03270360299011976], [2.0701921160371444, -0.006636038455241078, 0.01724147669743603], [2.0816675338699686, -0.0025025570957630805, 0.011475417832824242], [2.08861516126365, -0.0009633783197564583, 0.006947627393681266], [2.092963709794305, -0.00036755877830074724, 0.0043485485306549165], [2.0956463126196567, -0.0001406182255720978, 0.002682602825351932], [2.0973085225890964, -5.3717357250349096e-05, 0.0016622099694396653], [2.0983360097532393, -2.052648589767614e-05, 0.001027487164142915], [2.098971446544299, -7.84137872145152e-06, 0.000635436791059707], [2.0993642457901407, -2.9955128653114116e-06, 0.0003927992458416796], [2.0996070579581483, -1.1442508665027162e-06, 0.00024281216800758898], [2.099757138300001, -4.3708382335694296e-07, 0.0001500803418528207], [2.099849899536916, -1.6695516436016078e-07, 9.276123691481786e-05], [2.099907231356549, -6.377221239972641e-08, 5.733181963307743e-05], [2.099942665281528, -2.435904633557584e-08, 3.5433924979066944e-05], [2.099964564984257, -9.30438304180825e-09, 2.189970272903352e-05], [2.0999780998749893, -3.5539819975838327e-09, 1.353489073219194e-05], [2.099986464988593, -1.3574918966696714e-09, 8.365113603581165e-06], [2.099991634861167, -5.185256668482907e-10, 5.169872574040113e-06]]\n"
          ],
          "name": "stdout"
        }
      ]
    },
    {
      "cell_type": "code",
      "metadata": {
        "colab": {
          "base_uri": "https://localhost:8080/",
          "height": 231
        },
        "id": "lKd44bezlHqq",
        "outputId": "1199814a-e784-47aa-bda2-306154acf31a"
      },
      "source": [
        "l_secante = []\n",
        "idx = []\n",
        "time = []\n",
        "valor_real=-2\n",
        "for i in range(1,8):\n",
        "    tol = 10**(-i)\n",
        "    idx.append(tol)\n",
        "    ti = time()\n",
        "    raiz=secante(f11, -2.5, -1, delta=tol)[-1] #nos quedamos con el último valor que nos da la raíz y el error\n",
        "    tfi = time()-ti\n",
        "    l_secante.append([raiz[0],abs(abs(raiz[0]-valor_real)/valor_real)*100,tfi])\n",
        "cols = [\"Raiz\",\"error %\",\"Tiempo\"]\n",
        "pd.DataFrame(l_secante, index=idx, columns=cols)"
      ],
      "execution_count": null,
      "outputs": [
        {
          "output_type": "error",
          "ename": "TypeError",
          "evalue": "ignored",
          "traceback": [
            "\u001b[0;31m---------------------------------------------------------------------------\u001b[0m",
            "\u001b[0;31mTypeError\u001b[0m                                 Traceback (most recent call last)",
            "\u001b[0;32m<ipython-input-160-ed439d16d9b0>\u001b[0m in \u001b[0;36m<module>\u001b[0;34m()\u001b[0m\n\u001b[1;32m      6\u001b[0m     \u001b[0mtol\u001b[0m \u001b[0;34m=\u001b[0m \u001b[0;36m10\u001b[0m\u001b[0;34m**\u001b[0m\u001b[0;34m(\u001b[0m\u001b[0;34m-\u001b[0m\u001b[0mi\u001b[0m\u001b[0;34m)\u001b[0m\u001b[0;34m\u001b[0m\u001b[0;34m\u001b[0m\u001b[0m\n\u001b[1;32m      7\u001b[0m     \u001b[0midx\u001b[0m\u001b[0;34m.\u001b[0m\u001b[0mappend\u001b[0m\u001b[0;34m(\u001b[0m\u001b[0mtol\u001b[0m\u001b[0;34m)\u001b[0m\u001b[0;34m\u001b[0m\u001b[0;34m\u001b[0m\u001b[0m\n\u001b[0;32m----> 8\u001b[0;31m     \u001b[0mti\u001b[0m \u001b[0;34m=\u001b[0m \u001b[0mtime\u001b[0m\u001b[0;34m(\u001b[0m\u001b[0;34m)\u001b[0m\u001b[0;34m\u001b[0m\u001b[0;34m\u001b[0m\u001b[0m\n\u001b[0m\u001b[1;32m      9\u001b[0m     \u001b[0mraiz\u001b[0m\u001b[0;34m=\u001b[0m\u001b[0msecante\u001b[0m\u001b[0;34m(\u001b[0m\u001b[0mf11\u001b[0m\u001b[0;34m,\u001b[0m \u001b[0;34m-\u001b[0m\u001b[0;36m2.5\u001b[0m\u001b[0;34m,\u001b[0m \u001b[0;34m-\u001b[0m\u001b[0;36m1\u001b[0m\u001b[0;34m,\u001b[0m \u001b[0mdelta\u001b[0m\u001b[0;34m=\u001b[0m\u001b[0mtol\u001b[0m\u001b[0;34m)\u001b[0m\u001b[0;34m[\u001b[0m\u001b[0;34m-\u001b[0m\u001b[0;36m1\u001b[0m\u001b[0;34m]\u001b[0m \u001b[0;31m#nos quedamos con el último valor que nos da la raíz y el error\u001b[0m\u001b[0;34m\u001b[0m\u001b[0;34m\u001b[0m\u001b[0m\n\u001b[1;32m     10\u001b[0m     \u001b[0mtfi\u001b[0m \u001b[0;34m=\u001b[0m \u001b[0mtime\u001b[0m\u001b[0;34m(\u001b[0m\u001b[0;34m)\u001b[0m\u001b[0;34m-\u001b[0m\u001b[0mti\u001b[0m\u001b[0;34m\u001b[0m\u001b[0;34m\u001b[0m\u001b[0m\n",
            "\u001b[0;31mTypeError\u001b[0m: 'list' object is not callable"
          ]
        }
      ]
    },
    {
      "cell_type": "markdown",
      "metadata": {
        "id": "P_g5Yv38lHqq"
      },
      "source": [
        "<font size = 4  color = \"white\"> Método de Ridders"
      ]
    },
    {
      "cell_type": "code",
      "metadata": {
        "colab": {
          "base_uri": "https://localhost:8080/",
          "height": 231
        },
        "id": "gNW08EmflHqq",
        "outputId": "a91b403a-d668-4b3f-c1ed-5a779f0f75a0"
      },
      "source": [
        "l_secante = []\n",
        "idx = []\n",
        "valor_real=2\n",
        "for i in range(1,8):\n",
        "    tol = 10**(-i)\n",
        "    idx.append(tol)\n",
        "    ti = time()\n",
        "    raiz=secante(f11, 3, 5, delta=tol)[-1] #nos quedamos con el último valor que nos da la raíz y el error\n",
        "    tfi = time()-ti\n",
        "    l_secante.append([raiz[0],abs(abs(raiz[0]-valor_real)/valor_real)*100,tfi])\n",
        "cols = [\"Raiz\",\"error %\",\"Tiempo\"]\n",
        "pd.DataFrame(l_secante, index=idx, columns=cols)"
      ],
      "execution_count": null,
      "outputs": [
        {
          "output_type": "error",
          "ename": "TypeError",
          "evalue": "ignored",
          "traceback": [
            "\u001b[0;31m---------------------------------------------------------------------------\u001b[0m",
            "\u001b[0;31mTypeError\u001b[0m                                 Traceback (most recent call last)",
            "\u001b[0;32m<ipython-input-161-a1b196f411bb>\u001b[0m in \u001b[0;36m<module>\u001b[0;34m()\u001b[0m\n\u001b[1;32m      5\u001b[0m     \u001b[0mtol\u001b[0m \u001b[0;34m=\u001b[0m \u001b[0;36m10\u001b[0m\u001b[0;34m**\u001b[0m\u001b[0;34m(\u001b[0m\u001b[0;34m-\u001b[0m\u001b[0mi\u001b[0m\u001b[0;34m)\u001b[0m\u001b[0;34m\u001b[0m\u001b[0;34m\u001b[0m\u001b[0m\n\u001b[1;32m      6\u001b[0m     \u001b[0midx\u001b[0m\u001b[0;34m.\u001b[0m\u001b[0mappend\u001b[0m\u001b[0;34m(\u001b[0m\u001b[0mtol\u001b[0m\u001b[0;34m)\u001b[0m\u001b[0;34m\u001b[0m\u001b[0;34m\u001b[0m\u001b[0m\n\u001b[0;32m----> 7\u001b[0;31m     \u001b[0mti\u001b[0m \u001b[0;34m=\u001b[0m \u001b[0mtime\u001b[0m\u001b[0;34m(\u001b[0m\u001b[0;34m)\u001b[0m\u001b[0;34m\u001b[0m\u001b[0;34m\u001b[0m\u001b[0m\n\u001b[0m\u001b[1;32m      8\u001b[0m     \u001b[0mraiz\u001b[0m\u001b[0;34m=\u001b[0m\u001b[0msecante\u001b[0m\u001b[0;34m(\u001b[0m\u001b[0mf11\u001b[0m\u001b[0;34m,\u001b[0m \u001b[0;36m3\u001b[0m\u001b[0;34m,\u001b[0m \u001b[0;36m5\u001b[0m\u001b[0;34m,\u001b[0m \u001b[0mdelta\u001b[0m\u001b[0;34m=\u001b[0m\u001b[0mtol\u001b[0m\u001b[0;34m)\u001b[0m\u001b[0;34m[\u001b[0m\u001b[0;34m-\u001b[0m\u001b[0;36m1\u001b[0m\u001b[0;34m]\u001b[0m \u001b[0;31m#nos quedamos con el último valor que nos da la raíz y el error\u001b[0m\u001b[0;34m\u001b[0m\u001b[0;34m\u001b[0m\u001b[0m\n\u001b[1;32m      9\u001b[0m     \u001b[0mtfi\u001b[0m \u001b[0;34m=\u001b[0m \u001b[0mtime\u001b[0m\u001b[0;34m(\u001b[0m\u001b[0;34m)\u001b[0m\u001b[0;34m-\u001b[0m\u001b[0mti\u001b[0m\u001b[0;34m\u001b[0m\u001b[0;34m\u001b[0m\u001b[0m\n",
            "\u001b[0;31mTypeError\u001b[0m: 'list' object is not callable"
          ]
        }
      ]
    },
    {
      "cell_type": "markdown",
      "metadata": {
        "id": "nBd3fxNFRkTB"
      },
      "source": [
        "Fue posible determinar las raíces con el método de la secante pero no podemos comparar su desempeño ya que al intentar usar pandas obtenemos un error en donde no se pueden incluir los párametros en una lista."
      ]
    },
    {
      "cell_type": "markdown",
      "metadata": {
        "id": "3vjk18TQlHqq"
      },
      "source": [
        "<font size= 4 color='black'>Método de Ridders"
      ]
    },
    {
      "cell_type": "code",
      "metadata": {
        "colab": {
          "base_uri": "https://localhost:8080/"
        },
        "id": "gnBBxUnHlHqq",
        "outputId": "04c69230-389f-405d-c2ad-f2a4f392c766"
      },
      "source": [
        "#Este es el código de Roxana y Jordi\n",
        "print(ridders(f11,-2.5,-1, tol=1e-9))\n",
        "print(ridders(f11,0, 1.5, tol=1e-9))\n",
        "print(ridders(f11,3, 5, tol=1e-9))\n"
      ],
      "execution_count": null,
      "outputs": [
        {
          "output_type": "stream",
          "text": [
            "(-1.7999999999999996, 27)\n",
            "(1.5142089535075574, 31)\n",
            "(4.000000000000001, 31)\n"
          ],
          "name": "stdout"
        }
      ]
    },
    {
      "cell_type": "code",
      "metadata": {
        "colab": {
          "base_uri": "https://localhost:8080/",
          "height": 266
        },
        "id": "ASoJcv3VlHqr",
        "outputId": "a9c444ba-5ecb-4f68-e9c3-2c1f9f3d92d7"
      },
      "source": [
        "l_ridders = []\n",
        "idx = []\n",
        "valor_real=-2\n",
        "for i in range(1,8):\n",
        "    tol = 10**(-i)\n",
        "    idx.append(tol)\n",
        "    ti = time()\n",
        "    raiz=ridders(f2,-2,-1, tol) #cada renglon de la tabla\n",
        "    tfi = time()-ti\n",
        "    error=abs(abs(valor_real-raiz[0])/valor_real)*100\n",
        "    l_ridders.append([raiz[0],raiz[1],error, tfi])\n",
        "cols = [\"Raiz\",\"Pasos\",\"error %\",\"Tiempo\"]\n",
        "pd.DataFrame(l_ridders, index=idx, columns=cols)"
      ],
      "execution_count": null,
      "outputs": [
        {
          "output_type": "execute_result",
          "data": {
            "text/html": [
              "<div>\n",
              "<style scoped>\n",
              "    .dataframe tbody tr th:only-of-type {\n",
              "        vertical-align: middle;\n",
              "    }\n",
              "\n",
              "    .dataframe tbody tr th {\n",
              "        vertical-align: top;\n",
              "    }\n",
              "\n",
              "    .dataframe thead th {\n",
              "        text-align: right;\n",
              "    }\n",
              "</style>\n",
              "<table border=\"1\" class=\"dataframe\">\n",
              "  <thead>\n",
              "    <tr style=\"text-align: right;\">\n",
              "      <th></th>\n",
              "      <th>Raiz</th>\n",
              "      <th>Pasos</th>\n",
              "      <th>error %</th>\n",
              "      <th>Tiempo</th>\n",
              "    </tr>\n",
              "  </thead>\n",
              "  <tbody>\n",
              "    <tr>\n",
              "      <th>1.000000e-01</th>\n",
              "      <td>-1.807375</td>\n",
              "      <td>3</td>\n",
              "      <td>9.631230</td>\n",
              "      <td>0.000028</td>\n",
              "    </tr>\n",
              "    <tr>\n",
              "      <th>1.000000e-02</th>\n",
              "      <td>-1.807375</td>\n",
              "      <td>6</td>\n",
              "      <td>9.631231</td>\n",
              "      <td>0.000015</td>\n",
              "    </tr>\n",
              "    <tr>\n",
              "      <th>1.000000e-03</th>\n",
              "      <td>-1.807375</td>\n",
              "      <td>10</td>\n",
              "      <td>9.631231</td>\n",
              "      <td>0.000023</td>\n",
              "    </tr>\n",
              "    <tr>\n",
              "      <th>1.000000e-04</th>\n",
              "      <td>-1.807375</td>\n",
              "      <td>13</td>\n",
              "      <td>9.631231</td>\n",
              "      <td>0.000030</td>\n",
              "    </tr>\n",
              "    <tr>\n",
              "      <th>1.000000e-05</th>\n",
              "      <td>-1.807375</td>\n",
              "      <td>16</td>\n",
              "      <td>9.631231</td>\n",
              "      <td>0.000032</td>\n",
              "    </tr>\n",
              "    <tr>\n",
              "      <th>1.000000e-06</th>\n",
              "      <td>-1.807375</td>\n",
              "      <td>20</td>\n",
              "      <td>9.631231</td>\n",
              "      <td>0.000040</td>\n",
              "    </tr>\n",
              "    <tr>\n",
              "      <th>1.000000e-07</th>\n",
              "      <td>-1.807375</td>\n",
              "      <td>23</td>\n",
              "      <td>9.631231</td>\n",
              "      <td>0.000046</td>\n",
              "    </tr>\n",
              "  </tbody>\n",
              "</table>\n",
              "</div>"
            ],
            "text/plain": [
              "                  Raiz  Pasos   error %    Tiempo\n",
              "1.000000e-01 -1.807375      3  9.631230  0.000028\n",
              "1.000000e-02 -1.807375      6  9.631231  0.000015\n",
              "1.000000e-03 -1.807375     10  9.631231  0.000023\n",
              "1.000000e-04 -1.807375     13  9.631231  0.000030\n",
              "1.000000e-05 -1.807375     16  9.631231  0.000032\n",
              "1.000000e-06 -1.807375     20  9.631231  0.000040\n",
              "1.000000e-07 -1.807375     23  9.631231  0.000046"
            ]
          },
          "metadata": {
            "tags": []
          },
          "execution_count": 107
        }
      ]
    },
    {
      "cell_type": "code",
      "metadata": {
        "colab": {
          "base_uri": "https://localhost:8080/",
          "height": 266
        },
        "id": "ojZiRnUFlHqr",
        "outputId": "5367f9b9-75d6-42ad-bdd5-91413a3e6aae"
      },
      "source": [
        "l_ridders = []\n",
        "idx = []\n",
        "valor_real=2\n",
        "for i in range(1,8):\n",
        "    tol = 10**(-i)\n",
        "    idx.append(tol)\n",
        "    ti = time()\n",
        "    raiz=ridders(f2,1,2, tol) #cada renglon de la tabla\n",
        "    tfi = time()-ti\n",
        "    error=abs(abs(valor_real-raiz[0])/valor_real)*100\n",
        "    l_ridders.append([raiz[0],raiz[1],error, tfi])\n",
        "cols = [\"Raiz\",\"Pasos\",\"error %\",\"Tiempo\"]\n",
        "pd.DataFrame(l_ridders, index=idx, columns=cols)"
      ],
      "execution_count": null,
      "outputs": [
        {
          "output_type": "execute_result",
          "data": {
            "text/html": [
              "<div>\n",
              "<style scoped>\n",
              "    .dataframe tbody tr th:only-of-type {\n",
              "        vertical-align: middle;\n",
              "    }\n",
              "\n",
              "    .dataframe tbody tr th {\n",
              "        vertical-align: top;\n",
              "    }\n",
              "\n",
              "    .dataframe thead th {\n",
              "        text-align: right;\n",
              "    }\n",
              "</style>\n",
              "<table border=\"1\" class=\"dataframe\">\n",
              "  <thead>\n",
              "    <tr style=\"text-align: right;\">\n",
              "      <th></th>\n",
              "      <th>Raiz</th>\n",
              "      <th>Pasos</th>\n",
              "      <th>error %</th>\n",
              "      <th>Tiempo</th>\n",
              "    </tr>\n",
              "  </thead>\n",
              "  <tbody>\n",
              "    <tr>\n",
              "      <th>1.000000e-01</th>\n",
              "      <td>1.807375</td>\n",
              "      <td>3</td>\n",
              "      <td>9.631230</td>\n",
              "      <td>0.000019</td>\n",
              "    </tr>\n",
              "    <tr>\n",
              "      <th>1.000000e-02</th>\n",
              "      <td>1.807375</td>\n",
              "      <td>6</td>\n",
              "      <td>9.631231</td>\n",
              "      <td>0.000009</td>\n",
              "    </tr>\n",
              "    <tr>\n",
              "      <th>1.000000e-03</th>\n",
              "      <td>1.807375</td>\n",
              "      <td>10</td>\n",
              "      <td>9.631231</td>\n",
              "      <td>0.000013</td>\n",
              "    </tr>\n",
              "    <tr>\n",
              "      <th>1.000000e-04</th>\n",
              "      <td>1.807375</td>\n",
              "      <td>13</td>\n",
              "      <td>9.631231</td>\n",
              "      <td>0.000015</td>\n",
              "    </tr>\n",
              "    <tr>\n",
              "      <th>1.000000e-05</th>\n",
              "      <td>1.807375</td>\n",
              "      <td>16</td>\n",
              "      <td>9.631231</td>\n",
              "      <td>0.000018</td>\n",
              "    </tr>\n",
              "    <tr>\n",
              "      <th>1.000000e-06</th>\n",
              "      <td>1.807375</td>\n",
              "      <td>20</td>\n",
              "      <td>9.631231</td>\n",
              "      <td>0.000022</td>\n",
              "    </tr>\n",
              "    <tr>\n",
              "      <th>1.000000e-07</th>\n",
              "      <td>1.807375</td>\n",
              "      <td>23</td>\n",
              "      <td>9.631231</td>\n",
              "      <td>0.000026</td>\n",
              "    </tr>\n",
              "  </tbody>\n",
              "</table>\n",
              "</div>"
            ],
            "text/plain": [
              "                  Raiz  Pasos   error %    Tiempo\n",
              "1.000000e-01  1.807375      3  9.631230  0.000019\n",
              "1.000000e-02  1.807375      6  9.631231  0.000009\n",
              "1.000000e-03  1.807375     10  9.631231  0.000013\n",
              "1.000000e-04  1.807375     13  9.631231  0.000015\n",
              "1.000000e-05  1.807375     16  9.631231  0.000018\n",
              "1.000000e-06  1.807375     20  9.631231  0.000022\n",
              "1.000000e-07  1.807375     23  9.631231  0.000026"
            ]
          },
          "metadata": {
            "tags": []
          },
          "execution_count": 108
        }
      ]
    },
    {
      "cell_type": "markdown",
      "metadata": {
        "id": "8z08zcB5R3XX"
      },
      "source": [
        "El método de Ridders y el de la bisección fueron los más apropiados y consistentes ya que mantienen errores porcentuales debajo del 10% y con tiempos de cómputo rápidos a comparación del incremental .\n",
        "Con los métodos de Newton y de la secante no obtuvimos ningún párametro o resultado que nos permita discutir el desempeño de los mismos a comparación del método de Ridders y de la bisección. \n",
        "Por lo que a nuestro criterio cualquiera de estos dos es muy eficiente al momento de trabajar con polinomios decimales y fraccionales.\n"
      ]
    },
    {
      "cell_type": "code",
      "metadata": {
        "id": "PNyU6SNtSpkI"
      },
      "source": [
        ""
      ],
      "execution_count": null,
      "outputs": []
    }
  ]
}